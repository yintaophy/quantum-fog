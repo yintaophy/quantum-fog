{
 "cells": [
  {
   "cell_type": "markdown",
   "metadata": {},
   "source": [
    "**References to software that does hierarchical model MCMC**"
   ]
  },
  {
   "cell_type": "markdown",
   "metadata": {},
   "source": [
    "Will use  x_x_  for a random variable x and  vxvx  for a vector of x's.\n",
    "\n",
    "https://qbnets.wordpress.com/2017/04/30/i-dont-use-plates-to-eat-bayesian-networks/"
   ]
  },
  {
   "cell_type": "markdown",
   "metadata": {
    "toc": "true"
   },
   "source": [
    "# Table of Contents\n",
    " <p><div class=\"lev1 toc-item\"><a href=\"#PyMC2\" data-toc-modified-id=\"PyMC2-1\"><span class=\"toc-item-num\">1&nbsp;&nbsp;</span>PyMC2</a></div><div class=\"lev1 toc-item\"><a href=\"#PyMC3\" data-toc-modified-id=\"PyMC3-2\"><span class=\"toc-item-num\">2&nbsp;&nbsp;</span>PyMC3</a></div><div class=\"lev1 toc-item\"><a href=\"#PyStan\" data-toc-modified-id=\"PyStan-3\"><span class=\"toc-item-num\">3&nbsp;&nbsp;</span>PyStan</a></div>"
   ]
  },
  {
   "cell_type": "markdown",
   "metadata": {},
   "source": [
    "# PyMC2\n",
    "\n",
    "* http://pymcmc.readthedocs.io/en/latest/index.html\n",
    "* https://people.duke.edu/~ccc14/sta-663\n",
    "* https://github.com/cliburn\n",
    "* https://stat.duke.edu/people/chi-wei-cliburn-chan\n"
   ]
  },
  {
   "cell_type": "markdown",
   "metadata": {},
   "source": [
    "# PyMC3\n",
    "* https://pymc-devs.github.io/pymc3/\n",
    "* http://people.duke.edu/~ccc14/sta-663-2016/16C_PyMC3.html"
   ]
  },
  {
   "cell_type": "markdown",
   "metadata": {},
   "source": [
    "# PyStan"
   ]
  },
  {
   "cell_type": "code",
   "execution_count": null,
   "metadata": {
    "collapsed": true
   },
   "outputs": [],
   "source": []
  }
 ],
 "metadata": {
  "kernelspec": {
   "display_name": "Python 3",
   "language": "python",
   "name": "python3"
  },
  "language_info": {
   "codemirror_mode": {
    "name": "ipython",
    "version": 3
   },
   "file_extension": ".py",
   "mimetype": "text/x-python",
   "name": "python",
   "nbconvert_exporter": "python",
   "pygments_lexer": "ipython3",
   "version": "3.6.0"
  },
  "toc": {
   "colors": {
    "hover_highlight": "#DAA520",
    "running_highlight": "#FF0000",
    "selected_highlight": "#FFD700"
   },
   "moveMenuLeft": true,
   "nav_menu": {
    "height": "66px",
    "width": "252px"
   },
   "navigate_menu": true,
   "number_sections": true,
   "sideBar": true,
   "threshold": 4,
   "toc_cell": true,
   "toc_section_display": "block",
   "toc_window_display": true,
   "widenNotebook": false
  }
 },
 "nbformat": 4,
 "nbformat_minor": 2
}
