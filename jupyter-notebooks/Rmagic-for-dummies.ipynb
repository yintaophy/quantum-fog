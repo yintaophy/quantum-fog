{
 "cells": [
  {
   "cell_type": "markdown",
   "metadata": {},
   "source": [
    "**Rmagic for dummies**"
   ]
  },
  {
   "cell_type": "markdown",
   "metadata": {},
   "source": [
    "**References**\n",
    "\n",
    "1. [Pipelining R and Python in Notebooks, By Joseph Rickert](https://www.r-bloggers.com/pipelining-r-and-python-in-notebooks/)\n",
    "\n",
    "2. [Jupyter+Python+R with rpy2 and magics, by michhar](https://github.com/michhar/rpy2_sample_notebooks)\n",
    "\n",
    "3. [IPython, IPython Notebook, Anaconda, and R (rpy2), by Becky](http://www.swegler.com/becky/blog/2014/08/03/ipython-ipython-notebook-anaconda-and-r-rpy2/)\n",
    "\n",
    "4. [Rmagic Functions Extension, on nbviewer](http://nbviewer.ipython.org/github/ipython/ipython/blob/3607712653c66d63e0d7f13f073bde8c0f209ba8/docs/examples/notebooks/rmagic_extension.ipynb)\n",
    "\n",
    "5. [Documentation for rpy2](http://rpy2.readthedocs.io/en/version_2.8.x/)\n",
    "\n",
    "6. [Built-in magic commands](http://ipython.readthedocs.io/en/stable/interactive/magics.html)"
   ]
  },
  {
   "cell_type": "markdown",
   "metadata": {
    "toc": "true"
   },
   "source": [
    "# Table of Contents\n",
    " <p><div class=\"lev1 toc-item\"><a href=\"#Imports\" data-toc-modified-id=\"Imports-1\"><span class=\"toc-item-num\">1&nbsp;&nbsp;</span>Imports</a></div><div class=\"lev1 toc-item\"><a href=\"#A-single-line-of-R-code-(%R)\" data-toc-modified-id=\"A-single-line-of-R-code-(%R)-2\"><span class=\"toc-item-num\">2&nbsp;&nbsp;</span>A single line of R code (%R)</a></div><div class=\"lev1 toc-item\"><a href=\"#Python-Kernel-can-push-variables-into-R-(%Rpush)\" data-toc-modified-id=\"Python-Kernel-can-push-variables-into-R-(%Rpush)-3\"><span class=\"toc-item-num\">3&nbsp;&nbsp;</span>Python Kernel can <em>push</em> variables into R (%Rpush)</a></div><div class=\"lev1 toc-item\"><a href=\"#Python-Kernel-can-pull-variables-out-of-R-(%Rpull)\" data-toc-modified-id=\"Python-Kernel-can-pull-variables-out-of-R-(%Rpull)-4\"><span class=\"toc-item-num\">4&nbsp;&nbsp;</span>Python Kernel can <em>pull</em> variables out of R (%Rpull)</a></div><div class=\"lev1 toc-item\"><a href=\"#Full-cell-in-R-(%%R)\" data-toc-modified-id=\"Full-cell-in-R-(%%R)-5\"><span class=\"toc-item-num\">5&nbsp;&nbsp;</span>Full cell in R (%%R)</a></div><div class=\"lev1 toc-item\"><a href=\"#What-gets-printed-as-notebook-output?\" data-toc-modified-id=\"What-gets-printed-as-notebook-output?-6\"><span class=\"toc-item-num\">6&nbsp;&nbsp;</span>What gets printed as notebook output?</a></div><div class=\"lev1 toc-item\"><a href=\"#Some-R-commands-like-print()-don't-return-pullable-stuff\" data-toc-modified-id=\"Some-R-commands-like-print()-don't-return-pullable-stuff-7\"><span class=\"toc-item-num\">7&nbsp;&nbsp;</span>Some R commands like print() don't return pullable stuff</a></div><div class=\"lev1 toc-item\"><a href=\"#Pushing-complicated-variables-into-R\" data-toc-modified-id=\"Pushing-complicated-variables-into-R-8\"><span class=\"toc-item-num\">8&nbsp;&nbsp;</span>Pushing complicated variables into R</a></div><div class=\"lev1 toc-item\"><a href=\"#Pulling-complicated-variables-out-of-R\" data-toc-modified-id=\"Pulling-complicated-variables-out-of-R-9\"><span class=\"toc-item-num\">9&nbsp;&nbsp;</span>Pulling complicated variables out of R</a></div>"
   ]
  },
  {
   "cell_type": "markdown",
   "metadata": {},
   "source": [
    "# Imports\n",
    "We assume Python, R, rpy2, Rmagic (an extension of rpy2) have been properly installed on your computer"
   ]
  },
  {
   "cell_type": "code",
   "execution_count": 1,
   "metadata": {
    "collapsed": false
   },
   "outputs": [],
   "source": [
    "import numpy as np\n",
    "import pandas as pd"
   ]
  },
  {
   "cell_type": "code",
   "execution_count": 2,
   "metadata": {
    "collapsed": false
   },
   "outputs": [],
   "source": [
    "import rpy2\n",
    "%load_ext rpy2.ipython"
   ]
  },
  {
   "cell_type": "markdown",
   "metadata": {},
   "source": [
    "# A single line of R code (%R)"
   ]
  },
  {
   "cell_type": "code",
   "execution_count": 3,
   "metadata": {
    "collapsed": false
   },
   "outputs": [
    {
     "data": {
      "text/plain": [
       "array([ 1.73205081])"
      ]
     },
     "execution_count": 3,
     "metadata": {},
     "output_type": "execute_result"
    }
   ],
   "source": [
    "%R sqrt(3)"
   ]
  },
  {
   "cell_type": "code",
   "execution_count": 4,
   "metadata": {
    "collapsed": true
   },
   "outputs": [],
   "source": [
    "%R sqrt(3); # output silenced"
   ]
  },
  {
   "cell_type": "code",
   "execution_count": 5,
   "metadata": {
    "collapsed": false
   },
   "outputs": [
    {
     "data": {
      "text/plain": [
       "array([ 3.])"
      ]
     },
     "execution_count": 5,
     "metadata": {},
     "output_type": "execute_result"
    }
   ],
   "source": [
    "%R 3"
   ]
  },
  {
   "cell_type": "code",
   "execution_count": 6,
   "metadata": {
    "collapsed": false
   },
   "outputs": [
    {
     "data": {
      "text/plain": [
       "array([ 4.])"
      ]
     },
     "execution_count": 6,
     "metadata": {},
     "output_type": "execute_result"
    }
   ],
   "source": [
    "%R 3; 4 # only last variable printed"
   ]
  },
  {
   "cell_type": "code",
   "execution_count": 7,
   "metadata": {
    "collapsed": false
   },
   "outputs": [
    {
     "data": {
      "text/plain": [
       "[1] 3\n"
      ]
     },
     "metadata": {},
     "output_type": "display_data"
    },
    {
     "data": {
      "text/plain": [
       "array([ 4.])"
      ]
     },
     "execution_count": 7,
     "metadata": {},
     "output_type": "execute_result"
    }
   ],
   "source": [
    "%R print(3); 4 # force intermediate step to print"
   ]
  },
  {
   "cell_type": "markdown",
   "metadata": {},
   "source": [
    "# Python Kernel can *push* variables into R (%Rpush)"
   ]
  },
  {
   "cell_type": "code",
   "execution_count": 8,
   "metadata": {
    "collapsed": false
   },
   "outputs": [
    {
     "data": {
      "text/plain": [
       "array([5], dtype=int32)"
      ]
     },
     "execution_count": 8,
     "metadata": {},
     "output_type": "execute_result"
    }
   ],
   "source": [
    "x = 2\n",
    "y = 3\n",
    "%Rpush x y\n",
    "%R x + y"
   ]
  },
  {
   "cell_type": "markdown",
   "metadata": {},
   "source": [
    "# Python Kernel can *pull* variables out of R (%Rpull)"
   ]
  },
  {
   "cell_type": "code",
   "execution_count": 9,
   "metadata": {
    "collapsed": false
   },
   "outputs": [
    {
     "name": "stdout",
     "output_type": "stream",
     "text": [
      "[ 8.]\n"
     ]
    }
   ],
   "source": [
    "%R a = 5\n",
    "%R b = 3\n",
    "%R c = a + b\n",
    "%Rpull c \n",
    "print(c)"
   ]
  },
  {
   "cell_type": "code",
   "execution_count": 10,
   "metadata": {
    "collapsed": false
   },
   "outputs": [
    {
     "name": "stdout",
     "output_type": "stream",
     "text": [
      "[ 13.]\n"
     ]
    }
   ],
   "source": [
    "%R x = 3\n",
    "%R y = 10\n",
    "z = %R x + y  # this is simpler than %Rpull so %Rpull seldom used\n",
    "print(z)"
   ]
  },
  {
   "cell_type": "markdown",
   "metadata": {},
   "source": [
    "# Full cell in R (%%R)"
   ]
  },
  {
   "cell_type": "code",
   "execution_count": 11,
   "metadata": {
    "collapsed": false
   },
   "outputs": [
    {
     "data": {
      "text/plain": [
       "array([ 2.])"
      ]
     },
     "execution_count": 11,
     "metadata": {},
     "output_type": "execute_result"
    }
   ],
   "source": [
    "%R sqrt(3)\n",
    "%R sqrt(4)"
   ]
  },
  {
   "cell_type": "code",
   "execution_count": 12,
   "metadata": {
    "collapsed": false
   },
   "outputs": [
    {
     "data": {
      "text/plain": [
       "[1] 2\n"
      ]
     },
     "metadata": {},
     "output_type": "display_data"
    }
   ],
   "source": [
    "%%R\n",
    "sqrt(3)\n",
    "sqrt(4)"
   ]
  },
  {
   "cell_type": "code",
   "execution_count": 13,
   "metadata": {
    "collapsed": false
   },
   "outputs": [
    {
     "data": {
      "text/plain": [
       "[1] 1.732051\n",
       "[1] 2\n"
      ]
     },
     "metadata": {},
     "output_type": "display_data"
    }
   ],
   "source": [
    "%%R\n",
    "print(sqrt(3))\n",
    "sqrt(4)"
   ]
  },
  {
   "cell_type": "code",
   "execution_count": 14,
   "metadata": {
    "collapsed": true
   },
   "outputs": [],
   "source": [
    "x = 37\n",
    "y = 6"
   ]
  },
  {
   "cell_type": "code",
   "execution_count": 15,
   "metadata": {
    "collapsed": false
   },
   "outputs": [],
   "source": [
    "%%R -i x,y -o a,b \n",
    "# gets upset if whitespace before or after commas\n",
    "# gets upset if put comment in %%R line\n",
    "a = x + y\n",
    "b = x - y"
   ]
  },
  {
   "cell_type": "code",
   "execution_count": 16,
   "metadata": {
    "collapsed": false
   },
   "outputs": [
    {
     "name": "stdout",
     "output_type": "stream",
     "text": [
      "[43]\n",
      "[31]\n"
     ]
    }
   ],
   "source": [
    "print(a)\n",
    "print(b)"
   ]
  },
  {
   "cell_type": "markdown",
   "metadata": {},
   "source": [
    "# What gets printed as notebook output?\n",
    "What is printed as notebook output depends on Rmagic version. Older versions might print  \n",
    "certain things on console instead of printing them on notebook."
   ]
  },
  {
   "cell_type": "code",
   "execution_count": 17,
   "metadata": {
    "collapsed": false
   },
   "outputs": [
    {
     "data": {
      "text/plain": [
       "4"
      ]
     },
     "execution_count": 17,
     "metadata": {},
     "output_type": "execute_result"
    }
   ],
   "source": [
    "3\n",
    "4 # only last result printed"
   ]
  },
  {
   "cell_type": "code",
   "execution_count": 18,
   "metadata": {
    "collapsed": false
   },
   "outputs": [
    {
     "data": {
      "text/plain": [
       "[1] 4\n"
      ]
     },
     "metadata": {},
     "output_type": "display_data"
    }
   ],
   "source": [
    "%%R\n",
    "3\n",
    "4 # only last result printed"
   ]
  },
  {
   "cell_type": "code",
   "execution_count": 19,
   "metadata": {
    "collapsed": false
   },
   "outputs": [
    {
     "data": {
      "text/plain": [
       "[1] 3\n",
       "[1] 4\n"
      ]
     },
     "metadata": {},
     "output_type": "display_data"
    }
   ],
   "source": [
    "%%R\n",
    "print(3) # force intermediate result to be printed\n",
    "4"
   ]
  },
  {
   "cell_type": "code",
   "execution_count": 20,
   "metadata": {
    "collapsed": false
   },
   "outputs": [
    {
     "data": {
      "text/plain": [
       "[1] 3\n",
       "[1] 4\n"
      ]
     },
     "metadata": {},
     "output_type": "display_data"
    }
   ],
   "source": [
    "%%R\n",
    "print(3)\n",
    "print(4)"
   ]
  },
  {
   "cell_type": "markdown",
   "metadata": {},
   "source": [
    "# Some R commands like print() don't return pullable stuff"
   ]
  },
  {
   "cell_type": "code",
   "execution_count": 21,
   "metadata": {
    "collapsed": false
   },
   "outputs": [
    {
     "data": {
      "text/plain": [
       "[1] 17\n"
      ]
     },
     "metadata": {},
     "output_type": "display_data"
    },
    {
     "name": "stdout",
     "output_type": "stream",
     "text": [
      "nice dog\n"
     ]
    }
   ],
   "source": [
    "x = %R print(17)\n",
    "print(\"nice dog\")\n",
    "x"
   ]
  },
  {
   "cell_type": "code",
   "execution_count": 22,
   "metadata": {
    "collapsed": false
   },
   "outputs": [
    {
     "data": {
      "text/plain": [
       "[1] 17\n"
      ]
     },
     "metadata": {},
     "output_type": "display_data"
    },
    {
     "name": "stdout",
     "output_type": "stream",
     "text": [
      "nice dog\n",
      "None\n"
     ]
    }
   ],
   "source": [
    "x = %R print(17)\n",
    "print(\"nice dog\")\n",
    "print(x)"
   ]
  },
  {
   "cell_type": "code",
   "execution_count": 23,
   "metadata": {
    "collapsed": false
   },
   "outputs": [
    {
     "name": "stdout",
     "output_type": "stream",
     "text": [
      "nice dog\n"
     ]
    },
    {
     "data": {
      "text/plain": [
       "array(['[1] 9'], \n",
       "      dtype='<U5')"
      ]
     },
     "execution_count": 23,
     "metadata": {},
     "output_type": "execute_result"
    }
   ],
   "source": [
    "x = %R capture.output(print(9)) # capture.output returns a string\n",
    "print(\"nice dog\")\n",
    "x # a string"
   ]
  },
  {
   "cell_type": "code",
   "execution_count": 24,
   "metadata": {
    "collapsed": false
   },
   "outputs": [
    {
     "name": "stdout",
     "output_type": "stream",
     "text": [
      "nice dog\n"
     ]
    },
    {
     "data": {
      "text/plain": [
       "array([' num 7'], \n",
       "      dtype='<U6')"
      ]
     },
     "execution_count": 24,
     "metadata": {},
     "output_type": "execute_result"
    }
   ],
   "source": [
    "x = %R capture.output(str(7))\n",
    "print(\"nice dog\")\n",
    "x # a string"
   ]
  },
  {
   "cell_type": "markdown",
   "metadata": {
    "collapsed": true
   },
   "source": [
    "# Pushing complicated variables into R"
   ]
  },
  {
   "cell_type": "code",
   "execution_count": 25,
   "metadata": {
    "collapsed": true
   },
   "outputs": [],
   "source": [
    "py_list = [2, 3]\n",
    "# py_dict = {\"a\":1, \"b\":2}  # doesn't like dictionaries\n",
    "py_arr1 = np.array([1.4, 6.8])\n",
    "py_arr2 = np.array([[1.4, 4.5], [5.3, 7]])\n",
    "py_df = pd.DataFrame(np.random.randn(6,4), columns=list('ABCD'))\n",
    "%Rpush py_list py_arr1 py_arr2 py_df"
   ]
  },
  {
   "cell_type": "code",
   "execution_count": 26,
   "metadata": {
    "collapsed": false
   },
   "outputs": [
    {
     "data": {
      "text/plain": [
       " int [1:2] 2 3\n"
      ]
     },
     "metadata": {},
     "output_type": "display_data"
    },
    {
     "data": {
      "text/plain": [
       "array(['integer'], \n",
       "      dtype='<U7')"
      ]
     },
     "execution_count": 26,
     "metadata": {},
     "output_type": "execute_result"
    }
   ],
   "source": [
    "%R str(py_list)\n",
    "%R typeof(py_list)"
   ]
  },
  {
   "cell_type": "code",
   "execution_count": 27,
   "metadata": {
    "collapsed": false
   },
   "outputs": [
    {
     "data": {
      "text/plain": [
       " num [1:2(1d)] 1.4 6.8\n"
      ]
     },
     "metadata": {},
     "output_type": "display_data"
    },
    {
     "data": {
      "text/plain": [
       "array(['double'], \n",
       "      dtype='<U6')"
      ]
     },
     "execution_count": 27,
     "metadata": {},
     "output_type": "execute_result"
    }
   ],
   "source": [
    "%R str(py_arr1)\n",
    "%R typeof(py_arr1)"
   ]
  },
  {
   "cell_type": "code",
   "execution_count": 28,
   "metadata": {
    "collapsed": false
   },
   "outputs": [
    {
     "data": {
      "text/plain": [
       " num [1:2, 1:2] 1.4 5.3 4.5 7\n"
      ]
     },
     "metadata": {},
     "output_type": "display_data"
    },
    {
     "data": {
      "text/plain": [
       "array(['double'], \n",
       "      dtype='<U6')"
      ]
     },
     "execution_count": 28,
     "metadata": {},
     "output_type": "execute_result"
    }
   ],
   "source": [
    "%R str(py_arr2)\n",
    "%R typeof(py_arr2)"
   ]
  },
  {
   "cell_type": "code",
   "execution_count": 29,
   "metadata": {
    "collapsed": false
   },
   "outputs": [
    {
     "data": {
      "text/plain": [
       "'data.frame':\t6 obs. of  4 variables:\n",
       " $ A: num  -2.226 -1.373 0.515 0.106 -1.631 ...\n",
       " $ B: num  -1.698 0.122 0.612 1.844 -0.478 ...\n",
       " $ C: num  -1.022 0.27 0.358 -0.279 -0.649 ...\n",
       " $ D: num  0.769 -1.12 0.171 1.691 -0.434 ...\n"
      ]
     },
     "metadata": {},
     "output_type": "display_data"
    },
    {
     "data": {
      "text/plain": [
       "array(['list'], \n",
       "      dtype='<U4')"
      ]
     },
     "execution_count": 29,
     "metadata": {},
     "output_type": "execute_result"
    }
   ],
   "source": [
    "%R str(py_df)\n",
    "%R typeof(py_df)"
   ]
  },
  {
   "cell_type": "markdown",
   "metadata": {},
   "source": [
    "# Pulling complicated variables out of R"
   ]
  },
  {
   "cell_type": "code",
   "execution_count": 30,
   "metadata": {
    "collapsed": false
   },
   "outputs": [],
   "source": [
    "%R rvec = c(\"a\", \"1.1\")\n",
    "%R rmat = matrix(1:9, nrow = 3, ncol = 3)\n",
    "%R rlist = list(\"a\" = 2.5, \"b\" = TRUE, \"c\" = 1:3)\n",
    "%R rdf = data.frame(\"SN\" = 1:2, \"Age\" = c(21,15), \"Name\" = c(\"John\",\"Dora\"))\n",
    "%R rfac = factor(c(\"single\", \"married\", \"married\", \"single\"))\n",
    "%Rpull rvec rmat rlist rdf rfac"
   ]
  },
  {
   "cell_type": "code",
   "execution_count": 31,
   "metadata": {
    "collapsed": false
   },
   "outputs": [
    {
     "name": "stdout",
     "output_type": "stream",
     "text": [
      "['a' '1.1']\n"
     ]
    },
    {
     "data": {
      "text/plain": [
       "numpy.ndarray"
      ]
     },
     "execution_count": 31,
     "metadata": {},
     "output_type": "execute_result"
    }
   ],
   "source": [
    "print(rvec)\n",
    "type(rvec)"
   ]
  },
  {
   "cell_type": "code",
   "execution_count": 32,
   "metadata": {
    "collapsed": false
   },
   "outputs": [
    {
     "name": "stdout",
     "output_type": "stream",
     "text": [
      "[[1 4 7]\n",
      " [2 5 8]\n",
      " [3 6 9]]\n"
     ]
    },
    {
     "data": {
      "text/plain": [
       "numpy.ndarray"
      ]
     },
     "execution_count": 32,
     "metadata": {},
     "output_type": "execute_result"
    }
   ],
   "source": [
    "print(rmat)\n",
    "type(rmat)"
   ]
  },
  {
   "cell_type": "code",
   "execution_count": 33,
   "metadata": {
    "collapsed": false
   },
   "outputs": [
    {
     "name": "stdout",
     "output_type": "stream",
     "text": [
      "$a\n",
      "[1] 2.5\n",
      "\n",
      "$b\n",
      "[1] TRUE\n",
      "\n",
      "$c\n",
      "[1] 1 2 3\n",
      "\n",
      "\n"
     ]
    },
    {
     "data": {
      "text/plain": [
       "rpy2.robjects.vectors.ListVector"
      ]
     },
     "execution_count": 33,
     "metadata": {},
     "output_type": "execute_result"
    }
   ],
   "source": [
    "print(rlist)\n",
    "type(rlist)"
   ]
  },
  {
   "cell_type": "code",
   "execution_count": 34,
   "metadata": {
    "collapsed": false
   },
   "outputs": [
    {
     "name": "stdout",
     "output_type": "stream",
     "text": [
      "   SN   Age  Name\n",
      "1   1  21.0  John\n",
      "2   2  15.0  Dora\n"
     ]
    },
    {
     "data": {
      "text/plain": [
       "pandas.core.frame.DataFrame"
      ]
     },
     "execution_count": 34,
     "metadata": {},
     "output_type": "execute_result"
    }
   ],
   "source": [
    "print(rdf)\n",
    "type(rdf)"
   ]
  },
  {
   "cell_type": "code",
   "execution_count": 35,
   "metadata": {
    "collapsed": false
   },
   "outputs": [
    {
     "name": "stdout",
     "output_type": "stream",
     "text": [
      "[single, married, married, single]\n",
      "Categories (2, object): [married, single]\n"
     ]
    },
    {
     "data": {
      "text/plain": [
       "pandas.core.categorical.Categorical"
      ]
     },
     "execution_count": 35,
     "metadata": {},
     "output_type": "execute_result"
    }
   ],
   "source": [
    "print(rfac)\n",
    "type(rfac)"
   ]
  },
  {
   "cell_type": "code",
   "execution_count": null,
   "metadata": {
    "collapsed": true
   },
   "outputs": [],
   "source": []
  }
 ],
 "metadata": {
  "kernelspec": {
   "display_name": "Python 3",
   "language": "python",
   "name": "python3"
  },
  "language_info": {
   "codemirror_mode": {
    "name": "ipython",
    "version": 3
   },
   "file_extension": ".py",
   "mimetype": "text/x-python",
   "name": "python",
   "nbconvert_exporter": "python",
   "pygments_lexer": "ipython3",
   "version": "3.6.0"
  },
  "toc": {
   "colors": {
    "hover_highlight": "#DAA520",
    "running_highlight": "#FF0000",
    "selected_highlight": "#FFD700"
   },
   "moveMenuLeft": true,
   "nav_menu": {
    "height": "141px",
    "width": "252px"
   },
   "navigate_menu": true,
   "number_sections": true,
   "sideBar": true,
   "threshold": 4,
   "toc_cell": true,
   "toc_position": {
    "height": "540px",
    "left": "0px",
    "right": "auto",
    "top": "106px",
    "width": "146px"
   },
   "toc_section_display": "block",
   "toc_window_display": true
  }
 },
 "nbformat": 4,
 "nbformat_minor": 2
}
