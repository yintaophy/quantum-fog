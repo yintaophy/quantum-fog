{
 "cells": [
  {
   "cell_type": "code",
   "execution_count": 1,
   "metadata": {
    "collapsed": true
   },
   "outputs": [],
   "source": [
    "# states for evidence are 0 based\n",
    "vtx_to_ev = {'WetGrass': 1}\n",
    "# vtx_to_ev ={}\n",
    "# default values of file paths, assuming quantum_fog is working dir\n",
    "in_bif = 'examples_cbnets/WetGrass.bif'\n",
    "in_dot = 'examples_cbnets/WetGrass.dot'\n",
    "qfog_path = None"
   ]
  },
  {
   "cell_type": "markdown",
   "metadata": {},
   "source": [
    "**Inference Template**"
   ]
  },
  {
   "cell_type": "markdown",
   "metadata": {
    "toc": "true"
   },
   "source": [
    "# Table of Contents\n",
    " <p><div class=\"lev1 toc-item\"><a href=\"#Paths-and-Imports\" data-toc-modified-id=\"Paths-and-Imports-1\"><span class=\"toc-item-num\">1&nbsp;&nbsp;</span>Paths and Imports</a></div><div class=\"lev1 toc-item\"><a href=\"#Picture-of-Network\" data-toc-modified-id=\"Picture-of-Network-2\"><span class=\"toc-item-num\">2&nbsp;&nbsp;</span>Picture of Network</a></div><div class=\"lev1 toc-item\"><a href=\"#Inference-Tests\" data-toc-modified-id=\"Inference-Tests-3\"><span class=\"toc-item-num\">3&nbsp;&nbsp;</span>Inference Tests</a></div><div class=\"lev2 toc-item\"><a href=\"#QFog\" data-toc-modified-id=\"QFog-31\"><span class=\"toc-item-num\">3.1&nbsp;&nbsp;</span>QFog</a></div><div class=\"lev2 toc-item\"><a href=\"#BNT\" data-toc-modified-id=\"BNT-32\"><span class=\"toc-item-num\">3.2&nbsp;&nbsp;</span>BNT</a></div><div class=\"lev1 toc-item\"><a href=\"#Summary\" data-toc-modified-id=\"Summary-4\"><span class=\"toc-item-num\">4&nbsp;&nbsp;</span>Summary</a></div>"
   ]
  },
  {
   "cell_type": "markdown",
   "metadata": {},
   "source": [
    "# Paths and Imports"
   ]
  },
  {
   "cell_type": "code",
   "execution_count": 2,
   "metadata": {
    "collapsed": false
   },
   "outputs": [
    {
     "name": "stdout",
     "output_type": "stream",
     "text": [
      "cwd= /home/jupyter/Notebooks/Quantum/quantum-fog\n"
     ]
    }
   ],
   "source": [
    "import os\n",
    "import sys\n",
    "if not qfog_path:\n",
    "    os.chdir('../../')\n",
    "else:\n",
    "    os.chdir(qfog_path)\n",
    "cwd = os.getcwd()\n",
    "sys.path.insert(0,cwd)\n",
    "print(\"cwd=\", cwd)"
   ]
  },
  {
   "cell_type": "code",
   "execution_count": 3,
   "metadata": {
    "collapsed": true
   },
   "outputs": [],
   "source": [
    "bnt_path = '/home/jupyter/Notebooks/Classical/bnt'"
   ]
  },
  {
   "cell_type": "code",
   "execution_count": 4,
   "metadata": {
    "collapsed": true
   },
   "outputs": [],
   "source": [
    "import numpy as np\n",
    "from graphviz import Source\n",
    "import time"
   ]
  },
  {
   "cell_type": "code",
   "execution_count": 5,
   "metadata": {
    "collapsed": true
   },
   "outputs": [],
   "source": [
    "from graphs.BayesNet import *\n",
    "from inference.JoinTreeEngine import *"
   ]
  },
  {
   "cell_type": "code",
   "execution_count": 6,
   "metadata": {
    "collapsed": true
   },
   "outputs": [],
   "source": [
    "# this doesn't work because of hyphen:\n",
    "# from jupyter-notebooks.nbrun import run_notebook\n",
    "\n",
    "import importlib\n",
    "mod = importlib.import_module(\"jupyter-notebooks.nbrun\")"
   ]
  },
  {
   "cell_type": "code",
   "execution_count": 7,
   "metadata": {
    "collapsed": true
   },
   "outputs": [],
   "source": [
    "import oct2py\n",
    "%load_ext oct2py.ipython"
   ]
  },
  {
   "cell_type": "code",
   "execution_count": 8,
   "metadata": {
    "collapsed": true
   },
   "outputs": [],
   "source": [
    "%%octave\n",
    "do_braindead_shortcircuit_evaluation (1)\n",
    "warning('off', 'Octave:possible-matlab-short-circuit-operator')"
   ]
  },
  {
   "cell_type": "code",
   "execution_count": 9,
   "metadata": {
    "collapsed": false
   },
   "outputs": [
    {
     "data": {
      "text/plain": [
       "warning: function /home/jupyter/Notebooks/Classical/bnt/KPMtools/strsplit.m shadows a core library function"
      ]
     },
     "metadata": {},
     "output_type": "display_data"
    },
    {
     "data": {
      "text/plain": [
       "warning: function /home/jupyter/Notebooks/Classical/bnt/KPMtools/factorial.m shadows a core library function"
      ]
     },
     "metadata": {},
     "output_type": "display_data"
    },
    {
     "data": {
      "text/plain": [
       "warning: function /home/jupyter/Notebooks/Classical/bnt/KPMtools/chi2inv.m shadows a core library function"
      ]
     },
     "metadata": {},
     "output_type": "display_data"
    },
    {
     "data": {
      "text/plain": [
       "warning: function /home/jupyter/Notebooks/Classical/bnt/graph/test.m shadows a core library function"
      ]
     },
     "metadata": {},
     "output_type": "display_data"
    }
   ],
   "source": [
    "%octave_push bnt_path\n",
    "# genpath(dir) grows dir to list of all files inside it (recursive)\n",
    "%octave addpath(genpath(bnt_path))  "
   ]
  },
  {
   "cell_type": "code",
   "execution_count": 10,
   "metadata": {
    "collapsed": false
   },
   "outputs": [],
   "source": [
    "%run jupyter-notebooks/bnt-examples/bnt-biftool.ipynb"
   ]
  },
  {
   "cell_type": "markdown",
   "metadata": {},
   "source": [
    "# Picture of Network"
   ]
  },
  {
   "cell_type": "code",
   "execution_count": 11,
   "metadata": {
    "collapsed": true
   },
   "outputs": [],
   "source": [
    "from IPython.display import Image, display\n",
    "def show_dot(dotfile):\n",
    "    Source(open(dotfile).read(),format ='png').render(view=False);\n",
    "    display(Image(filename='Source.gv.png'))"
   ]
  },
  {
   "cell_type": "code",
   "execution_count": 12,
   "metadata": {
    "collapsed": false
   },
   "outputs": [
    {
     "data": {
      "image/png": "[encoded data removed]",
      "text/plain": [
       "<IPython.core.display.Image object>"
      ]
     },
     "metadata": {},
     "output_type": "display_data"
    }
   ],
   "source": [
    "show_dot(in_dot)"
   ]
  },
  {
   "cell_type": "markdown",
   "metadata": {},
   "source": [
    "# Inference Tests"
   ]
  },
  {
   "cell_type": "markdown",
   "metadata": {},
   "source": [
    "## QFog"
   ]
  },
  {
   "cell_type": "code",
   "execution_count": 13,
   "metadata": {
    "collapsed": true
   },
   "outputs": [],
   "source": [
    "bn_fog = BayesNet.read_bif(in_bif, False)"
   ]
  },
  {
   "cell_type": "code",
   "execution_count": 14,
   "metadata": {
    "collapsed": true
   },
   "outputs": [],
   "source": [
    "node_list = list(bn_fog.nodes)\n",
    "num_nds = len(node_list)"
   ]
  },
  {
   "cell_type": "code",
   "execution_count": 15,
   "metadata": {
    "collapsed": true
   },
   "outputs": [],
   "source": [
    "# introduce some evidence\n",
    "for vtx, k in vtx_to_ev.items():\n",
    "    bn_fog.get_node_named(vtx).active_states = [k]"
   ]
  },
  {
   "cell_type": "code",
   "execution_count": 16,
   "metadata": {
    "collapsed": false
   },
   "outputs": [],
   "source": [
    "%octave tic;\n",
    "in_time = time.time()\n",
    "\n",
    "jtree_eng = JoinTreeEngine(bn_fog)\n",
    "jtree_pot_list = jtree_eng.get_unipot_list(node_list)\n",
    "\n",
    "# build qfog_to_vtx dict\n",
    "qfog_vtx_to_pot = {node_list[k].name: jtree_pot_list[k] for k in range(num_nds)}\n",
    "\n",
    "qfog_elapsed_time = time.time() - in_time\n",
    "%octave qfog_tictoc = toc;\n",
    "%octave_pull qfog_tictoc"
   ]
  },
  {
   "cell_type": "markdown",
   "metadata": {},
   "source": [
    "## BNT"
   ]
  },
  {
   "cell_type": "code",
   "execution_count": 17,
   "metadata": {
    "collapsed": false,
    "scrolled": false
   },
   "outputs": [
    {
     "data": {
      "text/plain": [
       "warning: isstr is obsolete and will be removed from a future version of Octave, please use ischar instead"
      ]
     },
     "metadata": {},
     "output_type": "display_data"
    },
    {
     "data": {
      "text/plain": [
       "{'Cloudy': ['state0', 'state1'],\n",
       " 'Rain': ['state0', 'state1'],\n",
       " 'Sprinkler': ['state0', 'state1'],\n",
       " 'WetGrass': ['state0', 'state1']}"
      ]
     },
     "execution_count": 17,
     "metadata": {},
     "output_type": "execute_result"
    }
   ],
   "source": [
    "# use function in bnt_biftool.ipynb to load bnet to octave memory\n",
    "vtx_to_states = bnt_read_bif(in_bif)\n",
    "vtx_to_states"
   ]
  },
  {
   "cell_type": "code",
   "execution_count": 18,
   "metadata": {
    "collapsed": false,
    "scrolled": false
   },
   "outputs": [],
   "source": [
    "#%octave bnet"
   ]
  },
  {
   "cell_type": "code",
   "execution_count": 19,
   "metadata": {
    "collapsed": true
   },
   "outputs": [],
   "source": [
    "num_nds = len(vtx_to_states)\n",
    "%octave_push num_nds"
   ]
  },
  {
   "cell_type": "code",
   "execution_count": 20,
   "metadata": {
    "collapsed": false
   },
   "outputs": [],
   "source": [
    "# introduce some evidence\n",
    "%octave evidence = cell(1, num_nds);\n",
    "for vtx, ev in vtx_to_ev.items():\n",
    "    k = vtx_to_ev[vtx] + 1 # values of vtx_to_ev are zero based\n",
    "    %octave_push vtx k\n",
    "    %octave evidence{bnet.names(vtx)} = k;"
   ]
  },
  {
   "cell_type": "code",
   "execution_count": 21,
   "metadata": {
    "collapsed": false,
    "scrolled": false
   },
   "outputs": [],
   "source": [
    "%%octave -o bnt_tictoc,bnt_pots\n",
    "tic;\n",
    "\n",
    "engine = jtree_inf_engine(bnet);\n",
    "[engine, loglik] = enter_evidence(engine, evidence);\n",
    "bnt_pots = cell(1, num_nds);\n",
    "for k = 1:num_nds\n",
    "    marg = marginal_nodes(engine, k);\n",
    "    bnt_pots{k} = marg.T;\n",
    "end\n",
    "    \n",
    "bnt_tictoc = toc;"
   ]
  },
  {
   "cell_type": "code",
   "execution_count": 22,
   "metadata": {
    "collapsed": false
   },
   "outputs": [
    {
     "name": "stdout",
     "output_type": "stream",
     "text": [
      "[[array([[ 0.58488387],\n",
      "       [ 0.41511613]])\n",
      "  array([[ 0.30129603],\n",
      "       [ 0.69870397]])\n",
      "  array([[ 0.30129603],\n",
      "       [ 0.69870397]]) 1.0]]\n"
     ]
    }
   ],
   "source": [
    "print(bnt_pots)"
   ]
  },
  {
   "cell_type": "code",
   "execution_count": 23,
   "metadata": {
    "collapsed": false
   },
   "outputs": [],
   "source": [
    "# build bnt_to_vtx in python from bnt_pots in octave\n",
    "bnt_vtx_to_pot = {}\n",
    "for vtx in vtx_to_states:\n",
    "    %octave_push vtx\n",
    "    %octave k = bnet.names(vtx);\n",
    "    %octave_pull k\n",
    "    bnt_vtx_to_pot[vtx] = bnt_pots[0, int(k)-1]"
   ]
  },
  {
   "cell_type": "markdown",
   "metadata": {},
   "source": [
    "# Summary"
   ]
  },
  {
   "cell_type": "code",
   "execution_count": 24,
   "metadata": {
    "collapsed": true
   },
   "outputs": [],
   "source": [
    "%%bash\n",
    "rm -f  Source.gv Source.gv.png"
   ]
  },
  {
   "cell_type": "code",
   "execution_count": 25,
   "metadata": {
    "collapsed": false
   },
   "outputs": [
    {
     "name": "stdout",
     "output_type": "stream",
     "text": [
      "--------------pot for Sprinkler-------------------\n",
      "QFog:\n",
      " ['Sprinkler']\n",
      "[ 0.30129603  0.69870397]\n",
      "BNT:\n",
      " [[ 0.30129603]\n",
      " [ 0.69870397]]\n",
      "--------------pot for Cloudy-------------------\n",
      "QFog:\n",
      " ['Cloudy']\n",
      "[ 0.58488387  0.41511613]\n",
      "BNT:\n",
      " [[ 0.58488387]\n",
      " [ 0.41511613]]\n",
      "--------------pot for Rain-------------------\n",
      "QFog:\n",
      " ['Rain']\n",
      "[ 0.30129603  0.69870397]\n",
      "BNT:\n",
      " [[ 0.30129603]\n",
      " [ 0.69870397]]\n",
      "--------------pot for WetGrass-------------------\n",
      "QFog:\n",
      " ['WetGrass']\n",
      "[ 0.  1.]\n",
      "BNT:\n",
      " 1.0\n"
     ]
    }
   ],
   "source": [
    "for vtx in qfog_vtx_to_pot:\n",
    "    print(\"--------------pot for \" + vtx + \"-------------------\")\n",
    "    print(\"QFog:\\n\", qfog_vtx_to_pot[vtx])\n",
    "    print(\"BNT:\\n\", bnt_vtx_to_pot[vtx])\n",
    "    "
   ]
  },
  {
   "cell_type": "code",
   "execution_count": 26,
   "metadata": {
    "collapsed": false
   },
   "outputs": [
    {
     "name": "stdout",
     "output_type": "stream",
     "text": [
      "Elapsed times:\n",
      "QFog:\n",
      " 0.002829313278198242 \n",
      " 0.03461813926696777\n",
      "BNT:\n",
      " 0.056862831115722656\n"
     ]
    }
   ],
   "source": [
    "print('Elapsed times:')\n",
    "print(\"QFog:\\n\", qfog_elapsed_time, \"\\n\", qfog_tictoc)\n",
    "print(\"BNT:\\n\", bnt_tictoc)"
   ]
  },
  {
   "cell_type": "code",
   "execution_count": null,
   "metadata": {
    "collapsed": true
   },
   "outputs": [],
   "source": []
  }
 ],
 "metadata": {
  "kernelspec": {
   "display_name": "Python 3",
   "language": "python",
   "name": "python3"
  },
  "language_info": {
   "codemirror_mode": {
    "name": "ipython",
    "version": 3
   },
   "file_extension": ".py",
   "mimetype": "text/x-python",
   "name": "python",
   "nbconvert_exporter": "python",
   "pygments_lexer": "ipython3",
   "version": "3.6.0"
  },
  "toc": {
   "colors": {
    "hover_highlight": "#DAA520",
    "running_highlight": "#FF0000",
    "selected_highlight": "#FFD700"
   },
   "moveMenuLeft": true,
   "nav_menu": {
    "height": "48px",
    "width": "252px"
   },
   "navigate_menu": true,
   "number_sections": true,
   "sideBar": true,
   "threshold": 4,
   "toc_cell": true,
   "toc_section_display": "none",
   "toc_window_display": true
  }
 },
 "nbformat": 4,
 "nbformat_minor": 2
}
