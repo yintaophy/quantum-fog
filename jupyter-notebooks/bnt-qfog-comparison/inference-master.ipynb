{
 "cells": [
  {
   "cell_type": "markdown",
   "metadata": {
    "deletable": true,
    "editable": true
   },
   "source": [
    "**Inference Master**\n",
    "\n",
    "This notebook runs ```inference-template.ipynb``` for different networks.\n",
    "\n",
    "See nbrun-example folder for an example of how to use nbrun (nbrun=notebook run)"
   ]
  },
  {
   "cell_type": "markdown",
   "metadata": {
    "deletable": true,
    "editable": true,
    "toc": "true"
   },
   "source": [
    "# Table of Contents\n",
    " <p><div class=\"lev1 toc-item\"><a href=\"#earthquake\" data-toc-modified-id=\"earthquake-1\"><span class=\"toc-item-num\">1&nbsp;&nbsp;</span>earthquake</a></div><div class=\"lev1 toc-item\"><a href=\"#Wetgrass\" data-toc-modified-id=\"Wetgrass-2\"><span class=\"toc-item-num\">2&nbsp;&nbsp;</span>Wetgrass</a></div><div class=\"lev1 toc-item\"><a href=\"#asia_\" data-toc-modified-id=\"asia_-3\"><span class=\"toc-item-num\">3&nbsp;&nbsp;</span>asia_</a></div>"
   ]
  },
  {
   "cell_type": "markdown",
   "metadata": {
    "deletable": true,
    "editable": true
   },
   "source": [
    "Change working directory to quantum-fog and add it to path environment variable."
   ]
  },
  {
   "cell_type": "code",
   "execution_count": 1,
   "metadata": {
    "collapsed": false,
    "deletable": true,
    "editable": true
   },
   "outputs": [
    {
     "name": "stdout",
     "output_type": "stream",
     "text": [
      "/home/jupyter/Notebooks/Quantum/quantum-fog/jupyter-notebooks/bnt-qfog-comparison\n",
      "/home/jupyter/Notebooks/Quantum/quantum-fog\n"
     ]
    }
   ],
   "source": [
    "import os\n",
    "import sys\n",
    "master_dir_path = os.getcwd()\n",
    "print(master_dir_path)\n",
    "os.chdir('../../')\n",
    "qfog_path = os.getcwd()\n",
    "print(qfog_path)\n",
    "sys.path.insert(0,qfog_path)"
   ]
  },
  {
   "cell_type": "markdown",
   "metadata": {
    "deletable": true,
    "editable": true
   },
   "source": [
    "import nbrun.py"
   ]
  },
  {
   "cell_type": "code",
   "execution_count": 2,
   "metadata": {
    "collapsed": true,
    "deletable": true,
    "editable": true
   },
   "outputs": [],
   "source": [
    "# this doesn't work because of hyphen:\n",
    "# from jupyter-notebooks.nbrun import run_notebook\n",
    "\n",
    "import importlib\n",
    "mod = importlib.import_module(\"jupyter-notebooks.nbrun\")"
   ]
  },
  {
   "cell_type": "code",
   "execution_count": 3,
   "metadata": {
    "collapsed": false,
    "deletable": true,
    "editable": true
   },
   "outputs": [],
   "source": [
    "def do_net():\n",
    "    in_bif = 'examples_cbnets/' + bnet_name + '.bif'\n",
    "    in_dot = 'examples_cbnets/' + bnet_name + '.dot'\n",
    "        \n",
    "    nb_kwargs = {'vtx_to_ev' : vtx_to_ev, 'in_bif': in_bif, 'in_dot': in_dot, 'qfog_path': qfog_path}\n",
    "                 \n",
    "    # nbrun.py assumes cwd is the dir of the master notebook\n",
    "    os.chdir(master_dir_path)\n",
    "    template_name = 'inference-template'\n",
    "    mod.run_notebook(template_name, nb_suffix='-' + bnet_name, nb_kwargs=nb_kwargs)\n",
    "    # revert to preferred dir\n",
    "    os.chdir(qfog_path)"
   ]
  },
  {
   "cell_type": "markdown",
   "metadata": {
    "deletable": true,
    "editable": true
   },
   "source": [
    "# earthquake"
   ]
  },
  {
   "cell_type": "code",
   "execution_count": 4,
   "metadata": {
    "collapsed": false,
    "deletable": true,
    "editable": true
   },
   "outputs": [
    {
     "data": {
      "text/html": [
       "<a href='./inference-template.ipynb' target='_blank'>./inference-template.ipynb</a><br>"
      ],
      "text/plain": [
       "/home/jupyter/Notebooks/Quantum/quantum-fog/jupyter-notebooks/bnt-qfog-comparison/inference-template.ipynb"
      ]
     },
     "metadata": {},
     "output_type": "display_data"
    },
    {
     "data": {
      "text/html": [
       "<a href='./inference-template-earthquake.ipynb' target='_blank'>./inference-template-earthquake.ipynb</a><br>"
      ],
      "text/plain": [
       "/home/jupyter/Notebooks/Quantum/quantum-fog/jupyter-notebooks/bnt-qfog-comparison/inference-template-earthquake.ipynb"
      ]
     },
     "metadata": {},
     "output_type": "display_data"
    }
   ],
   "source": [
    "bnet_name = 'earthquake'\n",
    "vtx_to_ev = {}\n",
    "\n",
    "do_net()"
   ]
  },
  {
   "cell_type": "markdown",
   "metadata": {
    "deletable": true,
    "editable": true
   },
   "source": [
    "# Wetgrass"
   ]
  },
  {
   "cell_type": "code",
   "execution_count": 5,
   "metadata": {
    "collapsed": false,
    "deletable": true,
    "editable": true
   },
   "outputs": [
    {
     "data": {
      "text/html": [
       "<a href='./inference-template.ipynb' target='_blank'>./inference-template.ipynb</a><br>"
      ],
      "text/plain": [
       "/home/jupyter/Notebooks/Quantum/quantum-fog/jupyter-notebooks/bnt-qfog-comparison/inference-template.ipynb"
      ]
     },
     "metadata": {},
     "output_type": "display_data"
    },
    {
     "data": {
      "text/html": [
       "<a href='./inference-template-WetGrass.ipynb' target='_blank'>./inference-template-WetGrass.ipynb</a><br>"
      ],
      "text/plain": [
       "/home/jupyter/Notebooks/Quantum/quantum-fog/jupyter-notebooks/bnt-qfog-comparison/inference-template-WetGrass.ipynb"
      ]
     },
     "metadata": {},
     "output_type": "display_data"
    }
   ],
   "source": [
    "bnet_name = 'WetGrass'\n",
    "vtx_to_ev = {}\n",
    "\n",
    "do_net()"
   ]
  },
  {
   "cell_type": "markdown",
   "metadata": {
    "deletable": true,
    "editable": true
   },
   "source": [
    "# asia_"
   ]
  },
  {
   "cell_type": "code",
   "execution_count": 6,
   "metadata": {
    "collapsed": false,
    "deletable": true,
    "editable": true
   },
   "outputs": [
    {
     "data": {
      "text/html": [
       "<a href='./inference-template.ipynb' target='_blank'>./inference-template.ipynb</a><br>"
      ],
      "text/plain": [
       "/home/jupyter/Notebooks/Quantum/quantum-fog/jupyter-notebooks/bnt-qfog-comparison/inference-template.ipynb"
      ]
     },
     "metadata": {},
     "output_type": "display_data"
    },
    {
     "data": {
      "text/html": [
       "<a href='./inference-template-asia_.ipynb' target='_blank'>./inference-template-asia_.ipynb</a><br>"
      ],
      "text/plain": [
       "/home/jupyter/Notebooks/Quantum/quantum-fog/jupyter-notebooks/bnt-qfog-comparison/inference-template-asia_.ipynb"
      ]
     },
     "metadata": {},
     "output_type": "display_data"
    }
   ],
   "source": [
    "bnet_name = 'asia_'\n",
    "vtx_to_ev = {}\n",
    "\n",
    "do_net()"
   ]
  }
 ],
 "metadata": {
  "kernelspec": {
   "display_name": "Python 3",
   "language": "python",
   "name": "python3"
  },
  "language_info": {
   "codemirror_mode": {
    "name": "ipython",
    "version": 3
   },
   "file_extension": ".py",
   "mimetype": "text/x-python",
   "name": "python",
   "nbconvert_exporter": "python",
   "pygments_lexer": "ipython3",
   "version": "3.6.0"
  },
  "toc": {
   "colors": {
    "hover_highlight": "#DAA520",
    "running_highlight": "#FF0000",
    "selected_highlight": "#FFD700"
   },
   "moveMenuLeft": true,
   "nav_menu": {
    "height": "12px",
    "width": "252px"
   },
   "navigate_menu": true,
   "number_sections": true,
   "sideBar": true,
   "threshold": 4,
   "toc_cell": true,
   "toc_section_display": "none",
   "toc_window_display": true,
   "widenNotebook": false
  }
 },
 "nbformat": 4,
 "nbformat_minor": 2
}
