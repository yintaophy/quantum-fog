{
 "cells": [
  {
   "cell_type": "markdown",
   "metadata": {
    "toc": "true"
   },
   "source": [
    "# Table of Contents\n",
    " <p><div class=\"lev1 toc-item\"><a href=\"#Structure-Learn\" data-toc-modified-id=\"Structure-Learn-1\"><span class=\"toc-item-num\">1&nbsp;&nbsp;</span>Structure Learn</a></div><div class=\"lev2 toc-item\"><a href=\"#Learning--Algorithms-Introduction\" data-toc-modified-id=\"Learning--Algorithms-Introduction-11\"><span class=\"toc-item-num\">1.1&nbsp;&nbsp;</span>Learning  Algorithms Introduction</a></div><div class=\"lev2 toc-item\"><a href=\"#Example:-Wet-Grass\" data-toc-modified-id=\"Example:-Wet-Grass-12\"><span class=\"toc-item-num\">1.2&nbsp;&nbsp;</span>Example: Wet Grass</a></div><div class=\"lev3 toc-item\"><a href=\"#MB-based-learning\" data-toc-modified-id=\"MB-based-learning-121\"><span class=\"toc-item-num\">1.2.1&nbsp;&nbsp;</span>MB based learning</a></div><div class=\"lev3 toc-item\"><a href=\"#Score-based-learning\" data-toc-modified-id=\"Score-based-learning-122\"><span class=\"toc-item-num\">1.2.2&nbsp;&nbsp;</span>Score based learning</a></div><div class=\"lev2 toc-item\"><a href=\"#Example:-Asia\" data-toc-modified-id=\"Example:-Asia-13\"><span class=\"toc-item-num\">1.3&nbsp;&nbsp;</span>Example: Asia</a></div><div class=\"lev3 toc-item\"><a href=\"#MB-based-learning\" data-toc-modified-id=\"MB-based-learning-131\"><span class=\"toc-item-num\">1.3.1&nbsp;&nbsp;</span>MB based learning</a></div><div class=\"lev3 toc-item\"><a href=\"#Score-based-learning\" data-toc-modified-id=\"Score-based-learning-132\"><span class=\"toc-item-num\">1.3.2&nbsp;&nbsp;</span>Score based learning</a></div><div class=\"lev2 toc-item\"><a href=\"#Example:-Marks\" data-toc-modified-id=\"Example:-Marks-14\"><span class=\"toc-item-num\">1.4&nbsp;&nbsp;</span>Example: Marks</a></div><div class=\"lev3 toc-item\"><a href=\"#MB-based-learning\" data-toc-modified-id=\"MB-based-learning-141\"><span class=\"toc-item-num\">1.4.1&nbsp;&nbsp;</span>MB based learning</a></div><div class=\"lev3 toc-item\"><a href=\"#Score-based-learning\" data-toc-modified-id=\"Score-based-learning-142\"><span class=\"toc-item-num\">1.4.2&nbsp;&nbsp;</span>Score based learning</a></div><div class=\"lev3 toc-item\"><a href=\"#Score-based-learning-with-discretized-data-set\" data-toc-modified-id=\"Score-based-learning-with-discretized-data-set-143\"><span class=\"toc-item-num\">1.4.3&nbsp;&nbsp;</span>Score based learning with discretized data set</a></div>"
   ]
  },
  {
   "cell_type": "code",
   "execution_count": 1,
   "metadata": {
    "collapsed": false
   },
   "outputs": [],
   "source": [
    "import sys\n",
    "sys.path.append('../')\n",
    "import pandas as pd\n",
    "import numpy as np\n",
    "from graphviz import Digraph, Source\n",
    "\n",
    "from learning.NaiveBayesLner import *\n",
    "from learning.MB_GrowShrinkLner import *\n",
    "from learning.MB_IAMB_Lner import *\n",
    "from learning.HillClimbingLner import *\n",
    "\n",
    "import rpy2\n",
    "%load_ext rpy2.ipython\n",
    "%R library(\"bnlearn\");\n",
    "%R library(\"Rgraphviz\");"
   ]
  },
  {
   "cell_type": "markdown",
   "metadata": {},
   "source": [
    "# Structure Learn"
   ]
  },
  {
   "cell_type": "markdown",
   "metadata": {},
   "source": [
    "## Learning  Algorithms Introduction\n",
    "\n",
    "> Learning a Bayesian Network is usually done in two steps: \n",
    "> 1. learning the structure (i.e. the graph or skeleton) \n",
    "> 2. learning the parameters (i.e., the pots).\n",
    "\n",
    "To-Do.... Give a brief introduction for all the learning algorithms ....\n",
    "\n",
    "Beside Naive Bayes method, we use several algorithms as examples:\n",
    "1. Grow-Shrink (gs): based on the Grow-Shrink Markov Blanket, the first (and simplest) Markov blanket detection algorithm (Margaritis, 2003) used in a structure learning algorithm.\n",
    "\n",
    "2. Incremental Association: Incremental Association Markov Blanket Learner (IMAB); a subclass of MB_BasedLner. \n",
    "\n",
    "3. Hill-Climbing: hill climbing greedy search(HC); a score-based learning algorithms."
   ]
  },
  {
   "cell_type": "markdown",
   "metadata": {},
   "source": [
    "The documentations of learning algorithms can be found by using the following commend: "
   ]
  },
  {
   "cell_type": "code",
   "execution_count": 2,
   "metadata": {
    "collapsed": false
   },
   "outputs": [],
   "source": [
    "# ? MB_BasedLner"
   ]
  },
  {
   "cell_type": "markdown",
   "metadata": {},
   "source": [
    "## Example: Wet Grass"
   ]
  },
  {
   "cell_type": "code",
   "execution_count": 3,
   "metadata": {
    "collapsed": false
   },
   "outputs": [
    {
     "name": "stdout",
     "output_type": "stream",
     "text": [
      "Cloudy\n",
      "Sprinkler\n",
      "Rain\n",
      "WetGrass\n"
     ]
    }
   ],
   "source": [
    "path_csv = '../learning/training_data_c/wetgrass.csv'\n",
    "%Rpush path_csv\n",
    "test_csv = 'test.csv'\n",
    "test_dot = 'test.dot'\n",
    "states_df = pd.read_csv(path_csv, dtype = str)\n",
    "for item in states_df.columns.values:\n",
    "    print(item)"
   ]
  },
  {
   "cell_type": "markdown",
   "metadata": {},
   "source": [
    "### MB based learning\n",
    "#### QuantumFog"
   ]
  },
  {
   "cell_type": "markdown",
   "metadata": {},
   "source": [
    "set  $\\alpha \\approx 5/n$ as threshold used for deciding whether a conditional or unconditional mutual info is said to be close to zero (independence) or not (dependence)."
   ]
  },
  {
   "cell_type": "code",
   "execution_count": 4,
   "metadata": {
    "collapsed": false
   },
   "outputs": [
    {
     "name": "stdout",
     "output_type": "stream",
     "text": [
      "The time by GrowShrinkLner:\n",
      "Wall time: 651 ms\n",
      "\t\n",
      "The time by IAMB_Lner:\n",
      "Wall time: 592 ms\n"
     ]
    }
   ],
   "source": [
    "alpha = 5 / len(states_df.index)\n",
    "print('The time by GrowShrinkLner:')\n",
    "%time lnr_gs = MB_GrowShrinkLner(states_df, alpha, verbose=False)\n",
    "print('\\t')\n",
    "print('The time by IAMB_Lner:')\n",
    "%time lnr_iamb = MB_IAMB_Lner(states_df, alpha, verbose=False)"
   ]
  },
  {
   "cell_type": "code",
   "execution_count": 5,
   "metadata": {
    "collapsed": false,
    "scrolled": true
   },
   "outputs": [
    {
     "data": {
      "image/svg+xml": [
       "<?xml version=\"1.0\" encoding=\"UTF-8\" standalone=\"no\"?>\r\n",
       "<!DOCTYPE svg PUBLIC \"-//W3C//DTD SVG 1.1//EN\"\r\n",
       " \"http://www.w3.org/Graphics/SVG/1.1/DTD/svg11.dtd\">\r\n",
       "<!-- Generated by graphviz version 2.38.0 (20140413.2041)\r\n",
       " -->\r\n",
       "<!-- Pages: 1 -->\r\n",
       "<svg width=\"168pt\" height=\"188pt\"\r\n",
       " viewBox=\"0.00 0.00 167.84 188.00\" xmlns=\"http://www.w3.org/2000/svg\" xmlns:xlink=\"http://www.w3.org/1999/xlink\">\r\n",
       "<g id=\"graph0\" class=\"graph\" transform=\"scale(1 1) rotate(0) translate(4 184)\">\r\n",
       "<polygon fill=\"white\" stroke=\"none\" points=\"-4,4 -4,-184 163.844,-184 163.844,4 -4,4\"/>\r\n",
       "<!-- WetGrass -->\r\n",
       "<g id=\"node1\" class=\"node\"><title>WetGrass</title>\r\n",
       "<ellipse fill=\"none\" stroke=\"black\" cx=\"71.2976\" cy=\"-18\" rx=\"47.3916\" ry=\"18\"/>\r\n",
       "<text text-anchor=\"middle\" x=\"71.2976\" y=\"-14.3\" font-family=\"Times New Roman,serif\" font-size=\"14.00\">WetGrass</text>\r\n",
       "</g>\r\n",
       "<!-- Cloudy -->\r\n",
       "<g id=\"node2\" class=\"node\"><title>Cloudy</title>\r\n",
       "<ellipse fill=\"none\" stroke=\"black\" cx=\"71.2976\" cy=\"-162\" rx=\"37.8943\" ry=\"18\"/>\r\n",
       "<text text-anchor=\"middle\" x=\"71.2976\" y=\"-158.3\" font-family=\"Times New Roman,serif\" font-size=\"14.00\">Cloudy</text>\r\n",
       "</g>\r\n",
       "<!-- Rain -->\r\n",
       "<g id=\"node3\" class=\"node\"><title>Rain</title>\r\n",
       "<ellipse fill=\"none\" stroke=\"black\" cx=\"27.2976\" cy=\"-90\" rx=\"27.0966\" ry=\"18\"/>\r\n",
       "<text text-anchor=\"middle\" x=\"27.2976\" y=\"-86.3\" font-family=\"Times New Roman,serif\" font-size=\"14.00\">Rain</text>\r\n",
       "</g>\r\n",
       "<!-- Cloudy&#45;&gt;Rain -->\r\n",
       "<g id=\"edge1\" class=\"edge\"><title>Cloudy&#45;&gt;Rain</title>\r\n",
       "<path fill=\"none\" stroke=\"black\" d=\"M60.8702,-144.411C55.4779,-135.832 48.7889,-125.191 42.8041,-115.67\"/>\r\n",
       "<polygon fill=\"black\" stroke=\"black\" points=\"45.6322,-113.592 37.3472,-106.988 39.7058,-117.317 45.6322,-113.592\"/>\r\n",
       "</g>\r\n",
       "<!-- Sprinkler -->\r\n",
       "<g id=\"node4\" class=\"node\"><title>Sprinkler</title>\r\n",
       "<ellipse fill=\"none\" stroke=\"black\" cx=\"116.298\" cy=\"-90\" rx=\"43.5923\" ry=\"18\"/>\r\n",
       "<text text-anchor=\"middle\" x=\"116.298\" y=\"-86.3\" font-family=\"Times New Roman,serif\" font-size=\"14.00\">Sprinkler</text>\r\n",
       "</g>\r\n",
       "<!-- Cloudy&#45;&gt;Sprinkler -->\r\n",
       "<g id=\"edge2\" class=\"edge\"><title>Cloudy&#45;&gt;Sprinkler</title>\r\n",
       "<path fill=\"none\" stroke=\"black\" d=\"M81.9619,-144.411C87.398,-135.955 94.1226,-125.494 100.176,-116.078\"/>\r\n",
       "<polygon fill=\"black\" stroke=\"black\" points=\"103.246,-117.774 105.71,-107.47 97.358,-113.989 103.246,-117.774\"/>\r\n",
       "</g>\r\n",
       "<!-- Rain&#45;&gt;WetGrass -->\r\n",
       "<g id=\"edge3\" class=\"edge\"><title>Rain&#45;&gt;WetGrass</title>\r\n",
       "<path fill=\"none\" stroke=\"black\" d=\"M37.2819,-73.1159C42.5851,-64.679 49.232,-54.1044 55.2397,-44.5465\"/>\r\n",
       "<polygon fill=\"black\" stroke=\"black\" points=\"58.3807,-46.1263 60.7392,-35.7973 52.4543,-42.4011 58.3807,-46.1263\"/>\r\n",
       "</g>\r\n",
       "<!-- Sprinkler&#45;&gt;WetGrass -->\r\n",
       "<g id=\"edge4\" class=\"edge\"><title>Sprinkler&#45;&gt;WetGrass</title>\r\n",
       "<path fill=\"none\" stroke=\"black\" d=\"M105.633,-72.411C100.276,-64.0774 93.6672,-53.7972 87.6829,-44.4883\"/>\r\n",
       "<polygon fill=\"black\" stroke=\"black\" points=\"90.5498,-42.4753 82.198,-35.9562 84.6615,-46.2607 90.5498,-42.4753\"/>\r\n",
       "</g>\r\n",
       "</g>\r\n",
       "</svg>\r\n"
      ],
      "text/plain": [
       "<graphviz.files.Source at 0x4f35940>"
      ]
     },
     "execution_count": 5,
     "metadata": {},
     "output_type": "execute_result"
    }
   ],
   "source": [
    "lnr_gs.bnet.write_dot(test_dot) # write BNet to .dot file\n",
    "Source(open(test_dot).read())"
   ]
  },
  {
   "cell_type": "code",
   "execution_count": 6,
   "metadata": {
    "collapsed": false,
    "scrolled": true
   },
   "outputs": [
    {
     "data": {
      "image/svg+xml": [
       "<?xml version=\"1.0\" encoding=\"UTF-8\" standalone=\"no\"?>\r\n",
       "<!DOCTYPE svg PUBLIC \"-//W3C//DTD SVG 1.1//EN\"\r\n",
       " \"http://www.w3.org/Graphics/SVG/1.1/DTD/svg11.dtd\">\r\n",
       "<!-- Generated by graphviz version 2.38.0 (20140413.2041)\r\n",
       " -->\r\n",
       "<!-- Pages: 1 -->\r\n",
       "<svg width=\"168pt\" height=\"188pt\"\r\n",
       " viewBox=\"0.00 0.00 167.84 188.00\" xmlns=\"http://www.w3.org/2000/svg\" xmlns:xlink=\"http://www.w3.org/1999/xlink\">\r\n",
       "<g id=\"graph0\" class=\"graph\" transform=\"scale(1 1) rotate(0) translate(4 184)\">\r\n",
       "<polygon fill=\"white\" stroke=\"none\" points=\"-4,4 -4,-184 163.844,-184 163.844,4 -4,4\"/>\r\n",
       "<!-- WetGrass -->\r\n",
       "<g id=\"node1\" class=\"node\"><title>WetGrass</title>\r\n",
       "<ellipse fill=\"none\" stroke=\"black\" cx=\"71.2976\" cy=\"-18\" rx=\"47.3916\" ry=\"18\"/>\r\n",
       "<text text-anchor=\"middle\" x=\"71.2976\" y=\"-14.3\" font-family=\"Times New Roman,serif\" font-size=\"14.00\">WetGrass</text>\r\n",
       "</g>\r\n",
       "<!-- Cloudy -->\r\n",
       "<g id=\"node2\" class=\"node\"><title>Cloudy</title>\r\n",
       "<ellipse fill=\"none\" stroke=\"black\" cx=\"71.2976\" cy=\"-162\" rx=\"37.8943\" ry=\"18\"/>\r\n",
       "<text text-anchor=\"middle\" x=\"71.2976\" y=\"-158.3\" font-family=\"Times New Roman,serif\" font-size=\"14.00\">Cloudy</text>\r\n",
       "</g>\r\n",
       "<!-- Rain -->\r\n",
       "<g id=\"node3\" class=\"node\"><title>Rain</title>\r\n",
       "<ellipse fill=\"none\" stroke=\"black\" cx=\"27.2976\" cy=\"-90\" rx=\"27.0966\" ry=\"18\"/>\r\n",
       "<text text-anchor=\"middle\" x=\"27.2976\" y=\"-86.3\" font-family=\"Times New Roman,serif\" font-size=\"14.00\">Rain</text>\r\n",
       "</g>\r\n",
       "<!-- Cloudy&#45;&gt;Rain -->\r\n",
       "<g id=\"edge1\" class=\"edge\"><title>Cloudy&#45;&gt;Rain</title>\r\n",
       "<path fill=\"none\" stroke=\"black\" d=\"M60.8702,-144.411C55.4779,-135.832 48.7889,-125.191 42.8041,-115.67\"/>\r\n",
       "<polygon fill=\"black\" stroke=\"black\" points=\"45.6322,-113.592 37.3472,-106.988 39.7058,-117.317 45.6322,-113.592\"/>\r\n",
       "</g>\r\n",
       "<!-- Sprinkler -->\r\n",
       "<g id=\"node4\" class=\"node\"><title>Sprinkler</title>\r\n",
       "<ellipse fill=\"none\" stroke=\"black\" cx=\"116.298\" cy=\"-90\" rx=\"43.5923\" ry=\"18\"/>\r\n",
       "<text text-anchor=\"middle\" x=\"116.298\" y=\"-86.3\" font-family=\"Times New Roman,serif\" font-size=\"14.00\">Sprinkler</text>\r\n",
       "</g>\r\n",
       "<!-- Cloudy&#45;&gt;Sprinkler -->\r\n",
       "<g id=\"edge2\" class=\"edge\"><title>Cloudy&#45;&gt;Sprinkler</title>\r\n",
       "<path fill=\"none\" stroke=\"black\" d=\"M81.9619,-144.411C87.398,-135.955 94.1226,-125.494 100.176,-116.078\"/>\r\n",
       "<polygon fill=\"black\" stroke=\"black\" points=\"103.246,-117.774 105.71,-107.47 97.358,-113.989 103.246,-117.774\"/>\r\n",
       "</g>\r\n",
       "<!-- Rain&#45;&gt;WetGrass -->\r\n",
       "<g id=\"edge3\" class=\"edge\"><title>Rain&#45;&gt;WetGrass</title>\r\n",
       "<path fill=\"none\" stroke=\"black\" d=\"M37.2819,-73.1159C42.5851,-64.679 49.232,-54.1044 55.2397,-44.5465\"/>\r\n",
       "<polygon fill=\"black\" stroke=\"black\" points=\"58.3807,-46.1263 60.7392,-35.7973 52.4543,-42.4011 58.3807,-46.1263\"/>\r\n",
       "</g>\r\n",
       "<!-- Sprinkler&#45;&gt;WetGrass -->\r\n",
       "<g id=\"edge4\" class=\"edge\"><title>Sprinkler&#45;&gt;WetGrass</title>\r\n",
       "<path fill=\"none\" stroke=\"black\" d=\"M105.633,-72.411C100.276,-64.0774 93.6672,-53.7972 87.6829,-44.4883\"/>\r\n",
       "<polygon fill=\"black\" stroke=\"black\" points=\"90.5498,-42.4753 82.198,-35.9562 84.6615,-46.2607 90.5498,-42.4753\"/>\r\n",
       "</g>\r\n",
       "</g>\r\n",
       "</svg>\r\n"
      ],
      "text/plain": [
       "<graphviz.files.Source at 0xe6ee860>"
      ]
     },
     "execution_count": 6,
     "metadata": {},
     "output_type": "execute_result"
    }
   ],
   "source": [
    "lnr_iamb.bnet.write_dot(test_dot) # write BNet to .dot file\n",
    "Source(open(test_dot).read())"
   ]
  },
  {
   "cell_type": "markdown",
   "metadata": {},
   "source": [
    "#### bnlearn"
   ]
  },
  {
   "cell_type": "code",
   "execution_count": 7,
   "metadata": {
    "collapsed": false,
    "scrolled": false
   },
   "outputs": [
    {
     "data": {
      "image/png": "[encoded data removed]"
     },
     "metadata": {},
     "output_type": "display_data"
    }
   ],
   "source": [
    "%%R\n",
    "states_df <- read.csv(file=path_csv, header=TRUE, sep=\",\", colClasses = \"factor\")\n",
    "bn.gs <- gs(states_df);\n",
    "bn.iamb <- iamb(states_df);\n",
    "par(mfrow = c(1,2))\n",
    "graphviz.plot(bn.gs, shape = \"ellipse\", main = \"Grow-Shrink (GS)\")\n",
    "graphviz.plot(bn.iamb, shape = \"ellipse\", main = \"Incremental Association Markov Blanket(IMAB\")"
   ]
  },
  {
   "cell_type": "markdown",
   "metadata": {},
   "source": [
    "#### Compare run time"
   ]
  },
  {
   "cell_type": "code",
   "execution_count": 8,
   "metadata": {
    "collapsed": false
   },
   "outputs": [
    {
     "name": "stdout",
     "output_type": "stream",
     "text": [
      "GrowShrinkLner:\n",
      "QuantumFog:\n",
      "Wall time: 569 ms\n",
      "bnlearn:\n",
      "Wall time: 11 ms\n",
      "\t\n",
      "IAMB_Lner:\n",
      "QuantumFog:\n",
      "Wall time: 608 ms\n",
      "bnlearn:\n",
      "Wall time: 15 ms\n"
     ]
    }
   ],
   "source": [
    "# firstly passing the value of alpha into R:\n",
    "%Rpush alpha\n",
    "print('GrowShrinkLner:')\n",
    "print('QuantumFog:')\n",
    "%time lnr_gs = MB_GrowShrinkLner(states_df, alpha, verbose=False)\n",
    "print('bnlearn:')\n",
    "%time %R bn.gs <- gs(states_df, alpha = alpha);\n",
    "\n",
    "print('\\t')\n",
    "print('IAMB_Lner:')\n",
    "print('QuantumFog:')\n",
    "%time lnr_iamb = MB_IAMB_Lner(states_df, alpha, verbose=False)\n",
    "print('bnlearn:')\n",
    "%time %R bn.iamb <- iamb(states_df,alpha = alpha);"
   ]
  },
  {
   "cell_type": "markdown",
   "metadata": {},
   "source": [
    "\n",
    "It seems that QuantumFog takes much more time than bnlearn, with the same algorithm and same data, even under python kernel.\n",
    "\n",
    "It might because QuantumFog is more complicated in order to deal with quantum/classical version. Maybe also means some space to improve..."
   ]
  },
  {
   "cell_type": "markdown",
   "metadata": {},
   "source": [
    "### Score based learning"
   ]
  },
  {
   "cell_type": "markdown",
   "metadata": {},
   "source": [
    "#### QuantumFog"
   ]
  },
  {
   "cell_type": "markdown",
   "metadata": {},
   "source": [
    "> score type, either 'LL', 'BIC, 'AIC', 'BDEU' or 'K2'"
   ]
  },
  {
   "cell_type": "code",
   "execution_count": 9,
   "metadata": {
    "collapsed": false
   },
   "outputs": [
    {
     "name": "stdout",
     "output_type": "stream",
     "text": [
      "score_type: BIC\n"
     ]
    },
    {
     "data": {
      "image/svg+xml": [
       "<?xml version=\"1.0\" encoding=\"UTF-8\" standalone=\"no\"?>\r\n",
       "<!DOCTYPE svg PUBLIC \"-//W3C//DTD SVG 1.1//EN\"\r\n",
       " \"http://www.w3.org/Graphics/SVG/1.1/DTD/svg11.dtd\">\r\n",
       "<!-- Generated by graphviz version 2.38.0 (20140413.2041)\r\n",
       " -->\r\n",
       "<!-- Pages: 1 -->\r\n",
       "<svg width=\"129pt\" height=\"260pt\"\r\n",
       " viewBox=\"0.00 0.00 129.14 260.00\" xmlns=\"http://www.w3.org/2000/svg\" xmlns:xlink=\"http://www.w3.org/1999/xlink\">\r\n",
       "<g id=\"graph0\" class=\"graph\" transform=\"scale(1 1) rotate(0) translate(4 256)\">\r\n",
       "<polygon fill=\"white\" stroke=\"none\" points=\"-4,4 -4,-256 125.142,-256 125.142,4 -4,4\"/>\r\n",
       "<!-- WetGrass -->\r\n",
       "<g id=\"node1\" class=\"node\"><title>WetGrass</title>\r\n",
       "<ellipse fill=\"none\" stroke=\"black\" cx=\"47.4458\" cy=\"-18\" rx=\"47.3916\" ry=\"18\"/>\r\n",
       "<text text-anchor=\"middle\" x=\"47.4458\" y=\"-14.3\" font-family=\"Times New Roman,serif\" font-size=\"14.00\">WetGrass</text>\r\n",
       "</g>\r\n",
       "<!-- Cloudy -->\r\n",
       "<g id=\"node2\" class=\"node\"><title>Cloudy</title>\r\n",
       "<ellipse fill=\"none\" stroke=\"black\" cx=\"83.4458\" cy=\"-162\" rx=\"37.8943\" ry=\"18\"/>\r\n",
       "<text text-anchor=\"middle\" x=\"83.4458\" y=\"-158.3\" font-family=\"Times New Roman,serif\" font-size=\"14.00\">Cloudy</text>\r\n",
       "</g>\r\n",
       "<!-- Rain -->\r\n",
       "<g id=\"node3\" class=\"node\"><title>Rain</title>\r\n",
       "<ellipse fill=\"none\" stroke=\"black\" cx=\"77.4458\" cy=\"-90\" rx=\"27.0966\" ry=\"18\"/>\r\n",
       "<text text-anchor=\"middle\" x=\"77.4458\" y=\"-86.3\" font-family=\"Times New Roman,serif\" font-size=\"14.00\">Rain</text>\r\n",
       "</g>\r\n",
       "<!-- Cloudy&#45;&gt;Rain -->\r\n",
       "<g id=\"edge1\" class=\"edge\"><title>Cloudy&#45;&gt;Rain</title>\r\n",
       "<path fill=\"none\" stroke=\"black\" d=\"M81.9626,-143.697C81.3015,-135.983 80.5069,-126.712 79.7697,-118.112\"/>\r\n",
       "<polygon fill=\"black\" stroke=\"black\" points=\"83.2532,-117.769 78.9119,-108.104 76.2788,-118.367 83.2532,-117.769\"/>\r\n",
       "</g>\r\n",
       "<!-- Rain&#45;&gt;WetGrass -->\r\n",
       "<g id=\"edge2\" class=\"edge\"><title>Rain&#45;&gt;WetGrass</title>\r\n",
       "<path fill=\"none\" stroke=\"black\" d=\"M70.3362,-72.411C66.8751,-64.3352 62.6306,-54.4312 58.7407,-45.3547\"/>\r\n",
       "<polygon fill=\"black\" stroke=\"black\" points=\"61.869,-43.7689 54.7127,-35.9562 55.435,-46.5264 61.869,-43.7689\"/>\r\n",
       "</g>\r\n",
       "<!-- Sprinkler -->\r\n",
       "<g id=\"node4\" class=\"node\"><title>Sprinkler</title>\r\n",
       "<ellipse fill=\"none\" stroke=\"black\" cx=\"50.4458\" cy=\"-234\" rx=\"43.5923\" ry=\"18\"/>\r\n",
       "<text text-anchor=\"middle\" x=\"50.4458\" y=\"-230.3\" font-family=\"Times New Roman,serif\" font-size=\"14.00\">Sprinkler</text>\r\n",
       "</g>\r\n",
       "<!-- Sprinkler&#45;&gt;WetGrass -->\r\n",
       "<g id=\"edge3\" class=\"edge\"><title>Sprinkler&#45;&gt;WetGrass</title>\r\n",
       "<path fill=\"none\" stroke=\"black\" d=\"M44.7676,-216.038C41.6243,-205.745 38.0389,-192.269 36.4458,-180 30.3523,-133.072 37.0882,-77.9824 42.3767,-45.9298\"/>\r\n",
       "<polygon fill=\"black\" stroke=\"black\" points=\"45.8407,-46.4379 44.0941,-35.988 38.9429,-45.2462 45.8407,-46.4379\"/>\r\n",
       "</g>\r\n",
       "<!-- Sprinkler&#45;&gt;Cloudy -->\r\n",
       "<g id=\"edge4\" class=\"edge\"><title>Sprinkler&#45;&gt;Cloudy</title>\r\n",
       "<path fill=\"none\" stroke=\"black\" d=\"M58.4342,-216.055C62.2444,-207.973 66.8886,-198.121 71.136,-189.112\"/>\r\n",
       "<polygon fill=\"black\" stroke=\"black\" points=\"74.4326,-190.327 75.531,-179.789 68.1009,-187.342 74.4326,-190.327\"/>\r\n",
       "</g>\r\n",
       "</g>\r\n",
       "</svg>\r\n"
      ],
      "text/plain": [
       "<graphviz.files.Source at 0xe6eb898>"
      ]
     },
     "execution_count": 9,
     "metadata": {},
     "output_type": "execute_result"
    }
   ],
   "source": [
    "score_type = 'BIC'\n",
    "max_num_mtries = 40\n",
    "ess = 1.0 \n",
    "lnr_hc = HillClimbingLner(states_df, score_type, max_num_mtries, ess)\n",
    "lnr_hc.bnet.write_dot(test_dot) # write BNet to .dot file\n",
    "print('score_type:', score_type)\n",
    "Source(open(test_dot).read())"
   ]
  },
  {
   "cell_type": "markdown",
   "metadata": {},
   "source": [
    "#### bnlearn"
   ]
  },
  {
   "cell_type": "markdown",
   "metadata": {},
   "source": [
    "The default score is the **BIC** (Bayesian Information Criterion) for both discrete and continuous data sets"
   ]
  },
  {
   "cell_type": "code",
   "execution_count": 10,
   "metadata": {
    "collapsed": false
   },
   "outputs": [
    {
     "data": {
      "image/png": "[encoded data removed]"
     },
     "metadata": {},
     "output_type": "display_data"
    }
   ],
   "source": [
    "%%R\n",
    "bn.hc <- hc(states_df);\n",
    "graphviz.plot(bn.hc, shape = \"ellipse\", main = \"Hill-Climbing\")"
   ]
  },
  {
   "cell_type": "markdown",
   "metadata": {},
   "source": [
    "#### Compare run time"
   ]
  },
  {
   "cell_type": "code",
   "execution_count": 11,
   "metadata": {
    "collapsed": false,
    "scrolled": true
   },
   "outputs": [
    {
     "name": "stdout",
     "output_type": "stream",
     "text": [
      "HillClimbing:\n",
      "QuantumFog:\n",
      "Wall time: 327 ms\n",
      "bnlearn:\n",
      "Wall time: 8 ms\n"
     ]
    }
   ],
   "source": [
    "print('HillClimbing:')\n",
    "print('QuantumFog:')\n",
    "%time lnr_hc = HillClimbingLner(states_df, score_type, max_num_mtries)\n",
    "print('bnlearn:')\n",
    "%time %R bn.hc <- hc(states_df);"
   ]
  },
  {
   "cell_type": "markdown",
   "metadata": {},
   "source": [
    "\n",
    "QuantumFog still takes much more time than bnlearn.\n"
   ]
  },
  {
   "cell_type": "markdown",
   "metadata": {},
   "source": [
    "## Example: Asia"
   ]
  },
  {
   "cell_type": "markdown",
   "metadata": {},
   "source": [
    "Let's try a larger networks Asia (synthetic) data set by Lauritzen and Spiegelhalter\n",
    "> Small synthetic data set from Lauritzen and Spiegelhalter (1988) about lung diseases (tuberculosis, lung cancer or bronchitis) and visits to Asia.\n"
   ]
  },
  {
   "cell_type": "markdown",
   "metadata": {},
   "source": [
    "The data set is included in bnlearn R package. As introduced in *bnlearn*, the asia data set contains the following variables:\n",
    "\n",
    "D (dyspnoea), a two-level factor with levels yes and no.\n",
    "\n",
    "T (tuberculosis), a two-level factor with levels yes and no.\n",
    "\n",
    "L (lung cancer), a two-level factor with levels yes and no.\n",
    "\n",
    "B (bronchitis), a two-level factor with levels yes and no.\n",
    "\n",
    "A (visit to Asia), a two-level factor with levels yes and no.\n",
    "\n",
    "S (smoking), a two-level factor with levels yes and no.\n",
    "\n",
    "X (chest X-ray), a two-level factor with levels yes and no.\n",
    "\n",
    "E (tuberculosis versus lung cancer/bronchitis), a two-level factor with levels yes and no."
   ]
  },
  {
   "cell_type": "code",
   "execution_count": 12,
   "metadata": {
    "collapsed": false
   },
   "outputs": [
    {
     "name": "stdout",
     "output_type": "stream",
     "text": [
      "A\n",
      "S\n",
      "T\n",
      "L\n",
      "B\n",
      "E\n",
      "X\n",
      "D\n",
      "\n",
      " [\"'data.frame':\\t5000 obs. of  8 variables:\"\n",
      " ' $ A: Factor w/ 2 levels \"no\",\"yes\": 1 1 1 1 1 1 1 1 1 1 ...'\n",
      " ' $ S: Factor w/ 2 levels \"no\",\"yes\": 2 2 1 1 1 2 1 2 2 2 ...'\n",
      " ' $ T: Factor w/ 2 levels \"no\",\"yes\": 1 1 2 1 1 1 1 1 1 1 ...'\n",
      " ' $ L: Factor w/ 2 levels \"no\",\"yes\": 1 1 1 1 1 1 1 1 1 1 ...'\n",
      " ' $ B: Factor w/ 2 levels \"no\",\"yes\": 2 1 1 2 1 1 1 2 2 2 ...'\n",
      " ' $ E: Factor w/ 2 levels \"no\",\"yes\": 1 1 2 1 1 1 1 1 1 1 ...'\n",
      " ' $ X: Factor w/ 2 levels \"no\",\"yes\": 1 1 2 1 1 1 1 1 1 1 ...'\n",
      " ' $ D: Factor w/ 2 levels \"no\",\"yes\": 2 1 2 2 2 2 1 2 2 2 ...']\n"
     ]
    }
   ],
   "source": [
    "path_bif = '../examples_cbnets/asia.bif'\n",
    "path_dot = '../examples_cbnets/asia.dot'\n",
    "test_csv = 'test.csv'\n",
    "test_dot = 'test.dot'\n",
    "\n",
    "states_df = %R asia\n",
    "%R states_df = asia\n",
    "for item in states_df.columns.values:\n",
    "    print(item)\n",
    "\n",
    "out = %R capture.output(str(states_df))\n",
    "print('\\n', out)"
   ]
  },
  {
   "cell_type": "markdown",
   "metadata": {},
   "source": [
    "view the Asia DAG:\n",
    "* In the 'path_dot' file, 'A' (visit to Asia) is replaced by 'Travel-Risk'"
   ]
  },
  {
   "cell_type": "code",
   "execution_count": 13,
   "metadata": {
    "collapsed": false
   },
   "outputs": [
    {
     "name": "stdout",
     "output_type": "stream",
     "text": [
      "================ 'Asia' network ================ \n"
     ]
    },
    {
     "data": {
      "image/svg+xml": [
       "<?xml version=\"1.0\" encoding=\"UTF-8\" standalone=\"no\"?>\r\n",
       "<!DOCTYPE svg PUBLIC \"-//W3C//DTD SVG 1.1//EN\"\r\n",
       " \"http://www.w3.org/Graphics/SVG/1.1/DTD/svg11.dtd\">\r\n",
       "<!-- Generated by graphviz version 2.38.0 (20140413.2041)\r\n",
       " -->\r\n",
       "<!-- Pages: 1 -->\r\n",
       "<svg width=\"334pt\" height=\"260pt\"\r\n",
       " viewBox=\"0.00 0.00 333.94 260.00\" xmlns=\"http://www.w3.org/2000/svg\" xmlns:xlink=\"http://www.w3.org/1999/xlink\">\r\n",
       "<g id=\"graph0\" class=\"graph\" transform=\"scale(1 1) rotate(0) translate(4 256)\">\r\n",
       "<polygon fill=\"white\" stroke=\"none\" points=\"-4,4 -4,-256 329.941,-256 329.941,4 -4,4\"/>\r\n",
       "<!-- Lung&#45;Cancer -->\r\n",
       "<g id=\"node1\" class=\"node\"><title>Lung&#45;Cancer</title>\r\n",
       "<ellipse fill=\"none\" stroke=\"black\" cx=\"134.096\" cy=\"-162\" rx=\"57.6901\" ry=\"18\"/>\r\n",
       "<text text-anchor=\"middle\" x=\"134.096\" y=\"-158.3\" font-family=\"Times New Roman,serif\" font-size=\"14.00\">Lung&#45;Cancer</text>\r\n",
       "</g>\r\n",
       "<!-- Either -->\r\n",
       "<g id=\"node7\" class=\"node\"><title>Either</title>\r\n",
       "<ellipse fill=\"none\" stroke=\"black\" cx=\"146.096\" cy=\"-90\" rx=\"31.6951\" ry=\"18\"/>\r\n",
       "<text text-anchor=\"middle\" x=\"146.096\" y=\"-86.3\" font-family=\"Times New Roman,serif\" font-size=\"14.00\">Either</text>\r\n",
       "</g>\r\n",
       "<!-- Lung&#45;Cancer&#45;&gt;Either -->\r\n",
       "<g id=\"edge1\" class=\"edge\"><title>Lung&#45;Cancer&#45;&gt;Either</title>\r\n",
       "<path fill=\"none\" stroke=\"black\" d=\"M137.062,-143.697C138.384,-135.983 139.974,-126.712 141.448,-118.112\"/>\r\n",
       "<polygon fill=\"black\" stroke=\"black\" points=\"144.924,-118.552 143.164,-108.104 138.024,-117.369 144.924,-118.552\"/>\r\n",
       "</g>\r\n",
       "<!-- Dyspnea -->\r\n",
       "<g id=\"node2\" class=\"node\"><title>Dyspnea</title>\r\n",
       "<ellipse fill=\"none\" stroke=\"black\" cx=\"50.0957\" cy=\"-18\" rx=\"42.4939\" ry=\"18\"/>\r\n",
       "<text text-anchor=\"middle\" x=\"50.0957\" y=\"-14.3\" font-family=\"Times New Roman,serif\" font-size=\"14.00\">Dyspnea</text>\r\n",
       "</g>\r\n",
       "<!-- Tuberculosis -->\r\n",
       "<g id=\"node3\" class=\"node\"><title>Tuberculosis</title>\r\n",
       "<ellipse fill=\"none\" stroke=\"black\" cx=\"268.096\" cy=\"-162\" rx=\"57.6901\" ry=\"18\"/>\r\n",
       "<text text-anchor=\"middle\" x=\"268.096\" y=\"-158.3\" font-family=\"Times New Roman,serif\" font-size=\"14.00\">Tuberculosis</text>\r\n",
       "</g>\r\n",
       "<!-- Tuberculosis&#45;&gt;Either -->\r\n",
       "<g id=\"edge2\" class=\"edge\"><title>Tuberculosis&#45;&gt;Either</title>\r\n",
       "<path fill=\"none\" stroke=\"black\" d=\"M241.624,-145.811C222.419,-134.792 196.407,-119.867 176.376,-108.374\"/>\r\n",
       "<polygon fill=\"black\" stroke=\"black\" points=\"178.055,-105.302 167.639,-103.361 174.571,-111.374 178.055,-105.302\"/>\r\n",
       "</g>\r\n",
       "<!-- Bronchitis -->\r\n",
       "<g id=\"node4\" class=\"node\"><title>Bronchitis</title>\r\n",
       "<ellipse fill=\"none\" stroke=\"black\" cx=\"48.0957\" cy=\"-90\" rx=\"48.1917\" ry=\"18\"/>\r\n",
       "<text text-anchor=\"middle\" x=\"48.0957\" y=\"-86.3\" font-family=\"Times New Roman,serif\" font-size=\"14.00\">Bronchitis</text>\r\n",
       "</g>\r\n",
       "<!-- Bronchitis&#45;&gt;Dyspnea -->\r\n",
       "<g id=\"edge3\" class=\"edge\"><title>Bronchitis&#45;&gt;Dyspnea</title>\r\n",
       "<path fill=\"none\" stroke=\"black\" d=\"M48.5901,-71.6966C48.8105,-63.9827 49.0754,-54.7125 49.3211,-46.1124\"/>\r\n",
       "<polygon fill=\"black\" stroke=\"black\" points=\"52.8199,-46.2002 49.607,-36.1043 45.8228,-46.0003 52.8199,-46.2002\"/>\r\n",
       "</g>\r\n",
       "<!-- Smoke -->\r\n",
       "<g id=\"node5\" class=\"node\"><title>Smoke</title>\r\n",
       "<ellipse fill=\"none\" stroke=\"black\" cx=\"91.0957\" cy=\"-234\" rx=\"36.2938\" ry=\"18\"/>\r\n",
       "<text text-anchor=\"middle\" x=\"91.0957\" y=\"-230.3\" font-family=\"Times New Roman,serif\" font-size=\"14.00\">Smoke</text>\r\n",
       "</g>\r\n",
       "<!-- Smoke&#45;&gt;Lung&#45;Cancer -->\r\n",
       "<g id=\"edge4\" class=\"edge\"><title>Smoke&#45;&gt;Lung&#45;Cancer</title>\r\n",
       "<path fill=\"none\" stroke=\"black\" d=\"M101.286,-216.411C106.405,-208.077 112.72,-197.797 118.439,-188.488\"/>\r\n",
       "<polygon fill=\"black\" stroke=\"black\" points=\"121.428,-190.309 123.68,-179.956 115.463,-186.645 121.428,-190.309\"/>\r\n",
       "</g>\r\n",
       "<!-- Smoke&#45;&gt;Bronchitis -->\r\n",
       "<g id=\"edge5\" class=\"edge\"><title>Smoke&#45;&gt;Bronchitis</title>\r\n",
       "<path fill=\"none\" stroke=\"black\" d=\"M82.3586,-216.186C77.3233,-205.946 71.1985,-192.474 67.0957,-180 60.4008,-159.645 55.467,-135.879 52.3072,-118.028\"/>\r\n",
       "<polygon fill=\"black\" stroke=\"black\" points=\"55.7324,-117.292 50.6106,-108.017 48.8308,-118.461 55.7324,-117.292\"/>\r\n",
       "</g>\r\n",
       "<!-- Travel&#45;Risk -->\r\n",
       "<g id=\"node6\" class=\"node\"><title>Travel&#45;Risk</title>\r\n",
       "<ellipse fill=\"none\" stroke=\"black\" cx=\"268.096\" cy=\"-234\" rx=\"53.0913\" ry=\"18\"/>\r\n",
       "<text text-anchor=\"middle\" x=\"268.096\" y=\"-230.3\" font-family=\"Times New Roman,serif\" font-size=\"14.00\">Travel&#45;Risk</text>\r\n",
       "</g>\r\n",
       "<!-- Travel&#45;Risk&#45;&gt;Tuberculosis -->\r\n",
       "<g id=\"edge6\" class=\"edge\"><title>Travel&#45;Risk&#45;&gt;Tuberculosis</title>\r\n",
       "<path fill=\"none\" stroke=\"black\" d=\"M268.096,-215.697C268.096,-207.983 268.096,-198.712 268.096,-190.112\"/>\r\n",
       "<polygon fill=\"black\" stroke=\"black\" points=\"271.596,-190.104 268.096,-180.104 264.596,-190.104 271.596,-190.104\"/>\r\n",
       "</g>\r\n",
       "<!-- Either&#45;&gt;Dyspnea -->\r\n",
       "<g id=\"edge8\" class=\"edge\"><title>Either&#45;&gt;Dyspnea</title>\r\n",
       "<path fill=\"none\" stroke=\"black\" d=\"M127.129,-75.1703C113.39,-65.152 94.567,-51.4269 78.967,-40.0519\"/>\r\n",
       "<polygon fill=\"black\" stroke=\"black\" points=\"80.8268,-37.0765 70.6846,-34.0127 76.7026,-42.7325 80.8268,-37.0765\"/>\r\n",
       "</g>\r\n",
       "<!-- X&#45;Ray -->\r\n",
       "<g id=\"node8\" class=\"node\"><title>X&#45;Ray</title>\r\n",
       "<ellipse fill=\"none\" stroke=\"black\" cx=\"146.096\" cy=\"-18\" rx=\"34.394\" ry=\"18\"/>\r\n",
       "<text text-anchor=\"middle\" x=\"146.096\" y=\"-14.3\" font-family=\"Times New Roman,serif\" font-size=\"14.00\">X&#45;Ray</text>\r\n",
       "</g>\r\n",
       "<!-- Either&#45;&gt;X&#45;Ray -->\r\n",
       "<g id=\"edge7\" class=\"edge\"><title>Either&#45;&gt;X&#45;Ray</title>\r\n",
       "<path fill=\"none\" stroke=\"black\" d=\"M146.096,-71.6966C146.096,-63.9827 146.096,-54.7125 146.096,-46.1124\"/>\r\n",
       "<polygon fill=\"black\" stroke=\"black\" points=\"149.596,-46.1043 146.096,-36.1043 142.596,-46.1044 149.596,-46.1043\"/>\r\n",
       "</g>\r\n",
       "</g>\r\n",
       "</svg>\r\n"
      ],
      "text/plain": [
       "<graphviz.files.Source at 0xe6c7b00>"
      ]
     },
     "execution_count": 13,
     "metadata": {},
     "output_type": "execute_result"
    }
   ],
   "source": [
    "print(\"================ 'Asia' network ================ \")\n",
    "Source(open(path_dot).read())"
   ]
  },
  {
   "cell_type": "markdown",
   "metadata": {},
   "source": [
    "### MB based learning\n",
    "#### QuantumFog"
   ]
  },
  {
   "cell_type": "code",
   "execution_count": 14,
   "metadata": {
    "collapsed": false
   },
   "outputs": [
    {
     "data": {
      "image/svg+xml": [
       "<?xml version=\"1.0\" encoding=\"UTF-8\" standalone=\"no\"?>\r\n",
       "<!DOCTYPE svg PUBLIC \"-//W3C//DTD SVG 1.1//EN\"\r\n",
       " \"http://www.w3.org/Graphics/SVG/1.1/DTD/svg11.dtd\">\r\n",
       "<!-- Generated by graphviz version 2.38.0 (20140413.2041)\r\n",
       " -->\r\n",
       "<!-- Pages: 1 -->\r\n",
       "<svg width=\"206pt\" height=\"188pt\"\r\n",
       " viewBox=\"0.00 0.00 206.00 188.00\" xmlns=\"http://www.w3.org/2000/svg\" xmlns:xlink=\"http://www.w3.org/1999/xlink\">\r\n",
       "<g id=\"graph0\" class=\"graph\" transform=\"scale(1 1) rotate(0) translate(4 184)\">\r\n",
       "<polygon fill=\"white\" stroke=\"none\" points=\"-4,4 -4,-184 202,-184 202,4 -4,4\"/>\r\n",
       "<!-- A -->\r\n",
       "<g id=\"node1\" class=\"node\"><title>A</title>\r\n",
       "<ellipse fill=\"none\" stroke=\"black\" cx=\"27\" cy=\"-162\" rx=\"27\" ry=\"18\"/>\r\n",
       "<text text-anchor=\"middle\" x=\"27\" y=\"-158.3\" font-family=\"Times New Roman,serif\" font-size=\"14.00\">A</text>\r\n",
       "</g>\r\n",
       "<!-- X -->\r\n",
       "<g id=\"node2\" class=\"node\"><title>X</title>\r\n",
       "<ellipse fill=\"none\" stroke=\"black\" cx=\"171\" cy=\"-18\" rx=\"27\" ry=\"18\"/>\r\n",
       "<text text-anchor=\"middle\" x=\"171\" y=\"-14.3\" font-family=\"Times New Roman,serif\" font-size=\"14.00\">X</text>\r\n",
       "</g>\r\n",
       "<!-- E -->\r\n",
       "<g id=\"node3\" class=\"node\"><title>E</title>\r\n",
       "<ellipse fill=\"none\" stroke=\"black\" cx=\"99\" cy=\"-18\" rx=\"27\" ry=\"18\"/>\r\n",
       "<text text-anchor=\"middle\" x=\"99\" y=\"-14.3\" font-family=\"Times New Roman,serif\" font-size=\"14.00\">E</text>\r\n",
       "</g>\r\n",
       "<!-- S -->\r\n",
       "<g id=\"node4\" class=\"node\"><title>S</title>\r\n",
       "<ellipse fill=\"none\" stroke=\"black\" cx=\"99\" cy=\"-162\" rx=\"27\" ry=\"18\"/>\r\n",
       "<text text-anchor=\"middle\" x=\"99\" y=\"-158.3\" font-family=\"Times New Roman,serif\" font-size=\"14.00\">S</text>\r\n",
       "</g>\r\n",
       "<!-- L -->\r\n",
       "<g id=\"node6\" class=\"node\"><title>L</title>\r\n",
       "<ellipse fill=\"none\" stroke=\"black\" cx=\"171\" cy=\"-90\" rx=\"27\" ry=\"18\"/>\r\n",
       "<text text-anchor=\"middle\" x=\"171\" y=\"-86.3\" font-family=\"Times New Roman,serif\" font-size=\"14.00\">L</text>\r\n",
       "</g>\r\n",
       "<!-- S&#45;&gt;L -->\r\n",
       "<g id=\"edge1\" class=\"edge\"><title>S&#45;&gt;L</title>\r\n",
       "<path fill=\"none\" stroke=\"black\" d=\"M113.57,-146.834C123.75,-136.938 137.524,-123.546 149.031,-112.359\"/>\r\n",
       "<polygon fill=\"black\" stroke=\"black\" points=\"151.474,-114.865 156.204,-105.385 146.595,-109.846 151.474,-114.865\"/>\r\n",
       "</g>\r\n",
       "<!-- B -->\r\n",
       "<g id=\"node8\" class=\"node\"><title>B</title>\r\n",
       "<ellipse fill=\"none\" stroke=\"black\" cx=\"27\" cy=\"-90\" rx=\"27\" ry=\"18\"/>\r\n",
       "<text text-anchor=\"middle\" x=\"27\" y=\"-86.3\" font-family=\"Times New Roman,serif\" font-size=\"14.00\">B</text>\r\n",
       "</g>\r\n",
       "<!-- S&#45;&gt;B -->\r\n",
       "<g id=\"edge2\" class=\"edge\"><title>S&#45;&gt;B</title>\r\n",
       "<path fill=\"none\" stroke=\"black\" d=\"M84.4297,-146.834C74.2501,-136.938 60.4761,-123.546 48.9694,-112.359\"/>\r\n",
       "<polygon fill=\"black\" stroke=\"black\" points=\"51.4055,-109.846 41.7957,-105.385 46.5259,-114.865 51.4055,-109.846\"/>\r\n",
       "</g>\r\n",
       "<!-- T -->\r\n",
       "<g id=\"node5\" class=\"node\"><title>T</title>\r\n",
       "<ellipse fill=\"none\" stroke=\"black\" cx=\"99\" cy=\"-90\" rx=\"27\" ry=\"18\"/>\r\n",
       "<text text-anchor=\"middle\" x=\"99\" y=\"-86.3\" font-family=\"Times New Roman,serif\" font-size=\"14.00\">T</text>\r\n",
       "</g>\r\n",
       "<!-- T&#45;&gt;X -->\r\n",
       "<g id=\"edge3\" class=\"edge\"><title>T&#45;&gt;X</title>\r\n",
       "<path fill=\"none\" stroke=\"black\" d=\"M113.57,-74.8345C123.75,-64.9376 137.524,-51.5462 149.031,-40.3591\"/>\r\n",
       "<polygon fill=\"black\" stroke=\"black\" points=\"151.474,-42.865 156.204,-33.3847 146.595,-37.8461 151.474,-42.865\"/>\r\n",
       "</g>\r\n",
       "<!-- T&#45;&gt;E -->\r\n",
       "<g id=\"edge4\" class=\"edge\"><title>T&#45;&gt;E</title>\r\n",
       "<path fill=\"none\" stroke=\"black\" d=\"M99,-71.6966C99,-63.9827 99,-54.7125 99,-46.1124\"/>\r\n",
       "<polygon fill=\"black\" stroke=\"black\" points=\"102.5,-46.1043 99,-36.1043 95.5001,-46.1044 102.5,-46.1043\"/>\r\n",
       "</g>\r\n",
       "<!-- L&#45;&gt;X -->\r\n",
       "<g id=\"edge5\" class=\"edge\"><title>L&#45;&gt;X</title>\r\n",
       "<path fill=\"none\" stroke=\"black\" d=\"M171,-71.6966C171,-63.9827 171,-54.7125 171,-46.1124\"/>\r\n",
       "<polygon fill=\"black\" stroke=\"black\" points=\"174.5,-46.1043 171,-36.1043 167.5,-46.1044 174.5,-46.1043\"/>\r\n",
       "</g>\r\n",
       "<!-- L&#45;&gt;E -->\r\n",
       "<g id=\"edge6\" class=\"edge\"><title>L&#45;&gt;E</title>\r\n",
       "<path fill=\"none\" stroke=\"black\" d=\"M156.43,-74.8345C146.25,-64.9376 132.476,-51.5462 120.969,-40.3591\"/>\r\n",
       "<polygon fill=\"black\" stroke=\"black\" points=\"123.405,-37.8461 113.796,-33.3847 118.526,-42.865 123.405,-37.8461\"/>\r\n",
       "</g>\r\n",
       "<!-- D -->\r\n",
       "<g id=\"node7\" class=\"node\"><title>D</title>\r\n",
       "<ellipse fill=\"none\" stroke=\"black\" cx=\"27\" cy=\"-18\" rx=\"27\" ry=\"18\"/>\r\n",
       "<text text-anchor=\"middle\" x=\"27\" y=\"-14.3\" font-family=\"Times New Roman,serif\" font-size=\"14.00\">D</text>\r\n",
       "</g>\r\n",
       "<!-- B&#45;&gt;D -->\r\n",
       "<g id=\"edge7\" class=\"edge\"><title>B&#45;&gt;D</title>\r\n",
       "<path fill=\"none\" stroke=\"black\" d=\"M27,-71.6966C27,-63.9827 27,-54.7125 27,-46.1124\"/>\r\n",
       "<polygon fill=\"black\" stroke=\"black\" points=\"30.5001,-46.1043 27,-36.1043 23.5001,-46.1044 30.5001,-46.1043\"/>\r\n",
       "</g>\r\n",
       "</g>\r\n",
       "</svg>\r\n"
      ],
      "text/plain": [
       "<graphviz.files.Source at 0xe6e71d0>"
      ]
     },
     "execution_count": 14,
     "metadata": {},
     "output_type": "execute_result"
    }
   ],
   "source": [
    "alpha = 8 / len(states_df.index)\n",
    "lnr_gs = MB_GrowShrinkLner(states_df, alpha, verbose=False)\n",
    "lnr_iamb = MB_IAMB_Lner(states_df, alpha, verbose=False)\n",
    "lnr_gs.bnet.write_dot(test_dot) # write BNet to .dot file\n",
    "Source(open(test_dot).read())"
   ]
  },
  {
   "cell_type": "code",
   "execution_count": 15,
   "metadata": {
    "collapsed": false,
    "scrolled": false
   },
   "outputs": [
    {
     "data": {
      "image/svg+xml": [
       "<?xml version=\"1.0\" encoding=\"UTF-8\" standalone=\"no\"?>\r\n",
       "<!DOCTYPE svg PUBLIC \"-//W3C//DTD SVG 1.1//EN\"\r\n",
       " \"http://www.w3.org/Graphics/SVG/1.1/DTD/svg11.dtd\">\r\n",
       "<!-- Generated by graphviz version 2.38.0 (20140413.2041)\r\n",
       " -->\r\n",
       "<!-- Pages: 1 -->\r\n",
       "<svg width=\"197pt\" height=\"260pt\"\r\n",
       " viewBox=\"0.00 0.00 197.00 260.00\" xmlns=\"http://www.w3.org/2000/svg\" xmlns:xlink=\"http://www.w3.org/1999/xlink\">\r\n",
       "<g id=\"graph0\" class=\"graph\" transform=\"scale(1 1) rotate(0) translate(4 256)\">\r\n",
       "<polygon fill=\"white\" stroke=\"none\" points=\"-4,4 -4,-256 193,-256 193,4 -4,4\"/>\r\n",
       "<!-- S -->\r\n",
       "<g id=\"node1\" class=\"node\"><title>S</title>\r\n",
       "<ellipse fill=\"none\" stroke=\"black\" cx=\"90\" cy=\"-234\" rx=\"27\" ry=\"18\"/>\r\n",
       "<text text-anchor=\"middle\" x=\"90\" y=\"-230.3\" font-family=\"Times New Roman,serif\" font-size=\"14.00\">S</text>\r\n",
       "</g>\r\n",
       "<!-- L -->\r\n",
       "<g id=\"node6\" class=\"node\"><title>L</title>\r\n",
       "<ellipse fill=\"none\" stroke=\"black\" cx=\"27\" cy=\"-162\" rx=\"27\" ry=\"18\"/>\r\n",
       "<text text-anchor=\"middle\" x=\"27\" y=\"-158.3\" font-family=\"Times New Roman,serif\" font-size=\"14.00\">L</text>\r\n",
       "</g>\r\n",
       "<!-- S&#45;&gt;L -->\r\n",
       "<g id=\"edge1\" class=\"edge\"><title>S&#45;&gt;L</title>\r\n",
       "<path fill=\"none\" stroke=\"black\" d=\"M76.6393,-218.155C68.1197,-208.689 56.9146,-196.238 47.3065,-185.563\"/>\r\n",
       "<polygon fill=\"black\" stroke=\"black\" points=\"49.6326,-182.915 40.3414,-177.824 44.4296,-187.598 49.6326,-182.915\"/>\r\n",
       "</g>\r\n",
       "<!-- B -->\r\n",
       "<g id=\"node8\" class=\"node\"><title>B</title>\r\n",
       "<ellipse fill=\"none\" stroke=\"black\" cx=\"154\" cy=\"-90\" rx=\"27\" ry=\"18\"/>\r\n",
       "<text text-anchor=\"middle\" x=\"154\" y=\"-86.3\" font-family=\"Times New Roman,serif\" font-size=\"14.00\">B</text>\r\n",
       "</g>\r\n",
       "<!-- S&#45;&gt;B -->\r\n",
       "<g id=\"edge2\" class=\"edge\"><title>S&#45;&gt;B</title>\r\n",
       "<path fill=\"none\" stroke=\"black\" d=\"M105.617,-218.691C115.507,-208.768 127.754,-194.73 135,-180 144.56,-160.564 149.33,-136.421 151.698,-118.186\"/>\r\n",
       "<polygon fill=\"black\" stroke=\"black\" points=\"155.18,-118.545 152.833,-108.213 148.225,-117.753 155.18,-118.545\"/>\r\n",
       "</g>\r\n",
       "<!-- X -->\r\n",
       "<g id=\"node2\" class=\"node\"><title>X</title>\r\n",
       "<ellipse fill=\"none\" stroke=\"black\" cx=\"82\" cy=\"-18\" rx=\"27\" ry=\"18\"/>\r\n",
       "<text text-anchor=\"middle\" x=\"82\" y=\"-14.3\" font-family=\"Times New Roman,serif\" font-size=\"14.00\">X</text>\r\n",
       "</g>\r\n",
       "<!-- E -->\r\n",
       "<g id=\"node3\" class=\"node\"><title>E</title>\r\n",
       "<ellipse fill=\"none\" stroke=\"black\" cx=\"82\" cy=\"-90\" rx=\"27\" ry=\"18\"/>\r\n",
       "<text text-anchor=\"middle\" x=\"82\" y=\"-86.3\" font-family=\"Times New Roman,serif\" font-size=\"14.00\">E</text>\r\n",
       "</g>\r\n",
       "<!-- E&#45;&gt;X -->\r\n",
       "<g id=\"edge3\" class=\"edge\"><title>E&#45;&gt;X</title>\r\n",
       "<path fill=\"none\" stroke=\"black\" d=\"M82,-71.6966C82,-63.9827 82,-54.7125 82,-46.1124\"/>\r\n",
       "<polygon fill=\"black\" stroke=\"black\" points=\"85.5001,-46.1043 82,-36.1043 78.5001,-46.1044 85.5001,-46.1043\"/>\r\n",
       "</g>\r\n",
       "<!-- D -->\r\n",
       "<g id=\"node7\" class=\"node\"><title>D</title>\r\n",
       "<ellipse fill=\"none\" stroke=\"black\" cx=\"154\" cy=\"-18\" rx=\"27\" ry=\"18\"/>\r\n",
       "<text text-anchor=\"middle\" x=\"154\" y=\"-14.3\" font-family=\"Times New Roman,serif\" font-size=\"14.00\">D</text>\r\n",
       "</g>\r\n",
       "<!-- E&#45;&gt;D -->\r\n",
       "<g id=\"edge4\" class=\"edge\"><title>E&#45;&gt;D</title>\r\n",
       "<path fill=\"none\" stroke=\"black\" d=\"M96.5703,-74.8345C106.75,-64.9376 120.524,-51.5462 132.031,-40.3591\"/>\r\n",
       "<polygon fill=\"black\" stroke=\"black\" points=\"134.474,-42.865 139.204,-33.3847 129.595,-37.8461 134.474,-42.865\"/>\r\n",
       "</g>\r\n",
       "<!-- A -->\r\n",
       "<g id=\"node4\" class=\"node\"><title>A</title>\r\n",
       "<ellipse fill=\"none\" stroke=\"black\" cx=\"162\" cy=\"-234\" rx=\"27\" ry=\"18\"/>\r\n",
       "<text text-anchor=\"middle\" x=\"162\" y=\"-230.3\" font-family=\"Times New Roman,serif\" font-size=\"14.00\">A</text>\r\n",
       "</g>\r\n",
       "<!-- T -->\r\n",
       "<g id=\"node5\" class=\"node\"><title>T</title>\r\n",
       "<ellipse fill=\"none\" stroke=\"black\" cx=\"99\" cy=\"-162\" rx=\"27\" ry=\"18\"/>\r\n",
       "<text text-anchor=\"middle\" x=\"99\" y=\"-158.3\" font-family=\"Times New Roman,serif\" font-size=\"14.00\">T</text>\r\n",
       "</g>\r\n",
       "<!-- T&#45;&gt;E -->\r\n",
       "<g id=\"edge5\" class=\"edge\"><title>T&#45;&gt;E</title>\r\n",
       "<path fill=\"none\" stroke=\"black\" d=\"M94.8848,-144.055C92.9919,-136.261 90.6996,-126.822 88.5763,-118.079\"/>\r\n",
       "<polygon fill=\"black\" stroke=\"black\" points=\"91.9566,-117.167 86.1954,-108.275 85.1543,-118.819 91.9566,-117.167\"/>\r\n",
       "</g>\r\n",
       "<!-- L&#45;&gt;E -->\r\n",
       "<g id=\"edge6\" class=\"edge\"><title>L&#45;&gt;E</title>\r\n",
       "<path fill=\"none\" stroke=\"black\" d=\"M38.9342,-145.811C46.2136,-136.546 55.6626,-124.52 63.8544,-114.094\"/>\r\n",
       "<polygon fill=\"black\" stroke=\"black\" points=\"66.663,-116.185 70.0891,-106.159 61.1587,-111.86 66.663,-116.185\"/>\r\n",
       "</g>\r\n",
       "<!-- B&#45;&gt;D -->\r\n",
       "<g id=\"edge7\" class=\"edge\"><title>B&#45;&gt;D</title>\r\n",
       "<path fill=\"none\" stroke=\"black\" d=\"M154,-71.6966C154,-63.9827 154,-54.7125 154,-46.1124\"/>\r\n",
       "<polygon fill=\"black\" stroke=\"black\" points=\"157.5,-46.1043 154,-36.1043 150.5,-46.1044 157.5,-46.1043\"/>\r\n",
       "</g>\r\n",
       "</g>\r\n",
       "</svg>\r\n"
      ],
      "text/plain": [
       "<graphviz.files.Source at 0xe6f4f98>"
      ]
     },
     "execution_count": 15,
     "metadata": {},
     "output_type": "execute_result"
    }
   ],
   "source": [
    "lnr_iamb.bnet.write_dot(test_dot) # write BNet to .dot file\n",
    "Source(open(test_dot).read())"
   ]
  },
  {
   "cell_type": "markdown",
   "metadata": {},
   "source": [
    "Unfortunately, none method above learn the structure correctly;\n",
    "\n",
    "Also, the results are sensitive to \"alpha\""
   ]
  },
  {
   "cell_type": "markdown",
   "metadata": {},
   "source": [
    "#### bnlearn"
   ]
  },
  {
   "cell_type": "code",
   "execution_count": 16,
   "metadata": {
    "collapsed": false,
    "scrolled": false
   },
   "outputs": [
    {
     "data": {
      "image/png": "[encoded data removed]"
     },
     "metadata": {},
     "output_type": "display_data"
    }
   ],
   "source": [
    "%%R\n",
    "bn.gs <- gs(states_df);\n",
    "bn.iamb <- iamb(states_df);\n",
    "par(mfrow = c(1,2))\n",
    "graphviz.plot(bn.gs, shape = \"ellipse\", main = \"Grow-Shrink (GS)\")\n",
    "graphviz.plot(bn.iamb, shape = \"ellipse\", main = \"Incremental Association Markov Blanket(IMAB\")"
   ]
  },
  {
   "cell_type": "markdown",
   "metadata": {},
   "source": [
    "#### Compare run time"
   ]
  },
  {
   "cell_type": "code",
   "execution_count": 17,
   "metadata": {
    "collapsed": false
   },
   "outputs": [
    {
     "name": "stdout",
     "output_type": "stream",
     "text": [
      "GrowShrinkLner:\n",
      "QuantumFog:\n",
      "Wall time: 2.88 s\n",
      "bnlearn:\n",
      "Wall time: 24 ms\n",
      "\t\n",
      "IAMB_Lner:\n",
      "QuantumFog:\n",
      "Wall time: 2.55 s\n",
      "bnlearn:\n",
      "Wall time: 18 ms\n"
     ]
    }
   ],
   "source": [
    "print('GrowShrinkLner:')\n",
    "print('QuantumFog:')\n",
    "%time lnr_gs = MB_GrowShrinkLner(states_df, alpha, verbose=False)\n",
    "print('bnlearn:')\n",
    "%time %R bn.gs <- gs(states_df, alpha = alpha);\n",
    "\n",
    "print('\\t')\n",
    "print('IAMB_Lner:')\n",
    "print('QuantumFog:')\n",
    "%time lnr_iamb = MB_IAMB_Lner(states_df, alpha, verbose=False)\n",
    "print('bnlearn:')\n",
    "%time %R bn.iamb <- iamb(states_df,alpha = alpha);"
   ]
  },
  {
   "cell_type": "markdown",
   "metadata": {},
   "source": [
    "### Score based learning"
   ]
  },
  {
   "cell_type": "markdown",
   "metadata": {},
   "source": [
    "#### QuantumFog"
   ]
  },
  {
   "cell_type": "code",
   "execution_count": 18,
   "metadata": {
    "collapsed": false
   },
   "outputs": [
    {
     "name": "stdout",
     "output_type": "stream",
     "text": [
      "The Hill_Climbing method in QuantumFog takes time as:\n",
      "Wall time: 12.5 s\n",
      "\n",
      " score_type: BIC\n"
     ]
    },
    {
     "data": {
      "image/svg+xml": [
       "<?xml version=\"1.0\" encoding=\"UTF-8\" standalone=\"no\"?>\r\n",
       "<!DOCTYPE svg PUBLIC \"-//W3C//DTD SVG 1.1//EN\"\r\n",
       " \"http://www.w3.org/Graphics/SVG/1.1/DTD/svg11.dtd\">\r\n",
       "<!-- Generated by graphviz version 2.38.0 (20140413.2041)\r\n",
       " -->\r\n",
       "<!-- Pages: 1 -->\r\n",
       "<svg width=\"209pt\" height=\"332pt\"\r\n",
       " viewBox=\"0.00 0.00 209.00 332.00\" xmlns=\"http://www.w3.org/2000/svg\" xmlns:xlink=\"http://www.w3.org/1999/xlink\">\r\n",
       "<g id=\"graph0\" class=\"graph\" transform=\"scale(1 1) rotate(0) translate(4 328)\">\r\n",
       "<polygon fill=\"white\" stroke=\"none\" points=\"-4,4 -4,-328 205,-328 205,4 -4,4\"/>\r\n",
       "<!-- A -->\r\n",
       "<g id=\"node1\" class=\"node\"><title>A</title>\r\n",
       "<ellipse fill=\"none\" stroke=\"black\" cx=\"27\" cy=\"-306\" rx=\"27\" ry=\"18\"/>\r\n",
       "<text text-anchor=\"middle\" x=\"27\" y=\"-302.3\" font-family=\"Times New Roman,serif\" font-size=\"14.00\">A</text>\r\n",
       "</g>\r\n",
       "<!-- X -->\r\n",
       "<g id=\"node2\" class=\"node\"><title>X</title>\r\n",
       "<ellipse fill=\"none\" stroke=\"black\" cx=\"75\" cy=\"-18\" rx=\"27\" ry=\"18\"/>\r\n",
       "<text text-anchor=\"middle\" x=\"75\" y=\"-14.3\" font-family=\"Times New Roman,serif\" font-size=\"14.00\">X</text>\r\n",
       "</g>\r\n",
       "<!-- B -->\r\n",
       "<g id=\"node3\" class=\"node\"><title>B</title>\r\n",
       "<ellipse fill=\"none\" stroke=\"black\" cx=\"154\" cy=\"-234\" rx=\"27\" ry=\"18\"/>\r\n",
       "<text text-anchor=\"middle\" x=\"154\" y=\"-230.3\" font-family=\"Times New Roman,serif\" font-size=\"14.00\">B</text>\r\n",
       "</g>\r\n",
       "<!-- S -->\r\n",
       "<g id=\"node4\" class=\"node\"><title>S</title>\r\n",
       "<ellipse fill=\"none\" stroke=\"black\" cx=\"174\" cy=\"-90\" rx=\"27\" ry=\"18\"/>\r\n",
       "<text text-anchor=\"middle\" x=\"174\" y=\"-86.3\" font-family=\"Times New Roman,serif\" font-size=\"14.00\">S</text>\r\n",
       "</g>\r\n",
       "<!-- B&#45;&gt;S -->\r\n",
       "<g id=\"edge3\" class=\"edge\"><title>B&#45;&gt;S</title>\r\n",
       "<path fill=\"none\" stroke=\"black\" d=\"M159.832,-216.032C163.11,-205.737 166.946,-192.261 169,-180 172.43,-159.524 173.638,-136.067 174.011,-118.376\"/>\r\n",
       "<polygon fill=\"black\" stroke=\"black\" points=\"177.513,-118.231 174.148,-108.185 170.514,-118.137 177.513,-118.231\"/>\r\n",
       "</g>\r\n",
       "<!-- T -->\r\n",
       "<g id=\"node5\" class=\"node\"><title>T</title>\r\n",
       "<ellipse fill=\"none\" stroke=\"black\" cx=\"61\" cy=\"-162\" rx=\"27\" ry=\"18\"/>\r\n",
       "<text text-anchor=\"middle\" x=\"61\" y=\"-158.3\" font-family=\"Times New Roman,serif\" font-size=\"14.00\">T</text>\r\n",
       "</g>\r\n",
       "<!-- B&#45;&gt;T -->\r\n",
       "<g id=\"edge1\" class=\"edge\"><title>B&#45;&gt;T</title>\r\n",
       "<path fill=\"none\" stroke=\"black\" d=\"M136.507,-219.834C122.478,-209.274 102.584,-194.3 86.7382,-182.373\"/>\r\n",
       "<polygon fill=\"black\" stroke=\"black\" points=\"88.5087,-179.325 78.4142,-176.107 84.299,-184.918 88.5087,-179.325\"/>\r\n",
       "</g>\r\n",
       "<!-- L -->\r\n",
       "<g id=\"node6\" class=\"node\"><title>L</title>\r\n",
       "<ellipse fill=\"none\" stroke=\"black\" cx=\"133\" cy=\"-162\" rx=\"27\" ry=\"18\"/>\r\n",
       "<text text-anchor=\"middle\" x=\"133\" y=\"-158.3\" font-family=\"Times New Roman,serif\" font-size=\"14.00\">L</text>\r\n",
       "</g>\r\n",
       "<!-- B&#45;&gt;L -->\r\n",
       "<g id=\"edge2\" class=\"edge\"><title>B&#45;&gt;L</title>\r\n",
       "<path fill=\"none\" stroke=\"black\" d=\"M148.916,-216.055C146.518,-208.059 143.599,-198.331 140.92,-189.4\"/>\r\n",
       "<polygon fill=\"black\" stroke=\"black\" points=\"144.263,-188.362 138.037,-179.789 137.558,-190.373 144.263,-188.362\"/>\r\n",
       "</g>\r\n",
       "<!-- E -->\r\n",
       "<g id=\"node8\" class=\"node\"><title>E</title>\r\n",
       "<ellipse fill=\"none\" stroke=\"black\" cx=\"75\" cy=\"-90\" rx=\"27\" ry=\"18\"/>\r\n",
       "<text text-anchor=\"middle\" x=\"75\" y=\"-86.3\" font-family=\"Times New Roman,serif\" font-size=\"14.00\">E</text>\r\n",
       "</g>\r\n",
       "<!-- T&#45;&gt;E -->\r\n",
       "<g id=\"edge4\" class=\"edge\"><title>T&#45;&gt;E</title>\r\n",
       "<path fill=\"none\" stroke=\"black\" d=\"M64.389,-144.055C65.9309,-136.346 67.7946,-127.027 69.5272,-118.364\"/>\r\n",
       "<polygon fill=\"black\" stroke=\"black\" points=\"73.0157,-118.768 71.5449,-108.275 66.1517,-117.395 73.0157,-118.768\"/>\r\n",
       "</g>\r\n",
       "<!-- L&#45;&gt;S -->\r\n",
       "<g id=\"edge5\" class=\"edge\"><title>L&#45;&gt;S</title>\r\n",
       "<path fill=\"none\" stroke=\"black\" d=\"M142.509,-144.765C147.529,-136.195 153.796,-125.494 159.415,-115.9\"/>\r\n",
       "<polygon fill=\"black\" stroke=\"black\" points=\"162.508,-117.545 164.542,-107.147 156.468,-114.007 162.508,-117.545\"/>\r\n",
       "</g>\r\n",
       "<!-- L&#45;&gt;E -->\r\n",
       "<g id=\"edge6\" class=\"edge\"><title>L&#45;&gt;E</title>\r\n",
       "<path fill=\"none\" stroke=\"black\" d=\"M120.415,-145.811C112.738,-136.546 102.774,-124.52 94.1353,-114.094\"/>\r\n",
       "<polygon fill=\"black\" stroke=\"black\" points=\"96.6359,-111.626 87.5606,-106.159 91.2457,-116.093 96.6359,-111.626\"/>\r\n",
       "</g>\r\n",
       "<!-- D -->\r\n",
       "<g id=\"node7\" class=\"node\"><title>D</title>\r\n",
       "<ellipse fill=\"none\" stroke=\"black\" cx=\"99\" cy=\"-306\" rx=\"27\" ry=\"18\"/>\r\n",
       "<text text-anchor=\"middle\" x=\"99\" y=\"-302.3\" font-family=\"Times New Roman,serif\" font-size=\"14.00\">D</text>\r\n",
       "</g>\r\n",
       "<!-- D&#45;&gt;B -->\r\n",
       "<g id=\"edge9\" class=\"edge\"><title>D&#45;&gt;B</title>\r\n",
       "<path fill=\"none\" stroke=\"black\" d=\"M110.934,-289.811C118.214,-280.546 127.663,-268.52 135.854,-258.094\"/>\r\n",
       "<polygon fill=\"black\" stroke=\"black\" points=\"138.663,-260.185 142.089,-250.159 133.159,-255.86 138.663,-260.185\"/>\r\n",
       "</g>\r\n",
       "<!-- D&#45;&gt;T -->\r\n",
       "<g id=\"edge7\" class=\"edge\"><title>D&#45;&gt;T</title>\r\n",
       "<path fill=\"none\" stroke=\"black\" d=\"M94.4917,-288.153C87.9781,-263.813 75.8703,-218.568 68.1357,-189.665\"/>\r\n",
       "<polygon fill=\"black\" stroke=\"black\" points=\"71.4687,-188.58 65.5025,-179.825 64.7066,-190.39 71.4687,-188.58\"/>\r\n",
       "</g>\r\n",
       "<!-- D&#45;&gt;L -->\r\n",
       "<g id=\"edge8\" class=\"edge\"><title>D&#45;&gt;L</title>\r\n",
       "<path fill=\"none\" stroke=\"black\" d=\"M102.312,-287.862C105.867,-269.884 111.84,-240.843 118,-216 120.127,-207.422 122.673,-198.129 125.059,-189.757\"/>\r\n",
       "<polygon fill=\"black\" stroke=\"black\" points=\"128.433,-190.689 127.85,-180.11 121.709,-188.743 128.433,-190.689\"/>\r\n",
       "</g>\r\n",
       "<!-- E&#45;&gt;X -->\r\n",
       "<g id=\"edge10\" class=\"edge\"><title>E&#45;&gt;X</title>\r\n",
       "<path fill=\"none\" stroke=\"black\" d=\"M75,-71.6966C75,-63.9827 75,-54.7125 75,-46.1124\"/>\r\n",
       "<polygon fill=\"black\" stroke=\"black\" points=\"78.5001,-46.1043 75,-36.1043 71.5001,-46.1044 78.5001,-46.1043\"/>\r\n",
       "</g>\r\n",
       "</g>\r\n",
       "</svg>\r\n"
      ],
      "text/plain": [
       "<graphviz.files.Source at 0xed2d080>"
      ]
     },
     "execution_count": 18,
     "metadata": {},
     "output_type": "execute_result"
    }
   ],
   "source": [
    "score_type = 'BIC'\n",
    "max_num_mtries = 30\n",
    "ess = 1.0 \n",
    "print(\"The Hill_Climbing method in QuantumFog takes time as:\")\n",
    "%time lnr_hc = HillClimbingLner(states_df, score_type, max_num_mtries, ess)\n",
    "lnr_hc.bnet.write_dot(test_dot) # write BNet to .dot file\n",
    "print('\\n score_type:', score_type)\n",
    "Source(open(test_dot).read())"
   ]
  },
  {
   "cell_type": "markdown",
   "metadata": {},
   "source": [
    "#### bnlearn"
   ]
  },
  {
   "cell_type": "markdown",
   "metadata": {},
   "source": [
    "The default score is the **BIC** (Bayesian Information Criterion) for both discrete and continuous data sets"
   ]
  },
  {
   "cell_type": "code",
   "execution_count": 19,
   "metadata": {
    "collapsed": false
   },
   "outputs": [
    {
     "data": {
      "image/png": "[encoded data removed]"
     },
     "metadata": {},
     "output_type": "display_data"
    }
   ],
   "source": [
    "%%R\n",
    "bn.hc <- hc(states_df);\n",
    "graphviz.plot(bn.hc, shape = \"ellipse\", main = \"Hill-Climbing\")"
   ]
  },
  {
   "cell_type": "code",
   "execution_count": 20,
   "metadata": {
    "collapsed": false,
    "scrolled": false
   },
   "outputs": [
    {
     "name": "stdout",
     "output_type": "stream",
     "text": [
      "The Hill_Climbing method in bnlearn takes time as:\n",
      "Wall time: 18 ms\n"
     ]
    }
   ],
   "source": [
    "print(\"The Hill_Climbing method in bnlearn takes time as:\")\n",
    "%time %R bn.hc <- hc(states_df);"
   ]
  },
  {
   "cell_type": "markdown",
   "metadata": {},
   "source": [
    "## Example: Marks "
   ]
  },
  {
   "cell_type": "markdown",
   "metadata": {},
   "source": [
    "** Examination marks** of 88 students on five different topics, from Mardia (1979).\n",
    "\n",
    "The marks data set contains the following variables, one for each topic in the examination:\n",
    "\n",
    "MECH (mechanics)\n",
    "\n",
    "VECT (vectors)\n",
    "\n",
    "ALG (algebra)\n",
    "\n",
    "ANL (analysis)\n",
    "\n",
    "STAT (statistics)\n",
    "\n",
    "All are measured on the same scale **(0-100)**."
   ]
  },
  {
   "cell_type": "code",
   "execution_count": 21,
   "metadata": {
    "collapsed": false
   },
   "outputs": [
    {
     "name": "stdout",
     "output_type": "stream",
     "text": [
      "MECH\n",
      "VECT\n",
      "ALG\n",
      "ANL\n",
      "STAT\n",
      "\n",
      " [\"'data.frame':\\t88 obs. of  5 variables:\"\n",
      " ' $ MECH: num  77 63 75 55 63 53 51 59 62 64 ...'\n",
      " ' $ VECT: num  82 78 73 72 63 61 67 70 60 72 ...'\n",
      " ' $ ALG : num  67 80 71 63 65 72 65 68 58 60 ...'\n",
      " ' $ ANL : num  67 70 66 70 70 64 65 62 62 62 ...'\n",
      " ' $ STAT: num  81 81 81 68 63 73 68 56 70 45 ...']\n"
     ]
    }
   ],
   "source": [
    "test_csv = 'test.csv'\n",
    "test_dot = 'test.dot'\n",
    "\n",
    "states_df = %R marks\n",
    "%R states_df = marks\n",
    "for item in states_df.columns.values:\n",
    "    print(item)\n",
    "\n",
    "out = %R capture.output(str(states_df))\n",
    "print('\\n', out)"
   ]
  },
  {
   "cell_type": "markdown",
   "metadata": {},
   "source": [
    "We notice that the data set is numerical rather than factor, which is continuous (multivariate normal) data set"
   ]
  },
  {
   "cell_type": "markdown",
   "metadata": {},
   "source": [
    "### MB based learning\n",
    "#### QuantumFog"
   ]
  },
  {
   "cell_type": "code",
   "execution_count": 22,
   "metadata": {
    "collapsed": false
   },
   "outputs": [
    {
     "data": {
      "image/svg+xml": [
       "<?xml version=\"1.0\" encoding=\"UTF-8\" standalone=\"no\"?>\r\n",
       "<!DOCTYPE svg PUBLIC \"-//W3C//DTD SVG 1.1//EN\"\r\n",
       " \"http://www.w3.org/Graphics/SVG/1.1/DTD/svg11.dtd\">\r\n",
       "<!-- Generated by graphviz version 2.38.0 (20140413.2041)\r\n",
       " -->\r\n",
       "<!-- Pages: 1 -->\r\n",
       "<svg width=\"232pt\" height=\"188pt\"\r\n",
       " viewBox=\"0.00 0.00 232.04 188.00\" xmlns=\"http://www.w3.org/2000/svg\" xmlns:xlink=\"http://www.w3.org/1999/xlink\">\r\n",
       "<g id=\"graph0\" class=\"graph\" transform=\"scale(1 1) rotate(0) translate(4 184)\">\r\n",
       "<polygon fill=\"white\" stroke=\"none\" points=\"-4,4 -4,-184 228.044,-184 228.044,4 -4,4\"/>\r\n",
       "<!-- ANL -->\r\n",
       "<g id=\"node1\" class=\"node\"><title>ANL</title>\r\n",
       "<ellipse fill=\"none\" stroke=\"black\" cx=\"28.5975\" cy=\"-18\" rx=\"28.6953\" ry=\"18\"/>\r\n",
       "<text text-anchor=\"middle\" x=\"28.5975\" y=\"-14.3\" font-family=\"Times New Roman,serif\" font-size=\"14.00\">ANL</text>\r\n",
       "</g>\r\n",
       "<!-- ALG -->\r\n",
       "<g id=\"node2\" class=\"node\"><title>ALG</title>\r\n",
       "<ellipse fill=\"none\" stroke=\"black\" cx=\"105.597\" cy=\"-18\" rx=\"29.4969\" ry=\"18\"/>\r\n",
       "<text text-anchor=\"middle\" x=\"105.597\" y=\"-14.3\" font-family=\"Times New Roman,serif\" font-size=\"14.00\">ALG</text>\r\n",
       "</g>\r\n",
       "<!-- VECT -->\r\n",
       "<g id=\"node3\" class=\"node\"><title>VECT</title>\r\n",
       "<ellipse fill=\"none\" stroke=\"black\" cx=\"90.5975\" cy=\"-90\" rx=\"34.394\" ry=\"18\"/>\r\n",
       "<text text-anchor=\"middle\" x=\"90.5975\" y=\"-86.3\" font-family=\"Times New Roman,serif\" font-size=\"14.00\">VECT</text>\r\n",
       "</g>\r\n",
       "<!-- VECT&#45;&gt;ANL -->\r\n",
       "<g id=\"edge1\" class=\"edge\"><title>VECT&#45;&gt;ANL</title>\r\n",
       "<path fill=\"none\" stroke=\"black\" d=\"M76.8377,-73.4647C68.5365,-64.0924 57.817,-51.9898 48.5918,-41.5742\"/>\r\n",
       "<polygon fill=\"black\" stroke=\"black\" points=\"51.1437,-39.1767 41.8933,-34.0114 45.9036,-43.8179 51.1437,-39.1767\"/>\r\n",
       "</g>\r\n",
       "<!-- VECT&#45;&gt;ALG -->\r\n",
       "<g id=\"edge2\" class=\"edge\"><title>VECT&#45;&gt;ALG</title>\r\n",
       "<path fill=\"none\" stroke=\"black\" d=\"M94.2285,-72.055C95.8987,-64.2609 97.9213,-54.8219 99.7948,-46.0789\"/>\r\n",
       "<polygon fill=\"black\" stroke=\"black\" points=\"103.223,-46.7867 101.896,-36.2753 96.3779,-45.3199 103.223,-46.7867\"/>\r\n",
       "</g>\r\n",
       "<!-- STAT -->\r\n",
       "<g id=\"node5\" class=\"node\"><title>STAT</title>\r\n",
       "<ellipse fill=\"none\" stroke=\"black\" cx=\"189.597\" cy=\"-18\" rx=\"34.394\" ry=\"18\"/>\r\n",
       "<text text-anchor=\"middle\" x=\"189.597\" y=\"-14.3\" font-family=\"Times New Roman,serif\" font-size=\"14.00\">STAT</text>\r\n",
       "</g>\r\n",
       "<!-- VECT&#45;&gt;STAT -->\r\n",
       "<g id=\"edge3\" class=\"edge\"><title>VECT&#45;&gt;STAT</title>\r\n",
       "<path fill=\"none\" stroke=\"black\" d=\"M110.157,-75.1703C124.84,-64.7878 145.155,-50.4241 161.565,-38.821\"/>\r\n",
       "<polygon fill=\"black\" stroke=\"black\" points=\"163.596,-41.6718 169.74,-33.0406 159.554,-35.9562 163.596,-41.6718\"/>\r\n",
       "</g>\r\n",
       "<!-- MECH -->\r\n",
       "<g id=\"node4\" class=\"node\"><title>MECH</title>\r\n",
       "<ellipse fill=\"none\" stroke=\"black\" cx=\"121.597\" cy=\"-162\" rx=\"36.2938\" ry=\"18\"/>\r\n",
       "<text text-anchor=\"middle\" x=\"121.597\" y=\"-158.3\" font-family=\"Times New Roman,serif\" font-size=\"14.00\">MECH</text>\r\n",
       "</g>\r\n",
       "<!-- MECH&#45;&gt;ANL -->\r\n",
       "<g id=\"edge4\" class=\"edge\"><title>MECH&#45;&gt;ANL</title>\r\n",
       "<path fill=\"none\" stroke=\"black\" d=\"M96.1819,-149.031C79.8172,-140.017 59.4581,-126.111 47.5975,-108 35.5861,-89.6587 31.0137,-65.0512 29.3449,-46.3598\"/>\r\n",
       "<polygon fill=\"black\" stroke=\"black\" points=\"32.8205,-45.8755 28.6635,-36.1303 25.8359,-46.3408 32.8205,-45.8755\"/>\r\n",
       "</g>\r\n",
       "<!-- MECH&#45;&gt;ALG -->\r\n",
       "<g id=\"edge5\" class=\"edge\"><title>MECH&#45;&gt;ALG</title>\r\n",
       "<path fill=\"none\" stroke=\"black\" d=\"M127.619,-144.063C133.176,-126.004 139.713,-96.6669 133.597,-72 131.17,-62.2086 126.566,-52.233 121.782,-43.6167\"/>\r\n",
       "<polygon fill=\"black\" stroke=\"black\" points=\"124.716,-41.7017 116.615,-34.8737 118.69,-45.2634 124.716,-41.7017\"/>\r\n",
       "</g>\r\n",
       "<!-- MECH&#45;&gt;VECT -->\r\n",
       "<g id=\"edge7\" class=\"edge\"><title>MECH&#45;&gt;VECT</title>\r\n",
       "<path fill=\"none\" stroke=\"black\" d=\"M114.093,-144.055C110.514,-135.973 106.151,-126.121 102.161,-117.112\"/>\r\n",
       "<polygon fill=\"black\" stroke=\"black\" points=\"105.282,-115.515 98.0326,-107.789 98.8817,-118.35 105.282,-115.515\"/>\r\n",
       "</g>\r\n",
       "<!-- MECH&#45;&gt;STAT -->\r\n",
       "<g id=\"edge6\" class=\"edge\"><title>MECH&#45;&gt;STAT</title>\r\n",
       "<path fill=\"none\" stroke=\"black\" d=\"M130.699,-144.43C136.314,-134.049 143.57,-120.344 149.597,-108 159.82,-87.0642 170.603,-62.9361 178.395,-45.0883\"/>\r\n",
       "<polygon fill=\"black\" stroke=\"black\" points=\"181.621,-46.4457 182.393,-35.879 175.2,-43.658 181.621,-46.4457\"/>\r\n",
       "</g>\r\n",
       "</g>\r\n",
       "</svg>\r\n"
      ],
      "text/plain": [
       "<graphviz.files.Source at 0xf613cf8>"
      ]
     },
     "execution_count": 22,
     "metadata": {},
     "output_type": "execute_result"
    }
   ],
   "source": [
    "alpha = 5 / len(states_df.index)\n",
    "lnr_gs = MB_GrowShrinkLner(states_df, alpha, verbose=False)\n",
    "lnr_iamb = MB_IAMB_Lner(states_df, alpha, verbose=False)\n",
    "lnr_gs.bnet.write_dot(test_dot) # write BNet to .dot file\n",
    "Source(open(test_dot).read())"
   ]
  },
  {
   "cell_type": "code",
   "execution_count": 23,
   "metadata": {
    "collapsed": false,
    "scrolled": true
   },
   "outputs": [
    {
     "data": {
      "image/svg+xml": [
       "<?xml version=\"1.0\" encoding=\"UTF-8\" standalone=\"no\"?>\r\n",
       "<!DOCTYPE svg PUBLIC \"-//W3C//DTD SVG 1.1//EN\"\r\n",
       " \"http://www.w3.org/Graphics/SVG/1.1/DTD/svg11.dtd\">\r\n",
       "<!-- Generated by graphviz version 2.38.0 (20140413.2041)\r\n",
       " -->\r\n",
       "<!-- Pages: 1 -->\r\n",
       "<svg width=\"232pt\" height=\"188pt\"\r\n",
       " viewBox=\"0.00 0.00 232.04 188.00\" xmlns=\"http://www.w3.org/2000/svg\" xmlns:xlink=\"http://www.w3.org/1999/xlink\">\r\n",
       "<g id=\"graph0\" class=\"graph\" transform=\"scale(1 1) rotate(0) translate(4 184)\">\r\n",
       "<polygon fill=\"white\" stroke=\"none\" points=\"-4,4 -4,-184 228.044,-184 228.044,4 -4,4\"/>\r\n",
       "<!-- ANL -->\r\n",
       "<g id=\"node1\" class=\"node\"><title>ANL</title>\r\n",
       "<ellipse fill=\"none\" stroke=\"black\" cx=\"28.5975\" cy=\"-18\" rx=\"28.6953\" ry=\"18\"/>\r\n",
       "<text text-anchor=\"middle\" x=\"28.5975\" y=\"-14.3\" font-family=\"Times New Roman,serif\" font-size=\"14.00\">ANL</text>\r\n",
       "</g>\r\n",
       "<!-- ALG -->\r\n",
       "<g id=\"node2\" class=\"node\"><title>ALG</title>\r\n",
       "<ellipse fill=\"none\" stroke=\"black\" cx=\"105.597\" cy=\"-18\" rx=\"29.4969\" ry=\"18\"/>\r\n",
       "<text text-anchor=\"middle\" x=\"105.597\" y=\"-14.3\" font-family=\"Times New Roman,serif\" font-size=\"14.00\">ALG</text>\r\n",
       "</g>\r\n",
       "<!-- VECT -->\r\n",
       "<g id=\"node3\" class=\"node\"><title>VECT</title>\r\n",
       "<ellipse fill=\"none\" stroke=\"black\" cx=\"90.5975\" cy=\"-90\" rx=\"34.394\" ry=\"18\"/>\r\n",
       "<text text-anchor=\"middle\" x=\"90.5975\" y=\"-86.3\" font-family=\"Times New Roman,serif\" font-size=\"14.00\">VECT</text>\r\n",
       "</g>\r\n",
       "<!-- VECT&#45;&gt;ANL -->\r\n",
       "<g id=\"edge1\" class=\"edge\"><title>VECT&#45;&gt;ANL</title>\r\n",
       "<path fill=\"none\" stroke=\"black\" d=\"M76.8377,-73.4647C68.5365,-64.0924 57.817,-51.9898 48.5918,-41.5742\"/>\r\n",
       "<polygon fill=\"black\" stroke=\"black\" points=\"51.1437,-39.1767 41.8933,-34.0114 45.9036,-43.8179 51.1437,-39.1767\"/>\r\n",
       "</g>\r\n",
       "<!-- VECT&#45;&gt;ALG -->\r\n",
       "<g id=\"edge2\" class=\"edge\"><title>VECT&#45;&gt;ALG</title>\r\n",
       "<path fill=\"none\" stroke=\"black\" d=\"M94.2285,-72.055C95.8987,-64.2609 97.9213,-54.8219 99.7948,-46.0789\"/>\r\n",
       "<polygon fill=\"black\" stroke=\"black\" points=\"103.223,-46.7867 101.896,-36.2753 96.3779,-45.3199 103.223,-46.7867\"/>\r\n",
       "</g>\r\n",
       "<!-- STAT -->\r\n",
       "<g id=\"node5\" class=\"node\"><title>STAT</title>\r\n",
       "<ellipse fill=\"none\" stroke=\"black\" cx=\"189.597\" cy=\"-18\" rx=\"34.394\" ry=\"18\"/>\r\n",
       "<text text-anchor=\"middle\" x=\"189.597\" y=\"-14.3\" font-family=\"Times New Roman,serif\" font-size=\"14.00\">STAT</text>\r\n",
       "</g>\r\n",
       "<!-- VECT&#45;&gt;STAT -->\r\n",
       "<g id=\"edge3\" class=\"edge\"><title>VECT&#45;&gt;STAT</title>\r\n",
       "<path fill=\"none\" stroke=\"black\" d=\"M110.157,-75.1703C124.84,-64.7878 145.155,-50.4241 161.565,-38.821\"/>\r\n",
       "<polygon fill=\"black\" stroke=\"black\" points=\"163.596,-41.6718 169.74,-33.0406 159.554,-35.9562 163.596,-41.6718\"/>\r\n",
       "</g>\r\n",
       "<!-- MECH -->\r\n",
       "<g id=\"node4\" class=\"node\"><title>MECH</title>\r\n",
       "<ellipse fill=\"none\" stroke=\"black\" cx=\"121.597\" cy=\"-162\" rx=\"36.2938\" ry=\"18\"/>\r\n",
       "<text text-anchor=\"middle\" x=\"121.597\" y=\"-158.3\" font-family=\"Times New Roman,serif\" font-size=\"14.00\">MECH</text>\r\n",
       "</g>\r\n",
       "<!-- MECH&#45;&gt;ANL -->\r\n",
       "<g id=\"edge4\" class=\"edge\"><title>MECH&#45;&gt;ANL</title>\r\n",
       "<path fill=\"none\" stroke=\"black\" d=\"M96.1819,-149.031C79.8172,-140.017 59.4581,-126.111 47.5975,-108 35.5861,-89.6587 31.0137,-65.0512 29.3449,-46.3598\"/>\r\n",
       "<polygon fill=\"black\" stroke=\"black\" points=\"32.8205,-45.8755 28.6635,-36.1303 25.8359,-46.3408 32.8205,-45.8755\"/>\r\n",
       "</g>\r\n",
       "<!-- MECH&#45;&gt;ALG -->\r\n",
       "<g id=\"edge5\" class=\"edge\"><title>MECH&#45;&gt;ALG</title>\r\n",
       "<path fill=\"none\" stroke=\"black\" d=\"M127.619,-144.063C133.176,-126.004 139.713,-96.6669 133.597,-72 131.17,-62.2086 126.566,-52.233 121.782,-43.6167\"/>\r\n",
       "<polygon fill=\"black\" stroke=\"black\" points=\"124.716,-41.7017 116.615,-34.8737 118.69,-45.2634 124.716,-41.7017\"/>\r\n",
       "</g>\r\n",
       "<!-- MECH&#45;&gt;VECT -->\r\n",
       "<g id=\"edge7\" class=\"edge\"><title>MECH&#45;&gt;VECT</title>\r\n",
       "<path fill=\"none\" stroke=\"black\" d=\"M114.093,-144.055C110.514,-135.973 106.151,-126.121 102.161,-117.112\"/>\r\n",
       "<polygon fill=\"black\" stroke=\"black\" points=\"105.282,-115.515 98.0326,-107.789 98.8817,-118.35 105.282,-115.515\"/>\r\n",
       "</g>\r\n",
       "<!-- MECH&#45;&gt;STAT -->\r\n",
       "<g id=\"edge6\" class=\"edge\"><title>MECH&#45;&gt;STAT</title>\r\n",
       "<path fill=\"none\" stroke=\"black\" d=\"M130.699,-144.43C136.314,-134.049 143.57,-120.344 149.597,-108 159.82,-87.0642 170.603,-62.9361 178.395,-45.0883\"/>\r\n",
       "<polygon fill=\"black\" stroke=\"black\" points=\"181.621,-46.4457 182.393,-35.879 175.2,-43.658 181.621,-46.4457\"/>\r\n",
       "</g>\r\n",
       "</g>\r\n",
       "</svg>\r\n"
      ],
      "text/plain": [
       "<graphviz.files.Source at 0xf5e1518>"
      ]
     },
     "execution_count": 23,
     "metadata": {},
     "output_type": "execute_result"
    }
   ],
   "source": [
    "lnr_iamb.bnet.write_dot(test_dot) # write BNet to .dot file\n",
    "Source(open(test_dot).read())"
   ]
  },
  {
   "cell_type": "markdown",
   "metadata": {},
   "source": [
    "#### bnlearn"
   ]
  },
  {
   "cell_type": "code",
   "execution_count": 24,
   "metadata": {
    "collapsed": false,
    "scrolled": false
   },
   "outputs": [
    {
     "data": {
      "image/png": "[encoded data removed]"
     },
     "metadata": {},
     "output_type": "display_data"
    }
   ],
   "source": [
    "%%R\n",
    "bn.gs <- gs(states_df);\n",
    "bn.iamb <- iamb(states_df);\n",
    "par(mfrow = c(1,2))\n",
    "graphviz.plot(bn.gs, shape = \"ellipse\", main = \"Grow-Shrink (GS)\")\n",
    "graphviz.plot(bn.iamb, shape = \"ellipse\", main = \"Incremental Association Markov Blanket(IMAB\")"
   ]
  },
  {
   "cell_type": "markdown",
   "metadata": {},
   "source": [
    "So, How to improve the performance of QuantumFog with MB_based methods for continuous data set?"
   ]
  },
  {
   "cell_type": "markdown",
   "metadata": {},
   "source": [
    "#### Again, compare run time"
   ]
  },
  {
   "cell_type": "code",
   "execution_count": 25,
   "metadata": {
    "collapsed": false
   },
   "outputs": [
    {
     "name": "stdout",
     "output_type": "stream",
     "text": [
      "GrowShrinkLner:\n",
      "QuantumFog:\n",
      "Wall time: 1.05 s\n",
      "bnlearn:\n",
      "Wall time: 10 ms\n",
      "\t\n",
      "IAMB_Lner:\n",
      "QuantumFog:\n",
      "Wall time: 1.11 s\n",
      "bnlearn:\n",
      "Wall time: 10 ms\n"
     ]
    }
   ],
   "source": [
    "print('GrowShrinkLner:')\n",
    "print('QuantumFog:')\n",
    "%time lnr_gs = MB_GrowShrinkLner(states_df, alpha, verbose=False)\n",
    "print('bnlearn:')\n",
    "%time %R bn.gs <- gs(states_df, alpha = alpha);\n",
    "\n",
    "print('\\t')\n",
    "print('IAMB_Lner:')\n",
    "print('QuantumFog:')\n",
    "%time lnr_iamb = MB_IAMB_Lner(states_df, alpha, verbose=False)\n",
    "print('bnlearn:')\n",
    "%time %R bn.iamb <- iamb(states_df,alpha = alpha);"
   ]
  },
  {
   "cell_type": "markdown",
   "metadata": {},
   "source": [
    "### Score based learning"
   ]
  },
  {
   "cell_type": "markdown",
   "metadata": {},
   "source": [
    "#### QuantumFog"
   ]
  },
  {
   "cell_type": "code",
   "execution_count": 26,
   "metadata": {
    "collapsed": false
   },
   "outputs": [
    {
     "name": "stdout",
     "output_type": "stream",
     "text": [
      "The Hill_Climbing method in QuantumFog takes time as:\n",
      "Wall time: 184 ms\n",
      "\n",
      " score_type: BIC\n"
     ]
    },
    {
     "data": {
      "image/svg+xml": [
       "<?xml version=\"1.0\" encoding=\"UTF-8\" standalone=\"no\"?>\r\n",
       "<!DOCTYPE svg PUBLIC \"-//W3C//DTD SVG 1.1//EN\"\r\n",
       " \"http://www.w3.org/Graphics/SVG/1.1/DTD/svg11.dtd\">\r\n",
       "<!-- Generated by graphviz version 2.38.0 (20140413.2041)\r\n",
       " -->\r\n",
       "<!-- Pages: 1 -->\r\n",
       "<svg width=\"407pt\" height=\"44pt\"\r\n",
       " viewBox=\"0.00 0.00 406.84 44.00\" xmlns=\"http://www.w3.org/2000/svg\" xmlns:xlink=\"http://www.w3.org/1999/xlink\">\r\n",
       "<g id=\"graph0\" class=\"graph\" transform=\"scale(1 1) rotate(0) translate(4 40)\">\r\n",
       "<polygon fill=\"white\" stroke=\"none\" points=\"-4,4 -4,-40 402.844,-40 402.844,4 -4,4\"/>\r\n",
       "<!-- VECT -->\r\n",
       "<g id=\"node1\" class=\"node\"><title>VECT</title>\r\n",
       "<ellipse fill=\"none\" stroke=\"black\" cx=\"34.4469\" cy=\"-18\" rx=\"34.394\" ry=\"18\"/>\r\n",
       "<text text-anchor=\"middle\" x=\"34.4469\" y=\"-14.3\" font-family=\"Times New Roman,serif\" font-size=\"14.00\">VECT</text>\r\n",
       "</g>\r\n",
       "<!-- ANL -->\r\n",
       "<g id=\"node2\" class=\"node\"><title>ANL</title>\r\n",
       "<ellipse fill=\"none\" stroke=\"black\" cx=\"115.447\" cy=\"-18\" rx=\"28.6953\" ry=\"18\"/>\r\n",
       "<text text-anchor=\"middle\" x=\"115.447\" y=\"-14.3\" font-family=\"Times New Roman,serif\" font-size=\"14.00\">ANL</text>\r\n",
       "</g>\r\n",
       "<!-- ALG -->\r\n",
       "<g id=\"node3\" class=\"node\"><title>ALG</title>\r\n",
       "<ellipse fill=\"none\" stroke=\"black\" cx=\"191.447\" cy=\"-18\" rx=\"29.4969\" ry=\"18\"/>\r\n",
       "<text text-anchor=\"middle\" x=\"191.447\" y=\"-14.3\" font-family=\"Times New Roman,serif\" font-size=\"14.00\">ALG</text>\r\n",
       "</g>\r\n",
       "<!-- STAT -->\r\n",
       "<g id=\"node4\" class=\"node\"><title>STAT</title>\r\n",
       "<ellipse fill=\"none\" stroke=\"black\" cx=\"273.447\" cy=\"-18\" rx=\"34.394\" ry=\"18\"/>\r\n",
       "<text text-anchor=\"middle\" x=\"273.447\" y=\"-14.3\" font-family=\"Times New Roman,serif\" font-size=\"14.00\">STAT</text>\r\n",
       "</g>\r\n",
       "<!-- MECH -->\r\n",
       "<g id=\"node5\" class=\"node\"><title>MECH</title>\r\n",
       "<ellipse fill=\"none\" stroke=\"black\" cx=\"362.447\" cy=\"-18\" rx=\"36.2938\" ry=\"18\"/>\r\n",
       "<text text-anchor=\"middle\" x=\"362.447\" y=\"-14.3\" font-family=\"Times New Roman,serif\" font-size=\"14.00\">MECH</text>\r\n",
       "</g>\r\n",
       "</g>\r\n",
       "</svg>\r\n"
      ],
      "text/plain": [
       "<graphviz.files.Source at 0xecab438>"
      ]
     },
     "execution_count": 26,
     "metadata": {},
     "output_type": "execute_result"
    }
   ],
   "source": [
    "score_type = 'BIC'\n",
    "max_num_mtries = 30\n",
    "ess = 1.0 \n",
    "print(\"The Hill_Climbing method in QuantumFog takes time as:\")\n",
    "%time lnr_hc = HillClimbingLner(states_df, score_type, max_num_mtries, ess)\n",
    "lnr_hc.bnet.write_dot(test_dot) # write BNet to .dot file\n",
    "print('\\n score_type:', score_type)\n",
    "Source(open(test_dot).read())"
   ]
  },
  {
   "cell_type": "markdown",
   "metadata": {},
   "source": [
    "#### bnlearn"
   ]
  },
  {
   "cell_type": "code",
   "execution_count": 27,
   "metadata": {
    "collapsed": false
   },
   "outputs": [
    {
     "data": {
      "image/png": "[encoded data removed]"
     },
     "metadata": {},
     "output_type": "display_data"
    }
   ],
   "source": [
    "%%R\n",
    "bn.hc <- hc(states_df);\n",
    "graphviz.plot(bn.hc, shape = \"ellipse\", main = \"Hill-Climbing\")"
   ]
  },
  {
   "cell_type": "markdown",
   "metadata": {},
   "source": [
    "So, How to improve the performance of QuantumFog with MB_based methods for continuous data set?"
   ]
  },
  {
   "cell_type": "markdown",
   "metadata": {},
   "source": [
    "### Score based learning with discretized data set\n",
    "\n",
    "In order to see how discretized data set affect the results, we convert numeric data to factor data. \n",
    "\n",
    "We first write the \"marks\" data to csv file, then read them out as 'factor' type. This also suggest that we should be careful when reading data from .csv files."
   ]
  },
  {
   "cell_type": "code",
   "execution_count": 28,
   "metadata": {
    "collapsed": false
   },
   "outputs": [],
   "source": [
    "%%R\n",
    "write.csv(marks, file = 'test.csv', quote = FALSE, row.names = FALSE )\n",
    "states_df <- read.csv(file='test.csv', header=TRUE, sep=\",\", colClasses = \"factor\")"
   ]
  },
  {
   "cell_type": "markdown",
   "metadata": {},
   "source": [
    "Now \"states_df\" contains discretized data set as factors; \"marks\" contains continuous data set."
   ]
  },
  {
   "cell_type": "code",
   "execution_count": 29,
   "metadata": {
    "collapsed": false,
    "scrolled": true
   },
   "outputs": [
    {
     "name": "stdout",
     "output_type": "stream",
     "text": [
      "data structure for states_df: \n",
      "[\"'data.frame':\\t88 obs. of  5 variables:\"\n",
      " ' $ MECH: Factor w/ 46 levels \"0\",\"10\",\"12\",..: 45 40 44 35 40 33 31 37 39 41 ...'\n",
      " ' $ VECT: Factor w/ 40 levels \"24\",\"26\",\"27\",..: 39 38 37 36 31 30 33 35 29 36 ...'\n",
      " ' $ ALG : Factor w/ 38 levels \"15\",\"21\",\"31\",..: 34 38 36 31 33 37 33 35 26 28 ...'\n",
      " ' $ ANL : Factor w/ 46 levels \"15\",\"17\",\"20\",..: 44 45 43 45 45 41 42 39 39 39 ...'\n",
      " ' $ STAT: Factor w/ 45 levels \"14\",\"15\",\"17\",..: 44 44 44 41 38 43 41 35 42 27 ...']\n"
     ]
    }
   ],
   "source": [
    "%Rpull states_df\n",
    "%Rpull marks\n",
    "\n",
    "out = %R capture.output(str(states_df))\n",
    "print('data structure for states_df: ')\n",
    "print(out)"
   ]
  },
  {
   "cell_type": "markdown",
   "metadata": {},
   "source": [
    "#### QuantumFog"
   ]
  },
  {
   "cell_type": "code",
   "execution_count": 30,
   "metadata": {
    "collapsed": false
   },
   "outputs": [
    {
     "name": "stdout",
     "output_type": "stream",
     "text": [
      "\n",
      " score_type: BIC\n"
     ]
    },
    {
     "data": {
      "image/svg+xml": [
       "<?xml version=\"1.0\" encoding=\"UTF-8\" standalone=\"no\"?>\r\n",
       "<!DOCTYPE svg PUBLIC \"-//W3C//DTD SVG 1.1//EN\"\r\n",
       " \"http://www.w3.org/Graphics/SVG/1.1/DTD/svg11.dtd\">\r\n",
       "<!-- Generated by graphviz version 2.38.0 (20140413.2041)\r\n",
       " -->\r\n",
       "<!-- Pages: 1 -->\r\n",
       "<svg width=\"407pt\" height=\"44pt\"\r\n",
       " viewBox=\"0.00 0.00 407.04 44.00\" xmlns=\"http://www.w3.org/2000/svg\" xmlns:xlink=\"http://www.w3.org/1999/xlink\">\r\n",
       "<g id=\"graph0\" class=\"graph\" transform=\"scale(1 1) rotate(0) translate(4 40)\">\r\n",
       "<polygon fill=\"white\" stroke=\"none\" points=\"-4,4 -4,-40 403.044,-40 403.044,4 -4,4\"/>\r\n",
       "<!-- ANL -->\r\n",
       "<g id=\"node1\" class=\"node\"><title>ANL</title>\r\n",
       "<ellipse fill=\"none\" stroke=\"black\" cx=\"28.5975\" cy=\"-18\" rx=\"28.6953\" ry=\"18\"/>\r\n",
       "<text text-anchor=\"middle\" x=\"28.5975\" y=\"-14.3\" font-family=\"Times New Roman,serif\" font-size=\"14.00\">ANL</text>\r\n",
       "</g>\r\n",
       "<!-- ALG -->\r\n",
       "<g id=\"node2\" class=\"node\"><title>ALG</title>\r\n",
       "<ellipse fill=\"none\" stroke=\"black\" cx=\"104.597\" cy=\"-18\" rx=\"29.4969\" ry=\"18\"/>\r\n",
       "<text text-anchor=\"middle\" x=\"104.597\" y=\"-14.3\" font-family=\"Times New Roman,serif\" font-size=\"14.00\">ALG</text>\r\n",
       "</g>\r\n",
       "<!-- MECH -->\r\n",
       "<g id=\"node3\" class=\"node\"><title>MECH</title>\r\n",
       "<ellipse fill=\"none\" stroke=\"black\" cx=\"188.597\" cy=\"-18\" rx=\"36.2938\" ry=\"18\"/>\r\n",
       "<text text-anchor=\"middle\" x=\"188.597\" y=\"-14.3\" font-family=\"Times New Roman,serif\" font-size=\"14.00\">MECH</text>\r\n",
       "</g>\r\n",
       "<!-- STAT -->\r\n",
       "<g id=\"node4\" class=\"node\"><title>STAT</title>\r\n",
       "<ellipse fill=\"none\" stroke=\"black\" cx=\"277.597\" cy=\"-18\" rx=\"34.394\" ry=\"18\"/>\r\n",
       "<text text-anchor=\"middle\" x=\"277.597\" y=\"-14.3\" font-family=\"Times New Roman,serif\" font-size=\"14.00\">STAT</text>\r\n",
       "</g>\r\n",
       "<!-- VECT -->\r\n",
       "<g id=\"node5\" class=\"node\"><title>VECT</title>\r\n",
       "<ellipse fill=\"none\" stroke=\"black\" cx=\"364.597\" cy=\"-18\" rx=\"34.394\" ry=\"18\"/>\r\n",
       "<text text-anchor=\"middle\" x=\"364.597\" y=\"-14.3\" font-family=\"Times New Roman,serif\" font-size=\"14.00\">VECT</text>\r\n",
       "</g>\r\n",
       "</g>\r\n",
       "</svg>\r\n"
      ],
      "text/plain": [
       "<graphviz.files.Source at 0xf5ca048>"
      ]
     },
     "execution_count": 30,
     "metadata": {},
     "output_type": "execute_result"
    }
   ],
   "source": [
    "lnr_hc = HillClimbingLner(states_df, score_type, max_num_mtries, ess)\n",
    "lnr_hc.bnet.write_dot(test_dot) # write BNet to .dot file\n",
    "print('\\n score_type:', score_type)\n",
    "Source(open(test_dot).read())"
   ]
  },
  {
   "cell_type": "markdown",
   "metadata": {},
   "source": [
    "The HC method in QFog gives the same results for both continuous data and discretized data.\n",
    "\n",
    "It seems that we treat all the data sets as discretized? Or I just misused the function?"
   ]
  },
  {
   "cell_type": "markdown",
   "metadata": {},
   "source": [
    "#### bnlearn"
   ]
  },
  {
   "cell_type": "code",
   "execution_count": 31,
   "metadata": {
    "collapsed": false
   },
   "outputs": [
    {
     "data": {
      "image/png": "[encoded data removed]"
     },
     "metadata": {},
     "output_type": "display_data"
    }
   ],
   "source": [
    "%%R\n",
    "bn.hc1 <- hc(marks);\n",
    "bn.hc2 <- hc(states_df);\n",
    "par(mfrow = c(1,2))\n",
    "graphviz.plot(bn.hc2, main = \"discretized data\")\n",
    "graphviz.plot(bn.hc1, shape = \"ellipse\", main = \"continuous data\") "
   ]
  },
  {
   "cell_type": "markdown",
   "metadata": {},
   "source": [
    "The bnlearn with discretized data set (which is wrong of course) gives the same result as QFog does. On the other hand, the continuous data gives the correct result. "
   ]
  },
  {
   "cell_type": "markdown",
   "metadata": {},
   "source": [
    "In order to check how discretization affect the learned networks, we apply bnlearn.hc method for different discretized data set:"
   ]
  },
  {
   "cell_type": "code",
   "execution_count": 32,
   "metadata": {
    "collapsed": false,
    "scrolled": false
   },
   "outputs": [
    {
     "data": {
      "image/png": "[encoded data removed]"
     },
     "metadata": {},
     "output_type": "display_data"
    }
   ],
   "source": [
    "%%R\n",
    "marks.d2 <- discretize(marks, method = \"interval\", breaks = 2)\n",
    "marks.d4 <- discretize(marks, method = \"interval\", breaks = 4)\n",
    "marks.d8 <- discretize(marks, method = \"interval\", breaks = 8)\n",
    "\n",
    "bn.hc2 <- hc(marks.d2)\n",
    "bn.hc4 <- hc(marks.d4)\n",
    "bn.hc8 <- hc(marks.d8)\n",
    "par(mfrow = c(2,2))\n",
    "graphviz.plot(bn.hc1, shape = \"ellipse\", main = \"continuous data\") \n",
    "graphviz.plot(bn.hc2, shape = \"ellipse\", main = \"breaks = 2\") \n",
    "graphviz.plot(bn.hc4, shape = \"ellipse\", main = \"breaks = 4\") \n",
    "graphviz.plot(bn.hc8, main = \"breaks = 8\") "
   ]
  },
  {
   "cell_type": "markdown",
   "metadata": {},
   "source": [
    "The results for discretized data can keep parts of the full network. However, these connections disappear with more data breaks."
   ]
  },
  {
   "cell_type": "code",
   "execution_count": 33,
   "metadata": {
    "collapsed": false,
    "scrolled": true
   },
   "outputs": [
    {
     "name": "stdout",
     "output_type": "stream",
     "text": [
      "[\"'data.frame':\\t88 obs. of  5 variables:\"\n",
      " ' $ MECH: Factor w/ 2 levels \"[-0.077,38.5]\",..: 2 2 2 2 2 2 2 2 2 2 ...'\n",
      " ' $ VECT: Factor w/ 2 levels \"[8.93,45.5]\",..: 2 2 2 2 2 2 2 2 2 2 ...'\n",
      " ' $ ALG : Factor w/ 2 levels \"[14.9,47.5]\",..: 2 2 2 2 2 2 2 2 2 2 ...'\n",
      " ' $ ANL : Factor w/ 2 levels \"[8.94,39.5]\",..: 2 2 2 2 2 2 2 2 2 2 ...'\n",
      " ' $ STAT: Factor w/ 2 levels \"[8.93,45]\",\"(45,81.1]\": 2 2 2 2 2 2 2 2 2 1 ...']\n",
      "[\"'data.frame':\\t88 obs. of  5 variables:\"\n",
      " ' $ MECH: Factor w/ 8 levels \"[-0.077,9.62]\",..: 8 7 8 6 7 6 6 7 7 7 ...'\n",
      " ' $ VECT: Factor w/ 8 levels \"[8.93,18.1]\",..: 8 8 8 7 6 6 7 7 6 7 ...'\n",
      " ' $ ALG : Factor w/ 8 levels \"[14.9,23.1]\",..: 7 8 7 6 7 8 7 7 6 6 ...'\n",
      " ' $ ANL : Factor w/ 8 levels \"[8.94,16.6]\",..: 8 8 8 8 8 8 8 7 7 7 ...'\n",
      " ' $ STAT: Factor w/ 8 levels \"[8.93,18]\",\"(18,27]\",..: 8 8 8 7 6 8 7 6 7 4 ...']\n"
     ]
    }
   ],
   "source": [
    "out = %R capture.output(str(marks.d2))\n",
    "print(out)\n",
    "out = %R capture.output(str(marks.d8))\n",
    "print(out)"
   ]
  },
  {
   "cell_type": "markdown",
   "metadata": {},
   "source": [
    "#### QuantumFog"
   ]
  },
  {
   "cell_type": "code",
   "execution_count": 34,
   "metadata": {
    "collapsed": false
   },
   "outputs": [
    {
     "data": {
      "image/svg+xml": [
       "<?xml version=\"1.0\" encoding=\"UTF-8\" standalone=\"no\"?>\r\n",
       "<!DOCTYPE svg PUBLIC \"-//W3C//DTD SVG 1.1//EN\"\r\n",
       " \"http://www.w3.org/Graphics/SVG/1.1/DTD/svg11.dtd\">\r\n",
       "<!-- Generated by graphviz version 2.38.0 (20140413.2041)\r\n",
       " -->\r\n",
       "<!-- Pages: 1 -->\r\n",
       "<svg width=\"232pt\" height=\"188pt\"\r\n",
       " viewBox=\"0.00 0.00 232.04 188.00\" xmlns=\"http://www.w3.org/2000/svg\" xmlns:xlink=\"http://www.w3.org/1999/xlink\">\r\n",
       "<g id=\"graph0\" class=\"graph\" transform=\"scale(1 1) rotate(0) translate(4 184)\">\r\n",
       "<polygon fill=\"white\" stroke=\"none\" points=\"-4,4 -4,-184 228.044,-184 228.044,4 -4,4\"/>\r\n",
       "<!-- VECT -->\r\n",
       "<g id=\"node1\" class=\"node\"><title>VECT</title>\r\n",
       "<ellipse fill=\"none\" stroke=\"black\" cx=\"90.5975\" cy=\"-90\" rx=\"34.394\" ry=\"18\"/>\r\n",
       "<text text-anchor=\"middle\" x=\"90.5975\" y=\"-86.3\" font-family=\"Times New Roman,serif\" font-size=\"14.00\">VECT</text>\r\n",
       "</g>\r\n",
       "<!-- ANL -->\r\n",
       "<g id=\"node2\" class=\"node\"><title>ANL</title>\r\n",
       "<ellipse fill=\"none\" stroke=\"black\" cx=\"28.5975\" cy=\"-18\" rx=\"28.6953\" ry=\"18\"/>\r\n",
       "<text text-anchor=\"middle\" x=\"28.5975\" y=\"-14.3\" font-family=\"Times New Roman,serif\" font-size=\"14.00\">ANL</text>\r\n",
       "</g>\r\n",
       "<!-- VECT&#45;&gt;ANL -->\r\n",
       "<g id=\"edge1\" class=\"edge\"><title>VECT&#45;&gt;ANL</title>\r\n",
       "<path fill=\"none\" stroke=\"black\" d=\"M76.8377,-73.4647C68.5365,-64.0924 57.817,-51.9898 48.5918,-41.5742\"/>\r\n",
       "<polygon fill=\"black\" stroke=\"black\" points=\"51.1437,-39.1767 41.8933,-34.0114 45.9036,-43.8179 51.1437,-39.1767\"/>\r\n",
       "</g>\r\n",
       "<!-- ALG -->\r\n",
       "<g id=\"node3\" class=\"node\"><title>ALG</title>\r\n",
       "<ellipse fill=\"none\" stroke=\"black\" cx=\"105.597\" cy=\"-18\" rx=\"29.4969\" ry=\"18\"/>\r\n",
       "<text text-anchor=\"middle\" x=\"105.597\" y=\"-14.3\" font-family=\"Times New Roman,serif\" font-size=\"14.00\">ALG</text>\r\n",
       "</g>\r\n",
       "<!-- VECT&#45;&gt;ALG -->\r\n",
       "<g id=\"edge2\" class=\"edge\"><title>VECT&#45;&gt;ALG</title>\r\n",
       "<path fill=\"none\" stroke=\"black\" d=\"M94.2285,-72.055C95.8987,-64.2609 97.9213,-54.8219 99.7948,-46.0789\"/>\r\n",
       "<polygon fill=\"black\" stroke=\"black\" points=\"103.223,-46.7867 101.896,-36.2753 96.3779,-45.3199 103.223,-46.7867\"/>\r\n",
       "</g>\r\n",
       "<!-- STAT -->\r\n",
       "<g id=\"node4\" class=\"node\"><title>STAT</title>\r\n",
       "<ellipse fill=\"none\" stroke=\"black\" cx=\"189.597\" cy=\"-18\" rx=\"34.394\" ry=\"18\"/>\r\n",
       "<text text-anchor=\"middle\" x=\"189.597\" y=\"-14.3\" font-family=\"Times New Roman,serif\" font-size=\"14.00\">STAT</text>\r\n",
       "</g>\r\n",
       "<!-- VECT&#45;&gt;STAT -->\r\n",
       "<g id=\"edge3\" class=\"edge\"><title>VECT&#45;&gt;STAT</title>\r\n",
       "<path fill=\"none\" stroke=\"black\" d=\"M110.157,-75.1703C124.84,-64.7878 145.155,-50.4241 161.565,-38.821\"/>\r\n",
       "<polygon fill=\"black\" stroke=\"black\" points=\"163.596,-41.6718 169.74,-33.0406 159.554,-35.9562 163.596,-41.6718\"/>\r\n",
       "</g>\r\n",
       "<!-- MECH -->\r\n",
       "<g id=\"node5\" class=\"node\"><title>MECH</title>\r\n",
       "<ellipse fill=\"none\" stroke=\"black\" cx=\"121.597\" cy=\"-162\" rx=\"36.2938\" ry=\"18\"/>\r\n",
       "<text text-anchor=\"middle\" x=\"121.597\" y=\"-158.3\" font-family=\"Times New Roman,serif\" font-size=\"14.00\">MECH</text>\r\n",
       "</g>\r\n",
       "<!-- MECH&#45;&gt;VECT -->\r\n",
       "<g id=\"edge7\" class=\"edge\"><title>MECH&#45;&gt;VECT</title>\r\n",
       "<path fill=\"none\" stroke=\"black\" d=\"M114.093,-144.055C110.514,-135.973 106.151,-126.121 102.161,-117.112\"/>\r\n",
       "<polygon fill=\"black\" stroke=\"black\" points=\"105.282,-115.515 98.0326,-107.789 98.8817,-118.35 105.282,-115.515\"/>\r\n",
       "</g>\r\n",
       "<!-- MECH&#45;&gt;ANL -->\r\n",
       "<g id=\"edge4\" class=\"edge\"><title>MECH&#45;&gt;ANL</title>\r\n",
       "<path fill=\"none\" stroke=\"black\" d=\"M96.1819,-149.031C79.8172,-140.017 59.4581,-126.111 47.5975,-108 35.5861,-89.6587 31.0137,-65.0512 29.3449,-46.3598\"/>\r\n",
       "<polygon fill=\"black\" stroke=\"black\" points=\"32.8205,-45.8755 28.6635,-36.1303 25.8359,-46.3408 32.8205,-45.8755\"/>\r\n",
       "</g>\r\n",
       "<!-- MECH&#45;&gt;ALG -->\r\n",
       "<g id=\"edge5\" class=\"edge\"><title>MECH&#45;&gt;ALG</title>\r\n",
       "<path fill=\"none\" stroke=\"black\" d=\"M127.619,-144.063C133.176,-126.004 139.713,-96.6669 133.597,-72 131.17,-62.2086 126.566,-52.233 121.782,-43.6167\"/>\r\n",
       "<polygon fill=\"black\" stroke=\"black\" points=\"124.716,-41.7017 116.615,-34.8737 118.69,-45.2634 124.716,-41.7017\"/>\r\n",
       "</g>\r\n",
       "<!-- MECH&#45;&gt;STAT -->\r\n",
       "<g id=\"edge6\" class=\"edge\"><title>MECH&#45;&gt;STAT</title>\r\n",
       "<path fill=\"none\" stroke=\"black\" d=\"M130.699,-144.43C136.314,-134.049 143.57,-120.344 149.597,-108 159.82,-87.0642 170.603,-62.9361 178.395,-45.0883\"/>\r\n",
       "<polygon fill=\"black\" stroke=\"black\" points=\"181.621,-46.4457 182.393,-35.879 175.2,-43.658 181.621,-46.4457\"/>\r\n",
       "</g>\r\n",
       "</g>\r\n",
       "</svg>\r\n"
      ],
      "text/plain": [
       "<graphviz.files.Source at 0xe6c7a58>"
      ]
     },
     "execution_count": 34,
     "metadata": {},
     "output_type": "execute_result"
    }
   ],
   "source": [
    "lnr_iamb = MB_IAMB_Lner(states_df, alpha, verbose=False)\n",
    "lnr_iamb.bnet.write_dot(test_dot) \n",
    "Source(open(test_dot).read())"
   ]
  },
  {
   "cell_type": "markdown",
   "metadata": {},
   "source": [
    "One can also check MB_based methods in QuanntumFog with discretized data; They give the same results as before.\n",
    "\n",
    "So, how to treat continuous data in QFog?"
   ]
  }
 ],
 "metadata": {
  "anaconda-cloud": {},
  "kernelspec": {
   "display_name": "Python [default]",
   "language": "python",
   "name": "python3"
  },
  "language_info": {
   "codemirror_mode": {
    "name": "ipython",
    "version": 3
   },
   "file_extension": ".py",
   "mimetype": "text/x-python",
   "name": "python",
   "nbconvert_exporter": "python",
   "pygments_lexer": "ipython3",
   "version": "3.5.2"
  },
  "toc": {
   "colors": {
    "hover_highlight": "#DAA520",
    "running_highlight": "#FF0000",
    "selected_highlight": "#FFD700"
   },
   "moveMenuLeft": true,
   "nav_menu": {
    "height": "210px",
    "width": "252px"
   },
   "navigate_menu": true,
   "number_sections": true,
   "sideBar": true,
   "threshold": "3",
   "toc_cell": true,
   "toc_section_display": "block",
   "toc_window_display": false
  }
 },
 "nbformat": 4,
 "nbformat_minor": 1
}
