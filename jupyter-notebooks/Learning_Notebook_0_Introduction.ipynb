{
 "cells": [
  {
   "cell_type": "markdown",
   "metadata": {
    "toc": "true"
   },
   "source": [
    "# Table of Contents\n",
    " <p><div class=\"lev1 toc-item\"><a href=\"#Introduction\" data-toc-modified-id=\"Introduction-1\"><span class=\"toc-item-num\">1&nbsp;&nbsp;</span>Introduction</a></div><div class=\"lev1 toc-item\"><a href=\"#Getting-Started\" data-toc-modified-id=\"Getting-Started-2\"><span class=\"toc-item-num\">2&nbsp;&nbsp;</span>Getting Started</a></div><div class=\"lev2 toc-item\"><a href=\"#Initialization\" data-toc-modified-id=\"Initialization-21\"><span class=\"toc-item-num\">2.1&nbsp;&nbsp;</span>Initialization</a></div><div class=\"lev3 toc-item\"><a href=\"#rpy2-and-rmagic\" data-toc-modified-id=\"rpy2-and-rmagic-211\"><span class=\"toc-item-num\">2.1.1&nbsp;&nbsp;</span>rpy2 and rmagic</a></div><div class=\"lev2 toc-item\"><a href=\"#Data-input-/-output\" data-toc-modified-id=\"Data-input-/-output-22\"><span class=\"toc-item-num\">2.2&nbsp;&nbsp;</span>Data input / output</a></div><div class=\"lev2 toc-item\"><a href=\"#Graph-plotting\" data-toc-modified-id=\"Graph-plotting-23\"><span class=\"toc-item-num\">2.3&nbsp;&nbsp;</span>Graph plotting</a></div><div class=\"lev2 toc-item\"><a href=\"#Example:-Naive-Bayes\" data-toc-modified-id=\"Example:-Naive-Bayes-24\"><span class=\"toc-item-num\">2.4&nbsp;&nbsp;</span>Example: Naive Bayes</a></div><div class=\"lev3 toc-item\"><a href=\"#QFog-NaiveBayesLner\" data-toc-modified-id=\"QFog-NaiveBayesLner-241\"><span class=\"toc-item-num\">2.4.1&nbsp;&nbsp;</span>QFog NaiveBayesLner</a></div><div class=\"lev3 toc-item\"><a href=\"#bnlearn-naive.bayes\" data-toc-modified-id=\"bnlearn-naive.bayes-242\"><span class=\"toc-item-num\">2.4.2&nbsp;&nbsp;</span>bnlearn naive.bayes</a></div><div class=\"lev3 toc-item\"><a href=\"#Timing\" data-toc-modified-id=\"Timing-243\"><span class=\"toc-item-num\">2.4.3&nbsp;&nbsp;</span>Timing</a></div><div class=\"lev1 toc-item\"><a href=\"#Appendix\" data-toc-modified-id=\"Appendix-3\"><span class=\"toc-item-num\">3&nbsp;&nbsp;</span>Appendix</a></div><div class=\"lev2 toc-item\"><a href=\"#Use-R-in-jupyter-with-Python-kernel\" data-toc-modified-id=\"Use-R-in-jupyter-with-Python-kernel-31\"><span class=\"toc-item-num\">3.1&nbsp;&nbsp;</span>Use R in jupyter with Python kernel</a></div><div class=\"lev3 toc-item\"><a href=\"#Introduction:\" data-toc-modified-id=\"Introduction:-311\"><span class=\"toc-item-num\">3.1.1&nbsp;&nbsp;</span>Introduction:</a></div><div class=\"lev3 toc-item\"><a href=\"#Installation:\" data-toc-modified-id=\"Installation:-312\"><span class=\"toc-item-num\">3.1.2&nbsp;&nbsp;</span>Installation:</a></div><div class=\"lev3 toc-item\"><a href=\"#For-linux:\" data-toc-modified-id=\"For-linux:-313\"><span class=\"toc-item-num\">3.1.3&nbsp;&nbsp;</span>For linux:</a></div><div class=\"lev2 toc-item\"><a href=\"#The-&quot;Testing&quot;-example-from-bnlearn\" data-toc-modified-id=\"The-&quot;Testing&quot;-example-from-bnlearn-32\"><span class=\"toc-item-num\">3.2&nbsp;&nbsp;</span>The \"Testing\" example from bnlearn</a></div><div class=\"lev2 toc-item\"><a href=\"#examples\" data-toc-modified-id=\"examples-33\"><span class=\"toc-item-num\">3.3&nbsp;&nbsp;</span>examples</a></div><div class=\"lev3 toc-item\"><a href=\"#Another-example:\" data-toc-modified-id=\"Another-example:-331\"><span class=\"toc-item-num\">3.3.1&nbsp;&nbsp;</span>Another example:</a></div><div class=\"lev3 toc-item\"><a href=\"#Console-writing-issue\" data-toc-modified-id=\"Console-writing-issue-332\"><span class=\"toc-item-num\">3.3.2&nbsp;&nbsp;</span>Console-writing issue</a></div>"
   ]
  },
  {
   "cell_type": "markdown",
   "metadata": {},
   "source": [
    "# Introduction\n",
    "\n",
    "This notebook is an introduction for the learning part of QuantumFog package on GitHub: [Quantum Fog](https://github.com/artiste-qb-net/quantum-fog)\n",
    "\n",
    "It contains some simple tutorials and examples for learning Bayesian Network in QuantumFog with different algorithms. \n",
    "\n",
    "It also contains the performance comparisons between QuantmFog and \"bnlearn\" package for the same data/networks.  More detail of R package \"bnlearn\" by Marco Scutari can be found at [bnlearn](http://www.bnlearn.com/)\n",
    "\n",
    "This notebook is organized as below:\n",
    "* Tutorial for how to initialize the package. How to import, use, input/output data and networks. \n",
    "\n",
    "* Structure learning\n",
    "    * The structures of learned networks by different algorithms\n",
    "    * The comparison of learned structures between QFog and bnlearn.\n",
    "    * The time used by different algorithms\n",
    "   \n",
    "* Parameters learning (To-Do)\n",
    "    * From the same networks, the structures are imported.\n",
    "    * From the same data sets, the structures are learned from data. "
   ]
  },
  {
   "cell_type": "markdown",
   "metadata": {},
   "source": [
    "# Getting Started"
   ]
  },
  {
   "cell_type": "markdown",
   "metadata": {},
   "source": [
    "##  Initialization\n",
    "Importing; Adding system path; \n",
    "\n",
    "In order to use \"graphviz\" to define and render graphs, one need to install both graphviz python module and graphviz program. "
   ]
  },
  {
   "cell_type": "code",
   "execution_count": 1,
   "metadata": {
    "collapsed": false
   },
   "outputs": [],
   "source": [
    "import sys\n",
    "sys.path.append('../')\n",
    "import pandas as pd\n",
    "import numpy as np\n",
    "from graphviz import Digraph, Source\n",
    "\n",
    "from learning.NaiveBayesLner import *\n",
    "from learning.MB_GrowShrinkLner import *\n",
    "from learning.MB_IAMB_Lner import *\n",
    "from learning.HillClimbingLner import *"
   ]
  },
  {
   "cell_type": "markdown",
   "metadata": {},
   "source": [
    "###  rpy2 and rmagic\n",
    "\n",
    "In order to run R-codes and exchange data between Python and R, we use rpy2 module and rmagic codes in Jupyter notebook.\n",
    "\n",
    "Unlike for Linux-based system, the installation of rpy2 for Windows is quite annoying (cheers for Microsoft!). Check the Appendix for more details about how to intall/use rpy2 under Windows OS.\n",
    "\n",
    "Of course, one also need to install the required R packages like \"bnlearn\" and \"Rgraphviz\" in your R program.  "
   ]
  },
  {
   "cell_type": "code",
   "execution_count": 2,
   "metadata": {
    "collapsed": false
   },
   "outputs": [],
   "source": [
    "import rpy2\n",
    "%load_ext rpy2.ipython\n",
    "%R library(\"bnlearn\");\n",
    "%R library(\"Rgraphviz\");"
   ]
  },
  {
   "cell_type": "markdown",
   "metadata": {},
   "source": [
    "## Data input / output"
   ]
  },
  {
   "cell_type": "markdown",
   "metadata": {},
   "source": [
    "Setup file paths:\n",
    "* path_??? -> the input data/network path\n",
    "* test_???  -> the temporary test data/network path, in order to avoid overwrite the original files. "
   ]
  },
  {
   "cell_type": "code",
   "execution_count": 3,
   "metadata": {
    "collapsed": true
   },
   "outputs": [],
   "source": [
    "path_csv = '../learning/training_data_c/earthquake.csv'\n",
    "path_bif = '../examples_cbnets/earthquake.bif'\n",
    "path_dot = '../examples_cbnets/earthquake.dot'\n",
    "test_csv = 'test.csv'\n",
    "test_dot = 'test.dot'"
   ]
  },
  {
   "cell_type": "markdown",
   "metadata": {},
   "source": [
    "1. Import data from CSV file to pandas.DataFrame\n",
    "2. Read out the nodes name from 'states_df' "
   ]
  },
  {
   "cell_type": "code",
   "execution_count": 4,
   "metadata": {
    "collapsed": false,
    "scrolled": false
   },
   "outputs": [
    {
     "name": "stdout",
     "output_type": "stream",
     "text": [
      "Earthquake\n",
      "Burglary\n",
      "Alarm\n",
      "JohnCalls\n",
      "MaryCalls\n"
     ]
    },
    {
     "data": {
      "text/html": [
       "<div>\n",
       "<table border=\"1\" class=\"dataframe\">\n",
       "  <thead>\n",
       "    <tr style=\"text-align: right;\">\n",
       "      <th></th>\n",
       "      <th>Earthquake</th>\n",
       "      <th>Burglary</th>\n",
       "      <th>Alarm</th>\n",
       "      <th>JohnCalls</th>\n",
       "      <th>MaryCalls</th>\n",
       "    </tr>\n",
       "  </thead>\n",
       "  <tbody>\n",
       "    <tr>\n",
       "      <th>0</th>\n",
       "      <td>1</td>\n",
       "      <td>1</td>\n",
       "      <td>1</td>\n",
       "      <td>1</td>\n",
       "      <td>1</td>\n",
       "    </tr>\n",
       "    <tr>\n",
       "      <th>1</th>\n",
       "      <td>1</td>\n",
       "      <td>1</td>\n",
       "      <td>1</td>\n",
       "      <td>1</td>\n",
       "      <td>1</td>\n",
       "    </tr>\n",
       "    <tr>\n",
       "      <th>2</th>\n",
       "      <td>1</td>\n",
       "      <td>1</td>\n",
       "      <td>1</td>\n",
       "      <td>1</td>\n",
       "      <td>1</td>\n",
       "    </tr>\n",
       "    <tr>\n",
       "      <th>3</th>\n",
       "      <td>1</td>\n",
       "      <td>1</td>\n",
       "      <td>1</td>\n",
       "      <td>1</td>\n",
       "      <td>1</td>\n",
       "    </tr>\n",
       "    <tr>\n",
       "      <th>4</th>\n",
       "      <td>1</td>\n",
       "      <td>1</td>\n",
       "      <td>1</td>\n",
       "      <td>1</td>\n",
       "      <td>1</td>\n",
       "    </tr>\n",
       "  </tbody>\n",
       "</table>\n",
       "</div>"
      ],
      "text/plain": [
       "   Earthquake  Burglary  Alarm  JohnCalls  MaryCalls\n",
       "0           1         1      1          1          1\n",
       "1           1         1      1          1          1\n",
       "2           1         1      1          1          1\n",
       "3           1         1      1          1          1\n",
       "4           1         1      1          1          1"
      ]
     },
     "execution_count": 4,
     "metadata": {},
     "output_type": "execute_result"
    }
   ],
   "source": [
    "states_df = pd.read_csv(path_csv)\n",
    "for item in states_df.columns.values:\n",
    "    print(item)\n",
    "# show the first 5 rows\n",
    "states_df.head()"
   ]
  },
  {
   "cell_type": "markdown",
   "metadata": {},
   "source": [
    "1. exchange 'states_df' data between Python and R; this can be done by \"%Rpush\" and \"%Rpull\"\n",
    "2. Show this data structure by \"str()\" function in R\n",
    "3. The output will be shown in jupyter console; to avoid this, use \"capture.output()\" in R, and print the output in python"
   ]
  },
  {
   "cell_type": "code",
   "execution_count": 5,
   "metadata": {
    "collapsed": false,
    "scrolled": true
   },
   "outputs": [
    {
     "name": "stdout",
     "output_type": "stream",
     "text": [
      "[\"'data.frame':\\t5000 obs. of  5 variables:\"\n",
      " ' $ Earthquake: int  1 1 1 1 1 1 1 1 1 1 ...'\n",
      " ' $ Burglary  : int  1 1 1 1 1 1 1 1 1 1 ...'\n",
      " ' $ Alarm     : int  1 1 1 1 1 1 1 1 1 1 ...'\n",
      " ' $ JohnCalls : int  1 1 1 1 1 1 1 1 1 1 ...'\n",
      " ' $ MaryCalls : int  1 1 1 1 1 1 1 1 1 1 ...']\n"
     ]
    }
   ],
   "source": [
    "%Rpush states_df\n",
    "out = %R capture.output(str(states_df))\n",
    "print(out)"
   ]
  },
  {
   "cell_type": "markdown",
   "metadata": {},
   "source": [
    "one can also directly read data from .csv file, and compare with previous 'states_df'"
   ]
  },
  {
   "cell_type": "code",
   "execution_count": 6,
   "metadata": {
    "collapsed": false
   },
   "outputs": [
    {
     "name": "stdout",
     "output_type": "stream",
     "text": [
      "[\"'data.frame':\\t5000 obs. of  5 variables:\"\n",
      " ' $ Earthquake: int  1 1 1 1 1 1 1 1 1 1 ...'\n",
      " ' $ Burglary  : int  1 1 1 1 1 1 1 1 1 1 ...'\n",
      " ' $ Alarm     : int  1 1 1 1 1 1 1 1 1 1 ...'\n",
      " ' $ JohnCalls : int  1 1 1 1 1 1 1 1 1 1 ...'\n",
      " ' $ MaryCalls : int  1 1 1 1 1 1 1 1 1 1 ...']\n"
     ]
    }
   ],
   "source": [
    "%Rpush path_csv\n",
    "%R states_df1 = read.csv(file = path_csv, header=TRUE, sep=\",\")\n",
    "out1 = %R capture.output(str(states_df1))\n",
    "print(out1)"
   ]
  },
  {
   "cell_type": "markdown",
   "metadata": {},
   "source": [
    "as well as write data to .csv file with R codes"
   ]
  },
  {
   "cell_type": "code",
   "execution_count": 7,
   "metadata": {
    "collapsed": false
   },
   "outputs": [
    {
     "name": "stdout",
     "output_type": "stream",
     "text": [
      "[\"'data.frame':\\t5000 obs. of  5 variables:\"\n",
      " ' $ Earthquake: int  1 1 1 1 1 1 1 1 1 1 ...'\n",
      " ' $ Burglary  : int  1 1 1 1 1 1 1 1 1 1 ...'\n",
      " ' $ Alarm     : int  1 1 1 1 1 1 1 1 1 1 ...'\n",
      " ' $ JohnCalls : int  1 1 1 1 1 1 1 1 1 1 ...'\n",
      " ' $ MaryCalls : int  1 1 1 1 1 1 1 1 1 1 ...']\n"
     ]
    }
   ],
   "source": [
    "%R write.csv(states_df, file = 'test.csv', quote = FALSE, row.names = FALSE )\n",
    "%R states_df2 = read.csv(file='test.csv', header=TRUE, sep=\",\")\n",
    "out2 = %R capture.output(str(states_df2))\n",
    "print(out2)"
   ]
  },
  {
   "cell_type": "markdown",
   "metadata": {},
   "source": [
    "## Graph plotting"
   ]
  },
  {
   "cell_type": "markdown",
   "metadata": {},
   "source": [
    "Read graph from .bif or .dot file, and plot them use only standard Python libraries like matplotlib. "
   ]
  },
  {
   "cell_type": "code",
   "execution_count": 8,
   "metadata": {
    "collapsed": false
   },
   "outputs": [
    {
     "data": {
      "image/png": "[encoded data removed]",
      "text/plain": [
       "<matplotlib.figure.Figure at 0xed291d0>"
      ]
     },
     "metadata": {},
     "output_type": "display_data"
    },
    {
     "data": {
      "image/png": "[encoded data removed]",
      "text/plain": [
       "<matplotlib.figure.Figure at 0xed14550>"
      ]
     },
     "metadata": {},
     "output_type": "display_data"
    }
   ],
   "source": [
    "bnet1 = BayesNet.read_bif(path_bif, is_quantum=False)\n",
    "bnet2 = BayesNet.read_dot(path_dot)\n",
    "bnet1.draw(algo_num=2)\n",
    "bnet2.draw(algo_num=2)"
   ]
  },
  {
   "cell_type": "markdown",
   "metadata": {},
   "source": [
    "In order to have better output for large graphs, one can also save and render the .dot source code by 'graphviz'. \n",
    "1. From .dot file:  use Source() to create a Source object holding your DOT string:\n",
    "2. with render() method save and render the graph with the default layout. also automatically open the resulting (PDF, PNG, SVG, etc.) file with system’s default viewer application for the file type."
   ]
  },
  {
   "cell_type": "code",
   "execution_count": 9,
   "metadata": {
    "collapsed": false
   },
   "outputs": [
    {
     "data": {
      "image/svg+xml": [
       "<?xml version=\"1.0\" encoding=\"UTF-8\" standalone=\"no\"?>\r\n",
       "<!DOCTYPE svg PUBLIC \"-//W3C//DTD SVG 1.1//EN\"\r\n",
       " \"http://www.w3.org/Graphics/SVG/1.1/DTD/svg11.dtd\">\r\n",
       "<!-- Generated by graphviz version 2.38.0 (20140413.2041)\r\n",
       " -->\r\n",
       "<!-- Pages: 1 -->\r\n",
       "<svg width=\"219pt\" height=\"188pt\"\r\n",
       " viewBox=\"0.00 0.00 219.44 188.00\" xmlns=\"http://www.w3.org/2000/svg\" xmlns:xlink=\"http://www.w3.org/1999/xlink\">\r\n",
       "<g id=\"graph0\" class=\"graph\" transform=\"scale(1 1) rotate(0) translate(4 184)\">\r\n",
       "<polygon fill=\"white\" stroke=\"none\" points=\"-4,4 -4,-184 215.441,-184 215.441,4 -4,4\"/>\r\n",
       "<!-- MaryCalls -->\r\n",
       "<g id=\"node1\" class=\"node\"><title>MaryCalls</title>\r\n",
       "<ellipse fill=\"none\" stroke=\"black\" cx=\"48.0957\" cy=\"-18\" rx=\"48.1917\" ry=\"18\"/>\r\n",
       "<text text-anchor=\"middle\" x=\"48.0957\" y=\"-14.3\" font-family=\"Times New Roman,serif\" font-size=\"14.00\">MaryCalls</text>\r\n",
       "</g>\r\n",
       "<!-- Burglary -->\r\n",
       "<g id=\"node2\" class=\"node\"><title>Burglary</title>\r\n",
       "<ellipse fill=\"none\" stroke=\"black\" cx=\"49.0957\" cy=\"-162\" rx=\"41.6928\" ry=\"18\"/>\r\n",
       "<text text-anchor=\"middle\" x=\"49.0957\" y=\"-158.3\" font-family=\"Times New Roman,serif\" font-size=\"14.00\">Burglary</text>\r\n",
       "</g>\r\n",
       "<!-- Alarm -->\r\n",
       "<g id=\"node4\" class=\"node\"><title>Alarm</title>\r\n",
       "<ellipse fill=\"none\" stroke=\"black\" cx=\"104.096\" cy=\"-90\" rx=\"32.4942\" ry=\"18\"/>\r\n",
       "<text text-anchor=\"middle\" x=\"104.096\" y=\"-86.3\" font-family=\"Times New Roman,serif\" font-size=\"14.00\">Alarm</text>\r\n",
       "</g>\r\n",
       "<!-- Burglary&#45;&gt;Alarm -->\r\n",
       "<g id=\"edge1\" class=\"edge\"><title>Burglary&#45;&gt;Alarm</title>\r\n",
       "<path fill=\"none\" stroke=\"black\" d=\"M61.8521,-144.765C68.893,-135.804 77.7645,-124.512 85.5579,-114.594\"/>\r\n",
       "<polygon fill=\"black\" stroke=\"black\" points=\"88.3608,-116.691 91.7869,-106.666 82.8565,-112.367 88.3608,-116.691\"/>\r\n",
       "</g>\r\n",
       "<!-- JohnCalls -->\r\n",
       "<g id=\"node3\" class=\"node\"><title>JohnCalls</title>\r\n",
       "<ellipse fill=\"none\" stroke=\"black\" cx=\"160.096\" cy=\"-18\" rx=\"46.2923\" ry=\"18\"/>\r\n",
       "<text text-anchor=\"middle\" x=\"160.096\" y=\"-14.3\" font-family=\"Times New Roman,serif\" font-size=\"14.00\">JohnCalls</text>\r\n",
       "</g>\r\n",
       "<!-- Alarm&#45;&gt;MaryCalls -->\r\n",
       "<g id=\"edge2\" class=\"edge\"><title>Alarm&#45;&gt;MaryCalls</title>\r\n",
       "<path fill=\"none\" stroke=\"black\" d=\"M91.3885,-73.1159C84.4302,-64.4181 75.6543,-53.4483 67.8259,-43.6627\"/>\r\n",
       "<polygon fill=\"black\" stroke=\"black\" points=\"70.5136,-41.4196 61.5336,-35.7973 65.0476,-45.7925 70.5136,-41.4196\"/>\r\n",
       "</g>\r\n",
       "<!-- Alarm&#45;&gt;JohnCalls -->\r\n",
       "<g id=\"edge3\" class=\"edge\"><title>Alarm&#45;&gt;JohnCalls</title>\r\n",
       "<path fill=\"none\" stroke=\"black\" d=\"M116.803,-73.1159C123.862,-64.292 132.792,-53.1298 140.705,-43.238\"/>\r\n",
       "<polygon fill=\"black\" stroke=\"black\" points=\"143.536,-45.3022 147.05,-35.307 138.07,-40.9293 143.536,-45.3022\"/>\r\n",
       "</g>\r\n",
       "<!-- Earthquake -->\r\n",
       "<g id=\"node5\" class=\"node\"><title>Earthquake</title>\r\n",
       "<ellipse fill=\"none\" stroke=\"black\" cx=\"160.096\" cy=\"-162\" rx=\"51.1914\" ry=\"18\"/>\r\n",
       "<text text-anchor=\"middle\" x=\"160.096\" y=\"-158.3\" font-family=\"Times New Roman,serif\" font-size=\"14.00\">Earthquake</text>\r\n",
       "</g>\r\n",
       "<!-- Earthquake&#45;&gt;Alarm -->\r\n",
       "<g id=\"edge4\" class=\"edge\"><title>Earthquake&#45;&gt;Alarm</title>\r\n",
       "<path fill=\"none\" stroke=\"black\" d=\"M146.825,-144.411C139.82,-135.655 131.097,-124.751 123.361,-115.082\"/>\r\n",
       "<polygon fill=\"black\" stroke=\"black\" points=\"125.866,-112.61 116.886,-106.988 120.4,-116.983 125.866,-112.61\"/>\r\n",
       "</g>\r\n",
       "</g>\r\n",
       "</svg>\r\n"
      ],
      "text/plain": [
       "<graphviz.files.Source at 0xf19c128>"
      ]
     },
     "execution_count": 9,
     "metadata": {},
     "output_type": "execute_result"
    }
   ],
   "source": [
    "#Source(open(path_dot).read()).render(view=True) #  automatically opening\n",
    "Source(open(path_dot).read())"
   ]
  },
  {
   "cell_type": "markdown",
   "metadata": {},
   "source": [
    "On the other hand, From Bayesian Networks: use the write_dot() method to generate a .dot file, then follow the method above."
   ]
  },
  {
   "cell_type": "code",
   "execution_count": 10,
   "metadata": {
    "collapsed": false,
    "scrolled": false
   },
   "outputs": [
    {
     "data": {
      "image/svg+xml": [
       "<?xml version=\"1.0\" encoding=\"UTF-8\" standalone=\"no\"?>\r\n",
       "<!DOCTYPE svg PUBLIC \"-//W3C//DTD SVG 1.1//EN\"\r\n",
       " \"http://www.w3.org/Graphics/SVG/1.1/DTD/svg11.dtd\">\r\n",
       "<!-- Generated by graphviz version 2.38.0 (20140413.2041)\r\n",
       " -->\r\n",
       "<!-- Pages: 1 -->\r\n",
       "<svg width=\"219pt\" height=\"188pt\"\r\n",
       " viewBox=\"0.00 0.00 219.44 188.00\" xmlns=\"http://www.w3.org/2000/svg\" xmlns:xlink=\"http://www.w3.org/1999/xlink\">\r\n",
       "<g id=\"graph0\" class=\"graph\" transform=\"scale(1 1) rotate(0) translate(4 184)\">\r\n",
       "<polygon fill=\"white\" stroke=\"none\" points=\"-4,4 -4,-184 215.441,-184 215.441,4 -4,4\"/>\r\n",
       "<!-- Burglary -->\r\n",
       "<g id=\"node1\" class=\"node\"><title>Burglary</title>\r\n",
       "<ellipse fill=\"none\" stroke=\"black\" cx=\"49.0957\" cy=\"-162\" rx=\"41.6928\" ry=\"18\"/>\r\n",
       "<text text-anchor=\"middle\" x=\"49.0957\" y=\"-158.3\" font-family=\"Times New Roman,serif\" font-size=\"14.00\">Burglary</text>\r\n",
       "</g>\r\n",
       "<!-- Alarm -->\r\n",
       "<g id=\"node4\" class=\"node\"><title>Alarm</title>\r\n",
       "<ellipse fill=\"none\" stroke=\"black\" cx=\"104.096\" cy=\"-90\" rx=\"32.4942\" ry=\"18\"/>\r\n",
       "<text text-anchor=\"middle\" x=\"104.096\" y=\"-86.3\" font-family=\"Times New Roman,serif\" font-size=\"14.00\">Alarm</text>\r\n",
       "</g>\r\n",
       "<!-- Burglary&#45;&gt;Alarm -->\r\n",
       "<g id=\"edge1\" class=\"edge\"><title>Burglary&#45;&gt;Alarm</title>\r\n",
       "<path fill=\"none\" stroke=\"black\" d=\"M61.8521,-144.765C68.893,-135.804 77.7645,-124.512 85.5579,-114.594\"/>\r\n",
       "<polygon fill=\"black\" stroke=\"black\" points=\"88.3608,-116.691 91.7869,-106.666 82.8565,-112.367 88.3608,-116.691\"/>\r\n",
       "</g>\r\n",
       "<!-- MaryCalls -->\r\n",
       "<g id=\"node2\" class=\"node\"><title>MaryCalls</title>\r\n",
       "<ellipse fill=\"none\" stroke=\"black\" cx=\"48.0957\" cy=\"-18\" rx=\"48.1917\" ry=\"18\"/>\r\n",
       "<text text-anchor=\"middle\" x=\"48.0957\" y=\"-14.3\" font-family=\"Times New Roman,serif\" font-size=\"14.00\">MaryCalls</text>\r\n",
       "</g>\r\n",
       "<!-- JohnCalls -->\r\n",
       "<g id=\"node3\" class=\"node\"><title>JohnCalls</title>\r\n",
       "<ellipse fill=\"none\" stroke=\"black\" cx=\"160.096\" cy=\"-18\" rx=\"46.2923\" ry=\"18\"/>\r\n",
       "<text text-anchor=\"middle\" x=\"160.096\" y=\"-14.3\" font-family=\"Times New Roman,serif\" font-size=\"14.00\">JohnCalls</text>\r\n",
       "</g>\r\n",
       "<!-- Alarm&#45;&gt;MaryCalls -->\r\n",
       "<g id=\"edge2\" class=\"edge\"><title>Alarm&#45;&gt;MaryCalls</title>\r\n",
       "<path fill=\"none\" stroke=\"black\" d=\"M91.3885,-73.1159C84.4302,-64.4181 75.6543,-53.4483 67.8259,-43.6627\"/>\r\n",
       "<polygon fill=\"black\" stroke=\"black\" points=\"70.5136,-41.4196 61.5336,-35.7973 65.0476,-45.7925 70.5136,-41.4196\"/>\r\n",
       "</g>\r\n",
       "<!-- Alarm&#45;&gt;JohnCalls -->\r\n",
       "<g id=\"edge3\" class=\"edge\"><title>Alarm&#45;&gt;JohnCalls</title>\r\n",
       "<path fill=\"none\" stroke=\"black\" d=\"M116.803,-73.1159C123.862,-64.292 132.792,-53.1298 140.705,-43.238\"/>\r\n",
       "<polygon fill=\"black\" stroke=\"black\" points=\"143.536,-45.3022 147.05,-35.307 138.07,-40.9293 143.536,-45.3022\"/>\r\n",
       "</g>\r\n",
       "<!-- Earthquake -->\r\n",
       "<g id=\"node5\" class=\"node\"><title>Earthquake</title>\r\n",
       "<ellipse fill=\"none\" stroke=\"black\" cx=\"160.096\" cy=\"-162\" rx=\"51.1914\" ry=\"18\"/>\r\n",
       "<text text-anchor=\"middle\" x=\"160.096\" y=\"-158.3\" font-family=\"Times New Roman,serif\" font-size=\"14.00\">Earthquake</text>\r\n",
       "</g>\r\n",
       "<!-- Earthquake&#45;&gt;Alarm -->\r\n",
       "<g id=\"edge4\" class=\"edge\"><title>Earthquake&#45;&gt;Alarm</title>\r\n",
       "<path fill=\"none\" stroke=\"black\" d=\"M146.825,-144.411C139.82,-135.655 131.097,-124.751 123.361,-115.082\"/>\r\n",
       "<polygon fill=\"black\" stroke=\"black\" points=\"125.866,-112.61 116.886,-106.988 120.4,-116.983 125.866,-112.61\"/>\r\n",
       "</g>\r\n",
       "</g>\r\n",
       "</svg>\r\n"
      ],
      "text/plain": [
       "<graphviz.files.Source at 0xf18af98>"
      ]
     },
     "execution_count": 10,
     "metadata": {},
     "output_type": "execute_result"
    }
   ],
   "source": [
    "# From BNet:\n",
    "bnet1.write_dot(test_dot)\n",
    "Source(open(test_dot).read())"
   ]
  },
  {
   "cell_type": "markdown",
   "metadata": {},
   "source": [
    "## Example: Naive Bayes\n",
    "\n",
    "In this section, we use Naive Bayes method as example to show the use of QuantumFog and bnlearn.\n",
    "\n",
    "Naive Bayes: Bayesian Network classification; The simple algorithm assuming that all classifiers are independent. So that $$p(x|C_j) \\propto \\prod_{k=1}^{d}p(x_{k}|C_{j}). $$ Although \"naive\", this model is often sufficiently good for\n",
    "    classification purposes."
   ]
  },
  {
   "cell_type": "markdown",
   "metadata": {},
   "source": [
    "### QFog NaiveBayesLner\n",
    "Use QFog NaiveBayesLner, and set target node as \"Burglary\", so that 'Earthquake' is caused by 'Burglary':)"
   ]
  },
  {
   "cell_type": "code",
   "execution_count": 11,
   "metadata": {
    "collapsed": false
   },
   "outputs": [
    {
     "name": "stdout",
     "output_type": "stream",
     "text": [
      "Earthquake\n",
      "Burglary\n",
      "Alarm\n",
      "JohnCalls\n",
      "MaryCalls\n"
     ]
    }
   ],
   "source": [
    "path_csv = '../learning/training_data_c/earthquake.csv'\n",
    "%Rpush path_csv\n",
    "test_dot = 'test.dot'\n",
    "states_df = pd.read_csv(path_csv, dtype = str)\n",
    "for item in states_df.columns.values:\n",
    "    print(item)"
   ]
  },
  {
   "cell_type": "code",
   "execution_count": 12,
   "metadata": {
    "collapsed": false,
    "scrolled": true
   },
   "outputs": [
    {
     "data": {
      "image/svg+xml": [
       "<?xml version=\"1.0\" encoding=\"UTF-8\" standalone=\"no\"?>\r\n",
       "<!DOCTYPE svg PUBLIC \"-//W3C//DTD SVG 1.1//EN\"\r\n",
       " \"http://www.w3.org/Graphics/SVG/1.1/DTD/svg11.dtd\">\r\n",
       "<!-- Generated by graphviz version 2.38.0 (20140413.2041)\r\n",
       " -->\r\n",
       "<!-- Pages: 1 -->\r\n",
       "<svg width=\"418pt\" height=\"116pt\"\r\n",
       " viewBox=\"0.00 0.00 418.49 116.00\" xmlns=\"http://www.w3.org/2000/svg\" xmlns:xlink=\"http://www.w3.org/1999/xlink\">\r\n",
       "<g id=\"graph0\" class=\"graph\" transform=\"scale(1 1) rotate(0) translate(4 112)\">\r\n",
       "<polygon fill=\"white\" stroke=\"none\" points=\"-4,4 -4,-112 414.491,-112 414.491,4 -4,4\"/>\r\n",
       "<!-- Earthquake -->\r\n",
       "<g id=\"node1\" class=\"node\"><title>Earthquake</title>\r\n",
       "<ellipse fill=\"none\" stroke=\"black\" cx=\"51.3454\" cy=\"-18\" rx=\"51.1914\" ry=\"18\"/>\r\n",
       "<text text-anchor=\"middle\" x=\"51.3454\" y=\"-14.3\" font-family=\"Times New Roman,serif\" font-size=\"14.00\">Earthquake</text>\r\n",
       "</g>\r\n",
       "<!-- MaryCalls -->\r\n",
       "<g id=\"node2\" class=\"node\"><title>MaryCalls</title>\r\n",
       "<ellipse fill=\"none\" stroke=\"black\" cx=\"168.345\" cy=\"-18\" rx=\"48.1917\" ry=\"18\"/>\r\n",
       "<text text-anchor=\"middle\" x=\"168.345\" y=\"-14.3\" font-family=\"Times New Roman,serif\" font-size=\"14.00\">MaryCalls</text>\r\n",
       "</g>\r\n",
       "<!-- Alarm -->\r\n",
       "<g id=\"node3\" class=\"node\"><title>Alarm</title>\r\n",
       "<ellipse fill=\"none\" stroke=\"black\" cx=\"267.345\" cy=\"-18\" rx=\"32.4942\" ry=\"18\"/>\r\n",
       "<text text-anchor=\"middle\" x=\"267.345\" y=\"-14.3\" font-family=\"Times New Roman,serif\" font-size=\"14.00\">Alarm</text>\r\n",
       "</g>\r\n",
       "<!-- JohnCalls -->\r\n",
       "<g id=\"node4\" class=\"node\"><title>JohnCalls</title>\r\n",
       "<ellipse fill=\"none\" stroke=\"black\" cx=\"364.345\" cy=\"-18\" rx=\"46.2923\" ry=\"18\"/>\r\n",
       "<text text-anchor=\"middle\" x=\"364.345\" y=\"-14.3\" font-family=\"Times New Roman,serif\" font-size=\"14.00\">JohnCalls</text>\r\n",
       "</g>\r\n",
       "<!-- Burglary -->\r\n",
       "<g id=\"node5\" class=\"node\"><title>Burglary</title>\r\n",
       "<ellipse fill=\"none\" stroke=\"black\" cx=\"217.345\" cy=\"-90\" rx=\"41.6928\" ry=\"18\"/>\r\n",
       "<text text-anchor=\"middle\" x=\"217.345\" y=\"-86.3\" font-family=\"Times New Roman,serif\" font-size=\"14.00\">Burglary</text>\r\n",
       "</g>\r\n",
       "<!-- Burglary&#45;&gt;Earthquake -->\r\n",
       "<g id=\"edge4\" class=\"edge\"><title>Burglary&#45;&gt;Earthquake</title>\r\n",
       "<path fill=\"none\" stroke=\"black\" d=\"M188.43,-76.8069C161.776,-65.567 121.94,-48.769 92.0703,-36.1731\"/>\r\n",
       "<polygon fill=\"black\" stroke=\"black\" points=\"93.3259,-32.9042 82.7517,-32.2436 90.606,-39.3542 93.3259,-32.9042\"/>\r\n",
       "</g>\r\n",
       "<!-- Burglary&#45;&gt;MaryCalls -->\r\n",
       "<g id=\"edge1\" class=\"edge\"><title>Burglary&#45;&gt;MaryCalls</title>\r\n",
       "<path fill=\"none\" stroke=\"black\" d=\"M205.733,-72.411C199.84,-63.9915 192.555,-53.585 185.986,-44.2007\"/>\r\n",
       "<polygon fill=\"black\" stroke=\"black\" points=\"188.817,-42.1414 180.215,-35.9562 183.082,-46.1557 188.817,-42.1414\"/>\r\n",
       "</g>\r\n",
       "<!-- Burglary&#45;&gt;Alarm -->\r\n",
       "<g id=\"edge2\" class=\"edge\"><title>Burglary&#45;&gt;Alarm</title>\r\n",
       "<path fill=\"none\" stroke=\"black\" d=\"M229.195,-72.411C235.386,-63.7439 243.08,-52.9711 249.934,-43.3754\"/>\r\n",
       "<polygon fill=\"black\" stroke=\"black\" points=\"252.961,-45.1598 255.925,-34.9881 247.265,-41.0911 252.961,-45.1598\"/>\r\n",
       "</g>\r\n",
       "<!-- Burglary&#45;&gt;JohnCalls -->\r\n",
       "<g id=\"edge3\" class=\"edge\"><title>Burglary&#45;&gt;JohnCalls</title>\r\n",
       "<path fill=\"none\" stroke=\"black\" d=\"M244.308,-76.1609C267.561,-65.0879 301.372,-48.9875 327.188,-36.6938\"/>\r\n",
       "<polygon fill=\"black\" stroke=\"black\" points=\"328.78,-39.8126 336.304,-32.3532 325.77,-33.4925 328.78,-39.8126\"/>\r\n",
       "</g>\r\n",
       "</g>\r\n",
       "</svg>\r\n"
      ],
      "text/plain": [
       "<graphviz.files.Source at 0xab43908>"
      ]
     },
     "execution_count": 12,
     "metadata": {},
     "output_type": "execute_result"
    }
   ],
   "source": [
    "lnr = NaiveBayesLner(states_df, 'Burglary')\n",
    "lnr.bnet.write_dot(test_dot)\n",
    "Source(open(test_dot).read())"
   ]
  },
  {
   "cell_type": "markdown",
   "metadata": {},
   "source": [
    "### bnlearn naive.bayes\n",
    "Use bnlearn naive.bayes package, and set target node as \"Burglary\" again.\n",
    "\n",
    "read data from .csv file"
   ]
  },
  {
   "cell_type": "code",
   "execution_count": 13,
   "metadata": {
    "collapsed": false
   },
   "outputs": [
    {
     "name": "stdout",
     "output_type": "stream",
     "text": [
      "[\"'data.frame':\\t5000 obs. of  5 variables:\"\n",
      " ' $ Earthquake: int  1 1 1 1 1 1 1 1 1 1 ...'\n",
      " ' $ Burglary  : int  1 1 1 1 1 1 1 1 1 1 ...'\n",
      " ' $ Alarm     : int  1 1 1 1 1 1 1 1 1 1 ...'\n",
      " ' $ JohnCalls : int  1 1 1 1 1 1 1 1 1 1 ...'\n",
      " ' $ MaryCalls : int  1 1 1 1 1 1 1 1 1 1 ...']\n",
      "\n",
      "Error in data.type(x) : \n",
      "  variable Earthquake is not supported in bnlearn (type: integer).\n"
     ]
    }
   ],
   "source": [
    "%R states_df <- read.csv(file=path_csv, header=TRUE, sep=\",\")\n",
    "# out = %R capture.output(str(states_df))\n",
    "print(out)\n",
    "%R bn.naive <- naive.bayes(states_df, 'Burglary');"
   ]
  },
  {
   "cell_type": "markdown",
   "metadata": {},
   "source": [
    "bnlearn can't work with mixed variables with integer. So the above codes return an error.\n",
    "\n",
    "If the data file contains boolean like 0/1, or integers like 1,2,3, one should use: colClasses = \"factor\" to force data to factors."
   ]
  },
  {
   "cell_type": "code",
   "execution_count": 14,
   "metadata": {
    "collapsed": false
   },
   "outputs": [
    {
     "data": {
      "image/png": "[encoded data removed]"
     },
     "metadata": {},
     "output_type": "display_data"
    }
   ],
   "source": [
    "%%R\n",
    "states_df <- read.csv(file=path_csv, header=TRUE, sep=\",\", colClasses = \"factor\")\n",
    "bn.naive <- naive.bayes(states_df, 'Burglary');\n",
    "graphviz.plot(bn.naive, shape = \"ellipse\", main = \"Naive Bayes\")"
   ]
  },
  {
   "cell_type": "markdown",
   "metadata": {},
   "source": [
    "### Timing"
   ]
  },
  {
   "cell_type": "markdown",
   "metadata": {},
   "source": [
    "Check how long the learning process takes (averaged over 20 runs)."
   ]
  },
  {
   "cell_type": "code",
   "execution_count": 15,
   "metadata": {
    "collapsed": false
   },
   "outputs": [
    {
     "name": "stdout",
     "output_type": "stream",
     "text": [
      "20 loops, best of 3: 1.67 ms per loop\n"
     ]
    }
   ],
   "source": [
    "%timeit -n 20 lnr = NaiveBayesLner(states_df, 'Burglary')"
   ]
  },
  {
   "cell_type": "markdown",
   "metadata": {},
   "source": [
    "Thought it's unfair to compare the time between Python codes and R codes within a Python kernel, on can out put the running time any way:"
   ]
  },
  {
   "cell_type": "code",
   "execution_count": 16,
   "metadata": {
    "collapsed": false,
    "scrolled": false
   },
   "outputs": [
    {
     "name": "stdout",
     "output_type": "stream",
     "text": [
      "10 loops, best of 3: 7.06 ms per loop\n"
     ]
    }
   ],
   "source": [
    "%timeit -n 10 %R bn.naive <- naive.bayes(learning.test, 'D')"
   ]
  },
  {
   "cell_type": "markdown",
   "metadata": {},
   "source": [
    "# Appendix"
   ]
  },
  {
   "cell_type": "markdown",
   "metadata": {},
   "source": [
    "## Use R in jupyter with Python kernel\n",
    "\n",
    "To show how to use rpy2 and rmagic."
   ]
  },
  {
   "cell_type": "markdown",
   "metadata": {},
   "source": [
    "### Introduction: \n",
    "\n",
    "using R magic commands within Python Jupyter notebooks using rpy2 module.\n",
    "show how to load rpy2 within a notebook and then pass variables from python to R and back\n",
    "\n",
    "See some introductions: \n",
    "\n",
    "[Pipelining R and Python in Notebooks, By Joseph Rickert](https://www.r-bloggers.com/pipelining-r-and-python-in-notebooks/)\n",
    "\n",
    "[Jupyter+Python+R with rpy2 and magics, by michhar](https://github.com/michhar/rpy2_sample_notebooks)\n",
    "\n",
    "[IPython, IPython Notebook, Anaconda, and R (rpy2), by Becky](http://www.swegler.com/becky/blog/2014/08/03/ipython-ipython-notebook-anaconda-and-r-rpy2/)\n",
    "\n",
    "[Rmagic Functions Extension, on nbviewer](http://nbviewer.ipython.org/github/ipython/ipython/blob/3607712653c66d63e0d7f13f073bde8c0f209ba8/docs/examples/notebooks/rmagic_extension.ipynb)"
   ]
  },
  {
   "cell_type": "markdown",
   "metadata": {},
   "source": [
    "### Installation:  \n",
    "\n",
    "\n",
    "1. Install R\n",
    "2. Add R executables to system PATH: for 64-bit:\n",
    "\n",
    "    1. Change Path for R computer-> property -> advanced and system setting -> environment variables\n",
    "    2. user variable PATH add C:\\Program Files\\R\\R-3.3.2\\bin\\x64;\n",
    "    3. system variable field add two new variables:\n",
    "        1. R_HOME  C:\\program files\\R\\R-3.3.2\n",
    "        2. R_USER  C:\\Program Files\\RStudio\\bin;C:\\Users\\\"xxx\"\\Anaconda3\\Lib\\site-packages\\rpy2\n",
    "    \n",
    "    4. Otherwise you get RuntimeError: R_HOME not defined. error when you try to import rpy2. (thanks to R_HOME Error with rpy2)\n",
    "\n",
    "3. Install rpy2:\n",
    "\n",
    "    1. pip install rpy2\n",
    "\n",
    "            some time it not works...\n",
    "\n",
    "    2. Instead\n",
    "\n",
    "        1. go to: http://www.lfd.uci.edu/~gohlke/pythonlibs/#rpy2,\n",
    "        2. download the suiting whl file for your configuration.\n",
    "        3. Then go to your download folder in cmd and simply use: pip install rpy2-2.7.8-cp27-none-win32.whl\n",
    "\n",
    "    3. use latest version:\n",
    "\n",
    "        * rpy2 2.8.x for python 3.5; otherwise get an error;\n",
    "\n",
    "4. Install R packages:\n",
    "\n",
    "    1. install.packages(\"PACKAGE NAME\")\n",
    "    2. ggplot2 package: install.packages(\"ggplot2\")\n",
    "    3. Rgraphviz package: from the bioconductors site.\n",
    "        source(\"http://bioconductor.org/biocLite.R\")\n",
    "        biocLite(\"Rgraphviz\")"
   ]
  },
  {
   "cell_type": "markdown",
   "metadata": {},
   "source": [
    "### For linux:\n",
    "\n",
    "On the other hand, for linux: \n",
    "1. Install R:\n",
    "        sudo apt-get install r-base r-base-core r-base-html\n",
    "\n",
    "2. Install rpy2:\n",
    "        pip install rpy2\n",
    "\n",
    "Cheers for Windos !!!"
   ]
  },
  {
   "cell_type": "markdown",
   "metadata": {},
   "source": [
    "## The \"Testing\" example from bnlearn "
   ]
  },
  {
   "cell_type": "code",
   "execution_count": 17,
   "metadata": {
    "collapsed": false
   },
   "outputs": [],
   "source": [
    "%%R \n",
    "data(learning.test)\n",
    "str(learning.test)\n",
    "bn.gs <- gs(learning.test)\n",
    "bn.hc <- hc(learning.test, score = 'aic')"
   ]
  },
  {
   "cell_type": "code",
   "execution_count": 18,
   "metadata": {
    "collapsed": false
   },
   "outputs": [
    {
     "data": {
      "image/png": "[encoded data removed]"
     },
     "metadata": {},
     "output_type": "display_data"
    }
   ],
   "source": [
    "%%R\n",
    "par(mfrow = c(1,2))\n",
    "plot(bn.gs, main = \"Constraint-based algorithms\", highlight = c(\"A\", \"B\"))\n",
    "plot(bn.hc, main = \"Hill-Climbing algorithms\", highlight = c(\"A\", \"B\"))"
   ]
  },
  {
   "cell_type": "code",
   "execution_count": 19,
   "metadata": {
    "collapsed": false
   },
   "outputs": [
    {
     "data": {
      "image/png": "[encoded data removed]"
     },
     "metadata": {},
     "output_type": "display_data"
    }
   ],
   "source": [
    "%%R\n",
    "library(\"Rgraphviz\")\n",
    "par(mfrow = c(1,2))\n",
    "highlight.opts <- list(nodes = c(\"A\", \"B\"), arcs = c(\"A\", \"B\"), col = \"red\", fill = \"gray\")\n",
    "graphviz.plot(bn.gs, main = \"Constraint-based algorithms\", highlight = highlight.opts)\n",
    "graphviz.plot(bn.hc, main = \"Hill-Climbing algorithms\", highlight = highlight.opts)\n"
   ]
  },
  {
   "cell_type": "markdown",
   "metadata": {
    "collapsed": false
   },
   "source": [
    "## examples \n",
    "\n",
    "from github:\n",
    "https://github.com/michhar/rpy2_sample_notebooks \n",
    "\n",
    "loading the R ipython extension, creating a python pandas dataframe, passing this as input to R, and graphing the data with R's ggplot2 package."
   ]
  },
  {
   "cell_type": "code",
   "execution_count": 20,
   "metadata": {
    "collapsed": false
   },
   "outputs": [],
   "source": [
    "df = pd.DataFrame({'Letter': ['a', 'a', 'a', 'b','b', 'b', 'c', 'c','c'],\n",
    "                   'X': [4, 3, 5, 2, 1, 7, 7, 5, 9],\n",
    "                   'Y': [0, 4, 3, 6, 7, 10, 11, 9, 13],\n",
    "                   'Z': [1, 2, 3, 1, 2, 3, 1, 2, 3]})"
   ]
  },
  {
   "cell_type": "code",
   "execution_count": 21,
   "metadata": {
    "collapsed": false
   },
   "outputs": [
    {
     "data": {
      "image/png": "[encoded data removed]"
     },
     "metadata": {},
     "output_type": "display_data"
    }
   ],
   "source": [
    "%%R -i df\n",
    "require(\"ggplot2\")\n",
    "ggplot(data = df) + geom_point(aes(x = X, y = Y, color = Letter, size = Z))"
   ]
  },
  {
   "cell_type": "markdown",
   "metadata": {
    "collapsed": false
   },
   "source": [
    "### Another example: \n",
    "creating some data in python with numpy, passing this as input to R, performing a linear fit, graphing the results with R's plot, and passing the results of the fit (the coefficients) back to python for printing."
   ]
  },
  {
   "cell_type": "code",
   "execution_count": 22,
   "metadata": {
    "collapsed": false
   },
   "outputs": [],
   "source": [
    "import numpy as np\n",
    "x = np.array([1, 2, 4, 6, 5, 8])\n",
    "y = np.array([0, 1, 3, 2, 5, 7])"
   ]
  },
  {
   "cell_type": "code",
   "execution_count": 23,
   "metadata": {
    "collapsed": false
   },
   "outputs": [
    {
     "data": {
      "image/png": "[encoded data removed]"
     },
     "metadata": {},
     "output_type": "display_data"
    }
   ],
   "source": [
    "%%R -i x,y -o mycoef\n",
    "xylm = lm(y~x)\n",
    "mycoef = coef(xylm)\n",
    "par(mfrow = c(2, 2))\n",
    "plot(xylm)"
   ]
  },
  {
   "cell_type": "code",
   "execution_count": 24,
   "metadata": {
    "collapsed": false
   },
   "outputs": [],
   "source": [
    "%%R \n",
    "print(summary(xylm))\n",
    "ls(xylm)\n",
    "residuals(xylm)"
   ]
  },
  {
   "cell_type": "code",
   "execution_count": 25,
   "metadata": {
    "collapsed": false
   },
   "outputs": [],
   "source": [
    "%%R\n",
    "print(summary(xylm))\n",
    "ls(xylm)\n",
    "residuals(xylm)"
   ]
  },
  {
   "cell_type": "markdown",
   "metadata": {
    "collapsed": false
   },
   "source": [
    "### Console-writing issue\n",
    "\n",
    "why the above codes have no output? \n",
    "\n",
    ">if you are trying to get the latest rpy2 working on the latest Jupyter notebook on Windows, just be warned you might run into a console-writing issue. That is, print statements might write to the terminal instead of the notebook browser window."
   ]
  },
  {
   "cell_type": "markdown",
   "metadata": {},
   "source": [
    "#### Use  \"capture.output()\"  in R"
   ]
  },
  {
   "cell_type": "code",
   "execution_count": 26,
   "metadata": {
    "collapsed": false,
    "scrolled": true
   },
   "outputs": [
    {
     "name": "stdout",
     "output_type": "stream",
     "text": [
      "\n",
      "\r\n",
      "Call:\n",
      "\r\n",
      "lm(formula = y ~ x)\n",
      "\r\n",
      "\n",
      "\r\n",
      "Residuals:\n",
      "\r\n",
      "    1     2     3     4     5     6 \n",
      "\r\n",
      "-0.10  0.03  0.29 -2.45  1.42  0.81 \n",
      "\r\n",
      "\n",
      "\r\n",
      "Coefficients:\n",
      "\r\n",
      "            Estimate Std. Error t value Pr(>|t|)  \n",
      "\r\n",
      "(Intercept)  -0.7700     1.2651  -0.609   0.5756  \n",
      "\r\n",
      "x             0.8700     0.2565   3.392   0.0275 *\n",
      "\r\n",
      "---\n",
      "\r\n",
      "Signif. codes:  0 '***' 0.001 '**' 0.01 '*' 0.05 '.' 0.1 ' ' 1\n",
      "\r\n",
      "\n",
      "\r\n",
      "Residual standard error: 1.481 on 4 degrees of freedom\n",
      "\r\n",
      "Multiple R-squared:  0.7421,\tAdjusted R-squared:  0.6776 \n",
      "\r\n",
      "F-statistic: 11.51 on 1 and 4 DF,  p-value: 0.02747\n",
      "\r\n",
      "\n",
      "\n",
      "[-0.1   0.03  0.29 -2.45  1.42  0.81]\n"
     ]
    }
   ],
   "source": [
    "a = %R print(summary(xylm))\n",
    "print(a)\n",
    "a = %R residuals(xylm)\n",
    "print(a)"
   ]
  }
 ],
 "metadata": {
  "anaconda-cloud": {},
  "kernelspec": {
   "display_name": "Python [default]",
   "language": "python",
   "name": "python3"
  },
  "language_info": {
   "codemirror_mode": {
    "name": "ipython",
    "version": 3
   },
   "file_extension": ".py",
   "mimetype": "text/x-python",
   "name": "python",
   "nbconvert_exporter": "python",
   "pygments_lexer": "ipython3",
   "version": "3.5.2"
  },
  "toc": {
   "colors": {
    "hover_highlight": "#DAA520",
    "running_highlight": "#FF0000",
    "selected_highlight": "#FFD700"
   },
   "moveMenuLeft": true,
   "nav_menu": {
    "height": "357px",
    "width": "252px"
   },
   "navigate_menu": true,
   "number_sections": true,
   "sideBar": true,
   "threshold": "3",
   "toc_cell": true,
   "toc_section_display": "block",
   "toc_window_display": false
  }
 },
 "nbformat": 4,
 "nbformat_minor": 1
}
