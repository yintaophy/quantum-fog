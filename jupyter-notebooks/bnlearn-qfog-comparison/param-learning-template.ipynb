{
 "cells": [
  {
   "cell_type": "code",
   "execution_count": 1,
   "metadata": {
    "collapsed": true
   },
   "outputs": [],
   "source": [
    "# default values of file paths, assuming quantum_fog is working dir\n",
    "in_bif = 'examples_cbnets/earthquake.bif'\n",
    "in_dot = 'examples_cbnets/earthquake.dot'\n",
    "in_csv = 'learning/training_data_c/earthquake.csv'\n",
    "qfog_path = None"
   ]
  },
  {
   "cell_type": "markdown",
   "metadata": {},
   "source": [
    "**Parameter Learning Template**"
   ]
  },
  {
   "cell_type": "markdown",
   "metadata": {
    "toc": "true"
   },
   "source": [
    "# Table of Contents\n",
    " <p><div class=\"lev1 toc-item\"><a href=\"#Learned-Network-Parameters\" data-toc-modified-id=\"Learned-Network-Parameters-1\"><span class=\"toc-item-num\">1&nbsp;&nbsp;</span>Learned Network Parameters</a></div><div class=\"lev2 toc-item\"><a href=\"#QFog\" data-toc-modified-id=\"QFog-11\"><span class=\"toc-item-num\">1.1&nbsp;&nbsp;</span>QFog</a></div><div class=\"lev2 toc-item\"><a href=\"#bnlearn\" data-toc-modified-id=\"bnlearn-12\"><span class=\"toc-item-num\">1.2&nbsp;&nbsp;</span>bnlearn</a></div><div class=\"lev2 toc-item\"><a href=\"#Summary-of-Running-Times\" data-toc-modified-id=\"Summary-of-Running-Times-13\"><span class=\"toc-item-num\">1.3&nbsp;&nbsp;</span>Summary of Running Times</a></div>"
   ]
  },
  {
   "cell_type": "code",
   "execution_count": 2,
   "metadata": {
    "collapsed": false
   },
   "outputs": [],
   "source": [
    "import pandas as pd\n",
    "import numpy as np\n",
    "from graphviz import Source\n",
    "\n",
    "import warnings\n",
    "warnings.filterwarnings(\"ignore\", module=\"rpy2\")\n",
    "\n",
    "import rpy2\n",
    "%load_ext rpy2.ipython\n",
    "%R library(\"bnlearn\");\n",
    "%R library(\"Rgraphviz\");"
   ]
  },
  {
   "cell_type": "code",
   "execution_count": 3,
   "metadata": {
    "collapsed": false
   },
   "outputs": [
    {
     "name": "stdout",
     "output_type": "stream",
     "text": [
      "cwd= /home/jupyter/Notebooks/Quantum/quantum-fog\n"
     ]
    }
   ],
   "source": [
    "import os\n",
    "import sys\n",
    "if not qfog_path:\n",
    "    os.chdir('../../')\n",
    "else:\n",
    "    os.chdir(qfog_path)\n",
    "cwd = os.getcwd()\n",
    "sys.path.insert(0,cwd)\n",
    "print(\"cwd=\", cwd)\n",
    "from learning.NetParamsLner import *"
   ]
  },
  {
   "cell_type": "markdown",
   "metadata": {},
   "source": [
    "Read in_csv, create Pandas Dataframe with it, push dataframe into R"
   ]
  },
  {
   "cell_type": "code",
   "execution_count": 4,
   "metadata": {
    "collapsed": false
   },
   "outputs": [
    {
     "data": {
      "text/html": [
       "<div>\n",
       "<table border=\"1\" class=\"dataframe\">\n",
       "  <thead>\n",
       "    <tr style=\"text-align: right;\">\n",
       "      <th></th>\n",
       "      <th>Earthquake</th>\n",
       "      <th>Burglary</th>\n",
       "      <th>Alarm</th>\n",
       "      <th>JohnCalls</th>\n",
       "      <th>MaryCalls</th>\n",
       "    </tr>\n",
       "  </thead>\n",
       "  <tbody>\n",
       "    <tr>\n",
       "      <th>0</th>\n",
       "      <td>1</td>\n",
       "      <td>1</td>\n",
       "      <td>1</td>\n",
       "      <td>1</td>\n",
       "      <td>1</td>\n",
       "    </tr>\n",
       "    <tr>\n",
       "      <th>1</th>\n",
       "      <td>1</td>\n",
       "      <td>1</td>\n",
       "      <td>1</td>\n",
       "      <td>1</td>\n",
       "      <td>1</td>\n",
       "    </tr>\n",
       "    <tr>\n",
       "      <th>2</th>\n",
       "      <td>1</td>\n",
       "      <td>1</td>\n",
       "      <td>1</td>\n",
       "      <td>1</td>\n",
       "      <td>1</td>\n",
       "    </tr>\n",
       "    <tr>\n",
       "      <th>3</th>\n",
       "      <td>1</td>\n",
       "      <td>1</td>\n",
       "      <td>1</td>\n",
       "      <td>1</td>\n",
       "      <td>1</td>\n",
       "    </tr>\n",
       "    <tr>\n",
       "      <th>4</th>\n",
       "      <td>1</td>\n",
       "      <td>1</td>\n",
       "      <td>1</td>\n",
       "      <td>1</td>\n",
       "      <td>1</td>\n",
       "    </tr>\n",
       "  </tbody>\n",
       "</table>\n",
       "</div>"
      ],
      "text/plain": [
       "   Earthquake  Burglary  Alarm  JohnCalls  MaryCalls\n",
       "0           1         1      1          1          1\n",
       "1           1         1      1          1          1\n",
       "2           1         1      1          1          1\n",
       "3           1         1      1          1          1\n",
       "4           1         1      1          1          1"
      ]
     },
     "execution_count": 4,
     "metadata": {},
     "output_type": "execute_result"
    }
   ],
   "source": [
    "states_df = pd.read_csv(in_csv)\n",
    "states_df.head()"
   ]
  },
  {
   "cell_type": "code",
   "execution_count": 5,
   "metadata": {
    "collapsed": false
   },
   "outputs": [
    {
     "data": {
      "text/html": [
       "<div>\n",
       "<table border=\"1\" class=\"dataframe\">\n",
       "  <thead>\n",
       "    <tr style=\"text-align: right;\">\n",
       "      <th></th>\n",
       "      <th>Earthquake</th>\n",
       "      <th>Burglary</th>\n",
       "      <th>Alarm</th>\n",
       "      <th>JohnCalls</th>\n",
       "      <th>MaryCalls</th>\n",
       "    </tr>\n",
       "  </thead>\n",
       "  <tbody>\n",
       "    <tr>\n",
       "      <th>4995</th>\n",
       "      <td>1</td>\n",
       "      <td>1</td>\n",
       "      <td>1</td>\n",
       "      <td>1</td>\n",
       "      <td>1</td>\n",
       "    </tr>\n",
       "    <tr>\n",
       "      <th>4996</th>\n",
       "      <td>1</td>\n",
       "      <td>1</td>\n",
       "      <td>1</td>\n",
       "      <td>0</td>\n",
       "      <td>1</td>\n",
       "    </tr>\n",
       "    <tr>\n",
       "      <th>4997</th>\n",
       "      <td>1</td>\n",
       "      <td>1</td>\n",
       "      <td>1</td>\n",
       "      <td>1</td>\n",
       "      <td>1</td>\n",
       "    </tr>\n",
       "    <tr>\n",
       "      <th>4998</th>\n",
       "      <td>1</td>\n",
       "      <td>1</td>\n",
       "      <td>1</td>\n",
       "      <td>1</td>\n",
       "      <td>1</td>\n",
       "    </tr>\n",
       "    <tr>\n",
       "      <th>4999</th>\n",
       "      <td>1</td>\n",
       "      <td>1</td>\n",
       "      <td>1</td>\n",
       "      <td>1</td>\n",
       "      <td>1</td>\n",
       "    </tr>\n",
       "  </tbody>\n",
       "</table>\n",
       "</div>"
      ],
      "text/plain": [
       "      Earthquake  Burglary  Alarm  JohnCalls  MaryCalls\n",
       "4995           1         1      1          1          1\n",
       "4996           1         1      1          0          1\n",
       "4997           1         1      1          1          1\n",
       "4998           1         1      1          1          1\n",
       "4999           1         1      1          1          1"
      ]
     },
     "execution_count": 5,
     "metadata": {},
     "output_type": "execute_result"
    }
   ],
   "source": [
    "states_df.tail()"
   ]
  },
  {
   "cell_type": "code",
   "execution_count": 6,
   "metadata": {
    "collapsed": false
   },
   "outputs": [
    {
     "data": {
      "text/plain": [
       "'data.frame':\t5000 obs. of  5 variables:\n",
       " $ Earthquake: int  1 1 1 1 1 1 1 1 1 1 ...\n",
       " $ Burglary  : int  1 1 1 1 1 1 1 1 1 1 ...\n",
       " $ Alarm     : int  1 1 1 1 1 1 1 1 1 1 ...\n",
       " $ JohnCalls : int  1 1 1 1 1 1 0 1 0 1 ...\n",
       " $ MaryCalls : int  1 1 1 1 1 1 1 1 1 1 ...\n"
      ]
     },
     "metadata": {},
     "output_type": "display_data"
    }
   ],
   "source": [
    "%Rpush states_df\n",
    "%R str(states_df)"
   ]
  },
  {
   "cell_type": "markdown",
   "metadata": {},
   "source": [
    "For bnlearn, data.frame columns cannot be int type, must be changed to factor.\n",
    "data.frame is a list so can use lapply"
   ]
  },
  {
   "cell_type": "code",
   "execution_count": 7,
   "metadata": {
    "collapsed": false
   },
   "outputs": [
    {
     "data": {
      "text/plain": [
       "'data.frame':\t5000 obs. of  5 variables:\n",
       " $ Earthquake: Factor w/ 2 levels \"0\",\"1\": 2 2 2 2 2 2 2 2 2 2 ...\n",
       " $ Burglary  : Factor w/ 2 levels \"0\",\"1\": 2 2 2 2 2 2 2 2 2 2 ...\n",
       " $ Alarm     : Factor w/ 2 levels \"0\",\"1\": 2 2 2 2 2 2 2 2 2 2 ...\n",
       " $ JohnCalls : Factor w/ 2 levels \"0\",\"1\": 2 2 2 2 2 2 1 2 1 2 ...\n",
       " $ MaryCalls : Factor w/ 2 levels \"0\",\"1\": 2 2 2 2 2 2 2 2 2 2 ...\n"
      ]
     },
     "metadata": {},
     "output_type": "display_data"
    }
   ],
   "source": [
    "%R states_df[] <- lapply(states_df, factor)\n",
    "%R str(states_df)"
   ]
  },
  {
   "cell_type": "markdown",
   "metadata": {
    "collapsed": true
   },
   "source": [
    "# Learned Network Parameters"
   ]
  },
  {
   "cell_type": "markdown",
   "metadata": {
    "collapsed": true
   },
   "source": [
    "## QFog"
   ]
  },
  {
   "cell_type": "code",
   "execution_count": 8,
   "metadata": {
    "collapsed": false
   },
   "outputs": [],
   "source": [
    "# emp = empirical, learned\n",
    "is_quantum = False\n",
    "bnet = BayesNet.read_bif(in_bif, is_quantum)\n",
    "bnet_emp = BayesNet.read_dot(in_dot)\n",
    "vtx_to_states = bnet.get_vtx_to_state_names()\n",
    "bnet_emp.import_nd_state_names(vtx_to_states)\n",
    "\n",
    "\n",
    "lnr = NetParamsLner(is_quantum, bnet_emp, states_df)"
   ]
  },
  {
   "cell_type": "code",
   "execution_count": 9,
   "metadata": {
    "collapsed": false
   },
   "outputs": [
    {
     "data": {
      "text/plain": [
       "<graphs.BayesNet.BayesNet at 0x7f1634838f28>"
      ]
     },
     "execution_count": 9,
     "metadata": {},
     "output_type": "execute_result"
    }
   ],
   "source": [
    "%%capture qfog_params_time\n",
    "%time lnr.learn_all_bnet_pots()"
   ]
  },
  {
   "cell_type": "code",
   "execution_count": 10,
   "metadata": {
    "collapsed": false
   },
   "outputs": [
    {
     "name": "stdout",
     "output_type": "stream",
     "text": [
      "****************un-normalizable pot\n",
      "sick pot:\n",
      "['Burglary', 'Earthquake', 'Alarm']\n",
      "[[[  0.00000000e+00   0.00000000e+00]\n",
      "  [  4.60000000e-03   7.40000000e-03]]\n",
      "\n",
      " [[  1.92000000e-02   1.60000000e-03]\n",
      "  [  8.00000000e-04   9.66400000e-01]]]\n",
      "mended pot:\n",
      " ['Burglary', 'Earthquake', 'Alarm']\n",
      "[[[  0.00000000e+00   1.00000000e+00]\n",
      "  [  4.60000000e-03   7.40000000e-03]]\n",
      "\n",
      " [[  1.92000000e-02   1.60000000e-03]\n",
      "  [  8.00000000e-04   9.66400000e-01]]]\n",
      "CPU times: user 30 ms, sys: 3.83 ms, total: 33.8 ms\n",
      "Wall time: 38.5 ms\n",
      "\n"
     ]
    }
   ],
   "source": [
    "print(qfog_params_time)"
   ]
  },
  {
   "cell_type": "code",
   "execution_count": 11,
   "metadata": {
    "collapsed": false
   },
   "outputs": [
    {
     "name": "stdout",
     "output_type": "stream",
     "text": [
      "\n",
      "node= Alarm\n",
      "true:\n",
      "['Burglary', 'Earthquake', 'Alarm']\n",
      "[[[ 0.95   0.05 ]\n",
      "  [ 0.29   0.71 ]]\n",
      "\n",
      " [[ 0.94   0.06 ]\n",
      "  [ 0.001  0.999]]]\n",
      "empirical:\n",
      "['Burglary', 'Earthquake', 'Alarm']\n",
      "[[[  0.00000000e+00   1.00000000e+00]\n",
      "  [  3.83333333e-01   6.16666667e-01]]\n",
      "\n",
      " [[  9.23076923e-01   7.69230769e-02]\n",
      "  [  8.27129859e-04   9.99172870e-01]]]\n",
      "\n",
      "node= Earthquake\n",
      "true:\n",
      "['Earthquake']\n",
      "[ 0.02  0.98]\n",
      "empirical:\n",
      "['Earthquake']\n",
      "[ 0.0208  0.9792]\n",
      "\n",
      "node= JohnCalls\n",
      "true:\n",
      "['Alarm', 'JohnCalls']\n",
      "[[ 0.9   0.1 ]\n",
      " [ 0.05  0.95]]\n",
      "empirical:\n",
      "['Alarm', 'JohnCalls']\n",
      "[[ 0.93495935  0.06504065]\n",
      " [ 0.05085093  0.94914907]]\n",
      "\n",
      "node= MaryCalls\n",
      "true:\n",
      "['Alarm', 'MaryCalls']\n",
      "[[ 0.7   0.3 ]\n",
      " [ 0.01  0.99]]\n",
      "empirical:\n",
      "['Alarm', 'MaryCalls']\n",
      "[[ 0.68292683  0.31707317]\n",
      " [ 0.01086734  0.98913266]]\n",
      "\n",
      "node= Burglary\n",
      "true:\n",
      "['Burglary']\n",
      "[ 0.01  0.99]\n",
      "empirical:\n",
      "['Burglary']\n",
      "[ 0.012  0.988]\n"
     ]
    }
   ],
   "source": [
    "lnr.compare_true_and_emp_pots(bnet, bnet_emp)"
   ]
  },
  {
   "cell_type": "markdown",
   "metadata": {},
   "source": [
    "## bnlearn\n"
   ]
  },
  {
   "cell_type": "code",
   "execution_count": 12,
   "metadata": {
    "collapsed": false
   },
   "outputs": [
    {
     "data": {
      "text/plain": [
       "List of 5\n",
       " $ Burglary  :List of 4\n",
       "  ..$ node    : chr \"Burglary\"\n",
       "  ..$ parents : chr(0) \n",
       "  ..$ children: chr \"Alarm\"\n",
       "  ..$ prob    : table [1:2(1d)] 0.01 0.99\n",
       "  .. ..- attr(*, \"dimnames\")=List of 1\n",
       "  .. .. ..$ : chr [1:2] \"True\" \"False\"\n",
       "  ..- attr(*, \"class\")= chr \"bn.fit.dnode\"\n",
       " $ Earthquake:List of 4\n",
       "  ..$ node    : chr \"Earthquake\"\n",
       "  ..$ parents : chr(0) \n",
       "  ..$ children: chr \"Alarm\"\n",
       "  ..$ prob    : table [1:2(1d)] 0.02 0.98\n",
       "  .. ..- attr(*, \"dimnames\")=List of 1\n",
       "  .. .. ..$ : chr [1:2] \"True\" \"False\"\n",
       "  ..- attr(*, \"class\")= chr \"bn.fit.dnode\"\n",
       " $ Alarm     :List of 4\n",
       "  ..$ node    : chr \"Alarm\"\n",
       "  ..$ parents : chr [1:2] \"Burglary\" \"Earthquake\"\n",
       "  ..$ children: chr [1:2] \"JohnCalls\" \"MaryCalls\"\n",
       "  ..$ prob    : table [1:2, 1:2, 1:2] 0.95 0.05 0.29 0.71 0.94 0.06 0.001 0.999\n",
       "  .. ..- attr(*, \"dimnames\")=List of 3\n",
       "  .. .. ..$ Alarm     : chr [1:2] \"True\" \"False\"\n",
       "  .. .. ..$ Burglary  : chr [1:2] \"True\" \"False\"\n",
       "  .. .. ..$ Earthquake: chr [1:2] \"True\" \"False\"\n",
       "  ..- attr(*, \"class\")= chr \"bn.fit.dnode\"\n",
       " $ JohnCalls :List of 4\n",
       "  ..$ node    : chr \"JohnCalls\"\n",
       "  ..$ parents : chr \"Alarm\"\n",
       "  ..$ children: chr(0) \n",
       "  ..$ prob    : table [1:2, 1:2] 0.9 0.1 0.05 0.95\n",
       "  .. ..- attr(*, \"dimnames\")=List of 2\n",
       "  .. .. ..$ JohnCalls: chr [1:2] \"True\" \"False\"\n",
       "  .. .. ..$ Alarm    : chr [1:2] \"True\" \"False\"\n",
       "  ..- attr(*, \"class\")= chr \"bn.fit.dnode\"\n",
       " $ MaryCalls :List of 4\n",
       "  ..$ node    : chr \"MaryCalls\"\n",
       "  ..$ parents : chr \"Alarm\"\n",
       "  ..$ children: chr(0) \n",
       "  ..$ prob    : table [1:2, 1:2] 0.7 0.3 0.01 0.99\n",
       "  .. ..- attr(*, \"dimnames\")=List of 2\n",
       "  .. .. ..$ MaryCalls: chr [1:2] \"True\" \"False\"\n",
       "  .. .. ..$ Alarm    : chr [1:2] \"True\" \"False\"\n",
       "  ..- attr(*, \"class\")= chr \"bn.fit.dnode\"\n",
       " - attr(*, \"class\")= chr [1:2] \"bn.fit\" \"bn.fit.dnet\"\n"
      ]
     },
     "metadata": {},
     "output_type": "display_data"
    }
   ],
   "source": [
    "%Rpush in_bif\n",
    "%R bn.fit = read.bif(in_bif)\n",
    "%R str(bn.fit)"
   ]
  },
  {
   "cell_type": "code",
   "execution_count": 13,
   "metadata": {
    "collapsed": false
   },
   "outputs": [
    {
     "data": {
      "text/plain": [
       "List of 3\n",
       " $ learning:List of 6\n",
       "  ..$ whitelist: NULL\n",
       "  ..$ blacklist: NULL\n",
       "  ..$ test     : chr \"none\"\n",
       "  ..$ ntests   : num 0\n",
       "  ..$ algo     : chr \"empty\"\n",
       "  ..$ args     : list()\n",
       " $ nodes   :List of 5\n",
       "  ..$ Burglary  :List of 4\n",
       "  .. ..$ mb      : chr [1:2] \"Earthquake\" \"Alarm\"\n",
       "  .. ..$ nbr     : chr \"Alarm\"\n",
       "  .. ..$ parents : chr(0) \n",
       "  .. ..$ children: chr \"Alarm\"\n",
       "  ..$ Earthquake:List of 4\n",
       "  .. ..$ mb      : chr [1:2] \"Burglary\" \"Alarm\"\n",
       "  .. ..$ nbr     : chr \"Alarm\"\n",
       "  .. ..$ parents : chr(0) \n",
       "  .. ..$ children: chr \"Alarm\"\n",
       "  ..$ Alarm     :List of 4\n",
       "  .. ..$ mb      : chr [1:4] \"Burglary\" \"Earthquake\" \"JohnCalls\" \"MaryCalls\"\n",
       "  .. ..$ nbr     : chr [1:4] \"Burglary\" \"Earthquake\" \"JohnCalls\" \"MaryCalls\"\n",
       "  .. ..$ parents : chr [1:2] \"Burglary\" \"Earthquake\"\n",
       "  .. ..$ children: chr [1:2] \"JohnCalls\" \"MaryCalls\"\n",
       "  ..$ JohnCalls :List of 4\n",
       "  .. ..$ mb      : chr \"Alarm\"\n",
       "  .. ..$ nbr     : chr \"Alarm\"\n",
       "  .. ..$ parents : chr \"Alarm\"\n",
       "  .. ..$ children: chr(0) \n",
       "  ..$ MaryCalls :List of 4\n",
       "  .. ..$ mb      : chr \"Alarm\"\n",
       "  .. ..$ nbr     : chr \"Alarm\"\n",
       "  .. ..$ parents : chr \"Alarm\"\n",
       "  .. ..$ children: chr(0) \n",
       " $ arcs    : chr [1:4, 1:2] \"Burglary\" \"Earthquake\" \"Alarm\" \"Alarm\" ...\n",
       "  ..- attr(*, \"dimnames\")=List of 2\n",
       "  .. ..$ : NULL\n",
       "  .. ..$ : chr [1:2] \"from\" \"to\"\n",
       " - attr(*, \"class\")= chr \"bn\"\n"
      ]
     },
     "metadata": {},
     "output_type": "display_data"
    }
   ],
   "source": [
    "%R bn = bn.net(bn.fit)\n",
    "%R str(bn)"
   ]
  },
  {
   "cell_type": "code",
   "execution_count": 14,
   "metadata": {
    "collapsed": true
   },
   "outputs": [],
   "source": [
    "%%capture bnlearn_params_time\n",
    "%time %R rfit = bn.fit(bn, data = states_df);"
   ]
  },
  {
   "cell_type": "code",
   "execution_count": 15,
   "metadata": {
    "collapsed": false
   },
   "outputs": [
    {
     "name": "stdout",
     "output_type": "stream",
     "text": [
      "CPU times: user 5.45 ms, sys: 3.78 ms, total: 9.23 ms\n",
      "Wall time: 10.2 ms\n",
      "\n"
     ]
    }
   ],
   "source": [
    "print(bnlearn_params_time)"
   ]
  },
  {
   "cell_type": "code",
   "execution_count": 16,
   "metadata": {
    "collapsed": false
   },
   "outputs": [
    {
     "data": {
      "text/plain": [
       "List of 5\n",
       " $ Burglary  :List of 4\n",
       "  ..$ node    : chr \"Burglary\"\n",
       "  ..$ parents : chr(0) \n",
       "  ..$ children: chr \"Alarm\"\n",
       "  ..$ prob    : table [1:2(1d)] 0.012 0.988\n",
       "  .. ..- attr(*, \"dimnames\")=List of 1\n",
       "  .. .. ..$ : chr [1:2] \"0\" \"1\"\n",
       "  ..- attr(*, \"class\")= chr \"bn.fit.dnode\"\n",
       " $ Earthquake:List of 4\n",
       "  ..$ node    : chr \"Earthquake\"\n",
       "  ..$ parents : chr(0) \n",
       "  ..$ children: chr \"Alarm\"\n",
       "  ..$ prob    : table [1:2(1d)] 0.0208 0.9792\n",
       "  .. ..- attr(*, \"dimnames\")=List of 1\n",
       "  .. .. ..$ : chr [1:2] \"0\" \"1\"\n",
       "  ..- attr(*, \"class\")= chr \"bn.fit.dnode\"\n",
       " $ Alarm     :List of 4\n",
       "  ..$ node    : chr \"Alarm\"\n",
       "  ..$ parents : chr [1:2] \"Burglary\" \"Earthquake\"\n",
       "  ..$ children: chr [1:2] \"JohnCalls\" \"MaryCalls\"\n",
       "  ..$ prob    : table [1:2, 1:2, 1:2] NaN NaN 0.9231 0.0769 0.3833 ...\n",
       "  .. ..- attr(*, \"dimnames\")=List of 3\n",
       "  .. .. ..$ Alarm     : chr [1:2] \"0\" \"1\"\n",
       "  .. .. ..$ Burglary  : chr [1:2] \"0\" \"1\"\n",
       "  .. .. ..$ Earthquake: chr [1:2] \"0\" \"1\"\n",
       "  ..- attr(*, \"class\")= chr \"bn.fit.dnode\"\n",
       " $ JohnCalls :List of 4\n",
       "  ..$ node    : chr \"JohnCalls\"\n",
       "  ..$ parents : chr \"Alarm\"\n",
       "  ..$ children: chr(0) \n",
       "  ..$ prob    : table [1:2, 1:2] 0.935 0.065 0.0509 0.9491\n",
       "  .. ..- attr(*, \"dimnames\")=List of 2\n",
       "  .. .. ..$ JohnCalls: chr [1:2] \"0\" \"1\"\n",
       "  .. .. ..$ Alarm    : chr [1:2] \"0\" \"1\"\n",
       "  ..- attr(*, \"class\")= chr \"bn.fit.dnode\"\n",
       " $ MaryCalls :List of 4\n",
       "  ..$ node    : chr \"MaryCalls\"\n",
       "  ..$ parents : chr \"Alarm\"\n",
       "  ..$ children: chr(0) \n",
       "  ..$ prob    : table [1:2, 1:2] 0.6829 0.3171 0.0109 0.9891\n",
       "  .. ..- attr(*, \"dimnames\")=List of 2\n",
       "  .. .. ..$ MaryCalls: chr [1:2] \"0\" \"1\"\n",
       "  .. .. ..$ Alarm    : chr [1:2] \"0\" \"1\"\n",
       "  ..- attr(*, \"class\")= chr \"bn.fit.dnode\"\n",
       " - attr(*, \"class\")= chr [1:2] \"bn.fit\" \"bn.fit.dnet\"\n"
      ]
     },
     "metadata": {},
     "output_type": "display_data"
    }
   ],
   "source": [
    "%R str(rfit)"
   ]
  },
  {
   "cell_type": "code",
   "execution_count": 17,
   "metadata": {
    "collapsed": false
   },
   "outputs": [
    {
     "data": {
      "text/plain": [
       "---------------- Burglary \n",
       "true:\n",
       "$Burglary\n",
       " True False \n",
       " 0.01  0.99 \n",
       "\n",
       "empirical:\n",
       "$Burglary\n",
       "    0     1 \n",
       "0.012 0.988 \n",
       "\n",
       "---------------- Earthquake \n",
       "true:\n",
       "$Earthquake\n",
       " True False \n",
       " 0.02  0.98 \n",
       "\n",
       "empirical:\n",
       "$Earthquake\n",
       "     0      1 \n",
       "0.0208 0.9792 \n",
       "\n",
       "---------------- Alarm \n",
       "true:\n",
       "$Alarm\n",
       ", , Earthquake = True\n",
       "\n",
       "       Burglary\n",
       "Alarm    True False\n",
       "  True  0.950 0.290\n",
       "  False 0.050 0.710\n",
       "\n",
       ", , Earthquake = False\n",
       "\n",
       "       Burglary\n",
       "Alarm    True False\n",
       "  True  0.940 0.001\n",
       "  False 0.060 0.999\n",
       "\n",
       "\n",
       "empirical:\n",
       "$Alarm\n",
       ", , Earthquake = 0\n",
       "\n",
       "     Burglary\n",
       "Alarm 0            1\n",
       "    0   0.9230769231\n",
       "    1   0.0769230769\n",
       "\n",
       ", , Earthquake = 1\n",
       "\n",
       "     Burglary\n",
       "Alarm            0            1\n",
       "    0 0.3833333333 0.0008271299\n",
       "    1 0.6166666667 0.9991728701\n",
       "\n",
       "\n",
       "---------------- JohnCalls \n",
       "true:\n",
       "$JohnCalls\n",
       "         Alarm\n",
       "JohnCalls True False\n",
       "    True  0.90  0.05\n",
       "    False 0.10  0.95\n",
       "\n",
       "empirical:\n",
       "$JohnCalls\n",
       "         Alarm\n",
       "JohnCalls          0          1\n",
       "        0 0.93495935 0.05085093\n",
       "        1 0.06504065 0.94914907\n",
       "\n",
       "---------------- MaryCalls \n",
       "true:\n",
       "$MaryCalls\n",
       "         Alarm\n",
       "MaryCalls True False\n",
       "    True  0.70  0.01\n",
       "    False 0.30  0.99\n",
       "\n",
       "empirical:\n",
       "$MaryCalls\n",
       "         Alarm\n",
       "MaryCalls          0          1\n",
       "        0 0.68292683 0.01086734\n",
       "        1 0.31707317 0.98913266\n",
       "\n"
      ]
     },
     "metadata": {},
     "output_type": "display_data"
    }
   ],
   "source": [
    "%%R\n",
    "j = 0\n",
    "for( nd in nodes(bn.fit)){\n",
    "    j = j + 1\n",
    "    cat('----------------', nd[1], '\\n')\n",
    "    cat('true:\\n')\n",
    "    print(coef(bn.fit)[j])\n",
    "    cat('empirical:\\n')\n",
    "    print(coef(rfit)[j])\n",
    "}"
   ]
  },
  {
   "cell_type": "markdown",
   "metadata": {
    "collapsed": true
   },
   "source": [
    "## Summary of Running Times"
   ]
  },
  {
   "cell_type": "code",
   "execution_count": 18,
   "metadata": {
    "collapsed": false
   },
   "outputs": [
    {
     "name": "stdout",
     "output_type": "stream",
     "text": [
      "QFog:\n",
      " ****************un-normalizable pot\n",
      "sick pot:\n",
      "['Burglary', 'Earthquake', 'Alarm']\n",
      "[[[  0.00000000e+00   0.00000000e+00]\n",
      "  [  4.60000000e-03   7.40000000e-03]]\n",
      "\n",
      " [[  1.92000000e-02   1.60000000e-03]\n",
      "  [  8.00000000e-04   9.66400000e-01]]]\n",
      "mended pot:\n",
      " ['Burglary', 'Earthquake', 'Alarm']\n",
      "[[[  0.00000000e+00   1.00000000e+00]\n",
      "  [  4.60000000e-03   7.40000000e-03]]\n",
      "\n",
      " [[  1.92000000e-02   1.60000000e-03]\n",
      "  [  8.00000000e-04   9.66400000e-01]]]\n",
      "CPU times: user 30 ms, sys: 3.83 ms, total: 33.8 ms\n",
      "Wall time: 38.5 ms\n",
      "\n",
      "bnlearn:\n",
      " CPU times: user 5.45 ms, sys: 3.78 ms, total: 9.23 ms\n",
      "Wall time: 10.2 ms\n",
      "\n"
     ]
    }
   ],
   "source": [
    "print(\"QFog:\\n\", qfog_params_time)\n",
    "print(\"bnlearn:\\n\", bnlearn_params_time)"
   ]
  },
  {
   "cell_type": "code",
   "execution_count": null,
   "metadata": {
    "collapsed": true
   },
   "outputs": [],
   "source": []
  }
 ],
 "metadata": {
  "anaconda-cloud": {},
  "kernelspec": {
   "display_name": "Python 3",
   "language": "python",
   "name": "python3"
  },
  "language_info": {
   "codemirror_mode": {
    "name": "ipython",
    "version": 3
   },
   "file_extension": ".py",
   "mimetype": "text/x-python",
   "name": "python",
   "nbconvert_exporter": "python",
   "pygments_lexer": "ipython3",
   "version": "3.6.0"
  },
  "toc": {
   "colors": {
    "hover_highlight": "#DAA520",
    "running_highlight": "#FF0000",
    "selected_highlight": "#FFD700"
   },
   "moveMenuLeft": true,
   "nav_menu": {
    "height": "210px",
    "width": "252px"
   },
   "navigate_menu": true,
   "number_sections": true,
   "sideBar": false,
   "threshold": "3",
   "toc_cell": true,
   "toc_position": {
    "height": "283px",
    "left": "1px",
    "right": "20px",
    "top": "107px",
    "width": "212px"
   },
   "toc_section_display": "none",
   "toc_window_display": true
  }
 },
 "nbformat": 4,
 "nbformat_minor": 1
}
