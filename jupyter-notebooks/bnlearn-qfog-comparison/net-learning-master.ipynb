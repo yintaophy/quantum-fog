{
 "cells": [
  {
   "cell_type": "markdown",
   "metadata": {},
   "source": [
    "**Net Learning Master**\n",
    "\n",
    "This notebook runs \n",
    "* struc-learning-template.ipynb \n",
    "* param-learning-template.ipynb \n",
    "\n",
    "for different networks.\n",
    "\n",
    "See nbrun-example folder for an example of how to use nbrun (nbrun=notebook run)"
   ]
  },
  {
   "cell_type": "markdown",
   "metadata": {
    "toc": "true"
   },
   "source": [
    "# Table of Contents\n",
    " <p><div class=\"lev1 toc-item\"><a href=\"#earthquake\" data-toc-modified-id=\"earthquake-1\"><span class=\"toc-item-num\">1&nbsp;&nbsp;</span>earthquake</a></div><div class=\"lev1 toc-item\"><a href=\"#WetGrass\" data-toc-modified-id=\"WetGrass-2\"><span class=\"toc-item-num\">2&nbsp;&nbsp;</span>WetGrass</a></div><div class=\"lev1 toc-item\"><a href=\"#asia_\" data-toc-modified-id=\"asia_-3\"><span class=\"toc-item-num\">3&nbsp;&nbsp;</span>asia_</a></div>"
   ]
  },
  {
   "cell_type": "markdown",
   "metadata": {},
   "source": [
    "Change working directory to quantum-fog and add it to path environment variable."
   ]
  },
  {
   "cell_type": "code",
   "execution_count": 1,
   "metadata": {
    "collapsed": false
   },
   "outputs": [
    {
     "name": "stdout",
     "output_type": "stream",
     "text": [
      "/home/jupyter/Notebooks/Quantum/quantum-fog/jupyter-notebooks/bnlearn-qfog-comparison\n",
      "/home/jupyter/Notebooks/Quantum/quantum-fog\n"
     ]
    }
   ],
   "source": [
    "import os\n",
    "import sys\n",
    "master_dir_path = os.getcwd()\n",
    "print(master_dir_path)\n",
    "os.chdir('../../')\n",
    "qfog_path = os.getcwd()\n",
    "print(qfog_path)\n",
    "sys.path.insert(0,qfog_path)"
   ]
  },
  {
   "cell_type": "markdown",
   "metadata": {},
   "source": [
    "import nbrun.py"
   ]
  },
  {
   "cell_type": "code",
   "execution_count": 2,
   "metadata": {
    "collapsed": true
   },
   "outputs": [],
   "source": [
    "# this doesn't work because of hyphen:\n",
    "# from jupyter-notebooks.nbrun import run_notebook\n",
    "\n",
    "import importlib\n",
    "mod = importlib.import_module(\"jupyter-notebooks.nbrun\")"
   ]
  },
  {
   "cell_type": "markdown",
   "metadata": {},
   "source": [
    "import qfog modules"
   ]
  },
  {
   "cell_type": "code",
   "execution_count": 3,
   "metadata": {
    "collapsed": false
   },
   "outputs": [],
   "source": [
    "from learning.RandGen_NetParams import *\n",
    "from graphs.BayesNet import *"
   ]
  },
  {
   "cell_type": "code",
   "execution_count": 4,
   "metadata": {
    "collapsed": false
   },
   "outputs": [],
   "source": [
    "# if use_tempo_csv=True (False, resp.) will write training data \n",
    "# into a tempo.csv (<bnet_name>.csv, resp.) file\n",
    "\n",
    "def do_net(do_struc= True, do_param=True, use_tempo_csv=True):\n",
    "    \n",
    "    in_bif = 'examples_cbnets/' + bnet_name + '.bif'\n",
    "    in_dot = 'examples_cbnets/' + bnet_name + '.dot'\n",
    "    in_csv = 'learning/training_data_c/'\n",
    "    \n",
    "    if not generate_training_data:\n",
    "        in_csv +=  bnet_name + '.csv'\n",
    "        assert os.path.exists(in_csv), \"no training data for this net in training_data_c folder\"\n",
    "    else: \n",
    "        if use_tempo_csv:\n",
    "            in_csv += 'tempo.csv'\n",
    "        else:\n",
    "            in_csv += bnet_name + '.csv'\n",
    "    \n",
    "        print('generating training data')\n",
    "        is_quantum = False\n",
    "        use_int_sts = True\n",
    "        bnet = BayesNet.read_bif(in_bif, is_quantum)\n",
    "        gen = RandGen_NetParams(is_quantum, bnet, num_samples, use_int_sts)    \n",
    "        gen.write_csv(in_csv)\n",
    "        \n",
    "    nb_kwargs = {'in_bif': in_bif, 'in_dot': in_dot, 'in_csv': in_csv, 'qfog_path': qfog_path}\n",
    "    # nbrun.py assumes cwd is the dir of the master notebook\n",
    "    os.chdir(master_dir_path)\n",
    "    if do_struc:    \n",
    "        template_name = 'struc-learning-template'\n",
    "        mod.run_notebook(template_name, nb_suffix='-' + bnet_name, nb_kwargs=nb_kwargs)    \n",
    "    if do_param:\n",
    "        template_name = 'param-learning-template'\n",
    "        mod.run_notebook(template_name, nb_suffix='-' + bnet_name, nb_kwargs=nb_kwargs)\n",
    "    # revert to preferred dir\n",
    "    os.chdir(qfog_path)\n"
   ]
  },
  {
   "cell_type": "markdown",
   "metadata": {},
   "source": [
    "# earthquake"
   ]
  },
  {
   "cell_type": "code",
   "execution_count": 5,
   "metadata": {
    "collapsed": false
   },
   "outputs": [
    {
     "data": {
      "text/html": [
       "<a href='./struc-learning-template.ipynb' target='_blank'>./struc-learning-template.ipynb</a><br>"
      ],
      "text/plain": [
       "/home/jupyter/Notebooks/Quantum/quantum-fog/jupyter-notebooks/bnlearn-qfog-comparison/struc-learning-template.ipynb"
      ]
     },
     "metadata": {},
     "output_type": "display_data"
    },
    {
     "data": {
      "text/html": [
       "<a href='./struc-learning-template-earthquake.ipynb' target='_blank'>./struc-learning-template-earthquake.ipynb</a><br>"
      ],
      "text/plain": [
       "/home/jupyter/Notebooks/Quantum/quantum-fog/jupyter-notebooks/bnlearn-qfog-comparison/struc-learning-template-earthquake.ipynb"
      ]
     },
     "metadata": {},
     "output_type": "display_data"
    },
    {
     "data": {
      "text/html": [
       "<a href='./param-learning-template.ipynb' target='_blank'>./param-learning-template.ipynb</a><br>"
      ],
      "text/plain": [
       "/home/jupyter/Notebooks/Quantum/quantum-fog/jupyter-notebooks/bnlearn-qfog-comparison/param-learning-template.ipynb"
      ]
     },
     "metadata": {},
     "output_type": "display_data"
    },
    {
     "data": {
      "text/html": [
       "<a href='./param-learning-template-earthquake.ipynb' target='_blank'>./param-learning-template-earthquake.ipynb</a><br>"
      ],
      "text/plain": [
       "/home/jupyter/Notebooks/Quantum/quantum-fog/jupyter-notebooks/bnlearn-qfog-comparison/param-learning-template-earthquake.ipynb"
      ]
     },
     "metadata": {},
     "output_type": "display_data"
    }
   ],
   "source": [
    "bnet_name = 'earthquake'\n",
    "generate_training_data = False  # use False if training data already exists\n",
    "num_samples = 5000\n",
    "\n",
    "do_net()"
   ]
  },
  {
   "cell_type": "markdown",
   "metadata": {},
   "source": [
    "# WetGrass"
   ]
  },
  {
   "cell_type": "code",
   "execution_count": 6,
   "metadata": {
    "collapsed": false
   },
   "outputs": [
    {
     "data": {
      "text/html": [
       "<a href='./struc-learning-template.ipynb' target='_blank'>./struc-learning-template.ipynb</a><br>"
      ],
      "text/plain": [
       "/home/jupyter/Notebooks/Quantum/quantum-fog/jupyter-notebooks/bnlearn-qfog-comparison/struc-learning-template.ipynb"
      ]
     },
     "metadata": {},
     "output_type": "display_data"
    },
    {
     "data": {
      "text/html": [
       "<a href='./struc-learning-template-WetGrass.ipynb' target='_blank'>./struc-learning-template-WetGrass.ipynb</a><br>"
      ],
      "text/plain": [
       "/home/jupyter/Notebooks/Quantum/quantum-fog/jupyter-notebooks/bnlearn-qfog-comparison/struc-learning-template-WetGrass.ipynb"
      ]
     },
     "metadata": {},
     "output_type": "display_data"
    },
    {
     "data": {
      "text/html": [
       "<a href='./param-learning-template.ipynb' target='_blank'>./param-learning-template.ipynb</a><br>"
      ],
      "text/plain": [
       "/home/jupyter/Notebooks/Quantum/quantum-fog/jupyter-notebooks/bnlearn-qfog-comparison/param-learning-template.ipynb"
      ]
     },
     "metadata": {},
     "output_type": "display_data"
    },
    {
     "data": {
      "text/html": [
       "<a href='./param-learning-template-WetGrass.ipynb' target='_blank'>./param-learning-template-WetGrass.ipynb</a><br>"
      ],
      "text/plain": [
       "/home/jupyter/Notebooks/Quantum/quantum-fog/jupyter-notebooks/bnlearn-qfog-comparison/param-learning-template-WetGrass.ipynb"
      ]
     },
     "metadata": {},
     "output_type": "display_data"
    }
   ],
   "source": [
    "bnet_name = 'WetGrass'\n",
    "generate_training_data = False  # use False if training data already exists\n",
    "num_samples = 2000\n",
    "\n",
    "do_net()"
   ]
  },
  {
   "cell_type": "markdown",
   "metadata": {},
   "source": [
    "# asia_"
   ]
  },
  {
   "cell_type": "code",
   "execution_count": 7,
   "metadata": {
    "collapsed": false
   },
   "outputs": [
    {
     "name": "stdout",
     "output_type": "stream",
     "text": [
      "generating training data\n"
     ]
    },
    {
     "data": {
      "text/html": [
       "<a href='./struc-learning-template.ipynb' target='_blank'>./struc-learning-template.ipynb</a><br>"
      ],
      "text/plain": [
       "/home/jupyter/Notebooks/Quantum/quantum-fog/jupyter-notebooks/bnlearn-qfog-comparison/struc-learning-template.ipynb"
      ]
     },
     "metadata": {},
     "output_type": "display_data"
    },
    {
     "data": {
      "text/html": [
       "<a href='./struc-learning-template-asia_.ipynb' target='_blank'>./struc-learning-template-asia_.ipynb</a><br>"
      ],
      "text/plain": [
       "/home/jupyter/Notebooks/Quantum/quantum-fog/jupyter-notebooks/bnlearn-qfog-comparison/struc-learning-template-asia_.ipynb"
      ]
     },
     "metadata": {},
     "output_type": "display_data"
    },
    {
     "data": {
      "text/html": [
       "<a href='./param-learning-template.ipynb' target='_blank'>./param-learning-template.ipynb</a><br>"
      ],
      "text/plain": [
       "/home/jupyter/Notebooks/Quantum/quantum-fog/jupyter-notebooks/bnlearn-qfog-comparison/param-learning-template.ipynb"
      ]
     },
     "metadata": {},
     "output_type": "display_data"
    },
    {
     "data": {
      "text/html": [
       "<a href='./param-learning-template-asia_.ipynb' target='_blank'>./param-learning-template-asia_.ipynb</a><br>"
      ],
      "text/plain": [
       "/home/jupyter/Notebooks/Quantum/quantum-fog/jupyter-notebooks/bnlearn-qfog-comparison/param-learning-template-asia_.ipynb"
      ]
     },
     "metadata": {},
     "output_type": "display_data"
    }
   ],
   "source": [
    "# asia_.bif is same as asia.bif but with hyphens replaced by underscores in state names \n",
    "# because hyphens confuse current version of bnlearn.\n",
    "bnet_name = 'asia_'\n",
    "generate_training_data = True  # use False if training data already exists\n",
    "num_samples = 2000\n",
    "\n",
    "do_net()"
   ]
  },
  {
   "cell_type": "code",
   "execution_count": 8,
   "metadata": {
    "collapsed": true
   },
   "outputs": [],
   "source": [
    "%%bash\n",
    "rm -f learning/training_data_c/tempo.csv"
   ]
  }
 ],
 "metadata": {
  "kernelspec": {
   "display_name": "Python 3",
   "language": "python",
   "name": "python3"
  },
  "language_info": {
   "codemirror_mode": {
    "name": "ipython",
    "version": 3
   },
   "file_extension": ".py",
   "mimetype": "text/x-python",
   "name": "python",
   "nbconvert_exporter": "python",
   "pygments_lexer": "ipython3",
   "version": "3.6.0"
  },
  "toc": {
   "colors": {
    "hover_highlight": "#DAA520",
    "running_highlight": "#FF0000",
    "selected_highlight": "#FFD700"
   },
   "moveMenuLeft": true,
   "nav_menu": {
    "height": "12px",
    "width": "252px"
   },
   "navigate_menu": true,
   "number_sections": true,
   "sideBar": true,
   "threshold": 4,
   "toc_cell": true,
   "toc_section_display": "block",
   "toc_window_display": true
  }
 },
 "nbformat": 4,
 "nbformat_minor": 2
}
