{
 "cells": [
  {
   "cell_type": "markdown",
   "metadata": {},
   "source": [
    "# Master Notebook\n",
    "\n",
    "Reference\n",
    "\n",
    "> https://github.com/tritemio/nbrun\n",
    "\n",
    "This notebook executes the [template notebook](example-template-notebook.ipynb) passing different arguments."
   ]
  },
  {
   "cell_type": "markdown",
   "metadata": {},
   "source": [
    "## Import nbrun.py"
   ]
  },
  {
   "cell_type": "code",
   "execution_count": 1,
   "metadata": {
    "collapsed": false
   },
   "outputs": [
    {
     "name": "stdout",
     "output_type": "stream",
     "text": [
      "/home/jupyter/Notebooks/quantum-fog/jupyter-notebooks/nbrun-example\n",
      "/home/jupyter/Notebooks/quantum-fog\n"
     ]
    }
   ],
   "source": [
    "import os\n",
    "import sys\n",
    "master_dir_path = os.getcwd()\n",
    "print(master_dir_path)\n",
    "os.chdir('../../')\n",
    "qfog_path = os.getcwd()\n",
    "print(qfog_path)\n",
    "sys.path.insert(0,qfog_path)"
   ]
  },
  {
   "cell_type": "code",
   "execution_count": 2,
   "metadata": {
    "collapsed": false
   },
   "outputs": [],
   "source": [
    "# this doesn't work because of hyphen\n",
    "# from jupyter-notebooks.nbrun import run_notebook\n",
    "\n",
    "import importlib\n",
    "mod = importlib.import_module(\"jupyter-notebooks.nbrun\")"
   ]
  },
  {
   "cell_type": "markdown",
   "metadata": {
    "collapsed": true
   },
   "source": [
    "## Execute notebooks"
   ]
  },
  {
   "cell_type": "code",
   "execution_count": 3,
   "metadata": {
    "collapsed": false
   },
   "outputs": [
    {
     "data": {
      "text/html": [
       "<a href='./example-template-notebook.ipynb' target='_blank'>./example-template-notebook.ipynb</a><br>"
      ],
      "text/plain": [
       "/home/jupyter/Notebooks/quantum-fog/jupyter-notebooks/nbrun-example/example-template-notebook.ipynb"
      ]
     },
     "metadata": {},
     "output_type": "display_data"
    },
    {
     "data": {
      "text/html": [
       "<a href='./example-template-notebook-out_0_a.ipynb' target='_blank'>./example-template-notebook-out_0_a.ipynb</a><br>"
      ],
      "text/plain": [
       "/home/jupyter/Notebooks/quantum-fog/jupyter-notebooks/nbrun-example/example-template-notebook-out_0_a.ipynb"
      ]
     },
     "metadata": {},
     "output_type": "display_data"
    },
    {
     "data": {
      "text/html": [
       "<a href='./example-template-notebook.ipynb' target='_blank'>./example-template-notebook.ipynb</a><br>"
      ],
      "text/plain": [
       "/home/jupyter/Notebooks/quantum-fog/jupyter-notebooks/nbrun-example/example-template-notebook.ipynb"
      ]
     },
     "metadata": {},
     "output_type": "display_data"
    },
    {
     "data": {
      "text/html": [
       "<a href='./example-template-notebook-out_0_b.ipynb' target='_blank'>./example-template-notebook-out_0_b.ipynb</a><br>"
      ],
      "text/plain": [
       "/home/jupyter/Notebooks/quantum-fog/jupyter-notebooks/nbrun-example/example-template-notebook-out_0_b.ipynb"
      ]
     },
     "metadata": {},
     "output_type": "display_data"
    },
    {
     "data": {
      "text/html": [
       "<a href='./example-template-notebook.ipynb' target='_blank'>./example-template-notebook.ipynb</a><br>"
      ],
      "text/plain": [
       "/home/jupyter/Notebooks/quantum-fog/jupyter-notebooks/nbrun-example/example-template-notebook.ipynb"
      ]
     },
     "metadata": {},
     "output_type": "display_data"
    },
    {
     "data": {
      "text/html": [
       "<a href='./example-template-notebook-out_1_a.ipynb' target='_blank'>./example-template-notebook-out_1_a.ipynb</a><br>"
      ],
      "text/plain": [
       "/home/jupyter/Notebooks/quantum-fog/jupyter-notebooks/nbrun-example/example-template-notebook-out_1_a.ipynb"
      ]
     },
     "metadata": {},
     "output_type": "display_data"
    },
    {
     "data": {
      "text/html": [
       "<a href='./example-template-notebook.ipynb' target='_blank'>./example-template-notebook.ipynb</a><br>"
      ],
      "text/plain": [
       "/home/jupyter/Notebooks/quantum-fog/jupyter-notebooks/nbrun-example/example-template-notebook.ipynb"
      ]
     },
     "metadata": {},
     "output_type": "display_data"
    },
    {
     "data": {
      "text/html": [
       "<a href='./example-template-notebook-out_1_b.ipynb' target='_blank'>./example-template-notebook-out_1_b.ipynb</a><br>"
      ],
      "text/plain": [
       "/home/jupyter/Notebooks/quantum-fog/jupyter-notebooks/nbrun-example/example-template-notebook-out_1_b.ipynb"
      ]
     },
     "metadata": {},
     "output_type": "display_data"
    }
   ],
   "source": [
    "# nbrun.py assumes that python cwd is the dir of the master notebook\n",
    "os.chdir(master_dir_path)\n",
    "\n",
    "nb_name = 'example-template-notebook'\n",
    "for data_id in (0, 1):\n",
    "    for analysis_type in ('a', 'b'):\n",
    "        nb_kwargs = {'data_id': data_id, 'analysis_type': analysis_type}\n",
    "        mod.run_notebook(nb_name, nb_suffix='-out_%d_%s' % (data_id, analysis_type), nb_kwargs=nb_kwargs)\n",
    "\n",
    "# restore preferred cwd\n",
    "os.chdir(qfog_path)"
   ]
  },
  {
   "cell_type": "markdown",
   "metadata": {},
   "source": [
    "## How to generate links by hand"
   ]
  },
  {
   "cell_type": "markdown",
   "metadata": {},
   "source": [
    "I could generate my own links in a markdown cell this way:\n",
    "\n",
    "* <a href=\"./example-template-notebook-out_0_a.ipynb\">link to out_0_a</a>\n",
    "* [link to out_0_a](./example-template-notebook-out_0_a.ipynb)\n",
    "\n",
    "Note that html links are relative to dir of notebook in which they appear and independent of python cwd"
   ]
  },
  {
   "cell_type": "code",
   "execution_count": 4,
   "metadata": {
    "collapsed": false
   },
   "outputs": [
    {
     "data": {
      "text/html": [
       "<a href=example-template-notebook-out_0_a.ipynb target=\"_blank\">look here</a>"
      ],
      "text/plain": [
       "<IPython.core.display.HTML object>"
      ]
     },
     "metadata": {},
     "output_type": "display_data"
    }
   ],
   "source": [
    "# I could generate my own links in the output cell this way\n",
    "from IPython.display import display, FileLink, HTML\n",
    "def show_link(target, text):\n",
    "    display(HTML('<a href=' + target + ' target=\"_blank\">' + text + '</a>'))\n",
    "    \n",
    "fname = 'example-template-notebook-out_0_a.ipynb'\n",
    "text = 'look here'\n",
    "show_link(fname, text)"
   ]
  }
 ],
 "metadata": {
  "kernelspec": {
   "display_name": "Python 3",
   "language": "python",
   "name": "python3"
  },
  "language_info": {
   "codemirror_mode": {
    "name": "ipython",
    "version": 3
   },
   "file_extension": ".py",
   "mimetype": "text/x-python",
   "name": "python",
   "nbconvert_exporter": "python",
   "pygments_lexer": "ipython3",
   "version": "3.6.0"
  },
  "toc": {
   "colors": {
    "hover_highlight": "#DAA520",
    "running_highlight": "#FF0000",
    "selected_highlight": "#FFD700"
   },
   "moveMenuLeft": true,
   "nav_menu": {
    "height": "66px",
    "width": "252px"
   },
   "navigate_menu": true,
   "number_sections": true,
   "sideBar": true,
   "threshold": 4,
   "toc_cell": false,
   "toc_section_display": "block",
   "toc_window_display": false
  }
 },
 "nbformat": 4,
 "nbformat_minor": 0
}
