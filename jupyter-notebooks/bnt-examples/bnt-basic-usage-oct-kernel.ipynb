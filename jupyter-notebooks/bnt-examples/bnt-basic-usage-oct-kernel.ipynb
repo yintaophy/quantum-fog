{
 "cells": [
  {
   "cell_type": "markdown",
   "metadata": {},
   "source": [
    "**BNT Basic Usage on Octave kernel**\n",
    "\n",
    "This notebook illustrates basic usage of BNT (Bayes Net Toolbox, by Kevin Murphy et al) running on a Jupyter notebook with an Octave kernel. BNT is written in Matlab. Running this notebook requires that BNT and an Octave kernel be installed on your computer.\n",
    "\n",
    "This notebook is heavily based on the BNT  tutorial:\n",
    "\n",
    "1. http://bayesnet.github.io/bnt/docs/usage.html\n",
    "2. https://htmlpreview.github.io/?https://github.com/bayesnet/bnt/blob/master/docs/usage.html"
   ]
  },
  {
   "cell_type": "markdown",
   "metadata": {},
   "source": [
    "**References on Jupyter notebooks with Octave kernel:**\n",
    "\n",
    "* https://github.com/Calysto/octave_kernel\n",
    "\n",
    "* http://nbviewer.jupyter.org/github/Calysto/octave_kernel/blob/master/octave_kernel.ipynb"
   ]
  },
  {
   "cell_type": "markdown",
   "metadata": {},
   "source": [
    "**References on usage of short-circuiting & and | in Matlab**\n",
    "\n",
    "* https://www.gnu.org/software/octave/doc/interpreter/Command-Line-Options.html\n",
    "\n",
    "* https://www.gnu.org/software/octave/doc/interpreter/Issuing-Warnings.html\n",
    "\n",
    "* http://wiki.octave.org/FAQ#Differences_between_Octave_and_Matlab"
   ]
  },
  {
   "cell_type": "markdown",
   "metadata": {},
   "source": [
    "Magic commands in notebooks  with Octave kernel are different to those with Python kernel. Note conflict between\n",
    "using % for comments and using it to invoke magic"
   ]
  },
  {
   "cell_type": "code",
   "execution_count": 1,
   "metadata": {
    "collapsed": false
   },
   "outputs": [
    {
     "name": "stdout",
     "output_type": "stream",
     "text": [
      "ans = /home/jupyter/Notebooks/Quantum/quantum-fog/jupyter-notebooks/bnt-examples\n"
     ]
    }
   ],
   "source": [
    "pwd()"
   ]
  },
  {
   "cell_type": "code",
   "execution_count": 2,
   "metadata": {
    "collapsed": false
   },
   "outputs": [
    {
     "name": "stdout",
     "output_type": "stream",
     "text": [
      "bnt_path = /home/jupyter/Notebooks/Classical/bnt\n"
     ]
    }
   ],
   "source": [
    "bnt_path = '/home/jupyter/Notebooks/Classical/bnt'"
   ]
  },
  {
   "cell_type": "code",
   "execution_count": 3,
   "metadata": {
    "collapsed": false
   },
   "outputs": [
    {
     "name": "stdout",
     "output_type": "stream",
     "text": [
      "bnt-basic-usage-oct-kernel.ipynb  bnt-examples-included-in-distro.ipynb\n",
      "bnt-biftool.ipynb\t\t  bnt-read-write-a-bif.ipynb\n"
     ]
    }
   ],
   "source": [
    "ls"
   ]
  },
  {
   "cell_type": "code",
   "execution_count": 4,
   "metadata": {
    "collapsed": false,
    "scrolled": true
   },
   "outputs": [
    {
     "name": "stdout",
     "output_type": "stream",
     "text": [
      "Line magics:\n",
      "    %activity FILENAME - run a widget-based activity\n",
      "    %cd PATH - change current directory of session\n",
      "    %connect_info - show connection information\n",
      "    %conversation ID - insert conversation by ID\n",
      "    %dot CODE - render code as Graphviz image\n",
      "    %download URL [-f FILENAME] - download file from URL\n",
      "    %edit FILENAME - load code from filename into next cell for editing\n",
      "    %get VARIABLE - get a variable from the kernel in a Python-type.\n",
      "    %help TEXT - get help on the given text\n",
      "    %html CODE - display code as HTML\n",
      "    %include FILENAME ... - include code from filename into this code\n",
      "    %install PACKAGE - install package\n",
      "    %install_magic URL - download and install magic from URL\n",
      "    %javascript CODE - send code as JavaScript\n",
      "    %jigsaw LANGUAGE - show visual code editor/generator\n",
      "    %kernel MODULE CLASS [-k NAME] - construct a kernel for sending code.\n",
      "    %kx CODE [-k NAME] - send the code to the kernel.\n",
      "    %latex TEXT - display text as LaTeX\n",
      "    %load FILENAME - load code from filename into next cell\n",
      "    %ls PATH - list files and directories under PATH\n",
      "    %lsmagic - list the current line and cell magics\n",
      "    %macro NAME - execute a macro\n",
      "    %magic - show installed magics\n",
      "    %matplotlib BACKEND - set the matplotlib backend to BACKEND\n",
      "    %parallel MODULE CLASS [-k NAME] [-i [...]] - construct an interface to the cluster.\n",
      "    %plot [options] backend - configure plotting for the session.\n",
      "    %pmap FUNCTION [ARGS1,ARGS2,...] - (\"parallel map\") call a FUNCTION on args\n",
      "    %px EXPRESSION - send EXPRESSION to the cluster.\n",
      "    %python CODE - evaluate code as Python\n",
      "    %reload_magics - reload the magics from the installed files\n",
      "    %restart - restart session\n",
      "    %run [--language LANG] FILENAME - run code in filename by\n",
      "    %scheme CODE - evaluate code as Scheme\n",
      "    %set VARIABLE VALUE - set a variable in the kernel.\n",
      "    %shell COMMAND - run the line as a shell command\n",
      "\n",
      "Cell magics:\n",
      "     %%shell - run the contents of the cell as shell commands\n",
      "    %%activity FILENAME - make an activity from\n",
      "    %%brain - run a cell as brain control code\n",
      "    %%debug - step through the code expression by expression\n",
      "    %%dot - render contents of cell as Graphviz image\n",
      "    %%file [--append|-a] FILENAME - write contents of cell to file\n",
      "    %%help TEXT - get detailed help on the given text\n",
      "    %%html - display contents of cell as HTML\n",
      "    %%javascript - send contents of cell as JavaScript\n",
      "    %%kx [-k NAME] - send the cell code to the kernel.\n",
      "    %%latex - display contents of cell as LaTeX\n",
      "    %%macro NAME - learn a new macro\n",
      "    %%pipe FUNCTION1 | FUNCTION2 ...\n",
      "    %%processing - run the cell in the language Processing\n",
      "    %%px - send cell to the cluster.\n",
      "    %%python - evaluate contents of cell as Python\n",
      "    %%scheme - evaluate contents of cell as Scheme\n",
      "    %%show [-o]- show cell contents or results in system pager\n",
      "    %%time - show time to run cell\n",
      "    %%tutor [--language=LANGUAGE] - show cell with\n",
      "    %conversation ID - insert conversation by ID\n",
      "\n",
      "Shell shortcut:\n",
      "    ! COMMAND ... - execute command in shell\n",
      "\n",
      "Any cell magic can be made persistent for rest of session by using %%% prefix.\n",
      "\n",
      "Help on items:\n"
     ]
    },
    {
     "name": "stderr",
     "output_type": "stream",
     "text": [
      "\u001b[0;31mError in calling magic 'magic' on line:\n",
      "    string indices must be integers\n",
      "    args: []\n",
      "    kwargs: {}\n",
      "\u001b[0m\u001b[0;31mTraceback (most recent call last):\n",
      "  File \"/opt/anaconda3/lib/python3.6/site-packages/metakernel/magic.py\", line 82, in call_magic\n",
      "    func(*args, **kwargs)\n",
      "TypeError: line_magic() missing 1 required positional argument: 'line'\n",
      "\n",
      "During handling of the above exception, another exception occurred:\n",
      "\n",
      "Traceback (most recent call last):\n",
      "  File \"/opt/anaconda3/lib/python3.6/site-packages/metakernel/magic.py\", line 84, in call_magic\n",
      "    func(old_args)\n",
      "  File \"/opt/anaconda3/lib/python3.6/site-packages/metakernel/magics/magic_magic.py\", line 44, in line_magic\n",
      "    for string in self.kernel.line_magics['help'].help_strings():\n",
      "  File \"/opt/anaconda3/lib/python3.6/site-packages/metakernel/magics/help_magic.py\", line 22, in help_strings\n",
      "    for s in suffixes]\n",
      "  File \"/opt/anaconda3/lib/python3.6/site-packages/metakernel/magics/help_magic.py\", line 22, in <listcomp>\n",
      "    for s in suffixes]\n",
      "TypeError: string indices must be integers\n",
      "\n",
      "\u001b[0m\u001b[0;31m%magic - show installed magics\n",
      "\n",
      "This line magic shows all of the install magics, either from\n",
      "the system magic folder, or your own private magic folder.\n",
      "\u001b[0m"
     ]
    }
   ],
   "source": [
    "%magic"
   ]
  },
  {
   "cell_type": "code",
   "execution_count": 5,
   "metadata": {
    "collapsed": false,
    "scrolled": true
   },
   "outputs": [
    {
     "name": "stdout",
     "output_type": "stream",
     "text": [
      "GNU Octave, version 3.8.1\n",
      "Copyright (C) 2014 John W. Eaton and others.\n",
      "This is free software; see the source code for copying conditions.\n",
      "There is ABSOLUTELY NO WARRANTY; not even for MERCHANTABILITY or\n",
      "FITNESS FOR A PARTICULAR PURPOSE.\n",
      "\n",
      "Octave was configured for \"x86_64-pc-linux-gnu\".\n",
      "\n",
      "Usage: octave [options] [FILE]\n",
      "\n",
      "Options:\n",
      "\n",
      "  --built-in-docstrings-file FILE Use docs for built-ins from FILE.\n",
      "  --debug, -d             Enter parser debugging mode.\n",
      "  --debug-jit             Enable JIT compiler debugging/tracing.\n",
      "  --doc-cache-file FILE   Use doc cache file FILE.\n",
      "  --echo-commands, -x     Echo commands as they are executed.\n",
      "  --eval CODE             Evaluate CODE.  Exit when done unless --persist.\n",
      "  --exec-path PATH        Set path for executing subprograms.\n",
      "  --force-gui             Force graphical user interface to start.\n",
      "  --help, -h,             Print short help message and exit.\n",
      "  --image-path PATH       Add PATH to head of image search path.\n",
      "  --info-file FILE        Use top-level info file FILE.\n",
      "  --info-program PROGRAM  Use PROGRAM for reading info files.\n",
      "  --interactive, -i       Force interactive behavior.\n",
      "  --jit-compiler          Enable the JIT compiler.\n",
      "  --line-editing          Force readline use for command-line editing.\n",
      "  --no-gui                Disable the graphical user interface.\n",
      "  --no-history, -H        Don't save commands to the history list\n",
      "  --no-init-file          Don't read the ~/.octaverc or .octaverc files.\n",
      "  --no-init-path          Don't initialize function search path.\n",
      "  --no-line-editing       Don't use readline for command-line editing.\n",
      "  --no-site-file          Don't read the site-wide octaverc file.\n",
      "  --no-window-system, -W  Disable window system, including graphics.\n",
      "  --norc, -f              Don't read any initialization files.\n",
      "  --path PATH, -p PATH    Add PATH to head of function search path.\n",
      "  --persist               Go interactive after --eval or reading from FILE.\n",
      "  --silent, --quiet, -q   Don't print message at startup.\n",
      "  --texi-macros-file FILE Use Texinfo macros in FILE for makeinfo command.\n",
      "  --traditional           Set variables for closer MATLAB compatibility.\n",
      "  --verbose, -V           Enable verbose output in some cases.\n",
      "  --version, -v           Print version number and exit.\n",
      "\n",
      "  FILE                    Execute commands from FILE.  Exit when done\n",
      "                          unless --persist is also specified.\n",
      "\n",
      "Additional information about Octave is available at http://www.octave.org.\n",
      "\n",
      "Please contribute if you find this software useful.\n",
      "For more information, visit http://www.octave.org/get-involved.html\n",
      "\n",
      "Read http://www.octave.org/bugs.html to learn how to submit bug reports.\n"
     ]
    }
   ],
   "source": [
    "%%shell\n",
    "octave --help"
   ]
  },
  {
   "cell_type": "code",
   "execution_count": 6,
   "metadata": {
    "collapsed": false
   },
   "outputs": [],
   "source": [
    "do_braindead_shortcircuit_evaluation (1)\n",
    "warning('off', 'Octave:possible-matlab-short-circuit-operator')  % very numerous warnings"
   ]
  },
  {
   "cell_type": "code",
   "execution_count": 7,
   "metadata": {
    "collapsed": false
   },
   "outputs": [],
   "source": [
    "% 'path' and 'pwd()' are different\n",
    "% path  % instructive to print but takes too long"
   ]
  },
  {
   "cell_type": "code",
   "execution_count": 8,
   "metadata": {
    "collapsed": false
   },
   "outputs": [
    {
     "name": "stdout",
     "output_type": "stream",
     "text": [
      "warning: function /home/jupyter/Notebooks/Classical/bnt/KPMtools/strsplit.m shadows a core library function\n",
      "warning: function /home/jupyter/Notebooks/Classical/bnt/KPMtools/factorial.m shadows a core library function\n",
      "warning: function /home/jupyter/Notebooks/Classical/bnt/KPMtools/chi2inv.m shadows a core library function\n",
      "warning: function /home/jupyter/Notebooks/Classical/bnt/graph/test.m shadows a core library function\n"
     ]
    }
   ],
   "source": [
    "% genpath(dir) grows dir to list of all files inside it (recursive)\n",
    "addpath(genpath(bnt_path))  "
   ]
  },
  {
   "cell_type": "code",
   "execution_count": 9,
   "metadata": {
    "collapsed": false
   },
   "outputs": [],
   "source": [
    "% path  % instructive to print but takes too long"
   ]
  },
  {
   "cell_type": "code",
   "execution_count": 10,
   "metadata": {
    "collapsed": true
   },
   "outputs": [],
   "source": [
    "N = 4; \n",
    "dag = zeros(N,N);\n",
    "C = 1; S = 2; R = 3; W = 4;\n",
    "dag(C,[R S]) = 1;\n",
    "dag(R,W) = 1;\n",
    "dag(S,W)=1;"
   ]
  },
  {
   "cell_type": "code",
   "execution_count": 11,
   "metadata": {
    "collapsed": true
   },
   "outputs": [],
   "source": [
    "discrete_nodes = 1:N;\n",
    "node_sizes = 2*ones(1,N); \n",
    "% same as \n",
    "% node_sizes = [2, 2, 2, 2]"
   ]
  },
  {
   "cell_type": "code",
   "execution_count": 12,
   "metadata": {
    "collapsed": false
   },
   "outputs": [
    {
     "name": "stdout",
     "output_type": "stream",
     "text": [
      "warning: isstr is obsolete and will be removed from a future version of Octave, please use ischar instead\n"
     ]
    }
   ],
   "source": [
    "bnet = mk_bnet(dag, node_sizes, 'discrete', discrete_nodes);\n",
    "% works too:\n",
    "% bnet = mk_bnet(dag, node_sizes);\n",
    "\n",
    "% works too:\n",
    "% onodes = [];\n",
    "% bnet = mk_bnet(dag, node_sizes, 'discrete', discrete_nodes, 'observed', onodes);"
   ]
  },
  {
   "cell_type": "code",
   "execution_count": 13,
   "metadata": {
    "collapsed": false
   },
   "outputs": [],
   "source": [
    "bnet.CPD{C} = tabular_CPD(bnet, C, [0.5 0.5]);\n",
    "bnet.CPD{R} = tabular_CPD(bnet, R, [0.8 0.2 0.2 0.8]);\n",
    "bnet.CPD{S} = tabular_CPD(bnet, S, [0.5 0.9 0.5 0.1]);\n",
    "bnet.CPD{W} = tabular_CPD(bnet, W, [1 0.1 0.1 0.01 0 0.9 0.9 0.99]);"
   ]
  },
  {
   "cell_type": "code",
   "execution_count": 14,
   "metadata": {
    "collapsed": false
   },
   "outputs": [
    {
     "name": "stdout",
     "output_type": "stream",
     "text": [
      "bnet =\n",
      "\n",
      "  scalar structure containing the fields:\n",
      "\n",
      "    equiv_class =\n",
      "\n",
      "       1   2   3   4\n",
      "\n",
      "    dnodes =\n",
      "\n",
      "       1   2   3   4\n",
      "\n",
      "    observed = [](0x0)\n",
      "    names = {}(0x0)\n",
      "    hidden =\n",
      "\n",
      "       1   2   3   4\n",
      "\n",
      "    hidden_bitv =\n",
      "\n",
      "       1   1   1   1\n",
      "\n",
      "    dag =\n",
      "\n",
      "       0   1   1   0\n",
      "       0   0   0   1\n",
      "       0   0   0   1\n",
      "       0   0   0   0\n",
      "\n",
      "    node_sizes =\n",
      "\n",
      "       2   2   2   2\n",
      "\n",
      "    cnodes = [](1x0)\n",
      "    parents = \n",
      "    {\n",
      "      [1,1] = [](1x0)\n",
      "      [1,2] =  1\n",
      "      [1,3] =  1\n",
      "      [1,4] =\n",
      "\n",
      "         2   3\n",
      "\n",
      "    }\n",
      "    members_of_equiv_class = \n",
      "    {\n",
      "      [1,1] =  1\n",
      "      [1,2] =  2\n",
      "      [1,3] =  3\n",
      "      [1,4] =  4\n",
      "    }\n",
      "    CPD = \n",
      "    {\n",
      "tabular_CPD object\n",
      "\n",
      "        scalar structure containing the fields:\n",
      "\n",
      "          CPT =\n",
      "\n",
      "             0.50000\n",
      "             0.50000\n",
      "\n",
      "          sizes =  2\n",
      "          prior_type = none\n",
      "          dirichlet = [](0x0)\n",
      "          adjustable =  1\n",
      "          counts =\n",
      "\n",
      "             0\n",
      "             0\n",
      "\n",
      "          nparams =  1\n",
      "          nsamples = 0\n",
      "          trim = 0\n",
      "          trimmed_trans = [](0x0)\n",
      "          leftright = 0\n",
      "          entropic_pcases =  1\n",
      "          sparse = 0\n",
      "\n",
      "            scalar structure containing the fields:\n",
      "\n",
      "              dom_sizes: 1x1 scalar\n",
      "              generic_CPD: 1x1 class\n",
      "tabular_CPD object\n",
      "\n",
      "        scalar structure containing the fields:\n",
      "\n",
      "          CPT =\n",
      "\n",
      "             0.50000   0.50000\n",
      "             0.90000   0.10000\n",
      "\n",
      "          sizes =\n",
      "\n",
      "             2   2\n",
      "\n",
      "          prior_type = none\n",
      "          dirichlet = [](0x0)\n",
      "          adjustable =  1\n",
      "          counts =\n",
      "\n",
      "             0\n",
      "             0\n",
      "             0\n",
      "             0\n",
      "\n",
      "          nparams =  2\n",
      "          nsamples = 0\n",
      "          trim = 0\n",
      "          trimmed_trans = [](0x0)\n",
      "          leftright = 0\n",
      "          entropic_pcases =\n",
      "\n",
      "             1   2\n",
      "\n",
      "          sparse = 0\n",
      "\n",
      "            scalar structure containing the fields:\n",
      "\n",
      "              dom_sizes: 1x2 matrix\n",
      "              generic_CPD: 1x1 class\n",
      "tabular_CPD object\n",
      "\n",
      "        scalar structure containing the fields:\n",
      "\n",
      "          CPT =\n",
      "\n",
      "             0.80000   0.20000\n",
      "             0.20000   0.80000\n",
      "\n",
      "          sizes =\n",
      "\n",
      "             2   2\n",
      "\n",
      "          prior_type = none\n",
      "          dirichlet = [](0x0)\n",
      "          adjustable =  1\n",
      "          counts =\n",
      "\n",
      "             0\n",
      "             0\n",
      "             0\n",
      "             0\n",
      "\n",
      "          nparams =  2\n",
      "          nsamples = 0\n",
      "          trim = 0\n",
      "          trimmed_trans = [](0x0)\n",
      "          leftright = 0\n",
      "          entropic_pcases =\n",
      "\n",
      "             1   2\n",
      "\n",
      "          sparse = 0\n",
      "\n",
      "            scalar structure containing the fields:\n",
      "\n",
      "              dom_sizes: 1x2 matrix\n",
      "              generic_CPD: 1x1 class\n",
      "tabular_CPD object\n",
      "\n",
      "        scalar structure containing the fields:\n",
      "\n",
      "          CPT =\n",
      "\n",
      "          ans(:,:,1) =\n",
      "\n",
      "             1.000000   0.100000\n",
      "             0.100000   0.010000\n",
      "\n",
      "          ans(:,:,2) =\n",
      "\n",
      "             0.00000   0.90000\n",
      "             0.90000   0.99000\n",
      "\n",
      "          sizes =\n",
      "\n",
      "             2   2   2\n",
      "\n",
      "          prior_type = none\n",
      "          dirichlet = [](0x0)\n",
      "          adjustable =  1\n",
      "          counts =\n",
      "\n",
      "             0\n",
      "             0\n",
      "             0\n",
      "             0\n",
      "             0\n",
      "             0\n",
      "             0\n",
      "             0\n",
      "\n",
      "          nparams =  4\n",
      "          nsamples = 0\n",
      "          trim = 0\n",
      "          trimmed_trans = [](0x0)\n",
      "          leftright = 0\n",
      "          entropic_pcases =\n",
      "\n",
      "             1   2   3   4\n",
      "\n",
      "          sparse = 0\n",
      "\n",
      "            scalar structure containing the fields:\n",
      "\n",
      "              dom_sizes: 1x3 matrix\n",
      "              generic_CPD: 1x1 class\n",
      "    }\n",
      "    rep_of_eclass =\n",
      "\n",
      "       1   2   3   4\n",
      "\n",
      "    order =\n",
      "\n",
      "       1   3   2   4\n",
      "\n",
      "\n"
     ]
    }
   ],
   "source": [
    "bnet"
   ]
  },
  {
   "cell_type": "code",
   "execution_count": 15,
   "metadata": {
    "collapsed": false
   },
   "outputs": [],
   "source": [
    "engine = jtree_inf_engine(bnet);"
   ]
  },
  {
   "cell_type": "code",
   "execution_count": 16,
   "metadata": {
    "collapsed": true
   },
   "outputs": [],
   "source": [
    "evidence = cell(1,N);\n",
    "evidence{W} = 2;"
   ]
  },
  {
   "cell_type": "code",
   "execution_count": 17,
   "metadata": {
    "collapsed": false
   },
   "outputs": [],
   "source": [
    "[engine, loglik] = enter_evidence(engine, evidence);"
   ]
  },
  {
   "cell_type": "code",
   "execution_count": 18,
   "metadata": {
    "collapsed": false
   },
   "outputs": [
    {
     "name": "stdout",
     "output_type": "stream",
     "text": [
      "ans =\n",
      "\n",
      "   0.57024\n",
      "   0.42976\n",
      "\n"
     ]
    }
   ],
   "source": [
    "marg = marginal_nodes(engine, S);\n",
    "marg.T"
   ]
  },
  {
   "cell_type": "code",
   "execution_count": 19,
   "metadata": {
    "collapsed": false
   },
   "outputs": [
    {
     "name": "stdout",
     "output_type": "stream",
     "text": [
      "p =  0.42976\n"
     ]
    }
   ],
   "source": [
    "p = marg.T(2)"
   ]
  },
  {
   "cell_type": "code",
   "execution_count": 20,
   "metadata": {
    "collapsed": false
   },
   "outputs": [
    {
     "name": "stdout",
     "output_type": "stream",
     "text": [
      "p =  0.19450\n"
     ]
    }
   ],
   "source": [
    "evidence{R} = 2;\n",
    "[engine, loglik] = enter_evidence(engine, evidence);\n",
    "marg = marginal_nodes(engine, S);\n",
    "p = marg.T(2)"
   ]
  },
  {
   "cell_type": "code",
   "execution_count": 21,
   "metadata": {
    "collapsed": false
   },
   "outputs": [
    {
     "name": "stdout",
     "output_type": "stream",
     "text": [
      "ans =  1.0000\n"
     ]
    }
   ],
   "source": [
    "evidence = cell(1,N);\n",
    "evidence{W} = 2;\n",
    "engine = enter_evidence(engine, evidence);\n",
    "m = marginal_nodes(engine, W);\n",
    "m.T"
   ]
  },
  {
   "cell_type": "code",
   "execution_count": 22,
   "metadata": {
    "collapsed": false
   },
   "outputs": [
    {
     "name": "stdout",
     "output_type": "stream",
     "text": [
      "ans =\n",
      "\n",
      "   0.00000\n",
      "   1.00000\n",
      "\n"
     ]
    }
   ],
   "source": [
    "m = marginal_nodes(engine, W, 1);\n",
    "m.T"
   ]
  },
  {
   "cell_type": "code",
   "execution_count": 23,
   "metadata": {
    "collapsed": false
   },
   "outputs": [
    {
     "name": "stdout",
     "output_type": "stream",
     "text": [
      "ans =\n",
      "\n",
      "ans(:,:,1) =\n",
      "\n",
      "   2.9000e-01   4.1000e-02\n",
      "   2.1000e-02   9.0000e-04\n",
      "\n",
      "ans(:,:,2) =\n",
      "\n",
      "   0.00000   0.36900\n",
      "   0.18900   0.08910\n",
      "\n"
     ]
    }
   ],
   "source": [
    "evidence = cell(1,N);\n",
    "[engine, ll] = enter_evidence(engine, evidence);\n",
    "m = marginal_nodes(engine, [S R W]);\n",
    "m.T"
   ]
  },
  {
   "cell_type": "code",
   "execution_count": 24,
   "metadata": {
    "collapsed": false
   },
   "outputs": [
    {
     "name": "stdout",
     "output_type": "stream",
     "text": [
      "m =\n",
      "\n",
      "  scalar structure containing the fields:\n",
      "\n",
      "    domain =\n",
      "\n",
      "       2   3   4\n",
      "\n",
      "    T =\n",
      "\n",
      "    ans(:,:,1) =\n",
      "\n",
      "       0.0820000\n",
      "       0.0018000\n",
      "\n",
      "    ans(:,:,2) =\n",
      "\n",
      "       0.73800\n",
      "       0.17820\n",
      "\n",
      "    mu = [](0x0)\n",
      "    Sigma = [](0x0)\n",
      "\n"
     ]
    }
   ],
   "source": [
    "evidence{R} = 2;\n",
    "[engine, ll] = enter_evidence(engine, evidence);\n",
    "m = marginal_nodes(engine, [S R W])"
   ]
  },
  {
   "cell_type": "code",
   "execution_count": 25,
   "metadata": {
    "collapsed": false
   },
   "outputs": [
    {
     "name": "stdout",
     "output_type": "stream",
     "text": [
      "ans =\n",
      "\n",
      "ans(:,:,1) =\n",
      "\n",
      "   0.0820000\n",
      "   0.0018000\n",
      "\n",
      "ans(:,:,2) =\n",
      "\n",
      "   0.73800\n",
      "   0.17820\n",
      "\n"
     ]
    }
   ],
   "source": [
    "m.T"
   ]
  },
  {
   "cell_type": "code",
   "execution_count": 26,
   "metadata": {
    "collapsed": false
   },
   "outputs": [
    {
     "name": "stdout",
     "output_type": "stream",
     "text": [
      "m =\n",
      "\n",
      "  scalar structure containing the fields:\n",
      "\n",
      "    domain =\n",
      "\n",
      "       2   3   4\n",
      "\n",
      "    T =\n",
      "\n",
      "    ans(:,:,1) =\n",
      "\n",
      "       0.000000   0.082000\n",
      "       0.000000   0.001800\n",
      "\n",
      "    ans(:,:,2) =\n",
      "\n",
      "       0.00000   0.73800\n",
      "       0.00000   0.17820\n",
      "\n",
      "    mu = [](0x0)\n",
      "    sigma = [](0x0)\n",
      "\n"
     ]
    }
   ],
   "source": [
    "m = marginal_nodes(engine, [S R W], 1)"
   ]
  },
  {
   "cell_type": "code",
   "execution_count": 27,
   "metadata": {
    "collapsed": false
   },
   "outputs": [
    {
     "name": "stdout",
     "output_type": "stream",
     "text": [
      "ans =\n",
      "\n",
      "ans(:,:,1) =\n",
      "\n",
      "   0.000000   0.082000\n",
      "   0.000000   0.001800\n",
      "\n",
      "ans(:,:,2) =\n",
      "\n",
      "   0.00000   0.73800\n",
      "   0.00000   0.17820\n",
      "\n"
     ]
    }
   ],
   "source": [
    "m.T"
   ]
  },
  {
   "cell_type": "code",
   "execution_count": 28,
   "metadata": {
    "collapsed": false
   },
   "outputs": [
    {
     "name": "stdout",
     "output_type": "stream",
     "text": [
      "warning: fopen: file found in load path\n",
      "ans = % If all is well, all of these scripts should run without errors.\n",
      "\n",
      "\n",
      "% bnets\n",
      "cg1\n",
      "cg2\n",
      "discrete1\n",
      "fa1\n",
      "gaussian1\n",
      "gaussian2\n",
      "if exist('@gibbs_sampling_inf_engine/private/compute_posterior','file')\n",
      "  % only exists if installC has been run\n",
      "  gibbs_test1\n",
      "end\n",
      "learn1\n",
      "lw1\n",
      "mfa1\n",
      "mixexp1\n",
      "mixexp2\n",
      "mixexp3\n",
      "mog1\n",
      "mpe1\n",
      "mpe2\n",
      "qmr1\n",
      "qmr2\n",
      "sample1\n",
      "softev1\n",
      "softmax1\n",
      "sprinkler1\n",
      "\n",
      "\n",
      "% belief propagation\n",
      "belprop_polytree_discrete\n",
      "belprop_polytree_gauss % alag\n",
      "belprop_polytree_cg\n",
      "belprop_loop1_discrete\n",
      "belprop_loop1_gauss\n",
      "belprop_loopy_discrete\n",
      "belprop_loopy_gauss\n",
      "belprop_loopy_cg % like cg1\n",
      "\n",
      "\n",
      "% factor graphs\n",
      "%fg1   failed since marginals were not exact\n",
      "\n",
      "fg2\n",
      "fg3\n",
      "fg_mrf1\n",
      "fg_mrf2\n",
      "\n",
      "\n",
      "% Structure learning\n",
      "bic1\n",
      "cooper_yoo\n",
      "k2demo1\n",
      "mcmc1\n",
      "model_select1\n",
      "pc1\n",
      "%pc2   failed due to numerical problems in KPMstats/cond_indep_fisher_z\n",
      "\n",
      "\n",
      "\n",
      "\n",
      "% limids\n",
      "asia_dt1\n",
      "id1\n",
      "oil1\n",
      "pigs1\n",
      "\n",
      "\n",
      "% dbns\n",
      "arhmm1\n",
      "bat1\n",
      "bkff1\n",
      "chmm1\n",
      "dhmm1\n",
      "filter_test1\n",
      "ghmm1\n",
      "kalman1\n",
      "kjaerulff1\n",
      "loopy_dbn1\n",
      "mhmm1\n",
      "mildew1\n",
      "reveal1\n",
      "viterbi1\n",
      "water1\n",
      "\n",
      "\n",
      "% HHMMs\n",
      "abcd_hhmm\n",
      "sample_square_hhmm_discrete\n",
      "%learn_square_hhmm_cts\n",
      "sample_motif_hhmm\n",
      "\n",
      "%sparse jtree engine & ndx 2TBN engine\n",
      "if exist('@jtree_sparse_inf_engine/init_pot','file')\n",
      "  % only exists if installC has been run\n",
      "  discrete2\n",
      "  discrete3 \n",
      "  filter_test1\n",
      "  water2\n",
      "end\n",
      "\n",
      "%find . -path '*.m' -exec wc -l {} \\; | ~/count.pl\n",
      "\n",
      "% we cannot use tic;toc to time test_BNT, since functions within this script\n",
      "% reset the tic;toc timer. Hence we use the following:\n",
      "%clock0=clock; cpu0 = cputime; test_BNT; cpu=cputime-cpu0; elapsed=etime(clock, clock0)\n",
      "\n"
     ]
    }
   ],
   "source": [
    "fileread('test_BNT.m')"
   ]
  },
  {
   "cell_type": "code",
   "execution_count": 29,
   "metadata": {
    "collapsed": false
   },
   "outputs": [],
   "source": [
    "% test_BNT  % not fully working yet"
   ]
  },
  {
   "cell_type": "code",
   "execution_count": null,
   "metadata": {
    "collapsed": false
   },
   "outputs": [],
   "source": []
  }
 ],
 "metadata": {
  "kernelspec": {
   "display_name": "Octave",
   "language": "octave",
   "name": "octave"
  },
  "language_info": {
   "file_extension": ".m",
   "help_links": [
    {
     "text": "GNU Octave",
     "url": "https://www.gnu.org/software/octave/support.html"
    },
    {
     "text": "Octave Kernel",
     "url": "https://github.com/Calysto/octave_kernel"
    },
    {
     "text": "MetaKernel Magics",
     "url": "https://github.com/calysto/metakernel/blob/master/metakernel/magics/README.md"
    }
   ],
   "mimetype": "text/x-octave",
   "name": "octave",
   "version": "3.8.1"
  },
  "toc": {
   "colors": {
    "hover_highlight": "#DAA520",
    "running_highlight": "#FF0000",
    "selected_highlight": "#FFD700"
   },
   "moveMenuLeft": true,
   "nav_menu": {
    "height": "12px",
    "width": "252px"
   },
   "navigate_menu": true,
   "number_sections": true,
   "sideBar": true,
   "threshold": 4,
   "toc_cell": false,
   "toc_section_display": "block",
   "toc_window_display": false
  }
 },
 "nbformat": 4,
 "nbformat_minor": 2
}
