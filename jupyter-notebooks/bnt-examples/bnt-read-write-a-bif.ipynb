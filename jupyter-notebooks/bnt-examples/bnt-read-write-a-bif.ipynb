{
 "cells": [
  {
   "cell_type": "markdown",
   "metadata": {},
   "source": [
    "**bnt-read-write-a-bif**\n",
    "\n",
    "This notebook gives examples showing how BNT (Bayes Net Toolbox, by Kevin Murphy et al) can read and write bif and dot files by calling auxiliary functions found in the notebook ```bnt-biftool.ipynb```.\n",
    "\n",
    "BNT is written in Matlab. Running this notebook requires that BNT, Python, Octave and octavemagic be installed on your computer "
   ]
  },
  {
   "cell_type": "code",
   "execution_count": 1,
   "metadata": {
    "collapsed": false
   },
   "outputs": [
    {
     "name": "stdout",
     "output_type": "stream",
     "text": [
      "/home/jupyter/Notebooks/Quantum/quantum-fog/jupyter-notebooks/bnt-examples\n",
      "/home/jupyter/Notebooks/Quantum/quantum-fog\n"
     ]
    }
   ],
   "source": [
    "import os\n",
    "import sys\n",
    "nb_dir = os.getcwd()\n",
    "print(nb_dir)\n",
    "os.chdir('../../')\n",
    "qfog_path = os.getcwd()\n",
    "print(qfog_path)\n",
    "sys.path.insert(0,qfog_path)"
   ]
  },
  {
   "cell_type": "code",
   "execution_count": 2,
   "metadata": {
    "collapsed": true
   },
   "outputs": [],
   "source": [
    "bnt_path = '/home/jupyter/Notebooks/Classical/bnt'"
   ]
  },
  {
   "cell_type": "code",
   "execution_count": 3,
   "metadata": {
    "collapsed": true
   },
   "outputs": [],
   "source": [
    "import numpy as np\n",
    "import operator\n",
    "import oct2py\n",
    "%load_ext oct2py.ipython"
   ]
  },
  {
   "cell_type": "code",
   "execution_count": 4,
   "metadata": {
    "collapsed": false
   },
   "outputs": [],
   "source": [
    "from graphs.BayesNet import *"
   ]
  },
  {
   "cell_type": "code",
   "execution_count": 5,
   "metadata": {
    "collapsed": false
   },
   "outputs": [],
   "source": [
    "%%octave\n",
    "do_braindead_shortcircuit_evaluation (1)\n",
    "warning('off', 'Octave:possible-matlab-short-circuit-operator')"
   ]
  },
  {
   "cell_type": "code",
   "execution_count": 6,
   "metadata": {
    "collapsed": false
   },
   "outputs": [
    {
     "data": {
      "text/plain": [
       "warning: function /home/jupyter/Notebooks/Classical/bnt/KPMtools/strsplit.m shadows a core library function"
      ]
     },
     "metadata": {},
     "output_type": "display_data"
    },
    {
     "data": {
      "text/plain": [
       "warning: function /home/jupyter/Notebooks/Classical/bnt/KPMtools/factorial.m shadows a core library function"
      ]
     },
     "metadata": {},
     "output_type": "display_data"
    },
    {
     "data": {
      "text/plain": [
       "warning: function /home/jupyter/Notebooks/Classical/bnt/KPMtools/chi2inv.m shadows a core library function"
      ]
     },
     "metadata": {},
     "output_type": "display_data"
    },
    {
     "data": {
      "text/plain": [
       "warning: function /home/jupyter/Notebooks/Classical/bnt/graph/test.m shadows a core library function"
      ]
     },
     "metadata": {},
     "output_type": "display_data"
    }
   ],
   "source": [
    "%octave_push bnt_path\n",
    "# genpath(dir) grows dir to list of all files inside it (recursive)\n",
    "%octave addpath(genpath(bnt_path))  "
   ]
  },
  {
   "cell_type": "code",
   "execution_count": 7,
   "metadata": {
    "collapsed": false
   },
   "outputs": [
    {
     "data": {
      "text/plain": [
       "5"
      ]
     },
     "metadata": {},
     "output_type": "display_data"
    }
   ],
   "source": [
    "# first a test that illustrates use of \"global\" keyword\n",
    "def fun():\n",
    "    global x100, y100\n",
    "    x100=5\n",
    "    y100=6\n",
    "    # '%octave_push' gets confused if use commas between \n",
    "    # variables but 'global' requires them\n",
    "    %octave_push x100 y100\n",
    "    \n",
    "fun() # this gives error if do not declare x100 global\n",
    "%octave disp(x100)"
   ]
  },
  {
   "cell_type": "code",
   "execution_count": 8,
   "metadata": {
    "collapsed": false
   },
   "outputs": [],
   "source": [
    "%run jupyter-notebooks/bnt-examples/bnt-biftool.ipynb"
   ]
  },
  {
   "cell_type": "code",
   "execution_count": 9,
   "metadata": {
    "collapsed": false,
    "scrolled": false
   },
   "outputs": [
    {
     "name": "stdout",
     "output_type": "stream",
     "text": [
      "*****************inside push_bnet*****************\n"
     ]
    },
    {
     "data": {
      "text/plain": [
       "warning: isstr is obsolete and will be removed from a future version of Octave, please use ischar instead"
      ]
     },
     "metadata": {},
     "output_type": "display_data"
    },
    {
     "name": "stdout",
     "output_type": "stream",
     "text": [
      "------------pot for Sprinkler------------\n",
      "topo_indices= [0, 1]\n",
      "perm= [0, 1]\n",
      "['Cloudy', 'Sprinkler']\n",
      "[[ 0.2  0.8]\n",
      " [ 0.7  0.3]]\n",
      "flattened= [ 0.2  0.7  0.8  0.3]\n"
     ]
    },
    {
     "data": {
      "text/plain": [
       "ans = "
      ]
     },
     "metadata": {},
     "output_type": "display_data"
    },
    {
     "data": {
      "text/plain": [
       "{"
      ]
     },
     "metadata": {},
     "output_type": "display_data"
    },
    {
     "data": {
      "text/plain": [
       "tabular_CPD object"
      ]
     },
     "metadata": {},
     "output_type": "display_data"
    },
    {
     "data": {
      "text/plain": []
     },
     "metadata": {},
     "output_type": "display_data"
    },
    {
     "data": {
      "text/plain": [
       "    scalar structure containing the fields:"
      ]
     },
     "metadata": {},
     "output_type": "display_data"
    },
    {
     "data": {
      "text/plain": []
     },
     "metadata": {},
     "output_type": "display_data"
    },
    {
     "data": {
      "text/plain": [
       "      CPT ="
      ]
     },
     "metadata": {},
     "output_type": "display_data"
    },
    {
     "data": {
      "text/plain": []
     },
     "metadata": {},
     "output_type": "display_data"
    },
    {
     "data": {
      "text/plain": [
       "         0.20000   0.80000"
      ]
     },
     "metadata": {},
     "output_type": "display_data"
    },
    {
     "data": {
      "text/plain": [
       "         0.70000   0.30000"
      ]
     },
     "metadata": {},
     "output_type": "display_data"
    },
    {
     "data": {
      "text/plain": []
     },
     "metadata": {},
     "output_type": "display_data"
    },
    {
     "data": {
      "text/plain": [
       "      sizes ="
      ]
     },
     "metadata": {},
     "output_type": "display_data"
    },
    {
     "data": {
      "text/plain": []
     },
     "metadata": {},
     "output_type": "display_data"
    },
    {
     "data": {
      "text/plain": [
       "         2   2"
      ]
     },
     "metadata": {},
     "output_type": "display_data"
    },
    {
     "data": {
      "text/plain": []
     },
     "metadata": {},
     "output_type": "display_data"
    },
    {
     "data": {
      "text/plain": [
       "      prior_type = none"
      ]
     },
     "metadata": {},
     "output_type": "display_data"
    },
    {
     "data": {
      "text/plain": [
       "      dirichlet = [](0x0)"
      ]
     },
     "metadata": {},
     "output_type": "display_data"
    },
    {
     "data": {
      "text/plain": [
       "      adjustable =  1"
      ]
     },
     "metadata": {},
     "output_type": "display_data"
    },
    {
     "data": {
      "text/plain": [
       "      counts ="
      ]
     },
     "metadata": {},
     "output_type": "display_data"
    },
    {
     "data": {
      "text/plain": []
     },
     "metadata": {},
     "output_type": "display_data"
    },
    {
     "data": {
      "text/plain": [
       "         0"
      ]
     },
     "metadata": {},
     "output_type": "display_data"
    },
    {
     "data": {
      "text/plain": [
       "         0"
      ]
     },
     "metadata": {},
     "output_type": "display_data"
    },
    {
     "data": {
      "text/plain": [
       "         0"
      ]
     },
     "metadata": {},
     "output_type": "display_data"
    },
    {
     "data": {
      "text/plain": [
       "         0"
      ]
     },
     "metadata": {},
     "output_type": "display_data"
    },
    {
     "data": {
      "text/plain": []
     },
     "metadata": {},
     "output_type": "display_data"
    },
    {
     "data": {
      "text/plain": [
       "      nparams =  2"
      ]
     },
     "metadata": {},
     "output_type": "display_data"
    },
    {
     "data": {
      "text/plain": [
       "      nsamples = 0"
      ]
     },
     "metadata": {},
     "output_type": "display_data"
    },
    {
     "data": {
      "text/plain": [
       "      trim = 0"
      ]
     },
     "metadata": {},
     "output_type": "display_data"
    },
    {
     "data": {
      "text/plain": [
       "      trimmed_trans = [](0x0)"
      ]
     },
     "metadata": {},
     "output_type": "display_data"
    },
    {
     "data": {
      "text/plain": [
       "      leftright = 0"
      ]
     },
     "metadata": {},
     "output_type": "display_data"
    },
    {
     "data": {
      "text/plain": [
       "      entropic_pcases ="
      ]
     },
     "metadata": {},
     "output_type": "display_data"
    },
    {
     "data": {
      "text/plain": []
     },
     "metadata": {},
     "output_type": "display_data"
    },
    {
     "data": {
      "text/plain": [
       "         1   2"
      ]
     },
     "metadata": {},
     "output_type": "display_data"
    },
    {
     "data": {
      "text/plain": []
     },
     "metadata": {},
     "output_type": "display_data"
    },
    {
     "data": {
      "text/plain": [
       "      sparse = 0"
      ]
     },
     "metadata": {},
     "output_type": "display_data"
    },
    {
     "data": {
      "text/plain": []
     },
     "metadata": {},
     "output_type": "display_data"
    },
    {
     "data": {
      "text/plain": [
       "        scalar structure containing the fields:"
      ]
     },
     "metadata": {},
     "output_type": "display_data"
    },
    {
     "data": {
      "text/plain": []
     },
     "metadata": {},
     "output_type": "display_data"
    },
    {
     "data": {
      "text/plain": [
       "          dom_sizes ="
      ]
     },
     "metadata": {},
     "output_type": "display_data"
    },
    {
     "data": {
      "text/plain": []
     },
     "metadata": {},
     "output_type": "display_data"
    },
    {
     "data": {
      "text/plain": [
       "             2   2"
      ]
     },
     "metadata": {},
     "output_type": "display_data"
    },
    {
     "data": {
      "text/plain": []
     },
     "metadata": {},
     "output_type": "display_data"
    },
    {
     "data": {
      "text/plain": []
     },
     "metadata": {},
     "output_type": "display_data"
    },
    {
     "data": {
      "text/plain": [
       "            scalar structure containing the fields:"
      ]
     },
     "metadata": {},
     "output_type": "display_data"
    },
    {
     "data": {
      "text/plain": []
     },
     "metadata": {},
     "output_type": "display_data"
    },
    {
     "data": {
      "text/plain": [
       "              clamped: 1x1 bool"
      ]
     },
     "metadata": {},
     "output_type": "display_data"
    },
    {
     "data": {
      "text/plain": [
       "}"
      ]
     },
     "metadata": {},
     "output_type": "display_data"
    },
    {
     "name": "stdout",
     "output_type": "stream",
     "text": [
      "------------pot for WetGrass------------\n",
      "topo_indices= [1, 2, 3]\n",
      "perm= [0, 1, 2]\n",
      "['Sprinkler', 'Rain', 'WetGrass']\n",
      "[[[ 0.99  0.01]\n",
      "  [ 0.01  0.99]]\n",
      "\n",
      " [[ 0.01  0.99]\n",
      "  [ 0.01  0.99]]]\n",
      "flattened= [ 0.99  0.01  0.01  0.01  0.01  0.99  0.99  0.99]\n"
     ]
    },
    {
     "data": {
      "text/plain": [
       "ans = "
      ]
     },
     "metadata": {},
     "output_type": "display_data"
    },
    {
     "data": {
      "text/plain": [
       "{"
      ]
     },
     "metadata": {},
     "output_type": "display_data"
    },
    {
     "data": {
      "text/plain": [
       "tabular_CPD object"
      ]
     },
     "metadata": {},
     "output_type": "display_data"
    },
    {
     "data": {
      "text/plain": []
     },
     "metadata": {},
     "output_type": "display_data"
    },
    {
     "data": {
      "text/plain": [
       "    scalar structure containing the fields:"
      ]
     },
     "metadata": {},
     "output_type": "display_data"
    },
    {
     "data": {
      "text/plain": []
     },
     "metadata": {},
     "output_type": "display_data"
    },
    {
     "data": {
      "text/plain": [
       "      CPT ="
      ]
     },
     "metadata": {},
     "output_type": "display_data"
    },
    {
     "data": {
      "text/plain": []
     },
     "metadata": {},
     "output_type": "display_data"
    },
    {
     "data": {
      "text/plain": [
       "      ans(:,:,1) ="
      ]
     },
     "metadata": {},
     "output_type": "display_data"
    },
    {
     "data": {
      "text/plain": []
     },
     "metadata": {},
     "output_type": "display_data"
    },
    {
     "data": {
      "text/plain": [
       "         0.990000   0.010000"
      ]
     },
     "metadata": {},
     "output_type": "display_data"
    },
    {
     "data": {
      "text/plain": [
       "         0.010000   0.010000"
      ]
     },
     "metadata": {},
     "output_type": "display_data"
    },
    {
     "data": {
      "text/plain": []
     },
     "metadata": {},
     "output_type": "display_data"
    },
    {
     "data": {
      "text/plain": [
       "      ans(:,:,2) ="
      ]
     },
     "metadata": {},
     "output_type": "display_data"
    },
    {
     "data": {
      "text/plain": []
     },
     "metadata": {},
     "output_type": "display_data"
    },
    {
     "data": {
      "text/plain": [
       "         0.010000   0.990000"
      ]
     },
     "metadata": {},
     "output_type": "display_data"
    },
    {
     "data": {
      "text/plain": [
       "         0.990000   0.990000"
      ]
     },
     "metadata": {},
     "output_type": "display_data"
    },
    {
     "data": {
      "text/plain": []
     },
     "metadata": {},
     "output_type": "display_data"
    },
    {
     "data": {
      "text/plain": [
       "      sizes ="
      ]
     },
     "metadata": {},
     "output_type": "display_data"
    },
    {
     "data": {
      "text/plain": []
     },
     "metadata": {},
     "output_type": "display_data"
    },
    {
     "data": {
      "text/plain": [
       "         2   2   2"
      ]
     },
     "metadata": {},
     "output_type": "display_data"
    },
    {
     "data": {
      "text/plain": []
     },
     "metadata": {},
     "output_type": "display_data"
    },
    {
     "data": {
      "text/plain": [
       "      prior_type = none"
      ]
     },
     "metadata": {},
     "output_type": "display_data"
    },
    {
     "data": {
      "text/plain": [
       "      dirichlet = [](0x0)"
      ]
     },
     "metadata": {},
     "output_type": "display_data"
    },
    {
     "data": {
      "text/plain": [
       "      adjustable =  1"
      ]
     },
     "metadata": {},
     "output_type": "display_data"
    },
    {
     "data": {
      "text/plain": [
       "      counts ="
      ]
     },
     "metadata": {},
     "output_type": "display_data"
    },
    {
     "data": {
      "text/plain": []
     },
     "metadata": {},
     "output_type": "display_data"
    },
    {
     "data": {
      "text/plain": [
       "         0"
      ]
     },
     "metadata": {},
     "output_type": "display_data"
    },
    {
     "data": {
      "text/plain": [
       "         0"
      ]
     },
     "metadata": {},
     "output_type": "display_data"
    },
    {
     "data": {
      "text/plain": [
       "         0"
      ]
     },
     "metadata": {},
     "output_type": "display_data"
    },
    {
     "data": {
      "text/plain": [
       "         0"
      ]
     },
     "metadata": {},
     "output_type": "display_data"
    },
    {
     "data": {
      "text/plain": [
       "         0"
      ]
     },
     "metadata": {},
     "output_type": "display_data"
    },
    {
     "data": {
      "text/plain": [
       "         0"
      ]
     },
     "metadata": {},
     "output_type": "display_data"
    },
    {
     "data": {
      "text/plain": [
       "         0"
      ]
     },
     "metadata": {},
     "output_type": "display_data"
    },
    {
     "data": {
      "text/plain": [
       "         0"
      ]
     },
     "metadata": {},
     "output_type": "display_data"
    },
    {
     "data": {
      "text/plain": []
     },
     "metadata": {},
     "output_type": "display_data"
    },
    {
     "data": {
      "text/plain": [
       "      nparams =  4"
      ]
     },
     "metadata": {},
     "output_type": "display_data"
    },
    {
     "data": {
      "text/plain": [
       "      nsamples = 0"
      ]
     },
     "metadata": {},
     "output_type": "display_data"
    },
    {
     "data": {
      "text/plain": [
       "      trim = 0"
      ]
     },
     "metadata": {},
     "output_type": "display_data"
    },
    {
     "data": {
      "text/plain": [
       "      trimmed_trans = [](0x0)"
      ]
     },
     "metadata": {},
     "output_type": "display_data"
    },
    {
     "data": {
      "text/plain": [
       "      leftright = 0"
      ]
     },
     "metadata": {},
     "output_type": "display_data"
    },
    {
     "data": {
      "text/plain": [
       "      entropic_pcases ="
      ]
     },
     "metadata": {},
     "output_type": "display_data"
    },
    {
     "data": {
      "text/plain": []
     },
     "metadata": {},
     "output_type": "display_data"
    },
    {
     "data": {
      "text/plain": [
       "         1   2   3   4"
      ]
     },
     "metadata": {},
     "output_type": "display_data"
    },
    {
     "data": {
      "text/plain": []
     },
     "metadata": {},
     "output_type": "display_data"
    },
    {
     "data": {
      "text/plain": [
       "      sparse = 0"
      ]
     },
     "metadata": {},
     "output_type": "display_data"
    },
    {
     "data": {
      "text/plain": []
     },
     "metadata": {},
     "output_type": "display_data"
    },
    {
     "data": {
      "text/plain": [
       "        scalar structure containing the fields:"
      ]
     },
     "metadata": {},
     "output_type": "display_data"
    },
    {
     "data": {
      "text/plain": []
     },
     "metadata": {},
     "output_type": "display_data"
    },
    {
     "data": {
      "text/plain": [
       "          dom_sizes ="
      ]
     },
     "metadata": {},
     "output_type": "display_data"
    },
    {
     "data": {
      "text/plain": []
     },
     "metadata": {},
     "output_type": "display_data"
    },
    {
     "data": {
      "text/plain": [
       "             2   2   2"
      ]
     },
     "metadata": {},
     "output_type": "display_data"
    },
    {
     "data": {
      "text/plain": []
     },
     "metadata": {},
     "output_type": "display_data"
    },
    {
     "data": {
      "text/plain": []
     },
     "metadata": {},
     "output_type": "display_data"
    },
    {
     "data": {
      "text/plain": [
       "            scalar structure containing the fields:"
      ]
     },
     "metadata": {},
     "output_type": "display_data"
    },
    {
     "data": {
      "text/plain": []
     },
     "metadata": {},
     "output_type": "display_data"
    },
    {
     "data": {
      "text/plain": [
       "              clamped: 1x1 bool"
      ]
     },
     "metadata": {},
     "output_type": "display_data"
    },
    {
     "data": {
      "text/plain": [
       "}"
      ]
     },
     "metadata": {},
     "output_type": "display_data"
    },
    {
     "name": "stdout",
     "output_type": "stream",
     "text": [
      "------------pot for Cloudy------------\n",
      "topo_indices= [0]\n",
      "perm= [0]\n",
      "['Cloudy']\n",
      "[ 0.5  0.5]\n",
      "flattened= [ 0.5  0.5]\n"
     ]
    },
    {
     "data": {
      "text/plain": [
       "ans = "
      ]
     },
     "metadata": {},
     "output_type": "display_data"
    },
    {
     "data": {
      "text/plain": [
       "{"
      ]
     },
     "metadata": {},
     "output_type": "display_data"
    },
    {
     "data": {
      "text/plain": [
       "tabular_CPD object"
      ]
     },
     "metadata": {},
     "output_type": "display_data"
    },
    {
     "data": {
      "text/plain": []
     },
     "metadata": {},
     "output_type": "display_data"
    },
    {
     "data": {
      "text/plain": [
       "    scalar structure containing the fields:"
      ]
     },
     "metadata": {},
     "output_type": "display_data"
    },
    {
     "data": {
      "text/plain": []
     },
     "metadata": {},
     "output_type": "display_data"
    },
    {
     "data": {
      "text/plain": [
       "      CPT ="
      ]
     },
     "metadata": {},
     "output_type": "display_data"
    },
    {
     "data": {
      "text/plain": []
     },
     "metadata": {},
     "output_type": "display_data"
    },
    {
     "data": {
      "text/plain": [
       "         0.50000"
      ]
     },
     "metadata": {},
     "output_type": "display_data"
    },
    {
     "data": {
      "text/plain": [
       "         0.50000"
      ]
     },
     "metadata": {},
     "output_type": "display_data"
    },
    {
     "data": {
      "text/plain": []
     },
     "metadata": {},
     "output_type": "display_data"
    },
    {
     "data": {
      "text/plain": [
       "      sizes =  2"
      ]
     },
     "metadata": {},
     "output_type": "display_data"
    },
    {
     "data": {
      "text/plain": [
       "      prior_type = none"
      ]
     },
     "metadata": {},
     "output_type": "display_data"
    },
    {
     "data": {
      "text/plain": [
       "      dirichlet = [](0x0)"
      ]
     },
     "metadata": {},
     "output_type": "display_data"
    },
    {
     "data": {
      "text/plain": [
       "      adjustable =  1"
      ]
     },
     "metadata": {},
     "output_type": "display_data"
    },
    {
     "data": {
      "text/plain": [
       "      counts ="
      ]
     },
     "metadata": {},
     "output_type": "display_data"
    },
    {
     "data": {
      "text/plain": []
     },
     "metadata": {},
     "output_type": "display_data"
    },
    {
     "data": {
      "text/plain": [
       "         0"
      ]
     },
     "metadata": {},
     "output_type": "display_data"
    },
    {
     "data": {
      "text/plain": [
       "         0"
      ]
     },
     "metadata": {},
     "output_type": "display_data"
    },
    {
     "data": {
      "text/plain": []
     },
     "metadata": {},
     "output_type": "display_data"
    },
    {
     "data": {
      "text/plain": [
       "      nparams =  1"
      ]
     },
     "metadata": {},
     "output_type": "display_data"
    },
    {
     "data": {
      "text/plain": [
       "      nsamples = 0"
      ]
     },
     "metadata": {},
     "output_type": "display_data"
    },
    {
     "data": {
      "text/plain": [
       "      trim = 0"
      ]
     },
     "metadata": {},
     "output_type": "display_data"
    },
    {
     "data": {
      "text/plain": [
       "      trimmed_trans = [](0x0)"
      ]
     },
     "metadata": {},
     "output_type": "display_data"
    },
    {
     "data": {
      "text/plain": [
       "      leftright = 0"
      ]
     },
     "metadata": {},
     "output_type": "display_data"
    },
    {
     "data": {
      "text/plain": [
       "      entropic_pcases =  1"
      ]
     },
     "metadata": {},
     "output_type": "display_data"
    },
    {
     "data": {
      "text/plain": [
       "      sparse = 0"
      ]
     },
     "metadata": {},
     "output_type": "display_data"
    },
    {
     "data": {
      "text/plain": []
     },
     "metadata": {},
     "output_type": "display_data"
    },
    {
     "data": {
      "text/plain": [
       "        scalar structure containing the fields:"
      ]
     },
     "metadata": {},
     "output_type": "display_data"
    },
    {
     "data": {
      "text/plain": []
     },
     "metadata": {},
     "output_type": "display_data"
    },
    {
     "data": {
      "text/plain": [
       "          dom_sizes =  2"
      ]
     },
     "metadata": {},
     "output_type": "display_data"
    },
    {
     "data": {
      "text/plain": []
     },
     "metadata": {},
     "output_type": "display_data"
    },
    {
     "data": {
      "text/plain": [
       "            scalar structure containing the fields:"
      ]
     },
     "metadata": {},
     "output_type": "display_data"
    },
    {
     "data": {
      "text/plain": []
     },
     "metadata": {},
     "output_type": "display_data"
    },
    {
     "data": {
      "text/plain": [
       "              clamped: 1x1 bool"
      ]
     },
     "metadata": {},
     "output_type": "display_data"
    },
    {
     "data": {
      "text/plain": [
       "}"
      ]
     },
     "metadata": {},
     "output_type": "display_data"
    },
    {
     "name": "stdout",
     "output_type": "stream",
     "text": [
      "------------pot for Rain------------\n",
      "topo_indices= [0, 2]\n",
      "perm= [0, 1]\n",
      "['Cloudy', 'Rain']\n",
      "[[ 0.4  0.6]\n",
      " [ 0.5  0.5]]\n",
      "flattened= [ 0.4  0.5  0.6  0.5]\n"
     ]
    },
    {
     "data": {
      "text/plain": [
       "ans = "
      ]
     },
     "metadata": {},
     "output_type": "display_data"
    },
    {
     "data": {
      "text/plain": [
       "{"
      ]
     },
     "metadata": {},
     "output_type": "display_data"
    },
    {
     "data": {
      "text/plain": [
       "tabular_CPD object"
      ]
     },
     "metadata": {},
     "output_type": "display_data"
    },
    {
     "data": {
      "text/plain": []
     },
     "metadata": {},
     "output_type": "display_data"
    },
    {
     "data": {
      "text/plain": [
       "    scalar structure containing the fields:"
      ]
     },
     "metadata": {},
     "output_type": "display_data"
    },
    {
     "data": {
      "text/plain": []
     },
     "metadata": {},
     "output_type": "display_data"
    },
    {
     "data": {
      "text/plain": [
       "      CPT ="
      ]
     },
     "metadata": {},
     "output_type": "display_data"
    },
    {
     "data": {
      "text/plain": []
     },
     "metadata": {},
     "output_type": "display_data"
    },
    {
     "data": {
      "text/plain": [
       "         0.40000   0.60000"
      ]
     },
     "metadata": {},
     "output_type": "display_data"
    },
    {
     "data": {
      "text/plain": [
       "         0.50000   0.50000"
      ]
     },
     "metadata": {},
     "output_type": "display_data"
    },
    {
     "data": {
      "text/plain": []
     },
     "metadata": {},
     "output_type": "display_data"
    },
    {
     "data": {
      "text/plain": [
       "      sizes ="
      ]
     },
     "metadata": {},
     "output_type": "display_data"
    },
    {
     "data": {
      "text/plain": []
     },
     "metadata": {},
     "output_type": "display_data"
    },
    {
     "data": {
      "text/plain": [
       "         2   2"
      ]
     },
     "metadata": {},
     "output_type": "display_data"
    },
    {
     "data": {
      "text/plain": []
     },
     "metadata": {},
     "output_type": "display_data"
    },
    {
     "data": {
      "text/plain": [
       "      prior_type = none"
      ]
     },
     "metadata": {},
     "output_type": "display_data"
    },
    {
     "data": {
      "text/plain": [
       "      dirichlet = [](0x0)"
      ]
     },
     "metadata": {},
     "output_type": "display_data"
    },
    {
     "data": {
      "text/plain": [
       "      adjustable =  1"
      ]
     },
     "metadata": {},
     "output_type": "display_data"
    },
    {
     "data": {
      "text/plain": [
       "      counts ="
      ]
     },
     "metadata": {},
     "output_type": "display_data"
    },
    {
     "data": {
      "text/plain": []
     },
     "metadata": {},
     "output_type": "display_data"
    },
    {
     "data": {
      "text/plain": [
       "         0"
      ]
     },
     "metadata": {},
     "output_type": "display_data"
    },
    {
     "data": {
      "text/plain": [
       "         0"
      ]
     },
     "metadata": {},
     "output_type": "display_data"
    },
    {
     "data": {
      "text/plain": [
       "         0"
      ]
     },
     "metadata": {},
     "output_type": "display_data"
    },
    {
     "data": {
      "text/plain": [
       "         0"
      ]
     },
     "metadata": {},
     "output_type": "display_data"
    },
    {
     "data": {
      "text/plain": []
     },
     "metadata": {},
     "output_type": "display_data"
    },
    {
     "data": {
      "text/plain": [
       "      nparams =  2"
      ]
     },
     "metadata": {},
     "output_type": "display_data"
    },
    {
     "data": {
      "text/plain": [
       "      nsamples = 0"
      ]
     },
     "metadata": {},
     "output_type": "display_data"
    },
    {
     "data": {
      "text/plain": [
       "      trim = 0"
      ]
     },
     "metadata": {},
     "output_type": "display_data"
    },
    {
     "data": {
      "text/plain": [
       "      trimmed_trans = [](0x0)"
      ]
     },
     "metadata": {},
     "output_type": "display_data"
    },
    {
     "data": {
      "text/plain": [
       "      leftright = 0"
      ]
     },
     "metadata": {},
     "output_type": "display_data"
    },
    {
     "data": {
      "text/plain": [
       "      entropic_pcases ="
      ]
     },
     "metadata": {},
     "output_type": "display_data"
    },
    {
     "data": {
      "text/plain": []
     },
     "metadata": {},
     "output_type": "display_data"
    },
    {
     "data": {
      "text/plain": [
       "         1   2"
      ]
     },
     "metadata": {},
     "output_type": "display_data"
    },
    {
     "data": {
      "text/plain": []
     },
     "metadata": {},
     "output_type": "display_data"
    },
    {
     "data": {
      "text/plain": [
       "      sparse = 0"
      ]
     },
     "metadata": {},
     "output_type": "display_data"
    },
    {
     "data": {
      "text/plain": []
     },
     "metadata": {},
     "output_type": "display_data"
    },
    {
     "data": {
      "text/plain": [
       "        scalar structure containing the fields:"
      ]
     },
     "metadata": {},
     "output_type": "display_data"
    },
    {
     "data": {
      "text/plain": []
     },
     "metadata": {},
     "output_type": "display_data"
    },
    {
     "data": {
      "text/plain": [
       "          dom_sizes ="
      ]
     },
     "metadata": {},
     "output_type": "display_data"
    },
    {
     "data": {
      "text/plain": []
     },
     "metadata": {},
     "output_type": "display_data"
    },
    {
     "data": {
      "text/plain": [
       "             2   2"
      ]
     },
     "metadata": {},
     "output_type": "display_data"
    },
    {
     "data": {
      "text/plain": []
     },
     "metadata": {},
     "output_type": "display_data"
    },
    {
     "data": {
      "text/plain": []
     },
     "metadata": {},
     "output_type": "display_data"
    },
    {
     "data": {
      "text/plain": [
       "            scalar structure containing the fields:"
      ]
     },
     "metadata": {},
     "output_type": "display_data"
    },
    {
     "data": {
      "text/plain": []
     },
     "metadata": {},
     "output_type": "display_data"
    },
    {
     "data": {
      "text/plain": [
       "              clamped: 1x1 bool"
      ]
     },
     "metadata": {},
     "output_type": "display_data"
    },
    {
     "data": {
      "text/plain": [
       "}"
      ]
     },
     "metadata": {},
     "output_type": "display_data"
    },
    {
     "name": "stdout",
     "output_type": "stream",
     "text": [
      "*****************inside pull_bnet*****************\n",
      "------------pot for Cloudy------------\n",
      "['Cloudy']\n",
      "[ 0.5  0.5]\n"
     ]
    },
    {
     "data": {
      "text/plain": [
       "z ="
      ]
     },
     "metadata": {},
     "output_type": "display_data"
    },
    {
     "data": {
      "text/plain": []
     },
     "metadata": {},
     "output_type": "display_data"
    },
    {
     "data": {
      "text/plain": [
       "   0.50000"
      ]
     },
     "metadata": {},
     "output_type": "display_data"
    },
    {
     "data": {
      "text/plain": [
       "   0.50000"
      ]
     },
     "metadata": {},
     "output_type": "display_data"
    },
    {
     "data": {
      "text/plain": []
     },
     "metadata": {},
     "output_type": "display_data"
    },
    {
     "name": "stdout",
     "output_type": "stream",
     "text": [
      "------------pot for Sprinkler------------\n",
      "['Cloudy', 'Sprinkler']\n",
      "[[ 0.2  0.8]\n",
      " [ 0.7  0.3]]\n"
     ]
    },
    {
     "data": {
      "text/plain": [
       "z ="
      ]
     },
     "metadata": {},
     "output_type": "display_data"
    },
    {
     "data": {
      "text/plain": []
     },
     "metadata": {},
     "output_type": "display_data"
    },
    {
     "data": {
      "text/plain": [
       "   0.20000   0.80000"
      ]
     },
     "metadata": {},
     "output_type": "display_data"
    },
    {
     "data": {
      "text/plain": [
       "   0.70000   0.30000"
      ]
     },
     "metadata": {},
     "output_type": "display_data"
    },
    {
     "data": {
      "text/plain": []
     },
     "metadata": {},
     "output_type": "display_data"
    },
    {
     "name": "stdout",
     "output_type": "stream",
     "text": [
      "------------pot for Rain------------\n",
      "['Cloudy', 'Rain']\n",
      "[[ 0.4  0.6]\n",
      " [ 0.5  0.5]]\n"
     ]
    },
    {
     "data": {
      "text/plain": [
       "z ="
      ]
     },
     "metadata": {},
     "output_type": "display_data"
    },
    {
     "data": {
      "text/plain": []
     },
     "metadata": {},
     "output_type": "display_data"
    },
    {
     "data": {
      "text/plain": [
       "   0.40000   0.60000"
      ]
     },
     "metadata": {},
     "output_type": "display_data"
    },
    {
     "data": {
      "text/plain": [
       "   0.50000   0.50000"
      ]
     },
     "metadata": {},
     "output_type": "display_data"
    },
    {
     "data": {
      "text/plain": []
     },
     "metadata": {},
     "output_type": "display_data"
    },
    {
     "name": "stdout",
     "output_type": "stream",
     "text": [
      "------------pot for WetGrass------------\n",
      "['Sprinkler', 'Rain', 'WetGrass']\n",
      "[[[ 0.99  0.01]\n",
      "  [ 0.01  0.99]]\n",
      "\n",
      " [[ 0.01  0.99]\n",
      "  [ 0.01  0.99]]]\n"
     ]
    },
    {
     "data": {
      "text/plain": [
       "z ="
      ]
     },
     "metadata": {},
     "output_type": "display_data"
    },
    {
     "data": {
      "text/plain": []
     },
     "metadata": {},
     "output_type": "display_data"
    },
    {
     "data": {
      "text/plain": [
       "ans(:,:,1) ="
      ]
     },
     "metadata": {},
     "output_type": "display_data"
    },
    {
     "data": {
      "text/plain": []
     },
     "metadata": {},
     "output_type": "display_data"
    },
    {
     "data": {
      "text/plain": [
       "   0.990000   0.010000"
      ]
     },
     "metadata": {},
     "output_type": "display_data"
    },
    {
     "data": {
      "text/plain": [
       "   0.010000   0.010000"
      ]
     },
     "metadata": {},
     "output_type": "display_data"
    },
    {
     "data": {
      "text/plain": []
     },
     "metadata": {},
     "output_type": "display_data"
    },
    {
     "data": {
      "text/plain": [
       "ans(:,:,2) ="
      ]
     },
     "metadata": {},
     "output_type": "display_data"
    },
    {
     "data": {
      "text/plain": []
     },
     "metadata": {},
     "output_type": "display_data"
    },
    {
     "data": {
      "text/plain": [
       "   0.010000   0.990000"
      ]
     },
     "metadata": {},
     "output_type": "display_data"
    },
    {
     "data": {
      "text/plain": [
       "   0.990000   0.990000"
      ]
     },
     "metadata": {},
     "output_type": "display_data"
    },
    {
     "data": {
      "text/plain": []
     },
     "metadata": {},
     "output_type": "display_data"
    },
    {
     "name": "stdout",
     "output_type": "stream",
     "text": [
      "*****************inside push_bnet*****************\n",
      "*****************inside pull_bnet*****************\n"
     ]
    },
    {
     "data": {
      "image/svg+xml": [
       "<?xml version=\"1.0\" encoding=\"UTF-8\" standalone=\"no\"?>\n",
       "<!DOCTYPE svg PUBLIC \"-//W3C//DTD SVG 1.1//EN\"\n",
       " \"http://www.w3.org/Graphics/SVG/1.1/DTD/svg11.dtd\">\n",
       "<!-- Generated by graphviz version 2.38.0 (20140413.2041)\n",
       " -->\n",
       "<!-- Title: G Pages: 1 -->\n",
       "<svg width=\"168pt\" height=\"188pt\"\n",
       " viewBox=\"0.00 0.00 167.84 188.00\" xmlns=\"http://www.w3.org/2000/svg\" xmlns:xlink=\"http://www.w3.org/1999/xlink\">\n",
       "<g id=\"graph0\" class=\"graph\" transform=\"scale(1 1) rotate(0) translate(4 184)\">\n",
       "<title>G</title>\n",
       "<polygon fill=\"white\" stroke=\"none\" points=\"-4,4 -4,-184 163.844,-184 163.844,4 -4,4\"/>\n",
       "<!-- Cloudy -->\n",
       "<g id=\"node1\" class=\"node\"><title>Cloudy</title>\n",
       "<ellipse fill=\"none\" stroke=\"black\" cx=\"87.5461\" cy=\"-162\" rx=\"36.2938\" ry=\"18\"/>\n",
       "<text text-anchor=\"middle\" x=\"87.5461\" y=\"-158.3\" font-family=\"Times,serif\" font-size=\"14.00\">Cloudy</text>\n",
       "</g>\n",
       "<!-- Sprinkler -->\n",
       "<g id=\"node2\" class=\"node\"><title>Sprinkler</title>\n",
       "<ellipse fill=\"none\" stroke=\"black\" cx=\"43.5461\" cy=\"-90\" rx=\"43.5923\" ry=\"18\"/>\n",
       "<text text-anchor=\"middle\" x=\"43.5461\" y=\"-86.3\" font-family=\"Times,serif\" font-size=\"14.00\">Sprinkler</text>\n",
       "</g>\n",
       "<!-- Cloudy&#45;&gt;Sprinkler -->\n",
       "<g id=\"edge1\" class=\"edge\"><title>Cloudy&#45;&gt;Sprinkler</title>\n",
       "<path fill=\"none\" stroke=\"black\" d=\"M77.1188,-144.411C71.8805,-136.077 65.4186,-125.797 59.5674,-116.488\"/>\n",
       "<polygon fill=\"black\" stroke=\"black\" points=\"62.4893,-114.56 54.2043,-107.956 56.5629,-118.285 62.4893,-114.56\"/>\n",
       "</g>\n",
       "<!-- Rain -->\n",
       "<g id=\"node4\" class=\"node\"><title>Rain</title>\n",
       "<ellipse fill=\"none\" stroke=\"black\" cx=\"132.546\" cy=\"-90\" rx=\"27.0966\" ry=\"18\"/>\n",
       "<text text-anchor=\"middle\" x=\"132.546\" y=\"-86.3\" font-family=\"Times,serif\" font-size=\"14.00\">Rain</text>\n",
       "</g>\n",
       "<!-- Cloudy&#45;&gt;Rain -->\n",
       "<g id=\"edge2\" class=\"edge\"><title>Cloudy&#45;&gt;Rain</title>\n",
       "<path fill=\"none\" stroke=\"black\" d=\"M98.2105,-144.411C103.725,-135.832 110.566,-125.191 116.687,-115.67\"/>\n",
       "<polygon fill=\"black\" stroke=\"black\" points=\"119.805,-117.293 122.268,-106.988 113.916,-113.507 119.805,-117.293\"/>\n",
       "</g>\n",
       "<!-- WetGrass -->\n",
       "<g id=\"node3\" class=\"node\"><title>WetGrass</title>\n",
       "<ellipse fill=\"none\" stroke=\"black\" cx=\"87.5461\" cy=\"-18\" rx=\"46.2923\" ry=\"18\"/>\n",
       "<text text-anchor=\"middle\" x=\"87.5461\" y=\"-14.3\" font-family=\"Times,serif\" font-size=\"14.00\">WetGrass</text>\n",
       "</g>\n",
       "<!-- Sprinkler&#45;&gt;WetGrass -->\n",
       "<g id=\"edge3\" class=\"edge\"><title>Sprinkler&#45;&gt;WetGrass</title>\n",
       "<path fill=\"none\" stroke=\"black\" d=\"M53.9735,-72.411C59.2118,-64.0774 65.6736,-53.7972 71.5249,-44.4883\"/>\n",
       "<polygon fill=\"black\" stroke=\"black\" points=\"74.5294,-46.2852 76.8879,-35.9562 68.603,-42.56 74.5294,-46.2852\"/>\n",
       "</g>\n",
       "<!-- Rain&#45;&gt;WetGrass -->\n",
       "<g id=\"edge4\" class=\"edge\"><title>Rain&#45;&gt;WetGrass</title>\n",
       "<path fill=\"none\" stroke=\"black\" d=\"M122.335,-73.1159C116.855,-64.592 109.973,-53.8861 103.779,-44.2513\"/>\n",
       "<polygon fill=\"black\" stroke=\"black\" points=\"106.696,-42.3165 98.3444,-35.7973 100.808,-46.1018 106.696,-42.3165\"/>\n",
       "</g>\n",
       "</g>\n",
       "</svg>\n"
      ],
      "text/plain": [
       "<graphviz.files.Source at 0x7f76345a0320>"
      ]
     },
     "metadata": {},
     "output_type": "display_data"
    },
    {
     "name": "stdout",
     "output_type": "stream",
     "text": [
      "_________________________________________________________\n"
     ]
    },
    {
     "data": {
      "image/svg+xml": [
       "<?xml version=\"1.0\" encoding=\"UTF-8\" standalone=\"no\"?>\n",
       "<!DOCTYPE svg PUBLIC \"-//W3C//DTD SVG 1.1//EN\"\n",
       " \"http://www.w3.org/Graphics/SVG/1.1/DTD/svg11.dtd\">\n",
       "<!-- Generated by graphviz version 2.38.0 (20140413.2041)\n",
       " -->\n",
       "<!-- Pages: 1 -->\n",
       "<svg width=\"168pt\" height=\"188pt\"\n",
       " viewBox=\"0.00 0.00 167.84 188.00\" xmlns=\"http://www.w3.org/2000/svg\" xmlns:xlink=\"http://www.w3.org/1999/xlink\">\n",
       "<g id=\"graph0\" class=\"graph\" transform=\"scale(1 1) rotate(0) translate(4 184)\">\n",
       "<polygon fill=\"white\" stroke=\"none\" points=\"-4,4 -4,-184 163.844,-184 163.844,4 -4,4\"/>\n",
       "<!-- Sprinkler -->\n",
       "<g id=\"node1\" class=\"node\"><title>Sprinkler</title>\n",
       "<ellipse fill=\"none\" stroke=\"black\" cx=\"43.5461\" cy=\"-90\" rx=\"43.5923\" ry=\"18\"/>\n",
       "<text text-anchor=\"middle\" x=\"43.5461\" y=\"-86.3\" font-family=\"Times,serif\" font-size=\"14.00\">Sprinkler</text>\n",
       "</g>\n",
       "<!-- WetGrass -->\n",
       "<g id=\"node2\" class=\"node\"><title>WetGrass</title>\n",
       "<ellipse fill=\"none\" stroke=\"black\" cx=\"87.5461\" cy=\"-18\" rx=\"46.2923\" ry=\"18\"/>\n",
       "<text text-anchor=\"middle\" x=\"87.5461\" y=\"-14.3\" font-family=\"Times,serif\" font-size=\"14.00\">WetGrass</text>\n",
       "</g>\n",
       "<!-- Sprinkler&#45;&gt;WetGrass -->\n",
       "<g id=\"edge1\" class=\"edge\"><title>Sprinkler&#45;&gt;WetGrass</title>\n",
       "<path fill=\"none\" stroke=\"black\" d=\"M53.9735,-72.411C59.2118,-64.0774 65.6736,-53.7972 71.5249,-44.4883\"/>\n",
       "<polygon fill=\"black\" stroke=\"black\" points=\"74.5294,-46.2852 76.8879,-35.9562 68.603,-42.56 74.5294,-46.2852\"/>\n",
       "</g>\n",
       "<!-- Rain -->\n",
       "<g id=\"node3\" class=\"node\"><title>Rain</title>\n",
       "<ellipse fill=\"none\" stroke=\"black\" cx=\"132.546\" cy=\"-90\" rx=\"27.0966\" ry=\"18\"/>\n",
       "<text text-anchor=\"middle\" x=\"132.546\" y=\"-86.3\" font-family=\"Times,serif\" font-size=\"14.00\">Rain</text>\n",
       "</g>\n",
       "<!-- Rain&#45;&gt;WetGrass -->\n",
       "<g id=\"edge2\" class=\"edge\"><title>Rain&#45;&gt;WetGrass</title>\n",
       "<path fill=\"none\" stroke=\"black\" d=\"M122.335,-73.1159C116.855,-64.592 109.973,-53.8861 103.779,-44.2513\"/>\n",
       "<polygon fill=\"black\" stroke=\"black\" points=\"106.696,-42.3165 98.3444,-35.7973 100.808,-46.1018 106.696,-42.3165\"/>\n",
       "</g>\n",
       "<!-- Cloudy -->\n",
       "<g id=\"node4\" class=\"node\"><title>Cloudy</title>\n",
       "<ellipse fill=\"none\" stroke=\"black\" cx=\"87.5461\" cy=\"-162\" rx=\"36.2938\" ry=\"18\"/>\n",
       "<text text-anchor=\"middle\" x=\"87.5461\" y=\"-158.3\" font-family=\"Times,serif\" font-size=\"14.00\">Cloudy</text>\n",
       "</g>\n",
       "<!-- Cloudy&#45;&gt;Sprinkler -->\n",
       "<g id=\"edge3\" class=\"edge\"><title>Cloudy&#45;&gt;Sprinkler</title>\n",
       "<path fill=\"none\" stroke=\"black\" d=\"M77.1188,-144.411C71.8805,-136.077 65.4186,-125.797 59.5674,-116.488\"/>\n",
       "<polygon fill=\"black\" stroke=\"black\" points=\"62.4893,-114.56 54.2043,-107.956 56.5629,-118.285 62.4893,-114.56\"/>\n",
       "</g>\n",
       "<!-- Cloudy&#45;&gt;Rain -->\n",
       "<g id=\"edge4\" class=\"edge\"><title>Cloudy&#45;&gt;Rain</title>\n",
       "<path fill=\"none\" stroke=\"black\" d=\"M98.2105,-144.411C103.725,-135.832 110.566,-125.191 116.687,-115.67\"/>\n",
       "<polygon fill=\"black\" stroke=\"black\" points=\"119.805,-117.293 122.268,-106.988 113.916,-113.507 119.805,-117.293\"/>\n",
       "</g>\n",
       "</g>\n",
       "</svg>\n"
      ],
      "text/plain": [
       "<graphviz.files.Source at 0x7f7634588f60>"
      ]
     },
     "metadata": {},
     "output_type": "display_data"
    }
   ],
   "source": [
    "def test(prefix, verbose):\n",
    "    vtx_to_states = bnt_read_bif(prefix + \".bif\", verbose=verbose)\n",
    "    # print(vtx_to_states)\n",
    "    bnt_write_bif(prefix + \"_bnt.bif\", vtx_to_states=vtx_to_states, verbose=verbose)\n",
    "\n",
    "    bnt_read_dot(prefix + \".dot\", verbose=verbose)\n",
    "    bnt_write_dot(prefix + \"_bnt.dot\", verbose=verbose)\n",
    "\n",
    "    from graphviz import Digraph, Source\n",
    "    from IPython.display import display\n",
    "    display(Source(open(prefix + \".dot\").read()))\n",
    "    print(\"_________________________________________________________\")\n",
    "    display(Source(open(prefix + \"_bnt.dot\").read()))\n",
    "\n",
    "prefix = \"examples_cbnets/WetGrass\"\n",
    "test(prefix, True)"
   ]
  },
  {
   "cell_type": "code",
   "execution_count": 10,
   "metadata": {
    "collapsed": false
   },
   "outputs": [
    {
     "data": {
      "image/svg+xml": [
       "<?xml version=\"1.0\" encoding=\"UTF-8\" standalone=\"no\"?>\n",
       "<!DOCTYPE svg PUBLIC \"-//W3C//DTD SVG 1.1//EN\"\n",
       " \"http://www.w3.org/Graphics/SVG/1.1/DTD/svg11.dtd\">\n",
       "<!-- Generated by graphviz version 2.38.0 (20140413.2041)\n",
       " -->\n",
       "<!-- Pages: 1 -->\n",
       "<svg width=\"366pt\" height=\"260pt\"\n",
       " viewBox=\"0.00 0.00 366.34 260.00\" xmlns=\"http://www.w3.org/2000/svg\" xmlns:xlink=\"http://www.w3.org/1999/xlink\">\n",
       "<g id=\"graph0\" class=\"graph\" transform=\"scale(1 1) rotate(0) translate(4 256)\">\n",
       "<polygon fill=\"white\" stroke=\"none\" points=\"-4,4 -4,-256 362.337,-256 362.337,4 -4,4\"/>\n",
       "<!-- Visited&#45;Asian&#45;TB&#45;HRA -->\n",
       "<g id=\"node1\" class=\"node\"><title>Visited&#45;Asian&#45;TB&#45;HRA</title>\n",
       "<ellipse fill=\"none\" stroke=\"black\" cx=\"94.8916\" cy=\"-234\" rx=\"94.7833\" ry=\"18\"/>\n",
       "<text text-anchor=\"middle\" x=\"94.8916\" y=\"-230.3\" font-family=\"Times,serif\" font-size=\"14.00\">Visited&#45;Asian&#45;TB&#45;HRA</text>\n",
       "</g>\n",
       "<!-- Tuberculosis -->\n",
       "<g id=\"node6\" class=\"node\"><title>Tuberculosis</title>\n",
       "<ellipse fill=\"none\" stroke=\"black\" cx=\"94.8916\" cy=\"-162\" rx=\"55.7903\" ry=\"18\"/>\n",
       "<text text-anchor=\"middle\" x=\"94.8916\" y=\"-158.3\" font-family=\"Times,serif\" font-size=\"14.00\">Tuberculosis</text>\n",
       "</g>\n",
       "<!-- Visited&#45;Asian&#45;TB&#45;HRA&#45;&gt;Tuberculosis -->\n",
       "<g id=\"edge1\" class=\"edge\"><title>Visited&#45;Asian&#45;TB&#45;HRA&#45;&gt;Tuberculosis</title>\n",
       "<path fill=\"none\" stroke=\"black\" d=\"M94.8916,-215.697C94.8916,-207.983 94.8916,-198.712 94.8916,-190.112\"/>\n",
       "<polygon fill=\"black\" stroke=\"black\" points=\"98.3917,-190.104 94.8916,-180.104 91.3917,-190.104 98.3917,-190.104\"/>\n",
       "</g>\n",
       "<!-- Smoke -->\n",
       "<g id=\"node2\" class=\"node\"><title>Smoke</title>\n",
       "<ellipse fill=\"none\" stroke=\"black\" cx=\"276.892\" cy=\"-234\" rx=\"35.9954\" ry=\"18\"/>\n",
       "<text text-anchor=\"middle\" x=\"276.892\" y=\"-230.3\" font-family=\"Times,serif\" font-size=\"14.00\">Smoke</text>\n",
       "</g>\n",
       "<!-- Bronchitis -->\n",
       "<g id=\"node4\" class=\"node\"><title>Bronchitis</title>\n",
       "<ellipse fill=\"none\" stroke=\"black\" cx=\"310.892\" cy=\"-90\" rx=\"47.3916\" ry=\"18\"/>\n",
       "<text text-anchor=\"middle\" x=\"310.892\" y=\"-86.3\" font-family=\"Times,serif\" font-size=\"14.00\">Bronchitis</text>\n",
       "</g>\n",
       "<!-- Smoke&#45;&gt;Bronchitis -->\n",
       "<g id=\"edge3\" class=\"edge\"><title>Smoke&#45;&gt;Bronchitis</title>\n",
       "<path fill=\"none\" stroke=\"black\" d=\"M282.041,-215.89C285.078,-205.545 288.9,-192.066 291.892,-180 296.993,-159.427 301.966,-135.975 305.543,-118.311\"/>\n",
       "<polygon fill=\"black\" stroke=\"black\" points=\"309.049,-118.631 307.579,-108.138 302.185,-117.257 309.049,-118.631\"/>\n",
       "</g>\n",
       "<!-- Lung&#45;Cancer -->\n",
       "<g id=\"node5\" class=\"node\"><title>Lung&#45;Cancer</title>\n",
       "<ellipse fill=\"none\" stroke=\"black\" cx=\"225.892\" cy=\"-162\" rx=\"57.3905\" ry=\"18\"/>\n",
       "<text text-anchor=\"middle\" x=\"225.892\" y=\"-158.3\" font-family=\"Times,serif\" font-size=\"14.00\">Lung&#45;Cancer</text>\n",
       "</g>\n",
       "<!-- Smoke&#45;&gt;Lung&#45;Cancer -->\n",
       "<g id=\"edge2\" class=\"edge\"><title>Smoke&#45;&gt;Lung&#45;Cancer</title>\n",
       "<path fill=\"none\" stroke=\"black\" d=\"M265.063,-216.765C258.782,-208.143 250.929,-197.365 243.907,-187.727\"/>\n",
       "<polygon fill=\"black\" stroke=\"black\" points=\"246.728,-185.655 238.01,-179.633 241.07,-189.777 246.728,-185.655\"/>\n",
       "</g>\n",
       "<!-- Dyspnea -->\n",
       "<g id=\"node3\" class=\"node\"><title>Dyspnea</title>\n",
       "<ellipse fill=\"none\" stroke=\"black\" cx=\"308.892\" cy=\"-18\" rx=\"41.6928\" ry=\"18\"/>\n",
       "<text text-anchor=\"middle\" x=\"308.892\" y=\"-14.3\" font-family=\"Times,serif\" font-size=\"14.00\">Dyspnea</text>\n",
       "</g>\n",
       "<!-- Bronchitis&#45;&gt;Dyspnea -->\n",
       "<g id=\"edge4\" class=\"edge\"><title>Bronchitis&#45;&gt;Dyspnea</title>\n",
       "<path fill=\"none\" stroke=\"black\" d=\"M310.397,-71.6966C310.177,-63.9827 309.912,-54.7125 309.666,-46.1124\"/>\n",
       "<polygon fill=\"black\" stroke=\"black\" points=\"313.165,-46.0003 309.38,-36.1043 306.167,-46.2002 313.165,-46.0003\"/>\n",
       "</g>\n",
       "<!-- Either -->\n",
       "<g id=\"node7\" class=\"node\"><title>Either</title>\n",
       "<ellipse fill=\"none\" stroke=\"black\" cx=\"212.892\" cy=\"-90\" rx=\"32.4942\" ry=\"18\"/>\n",
       "<text text-anchor=\"middle\" x=\"212.892\" y=\"-86.3\" font-family=\"Times,serif\" font-size=\"14.00\">Either</text>\n",
       "</g>\n",
       "<!-- Lung&#45;Cancer&#45;&gt;Either -->\n",
       "<g id=\"edge5\" class=\"edge\"><title>Lung&#45;Cancer&#45;&gt;Either</title>\n",
       "<path fill=\"none\" stroke=\"black\" d=\"M222.678,-143.697C221.246,-135.983 219.524,-126.712 217.927,-118.112\"/>\n",
       "<polygon fill=\"black\" stroke=\"black\" points=\"221.335,-117.297 216.068,-108.104 214.453,-118.575 221.335,-117.297\"/>\n",
       "</g>\n",
       "<!-- Tuberculosis&#45;&gt;Either -->\n",
       "<g id=\"edge6\" class=\"edge\"><title>Tuberculosis&#45;&gt;Either</title>\n",
       "<path fill=\"none\" stroke=\"black\" d=\"M120.496,-145.811C138.753,-134.981 163.371,-120.377 182.605,-108.967\"/>\n",
       "<polygon fill=\"black\" stroke=\"black\" points=\"184.477,-111.926 191.291,-103.814 180.905,-105.905 184.477,-111.926\"/>\n",
       "</g>\n",
       "<!-- Either&#45;&gt;Dyspnea -->\n",
       "<g id=\"edge7\" class=\"edge\"><title>Either&#45;&gt;Dyspnea</title>\n",
       "<path fill=\"none\" stroke=\"black\" d=\"M231.858,-75.1703C245.69,-65.0847 264.673,-51.2425 280.334,-39.8232\"/>\n",
       "<polygon fill=\"black\" stroke=\"black\" points=\"282.621,-42.4875 288.639,-33.7677 278.497,-36.8314 282.621,-42.4875\"/>\n",
       "</g>\n",
       "<!-- X&#45;Ray -->\n",
       "<g id=\"node8\" class=\"node\"><title>X&#45;Ray</title>\n",
       "<ellipse fill=\"none\" stroke=\"black\" cx=\"212.892\" cy=\"-18\" rx=\"34.394\" ry=\"18\"/>\n",
       "<text text-anchor=\"middle\" x=\"212.892\" y=\"-14.3\" font-family=\"Times,serif\" font-size=\"14.00\">X&#45;Ray</text>\n",
       "</g>\n",
       "<!-- Either&#45;&gt;X&#45;Ray -->\n",
       "<g id=\"edge8\" class=\"edge\"><title>Either&#45;&gt;X&#45;Ray</title>\n",
       "<path fill=\"none\" stroke=\"black\" d=\"M212.892,-71.6966C212.892,-63.9827 212.892,-54.7125 212.892,-46.1124\"/>\n",
       "<polygon fill=\"black\" stroke=\"black\" points=\"216.392,-46.1043 212.892,-36.1043 209.392,-46.1044 216.392,-46.1043\"/>\n",
       "</g>\n",
       "</g>\n",
       "</svg>\n"
      ],
      "text/plain": [
       "<graphviz.files.Source at 0x7f7634305828>"
      ]
     },
     "metadata": {},
     "output_type": "display_data"
    },
    {
     "name": "stdout",
     "output_type": "stream",
     "text": [
      "_________________________________________________________\n"
     ]
    },
    {
     "data": {
      "image/svg+xml": [
       "<?xml version=\"1.0\" encoding=\"UTF-8\" standalone=\"no\"?>\n",
       "<!DOCTYPE svg PUBLIC \"-//W3C//DTD SVG 1.1//EN\"\n",
       " \"http://www.w3.org/Graphics/SVG/1.1/DTD/svg11.dtd\">\n",
       "<!-- Generated by graphviz version 2.38.0 (20140413.2041)\n",
       " -->\n",
       "<!-- Pages: 1 -->\n",
       "<svg width=\"366pt\" height=\"260pt\"\n",
       " viewBox=\"0.00 0.00 366.34 260.00\" xmlns=\"http://www.w3.org/2000/svg\" xmlns:xlink=\"http://www.w3.org/1999/xlink\">\n",
       "<g id=\"graph0\" class=\"graph\" transform=\"scale(1 1) rotate(0) translate(4 256)\">\n",
       "<polygon fill=\"white\" stroke=\"none\" points=\"-4,4 -4,-256 362.337,-256 362.337,4 -4,4\"/>\n",
       "<!-- Smoke -->\n",
       "<g id=\"node1\" class=\"node\"><title>Smoke</title>\n",
       "<ellipse fill=\"none\" stroke=\"black\" cx=\"80.4458\" cy=\"-234\" rx=\"35.9954\" ry=\"18\"/>\n",
       "<text text-anchor=\"middle\" x=\"80.4458\" y=\"-230.3\" font-family=\"Times,serif\" font-size=\"14.00\">Smoke</text>\n",
       "</g>\n",
       "<!-- Bronchitis -->\n",
       "<g id=\"node2\" class=\"node\"><title>Bronchitis</title>\n",
       "<ellipse fill=\"none\" stroke=\"black\" cx=\"47.4458\" cy=\"-90\" rx=\"47.3916\" ry=\"18\"/>\n",
       "<text text-anchor=\"middle\" x=\"47.4458\" y=\"-86.3\" font-family=\"Times,serif\" font-size=\"14.00\">Bronchitis</text>\n",
       "</g>\n",
       "<!-- Smoke&#45;&gt;Bronchitis -->\n",
       "<g id=\"edge1\" class=\"edge\"><title>Smoke&#45;&gt;Bronchitis</title>\n",
       "<path fill=\"none\" stroke=\"black\" d=\"M75.6972,-215.867C72.8833,-205.513 69.318,-192.034 66.4458,-180 61.5251,-159.383 56.5439,-135.933 52.9169,-118.281\"/>\n",
       "<polygon fill=\"black\" stroke=\"black\" points=\"56.272,-117.217 50.8462,-108.117 49.4129,-118.614 56.272,-117.217\"/>\n",
       "</g>\n",
       "<!-- Lung&#45;Cancer -->\n",
       "<g id=\"node3\" class=\"node\"><title>Lung&#45;Cancer</title>\n",
       "<ellipse fill=\"none\" stroke=\"black\" cx=\"132.446\" cy=\"-162\" rx=\"57.3905\" ry=\"18\"/>\n",
       "<text text-anchor=\"middle\" x=\"132.446\" y=\"-158.3\" font-family=\"Times,serif\" font-size=\"14.00\">Lung&#45;Cancer</text>\n",
       "</g>\n",
       "<!-- Smoke&#45;&gt;Lung&#45;Cancer -->\n",
       "<g id=\"edge2\" class=\"edge\"><title>Smoke&#45;&gt;Lung&#45;Cancer</title>\n",
       "<path fill=\"none\" stroke=\"black\" d=\"M92.5063,-216.765C98.911,-208.143 106.918,-197.365 114.077,-187.727\"/>\n",
       "<polygon fill=\"black\" stroke=\"black\" points=\"116.936,-189.748 120.09,-179.633 111.317,-185.574 116.936,-189.748\"/>\n",
       "</g>\n",
       "<!-- Dyspnea -->\n",
       "<g id=\"node6\" class=\"node\"><title>Dyspnea</title>\n",
       "<ellipse fill=\"none\" stroke=\"black\" cx=\"49.4458\" cy=\"-18\" rx=\"41.6928\" ry=\"18\"/>\n",
       "<text text-anchor=\"middle\" x=\"49.4458\" y=\"-14.3\" font-family=\"Times,serif\" font-size=\"14.00\">Dyspnea</text>\n",
       "</g>\n",
       "<!-- Bronchitis&#45;&gt;Dyspnea -->\n",
       "<g id=\"edge3\" class=\"edge\"><title>Bronchitis&#45;&gt;Dyspnea</title>\n",
       "<path fill=\"none\" stroke=\"black\" d=\"M47.9402,-71.6966C48.1606,-63.9827 48.4254,-54.7125 48.6711,-46.1124\"/>\n",
       "<polygon fill=\"black\" stroke=\"black\" points=\"52.17,-46.2002 48.9571,-36.1043 45.1728,-46.0003 52.17,-46.2002\"/>\n",
       "</g>\n",
       "<!-- Either -->\n",
       "<g id=\"node5\" class=\"node\"><title>Either</title>\n",
       "<ellipse fill=\"none\" stroke=\"black\" cx=\"145.446\" cy=\"-90\" rx=\"32.4942\" ry=\"18\"/>\n",
       "<text text-anchor=\"middle\" x=\"145.446\" y=\"-86.3\" font-family=\"Times,serif\" font-size=\"14.00\">Either</text>\n",
       "</g>\n",
       "<!-- Lung&#45;Cancer&#45;&gt;Either -->\n",
       "<g id=\"edge4\" class=\"edge\"><title>Lung&#45;Cancer&#45;&gt;Either</title>\n",
       "<path fill=\"none\" stroke=\"black\" d=\"M135.659,-143.697C137.092,-135.983 138.813,-126.712 140.411,-118.112\"/>\n",
       "<polygon fill=\"black\" stroke=\"black\" points=\"143.884,-118.575 142.269,-108.104 137.002,-117.297 143.884,-118.575\"/>\n",
       "</g>\n",
       "<!-- Tuberculosis -->\n",
       "<g id=\"node4\" class=\"node\"><title>Tuberculosis</title>\n",
       "<ellipse fill=\"none\" stroke=\"black\" cx=\"263.446\" cy=\"-162\" rx=\"55.7903\" ry=\"18\"/>\n",
       "<text text-anchor=\"middle\" x=\"263.446\" y=\"-158.3\" font-family=\"Times,serif\" font-size=\"14.00\">Tuberculosis</text>\n",
       "</g>\n",
       "<!-- Tuberculosis&#45;&gt;Either -->\n",
       "<g id=\"edge5\" class=\"edge\"><title>Tuberculosis&#45;&gt;Either</title>\n",
       "<path fill=\"none\" stroke=\"black\" d=\"M237.842,-145.811C219.585,-134.981 194.967,-120.377 175.733,-108.967\"/>\n",
       "<polygon fill=\"black\" stroke=\"black\" points=\"177.432,-105.905 167.046,-103.814 173.861,-111.926 177.432,-105.905\"/>\n",
       "</g>\n",
       "<!-- Either&#45;&gt;Dyspnea -->\n",
       "<g id=\"edge6\" class=\"edge\"><title>Either&#45;&gt;Dyspnea</title>\n",
       "<path fill=\"none\" stroke=\"black\" d=\"M126.479,-75.1703C112.648,-65.0847 93.6641,-51.2425 78.0034,-39.8232\"/>\n",
       "<polygon fill=\"black\" stroke=\"black\" points=\"79.8408,-36.8314 69.6986,-33.7677 75.7166,-42.4875 79.8408,-36.8314\"/>\n",
       "</g>\n",
       "<!-- X&#45;Ray -->\n",
       "<g id=\"node7\" class=\"node\"><title>X&#45;Ray</title>\n",
       "<ellipse fill=\"none\" stroke=\"black\" cx=\"145.446\" cy=\"-18\" rx=\"34.394\" ry=\"18\"/>\n",
       "<text text-anchor=\"middle\" x=\"145.446\" y=\"-14.3\" font-family=\"Times,serif\" font-size=\"14.00\">X&#45;Ray</text>\n",
       "</g>\n",
       "<!-- Either&#45;&gt;X&#45;Ray -->\n",
       "<g id=\"edge7\" class=\"edge\"><title>Either&#45;&gt;X&#45;Ray</title>\n",
       "<path fill=\"none\" stroke=\"black\" d=\"M145.446,-71.6966C145.446,-63.9827 145.446,-54.7125 145.446,-46.1124\"/>\n",
       "<polygon fill=\"black\" stroke=\"black\" points=\"148.946,-46.1043 145.446,-36.1043 141.946,-46.1044 148.946,-46.1043\"/>\n",
       "</g>\n",
       "<!-- Visited&#45;Asian&#45;TB&#45;HRA -->\n",
       "<g id=\"node8\" class=\"node\"><title>Visited&#45;Asian&#45;TB&#45;HRA</title>\n",
       "<ellipse fill=\"none\" stroke=\"black\" cx=\"263.446\" cy=\"-234\" rx=\"94.7833\" ry=\"18\"/>\n",
       "<text text-anchor=\"middle\" x=\"263.446\" y=\"-230.3\" font-family=\"Times,serif\" font-size=\"14.00\">Visited&#45;Asian&#45;TB&#45;HRA</text>\n",
       "</g>\n",
       "<!-- Visited&#45;Asian&#45;TB&#45;HRA&#45;&gt;Tuberculosis -->\n",
       "<g id=\"edge8\" class=\"edge\"><title>Visited&#45;Asian&#45;TB&#45;HRA&#45;&gt;Tuberculosis</title>\n",
       "<path fill=\"none\" stroke=\"black\" d=\"M263.446,-215.697C263.446,-207.983 263.446,-198.712 263.446,-190.112\"/>\n",
       "<polygon fill=\"black\" stroke=\"black\" points=\"266.946,-190.104 263.446,-180.104 259.946,-190.104 266.946,-190.104\"/>\n",
       "</g>\n",
       "</g>\n",
       "</svg>\n"
      ],
      "text/plain": [
       "<graphviz.files.Source at 0x7f76342d0080>"
      ]
     },
     "metadata": {},
     "output_type": "display_data"
    }
   ],
   "source": [
    "prefix = \"examples_cbnets/asia\"\n",
    "test(prefix, False)"
   ]
  },
  {
   "cell_type": "code",
   "execution_count": 11,
   "metadata": {
    "collapsed": false
   },
   "outputs": [
    {
     "data": {
      "image/svg+xml": [
       "<?xml version=\"1.0\" encoding=\"UTF-8\" standalone=\"no\"?>\n",
       "<!DOCTYPE svg PUBLIC \"-//W3C//DTD SVG 1.1//EN\"\n",
       " \"http://www.w3.org/Graphics/SVG/1.1/DTD/svg11.dtd\">\n",
       "<!-- Generated by graphviz version 2.38.0 (20140413.2041)\n",
       " -->\n",
       "<!-- Pages: 1 -->\n",
       "<svg width=\"215pt\" height=\"188pt\"\n",
       " viewBox=\"0.00 0.00 215.19 188.00\" xmlns=\"http://www.w3.org/2000/svg\" xmlns:xlink=\"http://www.w3.org/1999/xlink\">\n",
       "<g id=\"graph0\" class=\"graph\" transform=\"scale(1 1) rotate(0) translate(4 184)\">\n",
       "<polygon fill=\"white\" stroke=\"none\" points=\"-4,4 -4,-184 211.191,-184 211.191,4 -4,4\"/>\n",
       "<!-- Earthquake -->\n",
       "<g id=\"node1\" class=\"node\"><title>Earthquake</title>\n",
       "<ellipse fill=\"none\" stroke=\"black\" cx=\"50.6955\" cy=\"-162\" rx=\"50.8918\" ry=\"18\"/>\n",
       "<text text-anchor=\"middle\" x=\"50.6955\" y=\"-158.3\" font-family=\"Times,serif\" font-size=\"14.00\">Earthquake</text>\n",
       "</g>\n",
       "<!-- Alarm -->\n",
       "<g id=\"node5\" class=\"node\"><title>Alarm</title>\n",
       "<ellipse fill=\"none\" stroke=\"black\" cx=\"105.696\" cy=\"-90\" rx=\"33.5952\" ry=\"18\"/>\n",
       "<text text-anchor=\"middle\" x=\"105.696\" y=\"-86.3\" font-family=\"Times,serif\" font-size=\"14.00\">Alarm</text>\n",
       "</g>\n",
       "<!-- Earthquake&#45;&gt;Alarm -->\n",
       "<g id=\"edge1\" class=\"edge\"><title>Earthquake&#45;&gt;Alarm</title>\n",
       "<path fill=\"none\" stroke=\"black\" d=\"M63.7297,-144.411C70.6091,-135.655 79.1768,-124.751 86.7739,-115.082\"/>\n",
       "<polygon fill=\"black\" stroke=\"black\" points=\"89.7073,-117.014 93.1334,-106.988 84.203,-112.689 89.7073,-117.014\"/>\n",
       "</g>\n",
       "<!-- Burglary -->\n",
       "<g id=\"node2\" class=\"node\"><title>Burglary</title>\n",
       "<ellipse fill=\"none\" stroke=\"black\" cx=\"161.696\" cy=\"-162\" rx=\"42.4939\" ry=\"18\"/>\n",
       "<text text-anchor=\"middle\" x=\"161.696\" y=\"-158.3\" font-family=\"Times,serif\" font-size=\"14.00\">Burglary</text>\n",
       "</g>\n",
       "<!-- Burglary&#45;&gt;Alarm -->\n",
       "<g id=\"edge2\" class=\"edge\"><title>Burglary&#45;&gt;Alarm</title>\n",
       "<path fill=\"none\" stroke=\"black\" d=\"M148.707,-144.765C141.639,-135.93 132.76,-124.83 124.906,-115.014\"/>\n",
       "<polygon fill=\"black\" stroke=\"black\" points=\"127.593,-112.77 118.613,-107.147 122.127,-117.142 127.593,-112.77\"/>\n",
       "</g>\n",
       "<!-- MaryCalls -->\n",
       "<g id=\"node3\" class=\"node\"><title>MaryCalls</title>\n",
       "<ellipse fill=\"none\" stroke=\"black\" cx=\"49.6955\" cy=\"-18\" rx=\"48.1917\" ry=\"18\"/>\n",
       "<text text-anchor=\"middle\" x=\"49.6955\" y=\"-14.3\" font-family=\"Times,serif\" font-size=\"14.00\">MaryCalls</text>\n",
       "</g>\n",
       "<!-- JohnCalls -->\n",
       "<g id=\"node4\" class=\"node\"><title>JohnCalls</title>\n",
       "<ellipse fill=\"none\" stroke=\"black\" cx=\"161.696\" cy=\"-18\" rx=\"45.4919\" ry=\"18\"/>\n",
       "<text text-anchor=\"middle\" x=\"161.696\" y=\"-14.3\" font-family=\"Times,serif\" font-size=\"14.00\">JohnCalls</text>\n",
       "</g>\n",
       "<!-- Alarm&#45;&gt;MaryCalls -->\n",
       "<g id=\"edge3\" class=\"edge\"><title>Alarm&#45;&gt;MaryCalls</title>\n",
       "<path fill=\"none\" stroke=\"black\" d=\"M92.9882,-73.1159C86.03,-64.4181 77.2541,-53.4483 69.4257,-43.6627\"/>\n",
       "<polygon fill=\"black\" stroke=\"black\" points=\"72.1134,-41.4196 63.1334,-35.7973 66.6473,-45.7925 72.1134,-41.4196\"/>\n",
       "</g>\n",
       "<!-- Alarm&#45;&gt;JohnCalls -->\n",
       "<g id=\"edge4\" class=\"edge\"><title>Alarm&#45;&gt;JohnCalls</title>\n",
       "<path fill=\"none\" stroke=\"black\" d=\"M118.403,-73.1159C125.462,-64.292 134.392,-53.1298 142.305,-43.238\"/>\n",
       "<polygon fill=\"black\" stroke=\"black\" points=\"145.136,-45.3022 148.65,-35.307 139.67,-40.9293 145.136,-45.3022\"/>\n",
       "</g>\n",
       "</g>\n",
       "</svg>\n"
      ],
      "text/plain": [
       "<graphviz.files.Source at 0x7f7634323048>"
      ]
     },
     "metadata": {},
     "output_type": "display_data"
    },
    {
     "name": "stdout",
     "output_type": "stream",
     "text": [
      "_________________________________________________________\n"
     ]
    },
    {
     "data": {
      "image/svg+xml": [
       "<?xml version=\"1.0\" encoding=\"UTF-8\" standalone=\"no\"?>\n",
       "<!DOCTYPE svg PUBLIC \"-//W3C//DTD SVG 1.1//EN\"\n",
       " \"http://www.w3.org/Graphics/SVG/1.1/DTD/svg11.dtd\">\n",
       "<!-- Generated by graphviz version 2.38.0 (20140413.2041)\n",
       " -->\n",
       "<!-- Pages: 1 -->\n",
       "<svg width=\"215pt\" height=\"188pt\"\n",
       " viewBox=\"0.00 0.00 215.19 188.00\" xmlns=\"http://www.w3.org/2000/svg\" xmlns:xlink=\"http://www.w3.org/1999/xlink\">\n",
       "<g id=\"graph0\" class=\"graph\" transform=\"scale(1 1) rotate(0) translate(4 184)\">\n",
       "<polygon fill=\"white\" stroke=\"none\" points=\"-4,4 -4,-184 211.191,-184 211.191,4 -4,4\"/>\n",
       "<!-- Alarm -->\n",
       "<g id=\"node1\" class=\"node\"><title>Alarm</title>\n",
       "<ellipse fill=\"none\" stroke=\"black\" cx=\"105.696\" cy=\"-90\" rx=\"33.5952\" ry=\"18\"/>\n",
       "<text text-anchor=\"middle\" x=\"105.696\" y=\"-86.3\" font-family=\"Times,serif\" font-size=\"14.00\">Alarm</text>\n",
       "</g>\n",
       "<!-- MaryCalls -->\n",
       "<g id=\"node2\" class=\"node\"><title>MaryCalls</title>\n",
       "<ellipse fill=\"none\" stroke=\"black\" cx=\"49.6955\" cy=\"-18\" rx=\"48.1917\" ry=\"18\"/>\n",
       "<text text-anchor=\"middle\" x=\"49.6955\" y=\"-14.3\" font-family=\"Times,serif\" font-size=\"14.00\">MaryCalls</text>\n",
       "</g>\n",
       "<!-- Alarm&#45;&gt;MaryCalls -->\n",
       "<g id=\"edge1\" class=\"edge\"><title>Alarm&#45;&gt;MaryCalls</title>\n",
       "<path fill=\"none\" stroke=\"black\" d=\"M92.9882,-73.1159C86.03,-64.4181 77.2541,-53.4483 69.4257,-43.6627\"/>\n",
       "<polygon fill=\"black\" stroke=\"black\" points=\"72.1134,-41.4196 63.1334,-35.7973 66.6473,-45.7925 72.1134,-41.4196\"/>\n",
       "</g>\n",
       "<!-- JohnCalls -->\n",
       "<g id=\"node3\" class=\"node\"><title>JohnCalls</title>\n",
       "<ellipse fill=\"none\" stroke=\"black\" cx=\"161.696\" cy=\"-18\" rx=\"45.4919\" ry=\"18\"/>\n",
       "<text text-anchor=\"middle\" x=\"161.696\" y=\"-14.3\" font-family=\"Times,serif\" font-size=\"14.00\">JohnCalls</text>\n",
       "</g>\n",
       "<!-- Alarm&#45;&gt;JohnCalls -->\n",
       "<g id=\"edge2\" class=\"edge\"><title>Alarm&#45;&gt;JohnCalls</title>\n",
       "<path fill=\"none\" stroke=\"black\" d=\"M118.403,-73.1159C125.462,-64.292 134.392,-53.1298 142.305,-43.238\"/>\n",
       "<polygon fill=\"black\" stroke=\"black\" points=\"145.136,-45.3022 148.65,-35.307 139.67,-40.9293 145.136,-45.3022\"/>\n",
       "</g>\n",
       "<!-- Earthquake -->\n",
       "<g id=\"node4\" class=\"node\"><title>Earthquake</title>\n",
       "<ellipse fill=\"none\" stroke=\"black\" cx=\"50.6955\" cy=\"-162\" rx=\"50.8918\" ry=\"18\"/>\n",
       "<text text-anchor=\"middle\" x=\"50.6955\" y=\"-158.3\" font-family=\"Times,serif\" font-size=\"14.00\">Earthquake</text>\n",
       "</g>\n",
       "<!-- Earthquake&#45;&gt;Alarm -->\n",
       "<g id=\"edge3\" class=\"edge\"><title>Earthquake&#45;&gt;Alarm</title>\n",
       "<path fill=\"none\" stroke=\"black\" d=\"M63.7297,-144.411C70.6091,-135.655 79.1768,-124.751 86.7739,-115.082\"/>\n",
       "<polygon fill=\"black\" stroke=\"black\" points=\"89.7073,-117.014 93.1334,-106.988 84.203,-112.689 89.7073,-117.014\"/>\n",
       "</g>\n",
       "<!-- Burglary -->\n",
       "<g id=\"node5\" class=\"node\"><title>Burglary</title>\n",
       "<ellipse fill=\"none\" stroke=\"black\" cx=\"161.696\" cy=\"-162\" rx=\"42.4939\" ry=\"18\"/>\n",
       "<text text-anchor=\"middle\" x=\"161.696\" y=\"-158.3\" font-family=\"Times,serif\" font-size=\"14.00\">Burglary</text>\n",
       "</g>\n",
       "<!-- Burglary&#45;&gt;Alarm -->\n",
       "<g id=\"edge4\" class=\"edge\"><title>Burglary&#45;&gt;Alarm</title>\n",
       "<path fill=\"none\" stroke=\"black\" d=\"M148.707,-144.765C141.639,-135.93 132.76,-124.83 124.906,-115.014\"/>\n",
       "<polygon fill=\"black\" stroke=\"black\" points=\"127.593,-112.77 118.613,-107.147 122.127,-117.142 127.593,-112.77\"/>\n",
       "</g>\n",
       "</g>\n",
       "</svg>\n"
      ],
      "text/plain": [
       "<graphviz.files.Source at 0x7f76346c7438>"
      ]
     },
     "metadata": {},
     "output_type": "display_data"
    }
   ],
   "source": [
    "prefix = \"examples_cbnets/earthquake\"\n",
    "test(prefix, False)"
   ]
  },
  {
   "cell_type": "code",
   "execution_count": null,
   "metadata": {
    "collapsed": true
   },
   "outputs": [],
   "source": []
  }
 ],
 "metadata": {
  "kernelspec": {
   "display_name": "Python 3",
   "language": "python",
   "name": "python3"
  },
  "language_info": {
   "codemirror_mode": {
    "name": "ipython",
    "version": 3
   },
   "file_extension": ".py",
   "mimetype": "text/x-python",
   "name": "python",
   "nbconvert_exporter": "python",
   "pygments_lexer": "ipython3",
   "version": "3.6.0"
  },
  "toc": {
   "colors": {
    "hover_highlight": "#DAA520",
    "running_highlight": "#FF0000",
    "selected_highlight": "#FFD700"
   },
   "moveMenuLeft": true,
   "nav_menu": {
    "height": "12px",
    "width": "252px"
   },
   "navigate_menu": true,
   "number_sections": true,
   "sideBar": true,
   "threshold": 4,
   "toc_cell": false,
   "toc_section_display": "block",
   "toc_window_display": false
  }
 },
 "nbformat": 4,
 "nbformat_minor": 2
}
