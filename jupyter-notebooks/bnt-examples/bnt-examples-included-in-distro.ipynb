{
 "cells": [
  {
   "cell_type": "markdown",
   "metadata": {},
   "source": [
    "**bnt-examples-included-in-distro**\n",
    "\n",
    "The BNT (Bayes Net Toolbox by Kevin Murphy et al) distribution at GitHub contains a folder ```bnt/BNT/examples``` with many examples presented as m-files. This notebooks runs a few of those examples.\n",
    "\n",
    "BNT is written in Matlab. Running this notebook requires that BNT, Python, Octave and octavemagic be installed on your computer."
   ]
  },
  {
   "cell_type": "code",
   "execution_count": 1,
   "metadata": {
    "collapsed": false
   },
   "outputs": [
    {
     "name": "stdout",
     "output_type": "stream",
     "text": [
      "/home/jupyter/Notebooks/Quantum/quantum-fog/jupyter-notebooks/murphys-bnt\n",
      "/home/jupyter/Notebooks/Quantum/quantum-fog\n"
     ]
    }
   ],
   "source": [
    "import os\n",
    "import sys\n",
    "nb_dir = os.getcwd()\n",
    "print(nb_dir)\n",
    "os.chdir('../../')\n",
    "qfog_path = os.getcwd()\n",
    "print(qfog_path)\n",
    "sys.path.insert(0,qfog_path)"
   ]
  },
  {
   "cell_type": "code",
   "execution_count": 2,
   "metadata": {
    "collapsed": true
   },
   "outputs": [],
   "source": [
    "bnt_path = '/home/jupyter/Notebooks/Classical/bnt'"
   ]
  },
  {
   "cell_type": "code",
   "execution_count": 3,
   "metadata": {
    "collapsed": true
   },
   "outputs": [],
   "source": [
    "import oct2py\n",
    "%load_ext oct2py.ipython"
   ]
  },
  {
   "cell_type": "code",
   "execution_count": 4,
   "metadata": {
    "collapsed": false
   },
   "outputs": [],
   "source": [
    "%%octave\n",
    "do_braindead_shortcircuit_evaluation (1)\n",
    "warning('off', 'Octave:possible-matlab-short-circuit-operator')"
   ]
  },
  {
   "cell_type": "code",
   "execution_count": 5,
   "metadata": {
    "collapsed": false
   },
   "outputs": [
    {
     "data": {
      "text/plain": [
       "warning: function /home/jupyter/Notebooks/Classical/bnt/KPMtools/strsplit.m shadows a core library function"
      ]
     },
     "metadata": {},
     "output_type": "display_data"
    },
    {
     "data": {
      "text/plain": [
       "warning: function /home/jupyter/Notebooks/Classical/bnt/KPMtools/factorial.m shadows a core library function"
      ]
     },
     "metadata": {},
     "output_type": "display_data"
    },
    {
     "data": {
      "text/plain": [
       "warning: function /home/jupyter/Notebooks/Classical/bnt/KPMtools/chi2inv.m shadows a core library function"
      ]
     },
     "metadata": {},
     "output_type": "display_data"
    },
    {
     "data": {
      "text/plain": [
       "warning: function /home/jupyter/Notebooks/Classical/bnt/graph/test.m shadows a core library function"
      ]
     },
     "metadata": {},
     "output_type": "display_data"
    }
   ],
   "source": [
    "%octave_push bnt_path\n",
    "# genpath(dir) grows dir to list of all files inside it (recursive)\n",
    "%octave addpath(genpath(bnt_path))  "
   ]
  },
  {
   "cell_type": "code",
   "execution_count": 6,
   "metadata": {
    "collapsed": false
   },
   "outputs": [
    {
     "name": "stdout",
     "output_type": "stream",
     "text": [
      "\u001b[0m\u001b[01;34mBelprop\u001b[0m/                    discrete2.m    lw1.m      nodeorderExample.m\r\n",
      "brainy.m                    discrete3.m    mfa1.m     qmr1.m\r\n",
      "\u001b[01;34mBrutti\u001b[0m/                     \u001b[01;34mdtree\u001b[0m/         \u001b[01;34mMisc\u001b[0m/      qmr2.m\r\n",
      "burglar-alarm-net.lisp.txt  fa1.m          mixexp1.m  sample1.m\r\n",
      "burglary.m                  \u001b[01;34mfgraph\u001b[0m/        mixexp2.m  \u001b[01;34mSCG\u001b[0m/\r\n",
      "cg1.m                       gaussian1.m    mixexp3.m  softev1.m\r\n",
      "cg2.m                       gaussian2.m    \u001b[01;34mModels\u001b[0m/    softmax1.m\r\n",
      "cmp_inference_static.m      gibbs_test1.m  mog1.m     sprinkler1.m\r\n",
      "\u001b[01;34mCVS\u001b[0m/                        \u001b[01;34mHME\u001b[0m/           mpe1.m     \u001b[01;34mStructLearn\u001b[0m/\r\n",
      "discrete1.m                 learn1.m       mpe2.m     \u001b[01;34mZoubin\u001b[0m/\r\n"
     ]
    }
   ],
   "source": [
    "fdir = bnt_path + '/BNT/examples/static/' \n",
    "%ls $fdir"
   ]
  },
  {
   "cell_type": "code",
   "execution_count": 7,
   "metadata": {
    "collapsed": false
   },
   "outputs": [],
   "source": [
    "def do_file(fname):\n",
    "    fpath =  fdir + fname\n",
    "    print(fpath)\n",
    "    with open(fpath) as f:\n",
    "        print(f.read()) # prints whole file\n",
    "    print('_________________________output______________________________')\n",
    "    fname1 = fname[:-2] # removes '.m'  \n",
    "    %octave $fname1"
   ]
  },
  {
   "cell_type": "code",
   "execution_count": 8,
   "metadata": {
    "collapsed": false
   },
   "outputs": [
    {
     "name": "stdout",
     "output_type": "stream",
     "text": [
      "/home/jupyter/Notebooks/Classical/bnt/BNT/examples/static/burglary.m\n",
      "% Burglar alarm example\n",
      "\n",
      "N = 5;\n",
      "dag = zeros(N,N);\n",
      "E = 1; B = 2; R = 3; A = 4; C = 5;\n",
      "dag(E,[R A]) = 1;\n",
      "dag(B,A) = 1;\n",
      "dag(A,C)=1;\n",
      "\n",
      "% true = state 1, false = state 2\n",
      "ns = 2*ones(1,N); % binary nodes\n",
      "bnet = mk_bnet(dag, ns);\n",
      "\n",
      "bnet.CPD{E} = tabular_CPD(bnet, E, [0.1 0.9]);\n",
      "bnet.CPD{B} = tabular_CPD(bnet, B, [0.01 0.99]);\n",
      "%bnet.CPD{R} = tabular_CPD(bnet, R, [0.65 0.00001 0.35 0.99999]);\n",
      "bnet.CPD{R} = tabular_CPD(bnet, R, [0.65 0.01 0.35 0.99]);\n",
      "bnet.CPD{A} = tabular_CPD(bnet, A, [0.95 0.8 0.3 0.001 0.05 0.2 0.7 0.999]);\n",
      "bnet.CPD{C} = tabular_CPD(bnet, C, [0.7 0.05 0.3 0.95]);\n",
      "\n",
      "\n",
      "engine = jtree_inf_engine(bnet);\n",
      "ev  = cell(1,N);\n",
      "ev{C} = 1;\n",
      "engine = enter_evidence(engine, ev);\n",
      "mE = marginal_nodes(engine, E);\n",
      "mB = marginal_nodes(engine, B);\n",
      "fprintf('P(E|c)=%5.3f, P(B|c)=%5.3f\\n', mE.T(1), mB.T(1))\n",
      "\n",
      "ev{C} = 1;\n",
      "ev{R} = 1;\n",
      "engine = enter_evidence(engine, ev);\n",
      "mE = marginal_nodes(engine, E);\n",
      "mB = marginal_nodes(engine, B);\n",
      "fprintf('P(E|c,r)=%5.3f, P(B|c,r)=%5.3f\\n', mE.T(1), mB.T(1))\n",
      "\n",
      "\n",
      "if 0\n",
      "nsamples = 100;\n",
      "samples = zeros(nsamples, 5);\n",
      "for i=1:nsamples\n",
      "  samples(i,:) = cell2num(sample_bnet(bnet))';\n",
      "end\n",
      "end\n",
      "\n",
      "_________________________output______________________________\n"
     ]
    },
    {
     "data": {
      "text/plain": [
       "warning: isstr is obsolete and will be removed from a future version of Octave, please use ischar instead"
      ]
     },
     "metadata": {},
     "output_type": "display_data"
    },
    {
     "data": {
      "text/plain": [
       "P(E|c)=0.331, P(B|c)=0.077"
      ]
     },
     "metadata": {},
     "output_type": "display_data"
    },
    {
     "data": {
      "text/plain": [
       "P(E|c,r)=0.970, P(B|c,r)=0.029"
      ]
     },
     "metadata": {},
     "output_type": "display_data"
    }
   ],
   "source": [
    "do_file('burglary.m')"
   ]
  },
  {
   "cell_type": "code",
   "execution_count": 9,
   "metadata": {
    "collapsed": false
   },
   "outputs": [
    {
     "name": "stdout",
     "output_type": "stream",
     "text": [
      "/home/jupyter/Notebooks/Classical/bnt/BNT/examples/static/brainy.m\n",
      "% Example of explaining away from\n",
      "% http://www.ai.mit.edu/~murphyk/Bayes/bnintro.html#explainaway\n",
      "%\n",
      "% Suppose you have to be brainy or smart to get into college.\n",
      "% B S P(C=1) P(C=2)  1=false 2=true\n",
      "% 1 1 1.0    0.0 \n",
      "% 2 1 0.0    1.0\n",
      "% 1 2 0.0    1.0\n",
      "% 2 2 0.0    1.0\n",
      "%\n",
      "%\n",
      "% If we observe that you are in college, you must be either brainy or sporty or both.\n",
      "% If we observre you are in college and sporty, it is less likely you are brainy, \n",
      "% since brainy-ness and sporty-ness compete as causal explanations of the effect.\n",
      "\n",
      "% B  S\n",
      "%  \\/\n",
      "%   C\n",
      "\n",
      "B = 1; S = 2; C = 3;\n",
      "dag = zeros(3,3);\n",
      "dag([B S], C)=1;\n",
      "ns = 2*ones(1,3);\n",
      "bnet = mk_bnet(dag, ns);\n",
      "bnet.CPD{B} = tabular_CPD(bnet, B, 'CPT', [0.5 0.5]');\n",
      "bnet.CPD{S} = tabular_CPD(bnet, S, 'CPT', [0.5 0.5]');\n",
      "CPT = zeros(2,2,2);\n",
      "CPT(1,1,:) = [1 0];\n",
      "CPT(2,1,:) = [0 1];\n",
      "CPT(1,2,:) = [0 1];\n",
      "CPT(2,2,:) = [0 1];\n",
      "bnet.CPD{C} = tabular_CPD(bnet, C, 'CPT', CPT);\n",
      "\n",
      "engine = jtree_inf_engine(bnet);\n",
      "ev = cell(1,3);\n",
      "ev{C} = 2;\n",
      "engine = enter_evidence(engine, ev);\n",
      "m = marginal_nodes(engine, B);\n",
      "fprintf('P(B=true|C=true) = %5.3f\\n', m.T(2)) % 0.67\n",
      "\n",
      "ev{S} = 2;\n",
      "engine = enter_evidence(engine, ev);\n",
      "m = marginal_nodes(engine, B);\n",
      "fprintf('P(B=true|C=true,S=true) = %5.3f\\n', m.T(2)) % 0.5 = unconditional baseline P(B=true)\n",
      "\n",
      "_________________________output______________________________\n"
     ]
    },
    {
     "data": {
      "text/plain": [
       "P(B=true|C=true) = 0.667"
      ]
     },
     "metadata": {},
     "output_type": "display_data"
    },
    {
     "data": {
      "text/plain": [
       "P(B=true|C=true,S=true) = 0.500"
      ]
     },
     "metadata": {},
     "output_type": "display_data"
    }
   ],
   "source": [
    "do_file('brainy.m')"
   ]
  },
  {
   "cell_type": "code",
   "execution_count": null,
   "metadata": {
    "collapsed": true
   },
   "outputs": [],
   "source": []
  }
 ],
 "metadata": {
  "kernelspec": {
   "display_name": "Python 3",
   "language": "python",
   "name": "python3"
  },
  "language_info": {
   "codemirror_mode": {
    "name": "ipython",
    "version": 3
   },
   "file_extension": ".py",
   "mimetype": "text/x-python",
   "name": "python",
   "nbconvert_exporter": "python",
   "pygments_lexer": "ipython3",
   "version": "3.6.0"
  },
  "toc": {
   "colors": {
    "hover_highlight": "#DAA520",
    "running_highlight": "#FF0000",
    "selected_highlight": "#FFD700"
   },
   "moveMenuLeft": true,
   "nav_menu": {
    "height": "12px",
    "width": "252px"
   },
   "navigate_menu": true,
   "number_sections": true,
   "sideBar": true,
   "threshold": 4,
   "toc_cell": false,
   "toc_section_display": "block",
   "toc_window_display": false
  }
 },
 "nbformat": 4,
 "nbformat_minor": 2
}
